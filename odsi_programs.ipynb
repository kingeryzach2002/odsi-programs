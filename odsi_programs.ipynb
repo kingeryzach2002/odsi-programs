{
 "cells": [
  {
   "cell_type": "code",
   "execution_count": 1,
   "id": "30a0a8ac",
   "metadata": {},
   "outputs": [
    {
     "name": "stdout",
     "output_type": "stream",
     "text": [
      "Agence pour la Recherche et la Valorisation Marines; Atlantic and Gulf Rapid Reef Assessment; Australian Institute of Marine Science; Caribbean Coastal Marine Productivity Program; Centre de Recherches Insulaires et Observatoire de l'Environnement (CRIOBE-EPHE); Climate Change, Agriculture and Food Security; Conservation International; Coordinating Body on the Seas of East Asia; Coral Cay Conservation; Coral Reef Degradation in the Indian Ocean; Coral Reef Initiative for the South Pacific; Demis; FishBase; Global Coral Reef Monitoring Network; Global Vision International; Institute de Recherche pour le developpement; Institute for Marine Remote Sensing; Institute of Marine Resources; International Coral Reef Action Network; International Coral Reef Initiative; International Society for Reef Studies; International Waters Learning Exchange and Resource Network (IW:LEARN); International Year of the Reef; Japan Wildlife Research Center; Locally Managed Marine Area Network; MPA Global; NASA; National Oceanic & Atmospheric Administration (NOAA); Reef Check; Reef Relief; Secretariat of the Pacific Community; South Pacific Regional Environment Program; The Nature Conservancy; The WorldFish Center; United Nations Environment Programme; World Conservation Monitoring Centre; World Resources Institute; World Wildlife Fund; \n"
     ]
    }
   ],
   "source": [
    "#STRING SPLITTER\n",
    "\n",
    "import pandas as pd\n",
    "import numpy as np\n",
    "data = pd.read_csv('/Users/zfrancis/Desktop/pogo_partners.csv')\n",
    "data = data.iloc[:,0]\n",
    "string = \"\"\n",
    "for row in data:\n",
    "    string += row + \"; \"\n",
    "print(string)"
   ]
  },
  {
   "cell_type": "code",
   "execution_count": 2,
   "id": "fa848f8d",
   "metadata": {},
   "outputs": [
    {
     "ename": "FileNotFoundError",
     "evalue": "[Errno 2] No such file or directory: '/Users/zfrancis/Desktop/odsi_data.csv'",
     "output_type": "error",
     "traceback": [
      "\u001b[0;31m---------------------------------------------------------------------------\u001b[0m",
      "\u001b[0;31mFileNotFoundError\u001b[0m                         Traceback (most recent call last)",
      "\u001b[0;32m/var/folders/2p/0hr75ykx133b0bk5k4nf52580000gn/T/ipykernel_2873/859844016.py\u001b[0m in \u001b[0;36m<module>\u001b[0;34m\u001b[0m\n\u001b[1;32m      8\u001b[0m \u001b[0;34m\u001b[0m\u001b[0m\n\u001b[1;32m      9\u001b[0m \u001b[0;31m# Read CSV file\u001b[0m\u001b[0;34m\u001b[0m\u001b[0;34m\u001b[0m\u001b[0m\n\u001b[0;32m---> 10\u001b[0;31m \u001b[0mdata\u001b[0m \u001b[0;34m=\u001b[0m \u001b[0mpd\u001b[0m\u001b[0;34m.\u001b[0m\u001b[0mread_csv\u001b[0m\u001b[0;34m(\u001b[0m\u001b[0;34m\"/Users/zfrancis/Desktop/odsi_data.csv\"\u001b[0m\u001b[0;34m)\u001b[0m\u001b[0;34m\u001b[0m\u001b[0;34m\u001b[0m\u001b[0m\n\u001b[0m\u001b[1;32m     11\u001b[0m \u001b[0;34m\u001b[0m\u001b[0m\n\u001b[1;32m     12\u001b[0m \u001b[0;31m# Create an empty graph\u001b[0m\u001b[0;34m\u001b[0m\u001b[0;34m\u001b[0m\u001b[0m\n",
      "\u001b[0;32m~/opt/anaconda3/lib/python3.9/site-packages/pandas/util/_decorators.py\u001b[0m in \u001b[0;36mwrapper\u001b[0;34m(*args, **kwargs)\u001b[0m\n\u001b[1;32m    309\u001b[0m                     \u001b[0mstacklevel\u001b[0m\u001b[0;34m=\u001b[0m\u001b[0mstacklevel\u001b[0m\u001b[0;34m,\u001b[0m\u001b[0;34m\u001b[0m\u001b[0;34m\u001b[0m\u001b[0m\n\u001b[1;32m    310\u001b[0m                 )\n\u001b[0;32m--> 311\u001b[0;31m             \u001b[0;32mreturn\u001b[0m \u001b[0mfunc\u001b[0m\u001b[0;34m(\u001b[0m\u001b[0;34m*\u001b[0m\u001b[0margs\u001b[0m\u001b[0;34m,\u001b[0m \u001b[0;34m**\u001b[0m\u001b[0mkwargs\u001b[0m\u001b[0;34m)\u001b[0m\u001b[0;34m\u001b[0m\u001b[0;34m\u001b[0m\u001b[0m\n\u001b[0m\u001b[1;32m    312\u001b[0m \u001b[0;34m\u001b[0m\u001b[0m\n\u001b[1;32m    313\u001b[0m         \u001b[0;32mreturn\u001b[0m \u001b[0mwrapper\u001b[0m\u001b[0;34m\u001b[0m\u001b[0;34m\u001b[0m\u001b[0m\n",
      "\u001b[0;32m~/opt/anaconda3/lib/python3.9/site-packages/pandas/io/parsers/readers.py\u001b[0m in \u001b[0;36mread_csv\u001b[0;34m(filepath_or_buffer, sep, delimiter, header, names, index_col, usecols, squeeze, prefix, mangle_dupe_cols, dtype, engine, converters, true_values, false_values, skipinitialspace, skiprows, skipfooter, nrows, na_values, keep_default_na, na_filter, verbose, skip_blank_lines, parse_dates, infer_datetime_format, keep_date_col, date_parser, dayfirst, cache_dates, iterator, chunksize, compression, thousands, decimal, lineterminator, quotechar, quoting, doublequote, escapechar, comment, encoding, encoding_errors, dialect, error_bad_lines, warn_bad_lines, on_bad_lines, delim_whitespace, low_memory, memory_map, float_precision, storage_options)\u001b[0m\n\u001b[1;32m    676\u001b[0m     \u001b[0mkwds\u001b[0m\u001b[0;34m.\u001b[0m\u001b[0mupdate\u001b[0m\u001b[0;34m(\u001b[0m\u001b[0mkwds_defaults\u001b[0m\u001b[0;34m)\u001b[0m\u001b[0;34m\u001b[0m\u001b[0;34m\u001b[0m\u001b[0m\n\u001b[1;32m    677\u001b[0m \u001b[0;34m\u001b[0m\u001b[0m\n\u001b[0;32m--> 678\u001b[0;31m     \u001b[0;32mreturn\u001b[0m \u001b[0m_read\u001b[0m\u001b[0;34m(\u001b[0m\u001b[0mfilepath_or_buffer\u001b[0m\u001b[0;34m,\u001b[0m \u001b[0mkwds\u001b[0m\u001b[0;34m)\u001b[0m\u001b[0;34m\u001b[0m\u001b[0;34m\u001b[0m\u001b[0m\n\u001b[0m\u001b[1;32m    679\u001b[0m \u001b[0;34m\u001b[0m\u001b[0m\n\u001b[1;32m    680\u001b[0m \u001b[0;34m\u001b[0m\u001b[0m\n",
      "\u001b[0;32m~/opt/anaconda3/lib/python3.9/site-packages/pandas/io/parsers/readers.py\u001b[0m in \u001b[0;36m_read\u001b[0;34m(filepath_or_buffer, kwds)\u001b[0m\n\u001b[1;32m    573\u001b[0m \u001b[0;34m\u001b[0m\u001b[0m\n\u001b[1;32m    574\u001b[0m     \u001b[0;31m# Create the parser.\u001b[0m\u001b[0;34m\u001b[0m\u001b[0;34m\u001b[0m\u001b[0m\n\u001b[0;32m--> 575\u001b[0;31m     \u001b[0mparser\u001b[0m \u001b[0;34m=\u001b[0m \u001b[0mTextFileReader\u001b[0m\u001b[0;34m(\u001b[0m\u001b[0mfilepath_or_buffer\u001b[0m\u001b[0;34m,\u001b[0m \u001b[0;34m**\u001b[0m\u001b[0mkwds\u001b[0m\u001b[0;34m)\u001b[0m\u001b[0;34m\u001b[0m\u001b[0;34m\u001b[0m\u001b[0m\n\u001b[0m\u001b[1;32m    576\u001b[0m \u001b[0;34m\u001b[0m\u001b[0m\n\u001b[1;32m    577\u001b[0m     \u001b[0;32mif\u001b[0m \u001b[0mchunksize\u001b[0m \u001b[0;32mor\u001b[0m \u001b[0miterator\u001b[0m\u001b[0;34m:\u001b[0m\u001b[0;34m\u001b[0m\u001b[0;34m\u001b[0m\u001b[0m\n",
      "\u001b[0;32m~/opt/anaconda3/lib/python3.9/site-packages/pandas/io/parsers/readers.py\u001b[0m in \u001b[0;36m__init__\u001b[0;34m(self, f, engine, **kwds)\u001b[0m\n\u001b[1;32m    930\u001b[0m \u001b[0;34m\u001b[0m\u001b[0m\n\u001b[1;32m    931\u001b[0m         \u001b[0mself\u001b[0m\u001b[0;34m.\u001b[0m\u001b[0mhandles\u001b[0m\u001b[0;34m:\u001b[0m \u001b[0mIOHandles\u001b[0m \u001b[0;34m|\u001b[0m \u001b[0;32mNone\u001b[0m \u001b[0;34m=\u001b[0m \u001b[0;32mNone\u001b[0m\u001b[0;34m\u001b[0m\u001b[0;34m\u001b[0m\u001b[0m\n\u001b[0;32m--> 932\u001b[0;31m         \u001b[0mself\u001b[0m\u001b[0;34m.\u001b[0m\u001b[0m_engine\u001b[0m \u001b[0;34m=\u001b[0m \u001b[0mself\u001b[0m\u001b[0;34m.\u001b[0m\u001b[0m_make_engine\u001b[0m\u001b[0;34m(\u001b[0m\u001b[0mf\u001b[0m\u001b[0;34m,\u001b[0m \u001b[0mself\u001b[0m\u001b[0;34m.\u001b[0m\u001b[0mengine\u001b[0m\u001b[0;34m)\u001b[0m\u001b[0;34m\u001b[0m\u001b[0;34m\u001b[0m\u001b[0m\n\u001b[0m\u001b[1;32m    933\u001b[0m \u001b[0;34m\u001b[0m\u001b[0m\n\u001b[1;32m    934\u001b[0m     \u001b[0;32mdef\u001b[0m \u001b[0mclose\u001b[0m\u001b[0;34m(\u001b[0m\u001b[0mself\u001b[0m\u001b[0;34m)\u001b[0m\u001b[0;34m:\u001b[0m\u001b[0;34m\u001b[0m\u001b[0;34m\u001b[0m\u001b[0m\n",
      "\u001b[0;32m~/opt/anaconda3/lib/python3.9/site-packages/pandas/io/parsers/readers.py\u001b[0m in \u001b[0;36m_make_engine\u001b[0;34m(self, f, engine)\u001b[0m\n\u001b[1;32m   1214\u001b[0m             \u001b[0;31m# \"Union[str, PathLike[str], ReadCsvBuffer[bytes], ReadCsvBuffer[str]]\"\u001b[0m\u001b[0;34m\u001b[0m\u001b[0;34m\u001b[0m\u001b[0m\n\u001b[1;32m   1215\u001b[0m             \u001b[0;31m# , \"str\", \"bool\", \"Any\", \"Any\", \"Any\", \"Any\", \"Any\"\u001b[0m\u001b[0;34m\u001b[0m\u001b[0;34m\u001b[0m\u001b[0m\n\u001b[0;32m-> 1216\u001b[0;31m             self.handles = get_handle(  # type: ignore[call-overload]\n\u001b[0m\u001b[1;32m   1217\u001b[0m                 \u001b[0mf\u001b[0m\u001b[0;34m,\u001b[0m\u001b[0;34m\u001b[0m\u001b[0;34m\u001b[0m\u001b[0m\n\u001b[1;32m   1218\u001b[0m                 \u001b[0mmode\u001b[0m\u001b[0;34m,\u001b[0m\u001b[0;34m\u001b[0m\u001b[0;34m\u001b[0m\u001b[0m\n",
      "\u001b[0;32m~/opt/anaconda3/lib/python3.9/site-packages/pandas/io/common.py\u001b[0m in \u001b[0;36mget_handle\u001b[0;34m(path_or_buf, mode, encoding, compression, memory_map, is_text, errors, storage_options)\u001b[0m\n\u001b[1;32m    784\u001b[0m         \u001b[0;32mif\u001b[0m \u001b[0mioargs\u001b[0m\u001b[0;34m.\u001b[0m\u001b[0mencoding\u001b[0m \u001b[0;32mand\u001b[0m \u001b[0;34m\"b\"\u001b[0m \u001b[0;32mnot\u001b[0m \u001b[0;32min\u001b[0m \u001b[0mioargs\u001b[0m\u001b[0;34m.\u001b[0m\u001b[0mmode\u001b[0m\u001b[0;34m:\u001b[0m\u001b[0;34m\u001b[0m\u001b[0;34m\u001b[0m\u001b[0m\n\u001b[1;32m    785\u001b[0m             \u001b[0;31m# Encoding\u001b[0m\u001b[0;34m\u001b[0m\u001b[0;34m\u001b[0m\u001b[0m\n\u001b[0;32m--> 786\u001b[0;31m             handle = open(\n\u001b[0m\u001b[1;32m    787\u001b[0m                 \u001b[0mhandle\u001b[0m\u001b[0;34m,\u001b[0m\u001b[0;34m\u001b[0m\u001b[0;34m\u001b[0m\u001b[0m\n\u001b[1;32m    788\u001b[0m                 \u001b[0mioargs\u001b[0m\u001b[0;34m.\u001b[0m\u001b[0mmode\u001b[0m\u001b[0;34m,\u001b[0m\u001b[0;34m\u001b[0m\u001b[0;34m\u001b[0m\u001b[0m\n",
      "\u001b[0;31mFileNotFoundError\u001b[0m: [Errno 2] No such file or directory: '/Users/zfrancis/Desktop/odsi_data.csv'"
     ]
    }
   ],
   "source": [
    "#PANDAS NETWORK GRAPH\n",
    "\n",
    "import pandas as pd\n",
    "import networkx as nx\n",
    "import matplotlib.pyplot as plt\n",
    "import plotly.graph_objects as go\n",
    "\n",
    "\n",
    "# Read CSV file\n",
    "data = pd.read_csv(\"/Users/zfrancis/Desktop/odsi_data.csv\") \n",
    "\n",
    "# Create an empty graph\n",
    "G = nx.Graph()\n",
    "\n",
    "# Iterate through the data and add nodes and edges to the graph (processing only the first ODSI)\n",
    "for index, row in data.iterrows():\n",
    "    odsi = row[\"ODSI\"]\n",
    "    has_partners = row[\"Partners\"]\n",
    "    list_of_partners = row[\"List of Partners\"]\n",
    "    #partnership_relationship = row[\"Partnership Relationship\"]\n",
    "\n",
    "    #Debugging code to see if the system is properly iterating through ODSIs\n",
    "    #print(f\"ODSI: {odsi}, Partners: {has_partners}, List of Partners: {list_of_partners}, Relationship: {partnership_relationship}\")\n",
    "\n",
    "    # Add ODSI node to the graph\n",
    "    G.add_node(odsi, node_type=\"ODSI\")\n",
    "\n",
    "    if has_partners.lower() == \"yes\":\n",
    "        partners = list_of_partners.split(\";\")\n",
    "        for partner in partners:\n",
    "            # Add partner node to the graph\n",
    "            G.add_node(partner.strip(), node_type=\"partner\")\n",
    "\n",
    "            # Add edge between ODSI and partner\n",
    "            G.add_edge(odsi, partner.strip())\n",
    "\n",
    "# Debugging code to see if edges are printing \n",
    "#print(\"Edges:\", G.edges)\n",
    "\n",
    "# Draw the graph with different colors for ODSI and partner nodes\n",
    "pos = nx.spring_layout(G)\n",
    "odsi_nodes = [n for n, attr in G.nodes(data=True) if attr[\"node_type\"] == \"ODSI\"]\n",
    "partner_nodes = [n for n, attr in G.nodes(data=True) if attr[\"node_type\"] == \"partner\"]\n",
    "\n",
    "nx.draw_networkx_nodes(G, pos, nodelist=odsi_nodes, node_color=\"blue\", node_size=200)\n",
    "nx.draw_networkx_nodes(G, pos, nodelist=partner_nodes, node_color=\"red\", node_size=10)\n",
    "nx.draw_networkx_edges(G, pos)\n",
    "#nx.draw_networkx_labels(G, pos)\n",
    "\n",
    "# Show the graph\n",
    "plt.show()\n"
   ]
  },
  {
   "cell_type": "code",
   "execution_count": 22,
   "id": "8818449f",
   "metadata": {},
   "outputs": [
    {
     "data": {
      "application/vnd.plotly.v1+json": {
       "config": {
        "plotlyServerURL": "https://plot.ly"
       },
       "data": [
        {
         "line": {
          "color": "gray",
          "width": 1
         },
         "mode": "lines",
         "type": "scatter",
         "x": [
          0.24923215806484222,
          0.22559906542301178,
          null
         ],
         "y": [
          -0.6863217949867249,
          -0.6330748796463013,
          null
         ]
        },
        {
         "line": {
          "color": "gray",
          "width": 1
         },
         "mode": "lines",
         "type": "scatter",
         "x": [
          0.24923215806484222,
          0.2639719545841217,
          null
         ],
         "y": [
          -0.6863217949867249,
          -0.7188044190406799,
          null
         ]
        },
        {
         "line": {
          "color": "gray",
          "width": 1
         },
         "mode": "lines",
         "type": "scatter",
         "x": [
          0.24923215806484222,
          0.2617666721343994,
          null
         ],
         "y": [
          -0.6863217949867249,
          -0.7103797793388367,
          null
         ]
        },
        {
         "line": {
          "color": "gray",
          "width": 1
         },
         "mode": "lines",
         "type": "scatter",
         "x": [
          0.24923215806484222,
          0.24925440549850464,
          null
         ],
         "y": [
          -0.6863217949867249,
          -0.7159953713417053,
          null
         ]
        },
        {
         "line": {
          "color": "gray",
          "width": 1
         },
         "mode": "lines",
         "type": "scatter",
         "x": [
          0.24923215806484222,
          0.2726348340511322,
          null
         ],
         "y": [
          -0.6863217949867249,
          -0.7054778933525085,
          null
         ]
        },
        {
         "line": {
          "color": "gray",
          "width": 1
         },
         "mode": "lines",
         "type": "scatter",
         "x": [
          0.24923215806484222,
          0.270808607339859,
          null
         ],
         "y": [
          -0.6863217949867249,
          -0.7132436633110046,
          null
         ]
        },
        {
         "line": {
          "color": "gray",
          "width": 1
         },
         "mode": "lines",
         "type": "scatter",
         "x": [
          0.24923215806484222,
          0.24168355762958527,
          null
         ],
         "y": [
          -0.6863217949867249,
          -0.7007277607917786,
          null
         ]
        },
        {
         "line": {
          "color": "gray",
          "width": 1
         },
         "mode": "lines",
         "type": "scatter",
         "x": [
          0.24923215806484222,
          0.25576478242874146,
          null
         ],
         "y": [
          -0.6863217949867249,
          -0.7198703289031982,
          null
         ]
        },
        {
         "line": {
          "color": "gray",
          "width": 1
         },
         "mode": "lines",
         "type": "scatter",
         "x": [
          -0.4936286211013794,
          -0.47742101550102234,
          null
         ],
         "y": [
          -0.8610132932662964,
          -0.8345253467559814,
          null
         ]
        },
        {
         "line": {
          "color": "gray",
          "width": 1
         },
         "mode": "lines",
         "type": "scatter",
         "x": [
          -0.3205500543117523,
          -0.33537980914115906,
          null
         ],
         "y": [
          0.23479793965816498,
          0.27625906467437744,
          null
         ]
        },
        {
         "line": {
          "color": "gray",
          "width": 1
         },
         "mode": "lines",
         "type": "scatter",
         "x": [
          -0.3205500543117523,
          -0.344258189201355,
          null
         ],
         "y": [
          0.23479793965816498,
          0.27125266194343567,
          null
         ]
        },
        {
         "line": {
          "color": "gray",
          "width": 1
         },
         "mode": "lines",
         "type": "scatter",
         "x": [
          -0.3205500543117523,
          -0.3260083794593811,
          null
         ],
         "y": [
          0.23479793965816498,
          0.27245184779167175,
          null
         ]
        },
        {
         "line": {
          "color": "gray",
          "width": 1
         },
         "mode": "lines",
         "type": "scatter",
         "x": [
          -0.3205500543117523,
          -0.3240215480327606,
          null
         ],
         "y": [
          0.23479793965816498,
          0.27853018045425415,
          null
         ]
        },
        {
         "line": {
          "color": "gray",
          "width": 1
         },
         "mode": "lines",
         "type": "scatter",
         "x": [
          -0.3205500543117523,
          -0.35532504320144653,
          null
         ],
         "y": [
          0.23479793965816498,
          0.25436925888061523,
          null
         ]
        },
        {
         "line": {
          "color": "gray",
          "width": 1
         },
         "mode": "lines",
         "type": "scatter",
         "x": [
          -0.3205500543117523,
          -0.3421879708766937,
          null
         ],
         "y": [
          0.23479793965816498,
          0.26234301924705505,
          null
         ]
        },
        {
         "line": {
          "color": "gray",
          "width": 1
         },
         "mode": "lines",
         "type": "scatter",
         "x": [
          -0.3205500543117523,
          -0.3483206331729889,
          null
         ],
         "y": [
          0.23479793965816498,
          0.2584865093231201,
          null
         ]
        },
        {
         "line": {
          "color": "gray",
          "width": 1
         },
         "mode": "lines",
         "type": "scatter",
         "x": [
          -0.3205500543117523,
          -0.3361019790172577,
          null
         ],
         "y": [
          0.23479793965816498,
          0.26868826150894165,
          null
         ]
        },
        {
         "line": {
          "color": "gray",
          "width": 1
         },
         "mode": "lines",
         "type": "scatter",
         "x": [
          -0.3205500543117523,
          -0.3540566861629486,
          null
         ],
         "y": [
          0.23479793965816498,
          0.264107346534729,
          null
         ]
        },
        {
         "line": {
          "color": "gray",
          "width": 1
         },
         "mode": "lines",
         "type": "scatter",
         "x": [
          -0.3205500543117523,
          -0.32869258522987366,
          null
         ],
         "y": [
          0.23479793965816498,
          0.26420941948890686,
          null
         ]
        },
        {
         "line": {
          "color": "gray",
          "width": 1
         },
         "mode": "lines",
         "type": "scatter",
         "x": [
          -0.3205500543117523,
          -0.31186655163764954,
          null
         ],
         "y": [
          0.23479793965816498,
          0.26883620023727417,
          null
         ]
        },
        {
         "line": {
          "color": "gray",
          "width": 1
         },
         "mode": "lines",
         "type": "scatter",
         "x": [
          -0.3205500543117523,
          -0.319021075963974,
          null
         ],
         "y": [
          0.23479793965816498,
          0.266773521900177,
          null
         ]
        },
        {
         "line": {
          "color": "gray",
          "width": 1
         },
         "mode": "lines",
         "type": "scatter",
         "x": [
          -0.3205500543117523,
          -0.2999104857444763,
          null
         ],
         "y": [
          0.23479793965816498,
          0.10006130486726761,
          null
         ]
        },
        {
         "line": {
          "color": "gray",
          "width": 1
         },
         "mode": "lines",
         "type": "scatter",
         "x": [
          -0.3205500543117523,
          -0.31528767943382263,
          null
         ],
         "y": [
          0.23479793965816498,
          0.27574223279953003,
          null
         ]
        },
        {
         "line": {
          "color": "gray",
          "width": 1
         },
         "mode": "lines",
         "type": "scatter",
         "x": [
          0.5600415468215942,
          0.5769054889678955,
          null
         ],
         "y": [
          -0.5363525748252869,
          -0.5277314782142639,
          null
         ]
        },
        {
         "line": {
          "color": "gray",
          "width": 1
         },
         "mode": "lines",
         "type": "scatter",
         "x": [
          0.5600415468215942,
          0.5834836959838867,
          null
         ],
         "y": [
          -0.5363525748252869,
          -0.5517721772193909,
          null
         ]
        },
        {
         "line": {
          "color": "gray",
          "width": 1
         },
         "mode": "lines",
         "type": "scatter",
         "x": [
          0.5600415468215942,
          0.5878437161445618,
          null
         ],
         "y": [
          -0.5363525748252869,
          -0.5632139444351196,
          null
         ]
        },
        {
         "line": {
          "color": "gray",
          "width": 1
         },
         "mode": "lines",
         "type": "scatter",
         "x": [
          0.5600415468215942,
          0.5468373894691467,
          null
         ],
         "y": [
          -0.5363525748252869,
          -0.5477844476699829,
          null
         ]
        },
        {
         "line": {
          "color": "gray",
          "width": 1
         },
         "mode": "lines",
         "type": "scatter",
         "x": [
          0.5600415468215942,
          0.5781128406524658,
          null
         ],
         "y": [
          -0.5363525748252869,
          -0.5633561015129089,
          null
         ]
        },
        {
         "line": {
          "color": "gray",
          "width": 1
         },
         "mode": "lines",
         "type": "scatter",
         "x": [
          0.5600415468215942,
          0.5835140347480774,
          null
         ],
         "y": [
          -0.5363525748252869,
          -0.542755663394928,
          null
         ]
        },
        {
         "line": {
          "color": "gray",
          "width": 1
         },
         "mode": "lines",
         "type": "scatter",
         "x": [
          0.5600415468215942,
          0.5928683280944824,
          null
         ],
         "y": [
          -0.5363525748252869,
          -0.5383671522140503,
          null
         ]
        },
        {
         "line": {
          "color": "gray",
          "width": 1
         },
         "mode": "lines",
         "type": "scatter",
         "x": [
          0.5600415468215942,
          0.5750173926353455,
          null
         ],
         "y": [
          -0.5363525748252869,
          -0.570784866809845,
          null
         ]
        },
        {
         "line": {
          "color": "gray",
          "width": 1
         },
         "mode": "lines",
         "type": "scatter",
         "x": [
          0.5600415468215942,
          0.5942071676254272,
          null
         ],
         "y": [
          -0.5363525748252869,
          -0.54498291015625,
          null
         ]
        },
        {
         "line": {
          "color": "gray",
          "width": 1
         },
         "mode": "lines",
         "type": "scatter",
         "x": [
          0.5600415468215942,
          0.5834888219833374,
          null
         ],
         "y": [
          -0.5363525748252869,
          -0.5695501565933228,
          null
         ]
        },
        {
         "line": {
          "color": "gray",
          "width": 1
         },
         "mode": "lines",
         "type": "scatter",
         "x": [
          0.5600415468215942,
          0.5213536024093628,
          null
         ],
         "y": [
          -0.5363525748252869,
          -0.4985833168029785,
          null
         ]
        },
        {
         "line": {
          "color": "gray",
          "width": 1
         },
         "mode": "lines",
         "type": "scatter",
         "x": [
          0.5600415468215942,
          0.5930399894714355,
          null
         ],
         "y": [
          -0.5363525748252869,
          -0.5586152672767639,
          null
         ]
        },
        {
         "line": {
          "color": "gray",
          "width": 1
         },
         "mode": "lines",
         "type": "scatter",
         "x": [
          0.5600415468215942,
          0.5256646275520325,
          null
         ],
         "y": [
          -0.5363525748252869,
          -0.49319711327552795,
          null
         ]
        },
        {
         "line": {
          "color": "gray",
          "width": 1
         },
         "mode": "lines",
         "type": "scatter",
         "x": [
          0.5600415468215942,
          0.5769772529602051,
          null
         ],
         "y": [
          -0.5363525748252869,
          -0.5566391348838806,
          null
         ]
        },
        {
         "line": {
          "color": "gray",
          "width": 1
         },
         "mode": "lines",
         "type": "scatter",
         "x": [
          0.5600415468215942,
          0.5605911016464233,
          null
         ],
         "y": [
          -0.5363525748252869,
          -0.569583535194397,
          null
         ]
        },
        {
         "line": {
          "color": "gray",
          "width": 1
         },
         "mode": "lines",
         "type": "scatter",
         "x": [
          0.5600415468215942,
          0.5563199520111084,
          null
         ],
         "y": [
          -0.5363525748252869,
          -0.5594142079353333,
          null
         ]
        },
        {
         "line": {
          "color": "gray",
          "width": 1
         },
         "mode": "lines",
         "type": "scatter",
         "x": [
          0.5600415468215942,
          0.5685030221939087,
          null
         ],
         "y": [
          -0.5363525748252869,
          -0.5738303661346436,
          null
         ]
        },
        {
         "line": {
          "color": "gray",
          "width": 1
         },
         "mode": "lines",
         "type": "scatter",
         "x": [
          0.5600415468215942,
          0.5929937362670898,
          null
         ],
         "y": [
          -0.5363525748252869,
          -0.5517666935920715,
          null
         ]
        },
        {
         "line": {
          "color": "gray",
          "width": 1
         },
         "mode": "lines",
         "type": "scatter",
         "x": [
          0.5600415468215942,
          0.5683091282844543,
          null
         ],
         "y": [
          -0.5363525748252869,
          -0.563707709312439,
          null
         ]
        },
        {
         "line": {
          "color": "gray",
          "width": 1
         },
         "mode": "lines",
         "type": "scatter",
         "x": [
          0.10672959685325623,
          0.10117248445749283,
          null
         ],
         "y": [
          0.8018739223480225,
          0.7599172592163086,
          null
         ]
        },
        {
         "line": {
          "color": "gray",
          "width": 1
         },
         "mode": "lines",
         "type": "scatter",
         "x": [
          0.10672959685325623,
          0.12127557396888733,
          null
         ],
         "y": [
          0.8018739223480225,
          0.8307889103889465,
          null
         ]
        },
        {
         "line": {
          "color": "gray",
          "width": 1
         },
         "mode": "lines",
         "type": "scatter",
         "x": [
          0.10672959685325623,
          0.11030694097280502,
          null
         ],
         "y": [
          0.8018739223480225,
          0.8312374949455261,
          null
         ]
        },
        {
         "line": {
          "color": "gray",
          "width": 1
         },
         "mode": "lines",
         "type": "scatter",
         "x": [
          0.10672959685325623,
          0.11534559726715088,
          null
         ],
         "y": [
          0.8018739223480225,
          0.8371996283531189,
          null
         ]
        },
        {
         "line": {
          "color": "gray",
          "width": 1
         },
         "mode": "lines",
         "type": "scatter",
         "x": [
          0.10672959685325623,
          0.09965728223323822,
          null
         ],
         "y": [
          0.8018739223480225,
          0.8295779824256897,
          null
         ]
        },
        {
         "line": {
          "color": "gray",
          "width": 1
         },
         "mode": "lines",
         "type": "scatter",
         "x": [
          0.10672959685325623,
          0.10465766489505768,
          null
         ],
         "y": [
          0.8018739223480225,
          0.8385900855064392,
          null
         ]
        },
        {
         "line": {
          "color": "gray",
          "width": 1
         },
         "mode": "lines",
         "type": "scatter",
         "x": [
          0.276594877243042,
          0.2952938973903656,
          null
         ],
         "y": [
          0.17357192933559418,
          0.20431576669216156,
          null
         ]
        },
        {
         "line": {
          "color": "gray",
          "width": 1
         },
         "mode": "lines",
         "type": "scatter",
         "x": [
          0.276594877243042,
          0.30713510513305664,
          null
         ],
         "y": [
          0.17357192933559418,
          0.13944034278392792,
          null
         ]
        },
        {
         "line": {
          "color": "gray",
          "width": 1
         },
         "mode": "lines",
         "type": "scatter",
         "x": [
          0.276594877243042,
          0.3043663501739502,
          null
         ],
         "y": [
          0.17357192933559418,
          0.20789828896522522,
          null
         ]
        },
        {
         "line": {
          "color": "gray",
          "width": 1
         },
         "mode": "lines",
         "type": "scatter",
         "x": [
          0.276594877243042,
          0.299340158700943,
          null
         ],
         "y": [
          0.17357192933559418,
          0.13425591588020325,
          null
         ]
        },
        {
         "line": {
          "color": "gray",
          "width": 1
         },
         "mode": "lines",
         "type": "scatter",
         "x": [
          0.276594877243042,
          0.3039180636405945,
          null
         ],
         "y": [
          0.17357192933559418,
          0.21453368663787842,
          null
         ]
        },
        {
         "line": {
          "color": "gray",
          "width": 1
         },
         "mode": "lines",
         "type": "scatter",
         "x": [
          0.276594877243042,
          0.31994763016700745,
          null
         ],
         "y": [
          0.17357192933559418,
          0.18662241101264954,
          null
         ]
        },
        {
         "line": {
          "color": "gray",
          "width": 1
         },
         "mode": "lines",
         "type": "scatter",
         "x": [
          0.276594877243042,
          0.3234765827655792,
          null
         ],
         "y": [
          0.17357192933559418,
          0.16266389191150665,
          null
         ]
        },
        {
         "line": {
          "color": "gray",
          "width": 1
         },
         "mode": "lines",
         "type": "scatter",
         "x": [
          0.276594877243042,
          0.31163185834884644,
          null
         ],
         "y": [
          0.17357192933559418,
          0.20882724225521088,
          null
         ]
        },
        {
         "line": {
          "color": "gray",
          "width": 1
         },
         "mode": "lines",
         "type": "scatter",
         "x": [
          0.276594877243042,
          0.32412293553352356,
          null
         ],
         "y": [
          0.17357192933559418,
          0.1753990799188614,
          null
         ]
        },
        {
         "line": {
          "color": "gray",
          "width": 1
         },
         "mode": "lines",
         "type": "scatter",
         "x": [
          0.276594877243042,
          0.31681206822395325,
          null
         ],
         "y": [
          0.17357192933559418,
          0.19529663026332855,
          null
         ]
        },
        {
         "line": {
          "color": "gray",
          "width": 1
         },
         "mode": "lines",
         "type": "scatter",
         "x": [
          0.276594877243042,
          0.3165891170501709,
          null
         ],
         "y": [
          0.17357192933559418,
          0.1772494912147522,
          null
         ]
        },
        {
         "line": {
          "color": "gray",
          "width": 1
         },
         "mode": "lines",
         "type": "scatter",
         "x": [
          0.276594877243042,
          0.31350868940353394,
          null
         ],
         "y": [
          0.17357192933559418,
          0.203346848487854,
          null
         ]
        },
        {
         "line": {
          "color": "gray",
          "width": 1
         },
         "mode": "lines",
         "type": "scatter",
         "x": [
          0.276594877243042,
          0.12732216715812683,
          null
         ],
         "y": [
          0.17357192933559418,
          0.15149913728237152,
          null
         ]
        },
        {
         "line": {
          "color": "gray",
          "width": 1
         },
         "mode": "lines",
         "type": "scatter",
         "x": [
          0.276594877243042,
          0.3128090500831604,
          null
         ],
         "y": [
          0.17357192933559418,
          0.14595749974250793,
          null
         ]
        },
        {
         "line": {
          "color": "gray",
          "width": 1
         },
         "mode": "lines",
         "type": "scatter",
         "x": [
          0.276594877243042,
          0.33019936084747314,
          null
         ],
         "y": [
          0.17357192933559418,
          0.16430480778217316,
          null
         ]
        },
        {
         "line": {
          "color": "gray",
          "width": 1
         },
         "mode": "lines",
         "type": "scatter",
         "x": [
          0.276594877243042,
          0.3241647481918335,
          null
         ],
         "y": [
          0.17357192933559418,
          0.150957852602005,
          null
         ]
        },
        {
         "line": {
          "color": "gray",
          "width": 1
         },
         "mode": "lines",
         "type": "scatter",
         "x": [
          0.276594877243042,
          0.11169447004795074,
          null
         ],
         "y": [
          0.17357192933559418,
          0.1962146908044815,
          null
         ]
        },
        {
         "line": {
          "color": "gray",
          "width": 1
         },
         "mode": "lines",
         "type": "scatter",
         "x": [
          0.276594877243042,
          0.29025787115097046,
          null
         ],
         "y": [
          0.17357192933559418,
          0.2120945155620575,
          null
         ]
        },
        {
         "line": {
          "color": "gray",
          "width": 1
         },
         "mode": "lines",
         "type": "scatter",
         "x": [
          0.276594877243042,
          0.29713955521583557,
          null
         ],
         "y": [
          0.17357192933559418,
          0.21235206723213196,
          null
         ]
        },
        {
         "line": {
          "color": "gray",
          "width": 1
         },
         "mode": "lines",
         "type": "scatter",
         "x": [
          0.276594877243042,
          0.30987364053726196,
          null
         ],
         "y": [
          0.17357192933559418,
          0.18999314308166504,
          null
         ]
        },
        {
         "line": {
          "color": "gray",
          "width": 1
         },
         "mode": "lines",
         "type": "scatter",
         "x": [
          0.276594877243042,
          0.3035779595375061,
          null
         ],
         "y": [
          0.17357192933559418,
          0.20072880387306213,
          null
         ]
        },
        {
         "line": {
          "color": "gray",
          "width": 1
         },
         "mode": "lines",
         "type": "scatter",
         "x": [
          0.276594877243042,
          0.40592706203460693,
          null
         ],
         "y": [
          0.17357192933559418,
          0.16561856865882874,
          null
         ]
        },
        {
         "line": {
          "color": "gray",
          "width": 1
         },
         "mode": "lines",
         "type": "scatter",
         "x": [
          -0.28217726945877075,
          -0.3200203776359558,
          null
         ],
         "y": [
          -0.04063086584210396,
          0.008044303394854069,
          null
         ]
        },
        {
         "line": {
          "color": "gray",
          "width": 1
         },
         "mode": "lines",
         "type": "scatter",
         "x": [
          -0.28217726945877075,
          -0.3341272175312042,
          null
         ],
         "y": [
          -0.04063086584210396,
          -0.001871526357717812,
          null
         ]
        },
        {
         "line": {
          "color": "gray",
          "width": 1
         },
         "mode": "lines",
         "type": "scatter",
         "x": [
          -0.28217726945877075,
          -0.3168346583843231,
          null
         ],
         "y": [
          -0.04063086584210396,
          -0.01018504798412323,
          null
         ]
        },
        {
         "line": {
          "color": "gray",
          "width": 1
         },
         "mode": "lines",
         "type": "scatter",
         "x": [
          -0.28217726945877075,
          -0.2550203502178192,
          null
         ],
         "y": [
          -0.04063086584210396,
          -0.07545822858810425,
          null
         ]
        },
        {
         "line": {
          "color": "gray",
          "width": 1
         },
         "mode": "lines",
         "type": "scatter",
         "x": [
          -0.28217726945877075,
          -0.2698521614074707,
          null
         ],
         "y": [
          -0.04063086584210396,
          -0.08866352587938309,
          null
         ]
        },
        {
         "line": {
          "color": "gray",
          "width": 1
         },
         "mode": "lines",
         "type": "scatter",
         "x": [
          -0.28217726945877075,
          -0.26921725273132324,
          null
         ],
         "y": [
          -0.04063086584210396,
          -0.08108369261026382,
          null
         ]
        },
        {
         "line": {
          "color": "gray",
          "width": 1
         },
         "mode": "lines",
         "type": "scatter",
         "x": [
          -0.28217726945877075,
          -0.3407600224018097,
          null
         ],
         "y": [
          -0.04063086584210396,
          -0.07218511402606964,
          null
         ]
        },
        {
         "line": {
          "color": "gray",
          "width": 1
         },
         "mode": "lines",
         "type": "scatter",
         "x": [
          -0.28217726945877075,
          -0.2758502960205078,
          null
         ],
         "y": [
          -0.04063086584210396,
          -0.08684831857681274,
          null
         ]
        },
        {
         "line": {
          "color": "gray",
          "width": 1
         },
         "mode": "lines",
         "type": "scatter",
         "x": [
          -0.28217726945877075,
          -0.32752522826194763,
          null
         ],
         "y": [
          -0.04063086584210396,
          -0.07680794596672058,
          null
         ]
        },
        {
         "line": {
          "color": "gray",
          "width": 1
         },
         "mode": "lines",
         "type": "scatter",
         "x": [
          -0.28217726945877075,
          -0.3091031610965729,
          null
         ],
         "y": [
          -0.04063086584210396,
          0.00831768848001957,
          null
         ]
        },
        {
         "line": {
          "color": "gray",
          "width": 1
         },
         "mode": "lines",
         "type": "scatter",
         "x": [
          -0.28217726945877075,
          -0.2988772690296173,
          null
         ],
         "y": [
          -0.04063086584210396,
          0.010292049497365952,
          null
         ]
        },
        {
         "line": {
          "color": "gray",
          "width": 1
         },
         "mode": "lines",
         "type": "scatter",
         "x": [
          -0.28217726945877075,
          -0.3250768482685089,
          null
         ],
         "y": [
          -0.04063086584210396,
          0.0055434308014810085,
          null
         ]
        },
        {
         "line": {
          "color": "gray",
          "width": 1
         },
         "mode": "lines",
         "type": "scatter",
         "x": [
          -0.28217726945877075,
          -0.2759186327457428,
          null
         ],
         "y": [
          -0.04063086584210396,
          -0.09571683406829834,
          null
         ]
        },
        {
         "line": {
          "color": "gray",
          "width": 1
         },
         "mode": "lines",
         "type": "scatter",
         "x": [
          -0.28217726945877075,
          -0.13747812807559967,
          null
         ],
         "y": [
          -0.04063086584210396,
          -0.0953461080789566,
          null
         ]
        },
        {
         "line": {
          "color": "gray",
          "width": 1
         },
         "mode": "lines",
         "type": "scatter",
         "x": [
          -0.28217726945877075,
          -0.30085039138793945,
          null
         ],
         "y": [
          -0.04063086584210396,
          0.000018544771592132747,
          null
         ]
        },
        {
         "line": {
          "color": "gray",
          "width": 1
         },
         "mode": "lines",
         "type": "scatter",
         "x": [
          -0.28217726945877075,
          -0.26140928268432617,
          null
         ],
         "y": [
          -0.04063086584210396,
          -0.05983791500329971,
          null
         ]
        },
        {
         "line": {
          "color": "gray",
          "width": 1
         },
         "mode": "lines",
         "type": "scatter",
         "x": [
          -0.28217726945877075,
          -0.284281849861145,
          null
         ],
         "y": [
          -0.04063086584210396,
          -0.06579971313476562,
          null
         ]
        },
        {
         "line": {
          "color": "gray",
          "width": 1
         },
         "mode": "lines",
         "type": "scatter",
         "x": [
          -0.28217726945877075,
          -0.3068152964115143,
          null
         ],
         "y": [
          -0.04063086584210396,
          -0.017838425934314728,
          null
         ]
        },
        {
         "line": {
          "color": "gray",
          "width": 1
         },
         "mode": "lines",
         "type": "scatter",
         "x": [
          -0.28217726945877075,
          -0.332864373922348,
          null
         ],
         "y": [
          -0.04063086584210396,
          -0.007493274286389351,
          null
         ]
        },
        {
         "line": {
          "color": "gray",
          "width": 1
         },
         "mode": "lines",
         "type": "scatter",
         "x": [
          -0.28217726945877075,
          -0.3120005428791046,
          null
         ],
         "y": [
          -0.04063086584210396,
          -0.007478019688278437,
          null
         ]
        },
        {
         "line": {
          "color": "gray",
          "width": 1
         },
         "mode": "lines",
         "type": "scatter",
         "x": [
          -0.28217726945877075,
          -0.29673686623573303,
          null
         ],
         "y": [
          -0.04063086584210396,
          -0.05658850446343422,
          null
         ]
        },
        {
         "line": {
          "color": "gray",
          "width": 1
         },
         "mode": "lines",
         "type": "scatter",
         "x": [
          -0.28217726945877075,
          -0.3193936049938202,
          null
         ],
         "y": [
          -0.04063086584210396,
          -0.04929348826408386,
          null
         ]
        },
        {
         "line": {
          "color": "gray",
          "width": 1
         },
         "mode": "lines",
         "type": "scatter",
         "x": [
          -0.28217726945877075,
          -0.28410226106643677,
          null
         ],
         "y": [
          -0.04063086584210396,
          -0.02071801945567131,
          null
         ]
        },
        {
         "line": {
          "color": "gray",
          "width": 1
         },
         "mode": "lines",
         "type": "scatter",
         "x": [
          -0.28217726945877075,
          -0.31695255637168884,
          null
         ],
         "y": [
          -0.04063086584210396,
          -0.0735618844628334,
          null
         ]
        },
        {
         "line": {
          "color": "gray",
          "width": 1
         },
         "mode": "lines",
         "type": "scatter",
         "x": [
          -0.28217726945877075,
          -0.30544766783714294,
          null
         ],
         "y": [
          -0.04063086584210396,
          -0.09848426282405853,
          null
         ]
        },
        {
         "line": {
          "color": "gray",
          "width": 1
         },
         "mode": "lines",
         "type": "scatter",
         "x": [
          -0.28217726945877075,
          -0.27464357018470764,
          null
         ],
         "y": [
          -0.04063086584210396,
          -0.0026522811967879534,
          null
         ]
        },
        {
         "line": {
          "color": "gray",
          "width": 1
         },
         "mode": "lines",
         "type": "scatter",
         "x": [
          -0.28217726945877075,
          -0.33560553193092346,
          null
         ],
         "y": [
          -0.04063086584210396,
          -0.018508000299334526,
          null
         ]
        },
        {
         "line": {
          "color": "gray",
          "width": 1
         },
         "mode": "lines",
         "type": "scatter",
         "x": [
          -0.28217726945877075,
          -0.2699922025203705,
          null
         ],
         "y": [
          -0.04063086584210396,
          -0.09564601629972458,
          null
         ]
        },
        {
         "line": {
          "color": "gray",
          "width": 1
         },
         "mode": "lines",
         "type": "scatter",
         "x": [
          -0.28217726945877075,
          -0.327700674533844,
          null
         ],
         "y": [
          -0.04063086584210396,
          -0.020718179643154144,
          null
         ]
        },
        {
         "line": {
          "color": "gray",
          "width": 1
         },
         "mode": "lines",
         "type": "scatter",
         "x": [
          -0.28217726945877075,
          -0.28240567445755005,
          null
         ],
         "y": [
          -0.04063086584210396,
          -0.05600307509303093,
          null
         ]
        },
        {
         "line": {
          "color": "gray",
          "width": 1
         },
         "mode": "lines",
         "type": "scatter",
         "x": [
          -0.28217726945877075,
          -0.3205447494983673,
          null
         ],
         "y": [
          -0.04063086584210396,
          -0.022634541615843773,
          null
         ]
        },
        {
         "line": {
          "color": "gray",
          "width": 1
         },
         "mode": "lines",
         "type": "scatter",
         "x": [
          -0.28217726945877075,
          -0.2666354775428772,
          null
         ],
         "y": [
          -0.04063086584210396,
          -0.06578828394412994,
          null
         ]
        },
        {
         "line": {
          "color": "gray",
          "width": 1
         },
         "mode": "lines",
         "type": "scatter",
         "x": [
          -0.28217726945877075,
          -0.22329314053058624,
          null
         ],
         "y": [
          -0.04063086584210396,
          -0.06588570773601532,
          null
         ]
        },
        {
         "line": {
          "color": "gray",
          "width": 1
         },
         "mode": "lines",
         "type": "scatter",
         "x": [
          -0.28217726945877075,
          -0.3197114169597626,
          null
         ],
         "y": [
          -0.04063086584210396,
          -0.0962972566485405,
          null
         ]
        },
        {
         "line": {
          "color": "gray",
          "width": 1
         },
         "mode": "lines",
         "type": "scatter",
         "x": [
          -0.28217726945877075,
          -0.3024863302707672,
          null
         ],
         "y": [
          -0.04063086584210396,
          -0.03590149059891701,
          null
         ]
        },
        {
         "line": {
          "color": "gray",
          "width": 1
         },
         "mode": "lines",
         "type": "scatter",
         "x": [
          -0.28217726945877075,
          -0.33053839206695557,
          null
         ],
         "y": [
          -0.04063086584210396,
          -0.0877256914973259,
          null
         ]
        },
        {
         "line": {
          "color": "gray",
          "width": 1
         },
         "mode": "lines",
         "type": "scatter",
         "x": [
          -0.28217726945877075,
          -0.2947915494441986,
          null
         ],
         "y": [
          -0.04063086584210396,
          -0.027824465185403824,
          null
         ]
        },
        {
         "line": {
          "color": "gray",
          "width": 1
         },
         "mode": "lines",
         "type": "scatter",
         "x": [
          -0.28217726945877075,
          -0.262531578540802,
          null
         ],
         "y": [
          -0.04063086584210396,
          -0.014081892557442188,
          null
         ]
        },
        {
         "line": {
          "color": "gray",
          "width": 1
         },
         "mode": "lines",
         "type": "scatter",
         "x": [
          -0.28217726945877075,
          -0.2504625618457794,
          null
         ],
         "y": [
          -0.04063086584210396,
          -0.04762154817581177,
          null
         ]
        },
        {
         "line": {
          "color": "gray",
          "width": 1
         },
         "mode": "lines",
         "type": "scatter",
         "x": [
          -0.28217726945877075,
          -0.32500848174095154,
          null
         ],
         "y": [
          -0.04063086584210396,
          -0.09316506236791611,
          null
         ]
        },
        {
         "line": {
          "color": "gray",
          "width": 1
         },
         "mode": "lines",
         "type": "scatter",
         "x": [
          -0.28217726945877075,
          -0.32719552516937256,
          null
         ],
         "y": [
          -0.04063086584210396,
          -0.06196471303701401,
          null
         ]
        },
        {
         "line": {
          "color": "gray",
          "width": 1
         },
         "mode": "lines",
         "type": "scatter",
         "x": [
          -0.28217726945877075,
          -0.30740559101104736,
          null
         ],
         "y": [
          -0.04063086584210396,
          -0.001850409316830337,
          null
         ]
        },
        {
         "line": {
          "color": "gray",
          "width": 1
         },
         "mode": "lines",
         "type": "scatter",
         "x": [
          -0.28217726945877075,
          -0.3052888810634613,
          null
         ],
         "y": [
          -0.04063086584210396,
          -0.0612943172454834,
          null
         ]
        },
        {
         "line": {
          "color": "gray",
          "width": 1
         },
         "mode": "lines",
         "type": "scatter",
         "x": [
          -0.28217726945877075,
          -0.31376707553863525,
          null
         ],
         "y": [
          -0.04063086584210396,
          -0.09479973465204239,
          null
         ]
        },
        {
         "line": {
          "color": "gray",
          "width": 1
         },
         "mode": "lines",
         "type": "scatter",
         "x": [
          -0.28217726945877075,
          -0.2872563898563385,
          null
         ],
         "y": [
          -0.04063086584210396,
          -0.10182899981737137,
          null
         ]
        },
        {
         "line": {
          "color": "gray",
          "width": 1
         },
         "mode": "lines",
         "type": "scatter",
         "x": [
          -0.28217726945877075,
          -0.17631421983242035,
          null
         ],
         "y": [
          -0.04063086584210396,
          0.09678009897470474,
          null
         ]
        },
        {
         "line": {
          "color": "gray",
          "width": 1
         },
         "mode": "lines",
         "type": "scatter",
         "x": [
          -0.28217726945877075,
          -0.2916348874568939,
          null
         ],
         "y": [
          -0.04063086584210396,
          -0.0029700947925448418,
          null
         ]
        },
        {
         "line": {
          "color": "gray",
          "width": 1
         },
         "mode": "lines",
         "type": "scatter",
         "x": [
          -0.28217726945877075,
          -0.250693678855896,
          null
         ],
         "y": [
          -0.04063086584210396,
          -0.03698478639125824,
          null
         ]
        },
        {
         "line": {
          "color": "gray",
          "width": 1
         },
         "mode": "lines",
         "type": "scatter",
         "x": [
          -0.28217726945877075,
          -0.2944642901420593,
          null
         ],
         "y": [
          -0.04063086584210396,
          0.01385970413684845,
          null
         ]
        },
        {
         "line": {
          "color": "gray",
          "width": 1
         },
         "mode": "lines",
         "type": "scatter",
         "x": [
          -0.28217726945877075,
          -0.2585514485836029,
          null
         ],
         "y": [
          -0.04063086584210396,
          -0.08360808342695236,
          null
         ]
        },
        {
         "line": {
          "color": "gray",
          "width": 1
         },
         "mode": "lines",
         "type": "scatter",
         "x": [
          -0.28217726945877075,
          -0.05216536670923233,
          null
         ],
         "y": [
          -0.04063086584210396,
          -0.03922661021351814,
          null
         ]
        },
        {
         "line": {
          "color": "gray",
          "width": 1
         },
         "mode": "lines",
         "type": "scatter",
         "x": [
          -0.28217726945877075,
          -0.2800148129463196,
          null
         ],
         "y": [
          -0.04063086584210396,
          0.01067437045276165,
          null
         ]
        },
        {
         "line": {
          "color": "gray",
          "width": 1
         },
         "mode": "lines",
         "type": "scatter",
         "x": [
          -0.28217726945877075,
          -0.34098535776138306,
          null
         ],
         "y": [
          -0.04063086584210396,
          -0.042253803461790085,
          null
         ]
        },
        {
         "line": {
          "color": "gray",
          "width": 1
         },
         "mode": "lines",
         "type": "scatter",
         "x": [
          -0.28217726945877075,
          -0.3405413031578064,
          null
         ],
         "y": [
          -0.04063086584210396,
          -0.07880695164203644,
          null
         ]
        },
        {
         "line": {
          "color": "gray",
          "width": 1
         },
         "mode": "lines",
         "type": "scatter",
         "x": [
          -0.28217726945877075,
          -0.33723559975624084,
          null
         ],
         "y": [
          -0.04063086584210396,
          -0.03340136632323265,
          null
         ]
        },
        {
         "line": {
          "color": "gray",
          "width": 1
         },
         "mode": "lines",
         "type": "scatter",
         "x": [
          -0.28217726945877075,
          -0.2876472771167755,
          null
         ],
         "y": [
          -0.04063086584210396,
          0.012740058824419975,
          null
         ]
        },
        {
         "line": {
          "color": "gray",
          "width": 1
         },
         "mode": "lines",
         "type": "scatter",
         "x": [
          -0.28217726945877075,
          -0.2999104857444763,
          null
         ],
         "y": [
          -0.04063086584210396,
          0.10006130486726761,
          null
         ]
        },
        {
         "line": {
          "color": "gray",
          "width": 1
         },
         "mode": "lines",
         "type": "scatter",
         "x": [
          -0.28217726945877075,
          -0.3176508843898773,
          null
         ],
         "y": [
          -0.04063086584210396,
          -0.0815286859869957,
          null
         ]
        },
        {
         "line": {
          "color": "gray",
          "width": 1
         },
         "mode": "lines",
         "type": "scatter",
         "x": [
          -0.28217726945877075,
          -0.2690710425376892,
          null
         ],
         "y": [
          -0.04063086584210396,
          -0.05138007551431656,
          null
         ]
        },
        {
         "line": {
          "color": "gray",
          "width": 1
         },
         "mode": "lines",
         "type": "scatter",
         "x": [
          -0.28217726945877075,
          -0.34250107407569885,
          null
         ],
         "y": [
          -0.04063086584210396,
          -0.0676167756319046,
          null
         ]
        },
        {
         "line": {
          "color": "gray",
          "width": 1
         },
         "mode": "lines",
         "type": "scatter",
         "x": [
          -0.28217726945877075,
          -0.2571583390235901,
          null
         ],
         "y": [
          -0.04063086584210396,
          -0.052813515067100525,
          null
         ]
        },
        {
         "line": {
          "color": "gray",
          "width": 1
         },
         "mode": "lines",
         "type": "scatter",
         "x": [
          -0.28217726945877075,
          -0.3455011248588562,
          null
         ],
         "y": [
          -0.04063086584210396,
          -0.0388345941901207,
          null
         ]
        },
        {
         "line": {
          "color": "gray",
          "width": 1
         },
         "mode": "lines",
         "type": "scatter",
         "x": [
          -0.28217726945877075,
          -0.3191939890384674,
          null
         ],
         "y": [
          -0.04063086584210396,
          -0.031838562339544296,
          null
         ]
        },
        {
         "line": {
          "color": "gray",
          "width": 1
         },
         "mode": "lines",
         "type": "scatter",
         "x": [
          -0.28217726945877075,
          -0.351089745759964,
          null
         ],
         "y": [
          -0.04063086584210396,
          -0.039049554616212845,
          null
         ]
        },
        {
         "line": {
          "color": "gray",
          "width": 1
         },
         "mode": "lines",
         "type": "scatter",
         "x": [
          -0.28217726945877075,
          -0.2909686267375946,
          null
         ],
         "y": [
          -0.04063086584210396,
          -0.09762152284383774,
          null
         ]
        },
        {
         "line": {
          "color": "gray",
          "width": 1
         },
         "mode": "lines",
         "type": "scatter",
         "x": [
          -0.28217726945877075,
          -0.24905121326446533,
          null
         ],
         "y": [
          -0.04063086584210396,
          -0.06069234013557434,
          null
         ]
        },
        {
         "line": {
          "color": "gray",
          "width": 1
         },
         "mode": "lines",
         "type": "scatter",
         "x": [
          -0.28217726945877075,
          -0.3297737240791321,
          null
         ],
         "y": [
          -0.04063086584210396,
          -0.04861580580472946,
          null
         ]
        },
        {
         "line": {
          "color": "gray",
          "width": 1
         },
         "mode": "lines",
         "type": "scatter",
         "x": [
          -0.28217726945877075,
          -0.3007504642009735,
          null
         ],
         "y": [
          -0.04063086584210396,
          -0.09232622385025024,
          null
         ]
        },
        {
         "line": {
          "color": "gray",
          "width": 1
         },
         "mode": "lines",
         "type": "scatter",
         "x": [
          -0.28217726945877075,
          -0.3165673315525055,
          null
         ],
         "y": [
          -0.04063086584210396,
          -0.04324974864721298,
          null
         ]
        },
        {
         "line": {
          "color": "gray",
          "width": 1
         },
         "mode": "lines",
         "type": "scatter",
         "x": [
          -0.28217726945877075,
          -0.3275321424007416,
          null
         ],
         "y": [
          -0.04063086584210396,
          -0.04218357056379318,
          null
         ]
        },
        {
         "line": {
          "color": "gray",
          "width": 1
         },
         "mode": "lines",
         "type": "scatter",
         "x": [
          -0.28217726945877075,
          -0.29048818349838257,
          null
         ],
         "y": [
          -0.04063086584210396,
          -0.012650544755160809,
          null
         ]
        },
        {
         "line": {
          "color": "gray",
          "width": 1
         },
         "mode": "lines",
         "type": "scatter",
         "x": [
          -0.28217726945877075,
          -0.3489762246608734,
          null
         ],
         "y": [
          -0.04063086584210396,
          -0.02614416927099228,
          null
         ]
        },
        {
         "line": {
          "color": "gray",
          "width": 1
         },
         "mode": "lines",
         "type": "scatter",
         "x": [
          -0.28217726945877075,
          -0.18474124372005463,
          null
         ],
         "y": [
          -0.04063086584210396,
          -0.008261546492576599,
          null
         ]
        },
        {
         "line": {
          "color": "gray",
          "width": 1
         },
         "mode": "lines",
         "type": "scatter",
         "x": [
          -0.28217726945877075,
          -0.25952449440956116,
          null
         ],
         "y": [
          -0.04063086584210396,
          -0.006302011664956808,
          null
         ]
        },
        {
         "line": {
          "color": "gray",
          "width": 1
         },
         "mode": "lines",
         "type": "scatter",
         "x": [
          -0.28217726945877075,
          -0.185943141579628,
          null
         ],
         "y": [
          -0.04063086584210396,
          -0.004838320892304182,
          null
         ]
        },
        {
         "line": {
          "color": "gray",
          "width": 1
         },
         "mode": "lines",
         "type": "scatter",
         "x": [
          -0.28217726945877075,
          -0.332287460565567,
          null
         ],
         "y": [
          -0.04063086584210396,
          -0.024404490366578102,
          null
         ]
        },
        {
         "line": {
          "color": "gray",
          "width": 1
         },
         "mode": "lines",
         "type": "scatter",
         "x": [
          -0.28217726945877075,
          -0.2806917428970337,
          null
         ],
         "y": [
          -0.04063086584210396,
          -0.10034932941198349,
          null
         ]
        },
        {
         "line": {
          "color": "gray",
          "width": 1
         },
         "mode": "lines",
         "type": "scatter",
         "x": [
          -0.28217726945877075,
          -0.3333808183670044,
          null
         ],
         "y": [
          -0.04063086584210396,
          -0.06529900431632996,
          null
         ]
        },
        {
         "line": {
          "color": "gray",
          "width": 1
         },
         "mode": "lines",
         "type": "scatter",
         "x": [
          -0.28217726945877075,
          -0.31412044167518616,
          null
         ],
         "y": [
          -0.04063086584210396,
          -0.05564942955970764,
          null
         ]
        },
        {
         "line": {
          "color": "gray",
          "width": 1
         },
         "mode": "lines",
         "type": "scatter",
         "x": [
          -0.28217726945877075,
          -0.3207182288169861,
          null
         ],
         "y": [
          -0.04063086584210396,
          -0.0672803595662117,
          null
         ]
        },
        {
         "line": {
          "color": "gray",
          "width": 1
         },
         "mode": "lines",
         "type": "scatter",
         "x": [
          -0.28217726945877075,
          -0.3257692754268646,
          null
         ],
         "y": [
          -0.04063086584210396,
          -0.008966207504272461,
          null
         ]
        },
        {
         "line": {
          "color": "gray",
          "width": 1
         },
         "mode": "lines",
         "type": "scatter",
         "x": [
          -0.28217726945877075,
          -0.3385230004787445,
          null
         ],
         "y": [
          -0.04063086584210396,
          -0.0635247454047203,
          null
         ]
        },
        {
         "line": {
          "color": "gray",
          "width": 1
         },
         "mode": "lines",
         "type": "scatter",
         "x": [
          -0.28217726945877075,
          -0.29372888803482056,
          null
         ],
         "y": [
          -0.04063086584210396,
          0.004738388583064079,
          null
         ]
        },
        {
         "line": {
          "color": "gray",
          "width": 1
         },
         "mode": "lines",
         "type": "scatter",
         "x": [
          -0.28217726945877075,
          -0.3083292841911316,
          null
         ],
         "y": [
          -0.04063086584210396,
          -0.07145478576421738,
          null
         ]
        },
        {
         "line": {
          "color": "gray",
          "width": 1
         },
         "mode": "lines",
         "type": "scatter",
         "x": [
          -0.28217726945877075,
          -0.2822798490524292,
          null
         ],
         "y": [
          -0.04063086584210396,
          -0.009213241748511791,
          null
         ]
        },
        {
         "line": {
          "color": "gray",
          "width": 1
         },
         "mode": "lines",
         "type": "scatter",
         "x": [
          -0.28217726945877075,
          -0.25854191184043884,
          null
         ],
         "y": [
          -0.04063086584210396,
          -0.042822279036045074,
          null
         ]
        },
        {
         "line": {
          "color": "gray",
          "width": 1
         },
         "mode": "lines",
         "type": "scatter",
         "x": [
          -0.28217726945877075,
          -0.29766368865966797,
          null
         ],
         "y": [
          -0.04063086584210396,
          -0.07804255932569504,
          null
         ]
        },
        {
         "line": {
          "color": "gray",
          "width": 1
         },
         "mode": "lines",
         "type": "scatter",
         "x": [
          -0.28217726945877075,
          -0.335676908493042,
          null
         ],
         "y": [
          -0.04063086584210396,
          -0.07407549768686295,
          null
         ]
        },
        {
         "line": {
          "color": "gray",
          "width": 1
         },
         "mode": "lines",
         "type": "scatter",
         "x": [
          -0.28217726945877075,
          -0.3043363392353058,
          null
         ],
         "y": [
          -0.04063086584210396,
          -0.011024776846170425,
          null
         ]
        },
        {
         "line": {
          "color": "gray",
          "width": 1
         },
         "mode": "lines",
         "type": "scatter",
         "x": [
          -0.28217726945877075,
          -0.32569530606269836,
          null
         ],
         "y": [
          -0.04063086584210396,
          -0.003579061245545745,
          null
         ]
        },
        {
         "line": {
          "color": "gray",
          "width": 1
         },
         "mode": "lines",
         "type": "scatter",
         "x": [
          -0.28217726945877075,
          -0.32652950286865234,
          null
         ],
         "y": [
          -0.04063086584210396,
          -0.014557885006070137,
          null
         ]
        },
        {
         "line": {
          "color": "gray",
          "width": 1
         },
         "mode": "lines",
         "type": "scatter",
         "x": [
          -0.28217726945877075,
          -0.27471020817756653,
          null
         ],
         "y": [
          -0.04063086584210396,
          -0.06612151116132736,
          null
         ]
        },
        {
         "line": {
          "color": "gray",
          "width": 1
         },
         "mode": "lines",
         "type": "scatter",
         "x": [
          -0.28217726945877075,
          -0.3304966688156128,
          null
         ],
         "y": [
          -0.04063086584210396,
          -0.08054555952548981,
          null
         ]
        },
        {
         "line": {
          "color": "gray",
          "width": 1
         },
         "mode": "lines",
         "type": "scatter",
         "x": [
          -0.28217726945877075,
          -0.3436517119407654,
          null
         ],
         "y": [
          -0.04063086584210396,
          -0.020293204113841057,
          null
         ]
        },
        {
         "line": {
          "color": "gray",
          "width": 1
         },
         "mode": "lines",
         "type": "scatter",
         "x": [
          -0.28217726945877075,
          -0.3138226270675659,
          null
         ],
         "y": [
          -0.04063086584210396,
          0.012287606485188007,
          null
         ]
        },
        {
         "line": {
          "color": "gray",
          "width": 1
         },
         "mode": "lines",
         "type": "scatter",
         "x": [
          -0.28217726945877075,
          -0.30763280391693115,
          null
         ],
         "y": [
          -0.04063086584210396,
          -0.05075255408883095,
          null
         ]
        },
        {
         "line": {
          "color": "gray",
          "width": 1
         },
         "mode": "lines",
         "type": "scatter",
         "x": [
          -0.28217726945877075,
          -0.2670230269432068,
          null
         ],
         "y": [
          -0.04063086584210396,
          -0.006431685760617256,
          null
         ]
        },
        {
         "line": {
          "color": "gray",
          "width": 1
         },
         "mode": "lines",
         "type": "scatter",
         "x": [
          -0.28217726945877075,
          -0.3388548791408539,
          null
         ],
         "y": [
          -0.04063086584210396,
          -0.05062562972307205,
          null
         ]
        },
        {
         "line": {
          "color": "gray",
          "width": 1
         },
         "mode": "lines",
         "type": "scatter",
         "x": [
          -0.28217726945877075,
          -0.2627232074737549,
          null
         ],
         "y": [
          -0.04063086584210396,
          -0.0789942592382431,
          null
         ]
        },
        {
         "line": {
          "color": "gray",
          "width": 1
         },
         "mode": "lines",
         "type": "scatter",
         "x": [
          -0.28217726945877075,
          -0.28883540630340576,
          null
         ],
         "y": [
          -0.04063086584210396,
          -0.08599912375211716,
          null
         ]
        },
        {
         "line": {
          "color": "gray",
          "width": 1
         },
         "mode": "lines",
         "type": "scatter",
         "x": [
          -0.28217726945877075,
          -0.2843005955219269,
          null
         ],
         "y": [
          -0.04063086584210396,
          -0.001114819897338748,
          null
         ]
        },
        {
         "line": {
          "color": "gray",
          "width": 1
         },
         "mode": "lines",
         "type": "scatter",
         "x": [
          -0.28217726945877075,
          -0.3330461084842682,
          null
         ],
         "y": [
          -0.04063086584210396,
          -0.013356980867683887,
          null
         ]
        },
        {
         "line": {
          "color": "gray",
          "width": 1
         },
         "mode": "lines",
         "type": "scatter",
         "x": [
          -0.28217726945877075,
          -0.31498458981513977,
          null
         ],
         "y": [
          -0.04063086584210396,
          0.005457965657114983,
          null
         ]
        },
        {
         "line": {
          "color": "gray",
          "width": 1
         },
         "mode": "lines",
         "type": "scatter",
         "x": [
          -0.28217726945877075,
          -0.30070430040359497,
          null
         ],
         "y": [
          -0.04063086584210396,
          -0.10035055130720139,
          null
         ]
        },
        {
         "line": {
          "color": "gray",
          "width": 1
         },
         "mode": "lines",
         "type": "scatter",
         "x": [
          -0.28217726945877075,
          -0.27286267280578613,
          null
         ],
         "y": [
          -0.04063086584210396,
          -0.07483891397714615,
          null
         ]
        },
        {
         "line": {
          "color": "gray",
          "width": 1
         },
         "mode": "lines",
         "type": "scatter",
         "x": [
          -0.28217726945877075,
          -0.3384905755519867,
          null
         ],
         "y": [
          -0.04063086584210396,
          -0.026563819497823715,
          null
         ]
        },
        {
         "line": {
          "color": "gray",
          "width": 1
         },
         "mode": "lines",
         "type": "scatter",
         "x": [
          -0.28217726945877075,
          -0.3314107656478882,
          null
         ],
         "y": [
          -0.04063086584210396,
          -0.031959958374500275,
          null
         ]
        },
        {
         "line": {
          "color": "gray",
          "width": 1
         },
         "mode": "lines",
         "type": "scatter",
         "x": [
          -0.28217726945877075,
          -0.2691574990749359,
          null
         ],
         "y": [
          -0.04063086584210396,
          -0.033753689378499985,
          null
         ]
        },
        {
         "line": {
          "color": "gray",
          "width": 1
         },
         "mode": "lines",
         "type": "scatter",
         "x": [
          -0.28217726945877075,
          -0.2661867141723633,
          null
         ],
         "y": [
          -0.04063086584210396,
          0.0011789090931415558,
          null
         ]
        },
        {
         "line": {
          "color": "gray",
          "width": 1
         },
         "mode": "lines",
         "type": "scatter",
         "x": [
          -0.28217726945877075,
          -0.33691662549972534,
          null
         ],
         "y": [
          -0.04063086584210396,
          -0.057042330503463745,
          null
         ]
        },
        {
         "line": {
          "color": "gray",
          "width": 1
         },
         "mode": "lines",
         "type": "scatter",
         "x": [
          -0.28217726945877075,
          -0.3117918074131012,
          null
         ],
         "y": [
          -0.04063086584210396,
          -0.023039724677801132,
          null
         ]
        },
        {
         "line": {
          "color": "gray",
          "width": 1
         },
         "mode": "lines",
         "type": "scatter",
         "x": [
          -0.28217726945877075,
          -0.344483882188797,
          null
         ],
         "y": [
          -0.04063086584210396,
          -0.03094029612839222,
          null
         ]
        },
        {
         "line": {
          "color": "gray",
          "width": 1
         },
         "mode": "lines",
         "type": "scatter",
         "x": [
          -0.28217726945877075,
          -0.34610414505004883,
          null
         ],
         "y": [
          -0.04063086584210396,
          -0.04704051837325096,
          null
         ]
        },
        {
         "line": {
          "color": "gray",
          "width": 1
         },
         "mode": "lines",
         "type": "scatter",
         "x": [
          -0.28217726945877075,
          -0.26363861560821533,
          null
         ],
         "y": [
          -0.04063086584210396,
          -0.08942116051912308,
          null
         ]
        },
        {
         "line": {
          "color": "gray",
          "width": 1
         },
         "mode": "lines",
         "type": "scatter",
         "x": [
          -0.28217726945877075,
          -0.3350749909877777,
          null
         ],
         "y": [
          -0.04063086584210396,
          -0.045800451189279556,
          null
         ]
        },
        {
         "line": {
          "color": "gray",
          "width": 1
         },
         "mode": "lines",
         "type": "scatter",
         "x": [
          -0.28217726945877075,
          -0.351863831281662,
          null
         ],
         "y": [
          -0.04063086584210396,
          -0.04491850733757019,
          null
         ]
        },
        {
         "line": {
          "color": "gray",
          "width": 1
         },
         "mode": "lines",
         "type": "scatter",
         "x": [
          -0.28217726945877075,
          -0.3010246753692627,
          null
         ],
         "y": [
          -0.04063086584210396,
          -0.07119625061750412,
          null
         ]
        },
        {
         "line": {
          "color": "gray",
          "width": 1
         },
         "mode": "lines",
         "type": "scatter",
         "x": [
          -0.28217726945877075,
          -0.31256774067878723,
          null
         ],
         "y": [
          -0.04063086584210396,
          -0.06496216356754303,
          null
         ]
        },
        {
         "line": {
          "color": "gray",
          "width": 1
         },
         "mode": "lines",
         "type": "scatter",
         "x": [
          -0.28217726945877075,
          -0.3117223083972931,
          null
         ],
         "y": [
          -0.04063086584210396,
          -0.07824090868234634,
          null
         ]
        },
        {
         "line": {
          "color": "gray",
          "width": 1
         },
         "mode": "lines",
         "type": "scatter",
         "x": [
          -0.28217726945877075,
          -0.35009104013442993,
          null
         ],
         "y": [
          -0.04063086584210396,
          -0.05733422189950943,
          null
         ]
        },
        {
         "line": {
          "color": "gray",
          "width": 1
         },
         "mode": "lines",
         "type": "scatter",
         "x": [
          -0.28217726945877075,
          -0.3444679379463196,
          null
         ],
         "y": [
          -0.04063086584210396,
          -0.06028700992465019,
          null
         ]
        },
        {
         "line": {
          "color": "gray",
          "width": 1
         },
         "mode": "lines",
         "type": "scatter",
         "x": [
          -0.28217726945877075,
          -0.28179508447647095,
          null
         ],
         "y": [
          -0.04063086584210396,
          -0.0759829431772232,
          null
         ]
        },
        {
         "line": {
          "color": "gray",
          "width": 1
         },
         "mode": "lines",
         "type": "scatter",
         "x": [
          -0.28217726945877075,
          -0.3239966928958893,
          null
         ],
         "y": [
          -0.04063086584210396,
          -0.05426716431975365,
          null
         ]
        },
        {
         "line": {
          "color": "gray",
          "width": 1
         },
         "mode": "lines",
         "type": "scatter",
         "x": [
          -0.28217726945877075,
          -0.3077446520328522,
          null
         ],
         "y": [
          -0.04063086584210396,
          -0.09111832082271576,
          null
         ]
        },
        {
         "line": {
          "color": "gray",
          "width": 1
         },
         "mode": "lines",
         "type": "scatter",
         "x": [
          -0.28217726945877075,
          -0.271931529045105,
          null
         ],
         "y": [
          -0.04063086584210396,
          0.006415513809770346,
          null
         ]
        },
        {
         "line": {
          "color": "gray",
          "width": 1
         },
         "mode": "lines",
         "type": "scatter",
         "x": [
          -0.28217726945877075,
          -0.33502036333084106,
          null
         ],
         "y": [
          -0.04063086584210396,
          -0.03908969461917877,
          null
         ]
        },
        {
         "line": {
          "color": "gray",
          "width": 1
         },
         "mode": "lines",
         "type": "scatter",
         "x": [
          -0.28217726945877075,
          -0.3142140805721283,
          null
         ],
         "y": [
          -0.04063086584210396,
          -0.0007994192419573665,
          null
         ]
        },
        {
         "line": {
          "color": "gray",
          "width": 1
         },
         "mode": "lines",
         "type": "scatter",
         "x": [
          -0.28217726945877075,
          -0.32387596368789673,
          null
         ],
         "y": [
          -0.04063086584210396,
          -0.07237723469734192,
          null
         ]
        },
        {
         "line": {
          "color": "gray",
          "width": 1
         },
         "mode": "lines",
         "type": "scatter",
         "x": [
          -0.28217726945877075,
          -0.32393133640289307,
          null
         ],
         "y": [
          -0.04063086584210396,
          -0.08757556229829788,
          null
         ]
        },
        {
         "line": {
          "color": "gray",
          "width": 1
         },
         "mode": "lines",
         "type": "scatter",
         "x": [
          -0.28217726945877075,
          -0.28674712777137756,
          null
         ],
         "y": [
          -0.04063086584210396,
          0.006254592910408974,
          null
         ]
        },
        {
         "line": {
          "color": "gray",
          "width": 1
         },
         "mode": "lines",
         "type": "scatter",
         "x": [
          -0.28217726945877075,
          -0.3422444462776184,
          null
         ],
         "y": [
          -0.04063086584210396,
          -0.011676535941660404,
          null
         ]
        },
        {
         "line": {
          "color": "gray",
          "width": 1
         },
         "mode": "lines",
         "type": "scatter",
         "x": [
          -0.28217726945877075,
          -0.3651951253414154,
          null
         ],
         "y": [
          -0.04063086584210396,
          -0.1440918892621994,
          null
         ]
        },
        {
         "line": {
          "color": "gray",
          "width": 1
         },
         "mode": "lines",
         "type": "scatter",
         "x": [
          -0.28217726945877075,
          -0.13904303312301636,
          null
         ],
         "y": [
          -0.04063086584210396,
          -0.09674906730651855,
          null
         ]
        },
        {
         "line": {
          "color": "gray",
          "width": 1
         },
         "mode": "lines",
         "type": "scatter",
         "x": [
          -0.28217726945877075,
          -0.3113277554512024,
          null
         ],
         "y": [
          -0.04063086584210396,
          -0.038867346942424774,
          null
         ]
        },
        {
         "line": {
          "color": "gray",
          "width": 1
         },
         "mode": "lines",
         "type": "scatter",
         "x": [
          -0.28217726945877075,
          -0.34355223178863525,
          null
         ],
         "y": [
          -0.04063086584210396,
          -0.024867551401257515,
          null
         ]
        },
        {
         "line": {
          "color": "gray",
          "width": 1
         },
         "mode": "lines",
         "type": "scatter",
         "x": [
          -0.28217726945877075,
          -0.25163400173187256,
          null
         ],
         "y": [
          -0.04063086584210396,
          -0.0680721327662468,
          null
         ]
        },
        {
         "line": {
          "color": "gray",
          "width": 1
         },
         "mode": "lines",
         "type": "scatter",
         "x": [
          -0.28217726945877075,
          -0.33155450224876404,
          null
         ],
         "y": [
          -0.04063086584210396,
          -0.05569051578640938,
          null
         ]
        },
        {
         "line": {
          "color": "gray",
          "width": 1
         },
         "mode": "lines",
         "type": "scatter",
         "x": [
          -0.28217726945877075,
          -0.13103821873664856,
          null
         ],
         "y": [
          -0.04063086584210396,
          0.046686481684446335,
          null
         ]
        },
        {
         "line": {
          "color": "gray",
          "width": 1
         },
         "mode": "lines",
         "type": "scatter",
         "x": [
          -0.28217726945877075,
          -0.33561915159225464,
          null
         ],
         "y": [
          -0.04063086584210396,
          -0.08261378854513168,
          null
         ]
        },
        {
         "line": {
          "color": "gray",
          "width": 1
         },
         "mode": "lines",
         "type": "scatter",
         "x": [
          -0.28217726945877075,
          -0.2993875741958618,
          null
         ],
         "y": [
          -0.04063086584210396,
          -0.046242982149124146,
          null
         ]
        },
        {
         "line": {
          "color": "gray",
          "width": 1
         },
         "mode": "lines",
         "type": "scatter",
         "x": [
          -0.28217726945877075,
          -0.29807063937187195,
          null
         ],
         "y": [
          -0.04063086584210396,
          -0.007326630409806967,
          null
         ]
        },
        {
         "line": {
          "color": "gray",
          "width": 1
         },
         "mode": "lines",
         "type": "scatter",
         "x": [
          -0.28217726945877075,
          -0.3169545829296112,
          null
         ],
         "y": [
          -0.04063086584210396,
          -0.0892070084810257,
          null
         ]
        },
        {
         "line": {
          "color": "gray",
          "width": 1
         },
         "mode": "lines",
         "type": "scatter",
         "x": [
          -0.28217726945877075,
          -0.253354012966156,
          null
         ],
         "y": [
          -0.04063086584210396,
          -0.025038113817572594,
          null
         ]
        },
        {
         "line": {
          "color": "gray",
          "width": 1
         },
         "mode": "lines",
         "type": "scatter",
         "x": [
          -0.28217726945877075,
          -0.3452443480491638,
          null
         ],
         "y": [
          -0.04063086584210396,
          -0.01581467129290104,
          null
         ]
        },
        {
         "line": {
          "color": "gray",
          "width": 1
         },
         "mode": "lines",
         "type": "scatter",
         "x": [
          -0.28217726945877075,
          -0.3083816170692444,
          null
         ],
         "y": [
          -0.04063086584210396,
          -0.030241915956139565,
          null
         ]
        },
        {
         "line": {
          "color": "gray",
          "width": 1
         },
         "mode": "lines",
         "type": "scatter",
         "x": [
          -0.28217726945877075,
          -0.3118801414966583,
          null
         ],
         "y": [
          -0.04063086584210396,
          -0.08604080975055695,
          null
         ]
        },
        {
         "line": {
          "color": "gray",
          "width": 1
         },
         "mode": "lines",
         "type": "scatter",
         "x": [
          -0.28217726945877075,
          -0.2974739372730255,
          null
         ],
         "y": [
          -0.04063086584210396,
          -0.019141454249620438,
          null
         ]
        },
        {
         "line": {
          "color": "gray",
          "width": 1
         },
         "mode": "lines",
         "type": "scatter",
         "x": [
          -0.28217726945877075,
          -0.28903844952583313,
          null
         ],
         "y": [
          -0.04063086584210396,
          -0.07408200204372406,
          null
         ]
        },
        {
         "line": {
          "color": "gray",
          "width": 1
         },
         "mode": "lines",
         "type": "scatter",
         "x": [
          -0.28217726945877075,
          -0.28152936697006226,
          null
         ],
         "y": [
          -0.04063086584210396,
          -0.09328534454107285,
          null
         ]
        },
        {
         "line": {
          "color": "gray",
          "width": 1
         },
         "mode": "lines",
         "type": "scatter",
         "x": [
          -0.28217726945877075,
          -0.3036106824874878,
          null
         ],
         "y": [
          -0.04063086584210396,
          0.005901046097278595,
          null
         ]
        },
        {
         "line": {
          "color": "gray",
          "width": 1
         },
         "mode": "lines",
         "type": "scatter",
         "x": [
          -0.28217726945877075,
          -0.32872188091278076,
          null
         ],
         "y": [
          -0.04063086584210396,
          0.0011065047001466155,
          null
         ]
        },
        {
         "line": {
          "color": "gray",
          "width": 1
         },
         "mode": "lines",
         "type": "scatter",
         "x": [
          -0.28217726945877075,
          -0.3105568289756775,
          null
         ],
         "y": [
          -0.04063086584210396,
          -0.09932471066713333,
          null
         ]
        },
        {
         "line": {
          "color": "gray",
          "width": 1
         },
         "mode": "lines",
         "type": "scatter",
         "x": [
          -0.28217726945877075,
          -0.31970441341400146,
          null
         ],
         "y": [
          -0.04063086584210396,
          -0.06080674007534981,
          null
         ]
        },
        {
         "line": {
          "color": "gray",
          "width": 1
         },
         "mode": "lines",
         "type": "scatter",
         "x": [
          -0.28217726945877075,
          -0.3054794669151306,
          null
         ],
         "y": [
          -0.04063086584210396,
          -0.08072056621313095,
          null
         ]
        },
        {
         "line": {
          "color": "gray",
          "width": 1
         },
         "mode": "lines",
         "type": "scatter",
         "x": [
          -0.28217726945877075,
          -0.32086941599845886,
          null
         ],
         "y": [
          -0.04063086584210396,
          -0.00032913978793658316,
          null
         ]
        },
        {
         "line": {
          "color": "gray",
          "width": 1
         },
         "mode": "lines",
         "type": "scatter",
         "x": [
          -0.28217726945877075,
          -0.27372997999191284,
          null
         ],
         "y": [
          -0.04063086584210396,
          -0.011552096344530582,
          null
         ]
        },
        {
         "line": {
          "color": "gray",
          "width": 1
         },
         "mode": "lines",
         "type": "scatter",
         "x": [
          -0.28217726945877075,
          -0.31835198402404785,
          null
         ],
         "y": [
          -0.04063086584210396,
          -0.0161381084471941,
          null
         ]
        },
        {
         "line": {
          "color": "gray",
          "width": 1
         },
         "mode": "lines",
         "type": "scatter",
         "x": [
          -0.28217726945877075,
          -0.32357102632522583,
          null
         ],
         "y": [
          -0.04063086584210396,
          -0.0821182057261467,
          null
         ]
        },
        {
         "line": {
          "color": "gray",
          "width": 1
         },
         "mode": "lines",
         "type": "scatter",
         "x": [
          -0.28217726945877075,
          -0.2933167815208435,
          null
         ],
         "y": [
          -0.04063086584210396,
          -0.08280999958515167,
          null
         ]
        },
        {
         "line": {
          "color": "gray",
          "width": 1
         },
         "mode": "lines",
         "type": "scatter",
         "x": [
          -0.28217726945877075,
          -0.2736189365386963,
          null
         ],
         "y": [
          -0.04063086584210396,
          -0.020757921040058136,
          null
         ]
        },
        {
         "line": {
          "color": "gray",
          "width": 1
         },
         "mode": "lines",
         "type": "scatter",
         "x": [
          -0.28217726945877075,
          -0.32563379406929016,
          null
         ],
         "y": [
          -0.04063086584210396,
          -0.03644803166389465,
          null
         ]
        },
        {
         "line": {
          "color": "gray",
          "width": 1
         },
         "mode": "lines",
         "type": "scatter",
         "x": [
          -0.28217726945877075,
          -0.33127984404563904,
          null
         ],
         "y": [
          -0.04063086584210396,
          -0.07089598476886749,
          null
         ]
        },
        {
         "line": {
          "color": "gray",
          "width": 1
         },
         "mode": "lines",
         "type": "scatter",
         "x": [
          -0.28217726945877075,
          -0.30186864733695984,
          null
         ],
         "y": [
          -0.04063086584210396,
          -0.08621427416801453,
          null
         ]
        },
        {
         "line": {
          "color": "gray",
          "width": 1
         },
         "mode": "lines",
         "type": "scatter",
         "x": [
          -0.28217726945877075,
          -0.3252093493938446,
          null
         ],
         "y": [
          -0.04063086584210396,
          -0.02846112847328186,
          null
         ]
        },
        {
         "line": {
          "color": "gray",
          "width": 1
         },
         "mode": "lines",
         "type": "scatter",
         "x": [
          -0.28217726945877075,
          -0.34966662526130676,
          null
         ],
         "y": [
          -0.04063086584210396,
          -0.03331455588340759,
          null
         ]
        },
        {
         "line": {
          "color": "gray",
          "width": 1
         },
         "mode": "lines",
         "type": "scatter",
         "x": [
          -0.28217726945877075,
          -0.28112393617630005,
          null
         ],
         "y": [
          -0.04063086584210396,
          -0.0832500234246254,
          null
         ]
        },
        {
         "line": {
          "color": "gray",
          "width": 1
         },
         "mode": "lines",
         "type": "scatter",
         "x": [
          -0.28217726945877075,
          -0.27831873297691345,
          null
         ],
         "y": [
          -0.04063086584210396,
          0.003876894246786833,
          null
         ]
        },
        {
         "line": {
          "color": "gray",
          "width": 1
         },
         "mode": "lines",
         "type": "scatter",
         "x": [
          -0.28217726945877075,
          -0.2598232924938202,
          null
         ],
         "y": [
          -0.04063086584210396,
          -0.0714799165725708,
          null
         ]
        },
        {
         "line": {
          "color": "gray",
          "width": 1
         },
         "mode": "lines",
         "type": "scatter",
         "x": [
          -0.28217726945877075,
          -0.30476340651512146,
          null
         ],
         "y": [
          -0.04063086584210396,
          0.013962139375507832,
          null
         ]
        },
        {
         "line": {
          "color": "gray",
          "width": 1
         },
         "mode": "lines",
         "type": "scatter",
         "x": [
          -0.28217726945877075,
          -0.3439924418926239,
          null
         ],
         "y": [
          -0.04063086584210396,
          -0.05413403362035751,
          null
         ]
        },
        {
         "line": {
          "color": "gray",
          "width": 1
         },
         "mode": "lines",
         "type": "scatter",
         "x": [
          -0.28217726945877075,
          -0.338733971118927,
          null
         ],
         "y": [
          -0.04063086584210396,
          -0.007243478205054998,
          null
         ]
        },
        {
         "line": {
          "color": "gray",
          "width": 1
         },
         "mode": "lines",
         "type": "scatter",
         "x": [
          -0.28217726945877075,
          -0.2548461854457855,
          null
         ],
         "y": [
          -0.04063086584210396,
          -0.016541188582777977,
          null
         ]
        },
        {
         "line": {
          "color": "gray",
          "width": 1
         },
         "mode": "lines",
         "type": "scatter",
         "x": [
          -0.28217726945877075,
          -0.15663781762123108,
          null
         ],
         "y": [
          -0.04063086584210396,
          0.04499673470854759,
          null
         ]
        },
        {
         "line": {
          "color": "gray",
          "width": 1
         },
         "mode": "lines",
         "type": "scatter",
         "x": [
          -0.28217726945877075,
          -0.2574593722820282,
          null
         ],
         "y": [
          -0.04063086584210396,
          -0.03184160217642784,
          null
         ]
        },
        {
         "line": {
          "color": "gray",
          "width": 1
         },
         "mode": "lines",
         "type": "scatter",
         "x": [
          -0.28217726945877075,
          -0.16218341886997223,
          null
         ],
         "y": [
          -0.04063086584210396,
          0.0025604546535760164,
          null
         ]
        },
        {
         "line": {
          "color": "gray",
          "width": 1
         },
         "mode": "lines",
         "type": "scatter",
         "x": [
          -0.28217726945877075,
          -0.35048195719718933,
          null
         ],
         "y": [
          -0.04063086584210396,
          -0.051188234239816666,
          null
         ]
        },
        {
         "line": {
          "color": "gray",
          "width": 1
         },
         "mode": "lines",
         "type": "scatter",
         "x": [
          -0.28217726945877075,
          -0.2956152558326721,
          null
         ],
         "y": [
          -0.04063086584210396,
          -0.1022283136844635,
          null
         ]
        },
        {
         "line": {
          "color": "gray",
          "width": 1
         },
         "mode": "lines",
         "type": "scatter",
         "x": [
          -0.28217726945877075,
          -0.28710755705833435,
          null
         ],
         "y": [
          -0.04063086584210396,
          -0.09191721677780151,
          null
         ]
        },
        {
         "line": {
          "color": "gray",
          "width": 1
         },
         "mode": "lines",
         "type": "scatter",
         "x": [
          -0.28217726945877075,
          -0.2638738453388214,
          null
         ],
         "y": [
          -0.04063086584210396,
          -0.022980421781539917,
          null
         ]
        },
        {
         "line": {
          "color": "gray",
          "width": 1
         },
         "mode": "lines",
         "type": "scatter",
         "x": [
          -0.28217726945877075,
          -0.3475055992603302,
          null
         ],
         "y": [
          -0.04063086584210396,
          -0.06492312997579575,
          null
         ]
        },
        {
         "line": {
          "color": "gray",
          "width": 1
         },
         "mode": "lines",
         "type": "scatter",
         "x": [
          -0.28217726945877075,
          -0.2944255769252777,
          null
         ],
         "y": [
          -0.04063086584210396,
          -0.0660352110862732,
          null
         ]
        },
        {
         "line": {
          "color": "gray",
          "width": 1
         },
         "mode": "lines",
         "type": "scatter",
         "x": [
          -0.28217726945877075,
          -0.2951662540435791,
          null
         ],
         "y": [
          -0.04063086584210396,
          -0.09290949255228043,
          null
         ]
        },
        {
         "line": {
          "color": "gray",
          "width": 1
         },
         "mode": "lines",
         "type": "scatter",
         "x": [
          -0.28217726945877075,
          -0.11885945498943329,
          null
         ],
         "y": [
          -0.04063086584210396,
          -0.04541396349668503,
          null
         ]
        },
        {
         "line": {
          "color": "gray",
          "width": 1
         },
         "mode": "lines",
         "type": "scatter",
         "x": [
          -0.0022485435474663973,
          -0.13103821873664856,
          null
         ],
         "y": [
          0.12481658160686493,
          0.046686481684446335,
          null
         ]
        },
        {
         "line": {
          "color": "gray",
          "width": 1
         },
         "mode": "lines",
         "type": "scatter",
         "x": [
          -0.0022485435474663973,
          0.06568566709756851,
          null
         ],
         "y": [
          0.12481658160686493,
          0.2928071916103363,
          null
         ]
        },
        {
         "line": {
          "color": "gray",
          "width": 1
         },
         "mode": "lines",
         "type": "scatter",
         "x": [
          -0.0022485435474663973,
          0.017224593088030815,
          null
         ],
         "y": [
          0.12481658160686493,
          0.12176867574453354,
          null
         ]
        },
        {
         "line": {
          "color": "gray",
          "width": 1
         },
         "mode": "lines",
         "type": "scatter",
         "x": [
          -0.0022485435474663973,
          0.029658164829015732,
          null
         ],
         "y": [
          0.12481658160686493,
          0.13584478199481964,
          null
         ]
        },
        {
         "line": {
          "color": "gray",
          "width": 1
         },
         "mode": "lines",
         "type": "scatter",
         "x": [
          -0.0022485435474663973,
          0.01926928386092186,
          null
         ],
         "y": [
          0.12481658160686493,
          0.14474865794181824,
          null
         ]
        },
        {
         "line": {
          "color": "gray",
          "width": 1
         },
         "mode": "lines",
         "type": "scatter",
         "x": [
          -0.0022485435474663973,
          0.0017867687856778502,
          null
         ],
         "y": [
          0.12481658160686493,
          0.1432860642671585,
          null
         ]
        },
        {
         "line": {
          "color": "gray",
          "width": 1
         },
         "mode": "lines",
         "type": "scatter",
         "x": [
          -0.0022485435474663973,
          0.01174943894147873,
          null
         ],
         "y": [
          0.12481658160686493,
          -0.0103636858984828,
          null
         ]
        },
        {
         "line": {
          "color": "gray",
          "width": 1
         },
         "mode": "lines",
         "type": "scatter",
         "x": [
          -0.0022485435474663973,
          0.007261364720761776,
          null
         ],
         "y": [
          0.12481658160686493,
          0.1311604082584381,
          null
         ]
        },
        {
         "line": {
          "color": "gray",
          "width": 1
         },
         "mode": "lines",
         "type": "scatter",
         "x": [
          -0.0022485435474663973,
          0.022880369797348976,
          null
         ],
         "y": [
          0.12481658160686493,
          0.1140814945101738,
          null
         ]
        },
        {
         "line": {
          "color": "gray",
          "width": 1
         },
         "mode": "lines",
         "type": "scatter",
         "x": [
          -0.0022485435474663973,
          -0.016728511080145836,
          null
         ],
         "y": [
          0.12481658160686493,
          0.14716412127017975,
          null
         ]
        },
        {
         "line": {
          "color": "gray",
          "width": 1
         },
         "mode": "lines",
         "type": "scatter",
         "x": [
          -0.0022485435474663973,
          0.027772480621933937,
          null
         ],
         "y": [
          0.12481658160686493,
          0.12363187223672867,
          null
         ]
        },
        {
         "line": {
          "color": "gray",
          "width": 1
         },
         "mode": "lines",
         "type": "scatter",
         "x": [
          -0.0022485435474663973,
          0.012677036225795746,
          null
         ],
         "y": [
          0.12481658160686493,
          0.11312952637672424,
          null
         ]
        },
        {
         "line": {
          "color": "gray",
          "width": 1
         },
         "mode": "lines",
         "type": "scatter",
         "x": [
          -0.0022485435474663973,
          0.02155373990535736,
          null
         ],
         "y": [
          0.12481658160686493,
          0.13410282135009766,
          null
         ]
        },
        {
         "line": {
          "color": "gray",
          "width": 1
         },
         "mode": "lines",
         "type": "scatter",
         "x": [
          0.4949072003364563,
          0.5275237560272217,
          null
         ],
         "y": [
          0.006896860431879759,
          -0.004285397473722696,
          null
         ]
        },
        {
         "line": {
          "color": "gray",
          "width": 1
         },
         "mode": "lines",
         "type": "scatter",
         "x": [
          0.4949072003364563,
          0.5292227268218994,
          null
         ],
         "y": [
          0.006896860431879759,
          -0.01285087876021862,
          null
         ]
        },
        {
         "line": {
          "color": "gray",
          "width": 1
         },
         "mode": "lines",
         "type": "scatter",
         "x": [
          0.4949072003364563,
          0.5350033640861511,
          null
         ],
         "y": [
          0.006896860431879759,
          -0.005394953303039074,
          null
         ]
        },
        {
         "line": {
          "color": "gray",
          "width": 1
         },
         "mode": "lines",
         "type": "scatter",
         "x": [
          0.4949072003364563,
          0.5313130617141724,
          null
         ],
         "y": [
          0.006896860431879759,
          0.003000763477757573,
          null
         ]
        },
        {
         "line": {
          "color": "gray",
          "width": 1
         },
         "mode": "lines",
         "type": "scatter",
         "x": [
          0.4949072003364563,
          0.5359382033348083,
          null
         ],
         "y": [
          0.006896860431879759,
          0.0074468026868999004,
          null
         ]
        },
        {
         "line": {
          "color": "gray",
          "width": 1
         },
         "mode": "lines",
         "type": "scatter",
         "x": [
          0.4949072003364563,
          0.5224759578704834,
          null
         ],
         "y": [
          0.006896860431879759,
          -0.015538355335593224,
          null
         ]
        },
        {
         "line": {
          "color": "gray",
          "width": 1
         },
         "mode": "lines",
         "type": "scatter",
         "x": [
          0.4949072003364563,
          0.42238348722457886,
          null
         ],
         "y": [
          0.006896860431879759,
          0.05395423620939255,
          null
         ]
        },
        {
         "line": {
          "color": "gray",
          "width": 1
         },
         "mode": "lines",
         "type": "scatter",
         "x": [
          -0.44473034143447876,
          -0.3651951253414154,
          null
         ],
         "y": [
          -0.2386653870344162,
          -0.1440918892621994,
          null
         ]
        },
        {
         "line": {
          "color": "gray",
          "width": 1
         },
         "mode": "lines",
         "type": "scatter",
         "x": [
          -0.44473034143447876,
          -0.45723697543144226,
          null
         ],
         "y": [
          -0.2386653870344162,
          -0.274032324552536,
          null
         ]
        },
        {
         "line": {
          "color": "gray",
          "width": 1
         },
         "mode": "lines",
         "type": "scatter",
         "x": [
          -0.44473034143447876,
          -0.4762439727783203,
          null
         ],
         "y": [
          -0.2386653870344162,
          -0.2580891251564026,
          null
         ]
        },
        {
         "line": {
          "color": "gray",
          "width": 1
         },
         "mode": "lines",
         "type": "scatter",
         "x": [
          -0.44473034143447876,
          -0.4781256318092346,
          null
         ],
         "y": [
          -0.2386653870344162,
          -0.2668633759021759,
          null
         ]
        },
        {
         "line": {
          "color": "gray",
          "width": 1
         },
         "mode": "lines",
         "type": "scatter",
         "x": [
          -0.44473034143447876,
          -0.4749601483345032,
          null
         ],
         "y": [
          -0.2386653870344162,
          -0.2731115221977234,
          null
         ]
        },
        {
         "line": {
          "color": "gray",
          "width": 1
         },
         "mode": "lines",
         "type": "scatter",
         "x": [
          -0.44473034143447876,
          -0.46333014965057373,
          null
         ],
         "y": [
          -0.2386653870344162,
          -0.2775047719478607,
          null
         ]
        },
        {
         "line": {
          "color": "gray",
          "width": 1
         },
         "mode": "lines",
         "type": "scatter",
         "x": [
          -0.44473034143447876,
          -0.4833001494407654,
          null
         ],
         "y": [
          -0.2386653870344162,
          -0.2620837390422821,
          null
         ]
        },
        {
         "line": {
          "color": "gray",
          "width": 1
         },
         "mode": "lines",
         "type": "scatter",
         "x": [
          -0.44473034143447876,
          -0.4683922827243805,
          null
         ],
         "y": [
          -0.2386653870344162,
          -0.272657185792923,
          null
         ]
        },
        {
         "line": {
          "color": "gray",
          "width": 1
         },
         "mode": "lines",
         "type": "scatter",
         "x": [
          -0.44473034143447876,
          -0.48369094729423523,
          null
         ],
         "y": [
          -0.2386653870344162,
          -0.25388747453689575,
          null
         ]
        },
        {
         "line": {
          "color": "gray",
          "width": 1
         },
         "mode": "lines",
         "type": "scatter",
         "x": [
          -0.44473034143447876,
          -0.46853944659233093,
          null
         ],
         "y": [
          -0.2386653870344162,
          -0.26481401920318604,
          null
         ]
        },
        {
         "line": {
          "color": "gray",
          "width": 1
         },
         "mode": "lines",
         "type": "scatter",
         "x": [
          -0.050258684903383255,
          0.03402240574359894,
          null
         ],
         "y": [
          0.08176529407501221,
          0.2217462956905365,
          null
         ]
        },
        {
         "line": {
          "color": "gray",
          "width": 1
         },
         "mode": "lines",
         "type": "scatter",
         "x": [
          -0.050258684903383255,
          -0.03191172331571579,
          null
         ],
         "y": [
          0.08176529407501221,
          0.09417134523391724,
          null
         ]
        },
        {
         "line": {
          "color": "gray",
          "width": 1
         },
         "mode": "lines",
         "type": "scatter",
         "x": [
          -0.050258684903383255,
          -0.13103821873664856,
          null
         ],
         "y": [
          0.08176529407501221,
          0.046686481684446335,
          null
         ]
        },
        {
         "line": {
          "color": "gray",
          "width": 1
         },
         "mode": "lines",
         "type": "scatter",
         "x": [
          -0.050258684903383255,
          -0.0495479591190815,
          null
         ],
         "y": [
          0.08176529407501221,
          0.10676202923059464,
          null
         ]
        },
        {
         "line": {
          "color": "gray",
          "width": 1
         },
         "mode": "lines",
         "type": "scatter",
         "x": [
          -0.050258684903383255,
          -0.11885945498943329,
          null
         ],
         "y": [
          0.08176529407501221,
          -0.04541396349668503,
          null
         ]
        },
        {
         "line": {
          "color": "gray",
          "width": 1
         },
         "mode": "lines",
         "type": "scatter",
         "x": [
          -0.050258684903383255,
          -0.03854675218462944,
          null
         ],
         "y": [
          0.08176529407501221,
          0.10213929414749146,
          null
         ]
        },
        {
         "line": {
          "color": "gray",
          "width": 1
         },
         "mode": "lines",
         "type": "scatter",
         "x": [
          -0.050258684903383255,
          -0.16218341886997223,
          null
         ],
         "y": [
          0.08176529407501221,
          0.0025604546535760164,
          null
         ]
        },
        {
         "line": {
          "color": "gray",
          "width": 1
         },
         "mode": "lines",
         "type": "scatter",
         "x": [
          -0.050258684903383255,
          -0.03518645092844963,
          null
         ],
         "y": [
          0.08176529407501221,
          0.13966450095176697,
          null
         ]
        },
        {
         "line": {
          "color": "gray",
          "width": 1
         },
         "mode": "lines",
         "type": "scatter",
         "x": [
          -0.050258684903383255,
          0.0736612007021904,
          null
         ],
         "y": [
          0.08176529407501221,
          0.10628088563680649,
          null
         ]
        },
        {
         "line": {
          "color": "gray",
          "width": 1
         },
         "mode": "lines",
         "type": "scatter",
         "x": [
          0.42238348722457886,
          0.4576459527015686,
          null
         ],
         "y": [
          0.05395423620939255,
          0.03880397602915764,
          null
         ]
        },
        {
         "line": {
          "color": "gray",
          "width": 1
         },
         "mode": "lines",
         "type": "scatter",
         "x": [
          0.42238348722457886,
          0.33685731887817383,
          null
         ],
         "y": [
          0.05395423620939255,
          0.11462581157684326,
          null
         ]
        },
        {
         "line": {
          "color": "gray",
          "width": 1
         },
         "mode": "lines",
         "type": "scatter",
         "x": [
          0.42238348722457886,
          0.4633205235004425,
          null
         ],
         "y": [
          0.05395423620939255,
          0.053335558623075485,
          null
         ]
        },
        {
         "line": {
          "color": "gray",
          "width": 1
         },
         "mode": "lines",
         "type": "scatter",
         "x": [
          0.42238348722457886,
          0.4615107774734497,
          null
         ],
         "y": [
          0.05395423620939255,
          0.045743927359580994,
          null
         ]
        },
        {
         "line": {
          "color": "gray",
          "width": 1
         },
         "mode": "lines",
         "type": "scatter",
         "x": [
          0.15192003548145294,
          0.17767266929149628,
          null
         ],
         "y": [
          -0.17904603481292725,
          -0.2065621316432953,
          null
         ]
        },
        {
         "line": {
          "color": "gray",
          "width": 1
         },
         "mode": "lines",
         "type": "scatter",
         "x": [
          0.15192003548145294,
          0.18264266848564148,
          null
         ],
         "y": [
          -0.17904603481292725,
          -0.14583934843540192,
          null
         ]
        },
        {
         "line": {
          "color": "gray",
          "width": 1
         },
         "mode": "lines",
         "type": "scatter",
         "x": [
          0.15192003548145294,
          0.18335479497909546,
          null
         ],
         "y": [
          -0.17904603481292725,
          -0.20956429839134216,
          null
         ]
        },
        {
         "line": {
          "color": "gray",
          "width": 1
         },
         "mode": "lines",
         "type": "scatter",
         "x": [
          0.15192003548145294,
          0.18446791172027588,
          null
         ],
         "y": [
          -0.17904603481292725,
          -0.21624627709388733,
          null
         ]
        },
        {
         "line": {
          "color": "gray",
          "width": 1
         },
         "mode": "lines",
         "type": "scatter",
         "x": [
          0.15192003548145294,
          0.17831116914749146,
          null
         ],
         "y": [
          -0.17904603481292725,
          -0.22047299146652222,
          null
         ]
        },
        {
         "line": {
          "color": "gray",
          "width": 1
         },
         "mode": "lines",
         "type": "scatter",
         "x": [
          0.15192003548145294,
          0.18988873064517975,
          null
         ],
         "y": [
          -0.17904603481292725,
          -0.2087537795305252,
          null
         ]
        },
        {
         "line": {
          "color": "gray",
          "width": 1
         },
         "mode": "lines",
         "type": "scatter",
         "x": [
          0.15192003548145294,
          0.18802399933338165,
          null
         ],
         "y": [
          -0.17904603481292725,
          -0.20174120366573334,
          null
         ]
        },
        {
         "line": {
          "color": "gray",
          "width": 1
         },
         "mode": "lines",
         "type": "scatter",
         "x": [
          0.15192003548145294,
          0.1669522225856781,
          null
         ],
         "y": [
          -0.17904603481292725,
          -0.21781285107135773,
          null
         ]
        },
        {
         "line": {
          "color": "gray",
          "width": 1
         },
         "mode": "lines",
         "type": "scatter",
         "x": [
          0.15192003548145294,
          0.17427583038806915,
          null
         ],
         "y": [
          -0.17904603481292725,
          -0.21431247889995575,
          null
         ]
        },
        {
         "line": {
          "color": "gray",
          "width": 1
         },
         "mode": "lines",
         "type": "scatter",
         "x": [
          0.15192003548145294,
          0.05369282513856888,
          null
         ],
         "y": [
          -0.17904603481292725,
          -0.08760048449039459,
          null
         ]
        },
        {
         "line": {
          "color": "gray",
          "width": 1
         },
         "mode": "lines",
         "type": "scatter",
         "x": [
          0.15192003548145294,
          0.17088723182678223,
          null
         ],
         "y": [
          -0.17904603481292725,
          -0.22309932112693787,
          null
         ]
        },
        {
         "line": {
          "color": "gray",
          "width": 1
         },
         "mode": "lines",
         "type": "scatter",
         "x": [
          -0.5845292210578918,
          -0.5574153661727905,
          null
         ],
         "y": [
          0.41380560398101807,
          0.39168480038642883,
          null
         ]
        },
        {
         "line": {
          "color": "gray",
          "width": 1
         },
         "mode": "lines",
         "type": "scatter",
         "x": [
          -0.5845292210578918,
          -0.5653068423271179,
          null
         ],
         "y": [
          0.41380560398101807,
          0.4225734770298004,
          null
         ]
        },
        {
         "line": {
          "color": "gray",
          "width": 1
         },
         "mode": "lines",
         "type": "scatter",
         "x": [
          -0.5845292210578918,
          -0.620468020439148,
          null
         ],
         "y": [
          0.41380560398101807,
          0.4280953109264374,
          null
         ]
        },
        {
         "line": {
          "color": "gray",
          "width": 1
         },
         "mode": "lines",
         "type": "scatter",
         "x": [
          -0.5845292210578918,
          -0.5941784977912903,
          null
         ],
         "y": [
          0.41380560398101807,
          0.44637030363082886,
          null
         ]
        },
        {
         "line": {
          "color": "gray",
          "width": 1
         },
         "mode": "lines",
         "type": "scatter",
         "x": [
          -0.5845292210578918,
          -0.5749858021736145,
          null
         ],
         "y": [
          0.41380560398101807,
          0.40653368830680847,
          null
         ]
        },
        {
         "line": {
          "color": "gray",
          "width": 1
         },
         "mode": "lines",
         "type": "scatter",
         "x": [
          -0.5845292210578918,
          -0.5630668997764587,
          null
         ],
         "y": [
          0.41380560398101807,
          0.4063887596130371,
          null
         ]
        },
        {
         "line": {
          "color": "gray",
          "width": 1
         },
         "mode": "lines",
         "type": "scatter",
         "x": [
          -0.5845292210578918,
          -0.6204292178153992,
          null
         ],
         "y": [
          0.41380560398101807,
          0.42057663202285767,
          null
         ]
        },
        {
         "line": {
          "color": "gray",
          "width": 1
         },
         "mode": "lines",
         "type": "scatter",
         "x": [
          -0.5845292210578918,
          -0.6059858202934265,
          null
         ],
         "y": [
          0.41380560398101807,
          0.4234541356563568,
          null
         ]
        },
        {
         "line": {
          "color": "gray",
          "width": 1
         },
         "mode": "lines",
         "type": "scatter",
         "x": [
          -0.5845292210578918,
          -0.6112341284751892,
          null
         ],
         "y": [
          0.41380560398101807,
          0.4115969240665436,
          null
         ]
        },
        {
         "line": {
          "color": "gray",
          "width": 1
         },
         "mode": "lines",
         "type": "scatter",
         "x": [
          -0.5845292210578918,
          -0.6126229166984558,
          null
         ],
         "y": [
          0.41380560398101807,
          0.4317161440849304,
          null
         ]
        },
        {
         "line": {
          "color": "gray",
          "width": 1
         },
         "mode": "lines",
         "type": "scatter",
         "x": [
          -0.5845292210578918,
          -0.6186889410018921,
          null
         ],
         "y": [
          0.41380560398101807,
          0.4368101954460144,
          null
         ]
        },
        {
         "line": {
          "color": "gray",
          "width": 1
         },
         "mode": "lines",
         "type": "scatter",
         "x": [
          -0.5845292210578918,
          -0.606051504611969,
          null
         ],
         "y": [
          0.41380560398101807,
          0.4425753057003021,
          null
         ]
        },
        {
         "line": {
          "color": "gray",
          "width": 1
         },
         "mode": "lines",
         "type": "scatter",
         "x": [
          -0.5845292210578918,
          -0.6012144684791565,
          null
         ],
         "y": [
          0.41380560398101807,
          0.4481145143508911,
          null
         ]
        },
        {
         "line": {
          "color": "gray",
          "width": 1
         },
         "mode": "lines",
         "type": "scatter",
         "x": [
          -0.5845292210578918,
          -0.5932456851005554,
          null
         ],
         "y": [
          0.41380560398101807,
          0.4006502032279968,
          null
         ]
        },
        {
         "line": {
          "color": "gray",
          "width": 1
         },
         "mode": "lines",
         "type": "scatter",
         "x": [
          -0.5845292210578918,
          -0.6036339998245239,
          null
         ],
         "y": [
          0.41380560398101807,
          0.4361489713191986,
          null
         ]
        },
        {
         "line": {
          "color": "gray",
          "width": 1
         },
         "mode": "lines",
         "type": "scatter",
         "x": [
          -0.5845292210578918,
          -0.6008427739143372,
          null
         ],
         "y": [
          0.41380560398101807,
          0.39689064025878906,
          null
         ]
        },
        {
         "line": {
          "color": "gray",
          "width": 1
         },
         "mode": "lines",
         "type": "scatter",
         "x": [
          -0.5845292210578918,
          -0.6139715313911438,
          null
         ],
         "y": [
          0.41380560398101807,
          0.44418635964393616,
          null
         ]
        },
        {
         "line": {
          "color": "gray",
          "width": 1
         },
         "mode": "lines",
         "type": "scatter",
         "x": [
          -0.5845292210578918,
          -0.5845170617103577,
          null
         ],
         "y": [
          0.41380560398101807,
          0.4377819001674652,
          null
         ]
        },
        {
         "line": {
          "color": "gray",
          "width": 1
         },
         "mode": "lines",
         "type": "scatter",
         "x": [
          0.19738245010375977,
          0.23106130957603455,
          null
         ],
         "y": [
          0.06281223893165588,
          0.05208803713321686,
          null
         ]
        },
        {
         "line": {
          "color": "gray",
          "width": 1
         },
         "mode": "lines",
         "type": "scatter",
         "x": [
          0.19738245010375977,
          0.17441733181476593,
          null
         ],
         "y": [
          0.06281223893165588,
          0.14870129525661469,
          null
         ]
        },
        {
         "line": {
          "color": "gray",
          "width": 1
         },
         "mode": "lines",
         "type": "scatter",
         "x": [
          0.19738245010375977,
          0.17527525126934052,
          null
         ],
         "y": [
          0.06281223893165588,
          -0.010032701306045055,
          null
         ]
        },
        {
         "line": {
          "color": "gray",
          "width": 1
         },
         "mode": "lines",
         "type": "scatter",
         "x": [
          0.19738245010375977,
          0.2264845073223114,
          null
         ],
         "y": [
          0.06281223893165588,
          0.046586401760578156,
          null
         ]
        },
        {
         "line": {
          "color": "gray",
          "width": 1
         },
         "mode": "lines",
         "type": "scatter",
         "x": [
          0.19738245010375977,
          0.22966857254505157,
          null
         ],
         "y": [
          0.06281223893165588,
          0.06063167005777359,
          null
         ]
        },
        {
         "line": {
          "color": "gray",
          "width": 1
         },
         "mode": "lines",
         "type": "scatter",
         "x": [
          0.07698912918567657,
          0.09077118337154388,
          null
         ],
         "y": [
          0.4362965226173401,
          0.4806080162525177,
          null
         ]
        },
        {
         "line": {
          "color": "gray",
          "width": 1
         },
         "mode": "lines",
         "type": "scatter",
         "x": [
          0.07698912918567657,
          0.08544308692216873,
          null
         ],
         "y": [
          0.4362965226173401,
          0.4705235958099365,
          null
         ]
        },
        {
         "line": {
          "color": "gray",
          "width": 1
         },
         "mode": "lines",
         "type": "scatter",
         "x": [
          0.07698912918567657,
          0.07599759846925735,
          null
         ],
         "y": [
          0.4362965226173401,
          0.47131577134132385,
          null
         ]
        },
        {
         "line": {
          "color": "gray",
          "width": 1
         },
         "mode": "lines",
         "type": "scatter",
         "x": [
          0.07698912918567657,
          0.07197058945894241,
          null
         ],
         "y": [
          0.4362965226173401,
          0.4781377613544464,
          null
         ]
        },
        {
         "line": {
          "color": "gray",
          "width": 1
         },
         "mode": "lines",
         "type": "scatter",
         "x": [
          0.07698912918567657,
          0.09937156736850739,
          null
         ],
         "y": [
          0.4362965226173401,
          0.46980318427085876,
          null
         ]
        },
        {
         "line": {
          "color": "gray",
          "width": 1
         },
         "mode": "lines",
         "type": "scatter",
         "x": [
          0.07698912918567657,
          0.05981770530343056,
          null
         ],
         "y": [
          0.4362965226173401,
          0.4739588797092438,
          null
         ]
        },
        {
         "line": {
          "color": "gray",
          "width": 1
         },
         "mode": "lines",
         "type": "scatter",
         "x": [
          0.07698912918567657,
          0.08130180090665817,
          null
         ],
         "y": [
          0.4362965226173401,
          0.47725340723991394,
          null
         ]
        },
        {
         "line": {
          "color": "gray",
          "width": 1
         },
         "mode": "lines",
         "type": "scatter",
         "x": [
          0.07698912918567657,
          0.0653262808918953,
          null
         ],
         "y": [
          0.4362965226173401,
          0.4808988571166992,
          null
         ]
        },
        {
         "line": {
          "color": "gray",
          "width": 1
         },
         "mode": "lines",
         "type": "scatter",
         "x": [
          0.07698912918567657,
          0.06690685451030731,
          null
         ],
         "y": [
          0.4362965226173401,
          0.472342312335968,
          null
         ]
        },
        {
         "line": {
          "color": "gray",
          "width": 1
         },
         "mode": "lines",
         "type": "scatter",
         "x": [
          0.07698912918567657,
          0.07568128407001495,
          null
         ],
         "y": [
          0.4362965226173401,
          0.48392945528030396,
          null
         ]
        },
        {
         "line": {
          "color": "gray",
          "width": 1
         },
         "mode": "lines",
         "type": "scatter",
         "x": [
          0.07698912918567657,
          0.09195724874734879,
          null
         ],
         "y": [
          0.4362965226173401,
          0.4730423390865326,
          null
         ]
        },
        {
         "line": {
          "color": "gray",
          "width": 1
         },
         "mode": "lines",
         "type": "scatter",
         "x": [
          0.07698912918567657,
          0.08404888212680817,
          null
         ],
         "y": [
          0.4362965226173401,
          0.48322999477386475,
          null
         ]
        },
        {
         "line": {
          "color": "gray",
          "width": 1
         },
         "mode": "lines",
         "type": "scatter",
         "x": [
          0.07698912918567657,
          0.06568566709756851,
          null
         ],
         "y": [
          0.4362965226173401,
          0.2928071916103363,
          null
         ]
        },
        {
         "line": {
          "color": "gray",
          "width": 1
         },
         "mode": "lines",
         "type": "scatter",
         "x": [
          0.07698912918567657,
          0.09801223874092102,
          null
         ],
         "y": [
          0.4362965226173401,
          0.4769679009914398,
          null
         ]
        },
        {
         "line": {
          "color": "gray",
          "width": 1
         },
         "mode": "lines",
         "type": "scatter",
         "x": [
          0.4350789487361908,
          0.4190392792224884,
          null
         ],
         "y": [
          -0.7341390252113342,
          -0.7061954140663147,
          null
         ]
        },
        {
         "line": {
          "color": "gray",
          "width": 1
         },
         "mode": "lines",
         "type": "scatter",
         "x": [
          -0.06036751717329025,
          -0.05474505200982094,
          null
         ],
         "y": [
          -0.7545901536941528,
          -0.789429247379303,
          null
         ]
        },
        {
         "line": {
          "color": "gray",
          "width": 1
         },
         "mode": "lines",
         "type": "scatter",
         "x": [
          -0.06036751717329025,
          -0.06958292424678802,
          null
         ],
         "y": [
          -0.7545901536941528,
          -0.7991844415664673,
          null
         ]
        },
        {
         "line": {
          "color": "gray",
          "width": 1
         },
         "mode": "lines",
         "type": "scatter",
         "x": [
          -0.06036751717329025,
          -0.05378534272313118,
          null
         ],
         "y": [
          -0.7545901536941528,
          -0.6962040066719055,
          null
         ]
        },
        {
         "line": {
          "color": "gray",
          "width": 1
         },
         "mode": "lines",
         "type": "scatter",
         "x": [
          -0.06036751717329025,
          -0.06744150072336197,
          null
         ],
         "y": [
          -0.7545901536941528,
          -0.7862411737442017,
          null
         ]
        },
        {
         "line": {
          "color": "gray",
          "width": 1
         },
         "mode": "lines",
         "type": "scatter",
         "x": [
          -0.06036751717329025,
          -0.08249358832836151,
          null
         ],
         "y": [
          -0.7545901536941528,
          -0.7734962701797485,
          null
         ]
        },
        {
         "line": {
          "color": "gray",
          "width": 1
         },
         "mode": "lines",
         "type": "scatter",
         "x": [
          -0.06036751717329025,
          -0.08937209099531174,
          null
         ],
         "y": [
          -0.7545901536941528,
          -0.7786179780960083,
          null
         ]
        },
        {
         "line": {
          "color": "gray",
          "width": 1
         },
         "mode": "lines",
         "type": "scatter",
         "x": [
          -0.06036751717329025,
          -0.0828583762049675,
          null
         ],
         "y": [
          -0.7545901536941528,
          -0.7523400783538818,
          null
         ]
        },
        {
         "line": {
          "color": "gray",
          "width": 1
         },
         "mode": "lines",
         "type": "scatter",
         "x": [
          -0.06036751717329025,
          -0.03603329882025719,
          null
         ],
         "y": [
          -0.7545901536941528,
          -0.7722859382629395,
          null
         ]
        },
        {
         "line": {
          "color": "gray",
          "width": 1
         },
         "mode": "lines",
         "type": "scatter",
         "x": [
          -0.06036751717329025,
          -0.056498561054468155,
          null
         ],
         "y": [
          -0.7545901536941528,
          -0.7967864274978638,
          null
         ]
        },
        {
         "line": {
          "color": "gray",
          "width": 1
         },
         "mode": "lines",
         "type": "scatter",
         "x": [
          -0.06036751717329025,
          -0.042773205786943436,
          null
         ],
         "y": [
          -0.7545901536941528,
          -0.7670606970787048,
          null
         ]
        },
        {
         "line": {
          "color": "gray",
          "width": 1
         },
         "mode": "lines",
         "type": "scatter",
         "x": [
          -0.06036751717329025,
          -0.05546288564801216,
          null
         ],
         "y": [
          -0.7545901536941528,
          -0.7223424315452576,
          null
         ]
        },
        {
         "line": {
          "color": "gray",
          "width": 1
         },
         "mode": "lines",
         "type": "scatter",
         "x": [
          -0.06036751717329025,
          -0.035089630633592606,
          null
         ],
         "y": [
          -0.7545901536941528,
          -0.7790206074714661,
          null
         ]
        },
        {
         "line": {
          "color": "gray",
          "width": 1
         },
         "mode": "lines",
         "type": "scatter",
         "x": [
          -0.06036751717329025,
          -0.05062125250697136,
          null
         ],
         "y": [
          -0.7545901536941528,
          -0.7818922400474548,
          null
         ]
        },
        {
         "line": {
          "color": "gray",
          "width": 1
         },
         "mode": "lines",
         "type": "scatter",
         "x": [
          -0.06036751717329025,
          -0.060763876885175705,
          null
         ],
         "y": [
          -0.7545901536941528,
          -0.7825113534927368,
          null
         ]
        },
        {
         "line": {
          "color": "gray",
          "width": 1
         },
         "mode": "lines",
         "type": "scatter",
         "x": [
          -0.06036751717329025,
          -0.07660271972417831,
          null
         ],
         "y": [
          -0.7545901536941528,
          -0.7595514059066772,
          null
         ]
        },
        {
         "line": {
          "color": "gray",
          "width": 1
         },
         "mode": "lines",
         "type": "scatter",
         "x": [
          -0.06036751717329025,
          -0.04290176182985306,
          null
         ],
         "y": [
          -0.7545901536941528,
          -0.7812946438789368,
          null
         ]
        },
        {
         "line": {
          "color": "gray",
          "width": 1
         },
         "mode": "lines",
         "type": "scatter",
         "x": [
          -0.06036751717329025,
          -0.07736875116825104,
          null
         ],
         "y": [
          -0.7545901536941528,
          -0.7801998257637024,
          null
         ]
        },
        {
         "line": {
          "color": "gray",
          "width": 1
         },
         "mode": "lines",
         "type": "scatter",
         "x": [
          -0.06036751717329025,
          -0.08831766992807388,
          null
         ],
         "y": [
          -0.7545901536941528,
          -0.7665337324142456,
          null
         ]
        },
        {
         "line": {
          "color": "gray",
          "width": 1
         },
         "mode": "lines",
         "type": "scatter",
         "x": [
          -0.06036751717329025,
          -0.04782209172844887,
          null
         ],
         "y": [
          -0.7545901536941528,
          -0.793666422367096,
          null
         ]
        },
        {
         "line": {
          "color": "gray",
          "width": 1
         },
         "mode": "lines",
         "type": "scatter",
         "x": [
          -0.06036751717329025,
          -0.06382250785827637,
          null
         ],
         "y": [
          -0.7545901536941528,
          -0.7939170598983765,
          null
         ]
        },
        {
         "line": {
          "color": "gray",
          "width": 1
         },
         "mode": "lines",
         "type": "scatter",
         "x": [
          -0.06036751717329025,
          -0.07381436973810196,
          null
         ],
         "y": [
          -0.7545901536941528,
          -0.788762629032135,
          null
         ]
        },
        {
         "line": {
          "color": "gray",
          "width": 1
         },
         "mode": "lines",
         "type": "scatter",
         "x": [
          -0.06036751717329025,
          -0.05443553626537323,
          null
         ],
         "y": [
          -0.7545901536941528,
          -0.7060590982437134,
          null
         ]
        },
        {
         "line": {
          "color": "gray",
          "width": 1
         },
         "mode": "lines",
         "type": "scatter",
         "x": [
          -0.06036751717329025,
          -0.079684779047966,
          null
         ],
         "y": [
          -0.7545901536941528,
          -0.791814386844635,
          null
         ]
        },
        {
         "line": {
          "color": "gray",
          "width": 1
         },
         "mode": "lines",
         "type": "scatter",
         "x": [
          -0.06036751717329025,
          -0.06941161304712296,
          null
         ],
         "y": [
          -0.7545901536941528,
          -0.7747474908828735,
          null
         ]
        },
        {
         "line": {
          "color": "gray",
          "width": 1
         },
         "mode": "lines",
         "type": "scatter",
         "x": [
          -0.06036751717329025,
          -0.08480861037969589,
          null
         ],
         "y": [
          -0.7545901536941528,
          -0.7853868007659912,
          null
         ]
        },
        {
         "line": {
          "color": "gray",
          "width": 1
         },
         "mode": "lines",
         "type": "scatter",
         "x": [
          -0.06036751717329025,
          -0.04103400558233261,
          null
         ],
         "y": [
          -0.7545901536941528,
          -0.7888583540916443,
          null
         ]
        },
        {
         "line": {
          "color": "gray",
          "width": 1
         },
         "mode": "lines",
         "type": "scatter",
         "x": [
          -0.06036751717329025,
          -0.05433562025427818,
          null
         ],
         "y": [
          -0.7545901536941528,
          -0.7733413577079773,
          null
         ]
        },
        {
         "line": {
          "color": "gray",
          "width": 1
         },
         "mode": "lines",
         "type": "scatter",
         "x": [
          0.3997994661331177,
          0.4190392792224884,
          null
         ],
         "y": [
          -0.6727089881896973,
          -0.7061954140663147,
          null
         ]
        },
        {
         "line": {
          "color": "gray",
          "width": 1
         },
         "mode": "lines",
         "type": "scatter",
         "x": [
          -0.011034268885850906,
          -0.03518645092844963,
          null
         ],
         "y": [
          0.18693596124649048,
          0.13966450095176697,
          null
         ]
        },
        {
         "line": {
          "color": "gray",
          "width": 1
         },
         "mode": "lines",
         "type": "scatter",
         "x": [
          -0.011034268885850906,
          -0.0077581750229001045,
          null
         ],
         "y": [
          0.18693596124649048,
          0.23961739242076874,
          null
         ]
        },
        {
         "line": {
          "color": "gray",
          "width": 1
         },
         "mode": "lines",
         "type": "scatter",
         "x": [
          -0.011034268885850906,
          -0.1164708361029625,
          null
         ],
         "y": [
          0.18693596124649048,
          0.18153086304664612,
          null
         ]
        },
        {
         "line": {
          "color": "gray",
          "width": 1
         },
         "mode": "lines",
         "type": "scatter",
         "x": [
          -0.011034268885850906,
          0.004488741979002953,
          null
         ],
         "y": [
          0.18693596124649048,
          0.22768911719322205,
          null
         ]
        },
        {
         "line": {
          "color": "gray",
          "width": 1
         },
         "mode": "lines",
         "type": "scatter",
         "x": [
          -0.011034268885850906,
          -0.019000204280018806,
          null
         ],
         "y": [
          0.18693596124649048,
          0.2326587587594986,
          null
         ]
        },
        {
         "line": {
          "color": "gray",
          "width": 1
         },
         "mode": "lines",
         "type": "scatter",
         "x": [
          -0.011034268885850906,
          -0.012712191790342331,
          null
         ],
         "y": [
          0.18693596124649048,
          0.23528023064136505,
          null
         ]
        },
        {
         "line": {
          "color": "gray",
          "width": 1
         },
         "mode": "lines",
         "type": "scatter",
         "x": [
          -0.011034268885850906,
          -0.0019277090905234218,
          null
         ],
         "y": [
          0.18693596124649048,
          0.23647858202457428,
          null
         ]
        },
        {
         "line": {
          "color": "gray",
          "width": 1
         },
         "mode": "lines",
         "type": "scatter",
         "x": [
          -0.011034268885850906,
          -0.017756029963493347,
          null
         ],
         "y": [
          0.18693596124649048,
          0.24069134891033173,
          null
         ]
        },
        {
         "line": {
          "color": "gray",
          "width": 1
         },
         "mode": "lines",
         "type": "scatter",
         "x": [
          -0.011034268885850906,
          -0.0007181412656791508,
          null
         ],
         "y": [
          0.18693596124649048,
          0.23063677549362183,
          null
         ]
        },
        {
         "line": {
          "color": "gray",
          "width": 1
         },
         "mode": "lines",
         "type": "scatter",
         "x": [
          -0.011034268885850906,
          -0.008914700709283352,
          null
         ],
         "y": [
          0.18693596124649048,
          0.228603795170784,
          null
         ]
        },
        {
         "line": {
          "color": "gray",
          "width": 1
         },
         "mode": "lines",
         "type": "scatter",
         "x": [
          -0.011034268885850906,
          -0.0044501968659460545,
          null
         ],
         "y": [
          0.18693596124649048,
          0.15883873403072357,
          null
         ]
        },
        {
         "line": {
          "color": "gray",
          "width": 1
         },
         "mode": "lines",
         "type": "scatter",
         "x": [
          -0.011034268885850906,
          0.0736612007021904,
          null
         ],
         "y": [
          0.18693596124649048,
          0.10628088563680649,
          null
         ]
        },
        {
         "line": {
          "color": "gray",
          "width": 1
         },
         "mode": "lines",
         "type": "scatter",
         "x": [
          -0.011034268885850906,
          0.005401523783802986,
          null
         ],
         "y": [
          0.18693596124649048,
          0.1054234579205513,
          null
         ]
        },
        {
         "line": {
          "color": "gray",
          "width": 1
         },
         "mode": "lines",
         "type": "scatter",
         "x": [
          0.0059173875488340855,
          0.04734766483306885,
          null
         ],
         "y": [
          -0.1461554765701294,
          -0.18916325271129608,
          null
         ]
        },
        {
         "line": {
          "color": "gray",
          "width": 1
         },
         "mode": "lines",
         "type": "scatter",
         "x": [
          0.0059173875488340855,
          0.03697561100125313,
          null
         ],
         "y": [
          -0.1461554765701294,
          -0.17229381203651428,
          null
         ]
        },
        {
         "line": {
          "color": "gray",
          "width": 1
         },
         "mode": "lines",
         "type": "scatter",
         "x": [
          0.0059173875488340855,
          0.04298397898674011,
          null
         ],
         "y": [
          -0.1461554765701294,
          -0.19390885531902313,
          null
         ]
        },
        {
         "line": {
          "color": "gray",
          "width": 1
         },
         "mode": "lines",
         "type": "scatter",
         "x": [
          0.0059173875488340855,
          0.030950097367167473,
          null
         ],
         "y": [
          -0.1461554765701294,
          -0.17563149333000183,
          null
         ]
        },
        {
         "line": {
          "color": "gray",
          "width": 1
         },
         "mode": "lines",
         "type": "scatter",
         "x": [
          0.0059173875488340855,
          0.056007254868745804,
          null
         ],
         "y": [
          -0.1461554765701294,
          -0.1697731614112854,
          null
         ]
        },
        {
         "line": {
          "color": "gray",
          "width": 1
         },
         "mode": "lines",
         "type": "scatter",
         "x": [
          0.0059173875488340855,
          0.05491797626018524,
          null
         ],
         "y": [
          -0.1461554765701294,
          -0.16243526339530945,
          null
         ]
        },
        {
         "line": {
          "color": "gray",
          "width": 1
         },
         "mode": "lines",
         "type": "scatter",
         "x": [
          0.0059173875488340855,
          0.03437409922480583,
          null
         ],
         "y": [
          -0.1461554765701294,
          -0.19955265522003174,
          null
         ]
        },
        {
         "line": {
          "color": "gray",
          "width": 1
         },
         "mode": "lines",
         "type": "scatter",
         "x": [
          0.0059173875488340855,
          0.010814622975885868,
          null
         ],
         "y": [
          -0.1461554765701294,
          -0.01989746280014515,
          null
         ]
        },
        {
         "line": {
          "color": "gray",
          "width": 1
         },
         "mode": "lines",
         "type": "scatter",
         "x": [
          0.0059173875488340855,
          0.047179386019706726,
          null
         ],
         "y": [
          -0.1461554765701294,
          -0.16355356574058533,
          null
         ]
        },
        {
         "line": {
          "color": "gray",
          "width": 1
         },
         "mode": "lines",
         "type": "scatter",
         "x": [
          0.0059173875488340855,
          0.0443202406167984,
          null
         ],
         "y": [
          -0.1461554765701294,
          -0.1382344514131546,
          null
         ]
        },
        {
         "line": {
          "color": "gray",
          "width": 1
         },
         "mode": "lines",
         "type": "scatter",
         "x": [
          0.0059173875488340855,
          -0.021924905478954315,
          null
         ],
         "y": [
          -0.1461554765701294,
          -0.07243920117616653,
          null
         ]
        },
        {
         "line": {
          "color": "gray",
          "width": 1
         },
         "mode": "lines",
         "type": "scatter",
         "x": [
          0.0059173875488340855,
          0.03321271762251854,
          null
         ],
         "y": [
          -0.1461554765701294,
          -0.1916753053665161,
          null
         ]
        },
        {
         "line": {
          "color": "gray",
          "width": 1
         },
         "mode": "lines",
         "type": "scatter",
         "x": [
          0.0059173875488340855,
          0.011356249451637268,
          null
         ],
         "y": [
          -0.1461554765701294,
          -0.19876481592655182,
          null
         ]
        },
        {
         "line": {
          "color": "gray",
          "width": 1
         },
         "mode": "lines",
         "type": "scatter",
         "x": [
          0.0059173875488340855,
          -0.13747812807559967,
          null
         ],
         "y": [
          -0.1461554765701294,
          -0.0953461080789566,
          null
         ]
        },
        {
         "line": {
          "color": "gray",
          "width": 1
         },
         "mode": "lines",
         "type": "scatter",
         "x": [
          0.0059173875488340855,
          0.03491510823369026,
          null
         ],
         "y": [
          -0.1461554765701294,
          -0.13590505719184875,
          null
         ]
        },
        {
         "line": {
          "color": "gray",
          "width": 1
         },
         "mode": "lines",
         "type": "scatter",
         "x": [
          0.0059173875488340855,
          0.016533251851797104,
          null
         ],
         "y": [
          -0.1461554765701294,
          -0.20178794860839844,
          null
         ]
        },
        {
         "line": {
          "color": "gray",
          "width": 1
         },
         "mode": "lines",
         "type": "scatter",
         "x": [
          0.0059173875488340855,
          0.02228185161948204,
          null
         ],
         "y": [
          -0.1461554765701294,
          -0.20246894657611847,
          null
         ]
        },
        {
         "line": {
          "color": "gray",
          "width": 1
         },
         "mode": "lines",
         "type": "scatter",
         "x": [
          0.0059173875488340855,
          0.023874906823039055,
          null
         ],
         "y": [
          -0.1461554765701294,
          -0.17732639610767365,
          null
         ]
        },
        {
         "line": {
          "color": "gray",
          "width": 1
         },
         "mode": "lines",
         "type": "scatter",
         "x": [
          0.0059173875488340855,
          0.0494445376098156,
          null
         ],
         "y": [
          -0.1461554765701294,
          -0.1829165518283844,
          null
         ]
        },
        {
         "line": {
          "color": "gray",
          "width": 1
         },
         "mode": "lines",
         "type": "scatter",
         "x": [
          0.0059173875488340855,
          0.026335259899497032,
          null
         ],
         "y": [
          -0.1461554765701294,
          -0.19031545519828796,
          null
         ]
        },
        {
         "line": {
          "color": "gray",
          "width": 1
         },
         "mode": "lines",
         "type": "scatter",
         "x": [
          0.0059173875488340855,
          0.032043859362602234,
          null
         ],
         "y": [
          -0.1461554765701294,
          -0.16455799341201782,
          null
         ]
        },
        {
         "line": {
          "color": "gray",
          "width": 1
         },
         "mode": "lines",
         "type": "scatter",
         "x": [
          0.0059173875488340855,
          0.042796455323696136,
          null
         ],
         "y": [
          -0.1461554765701294,
          -0.1852569282054901,
          null
         ]
        },
        {
         "line": {
          "color": "gray",
          "width": 1
         },
         "mode": "lines",
         "type": "scatter",
         "x": [
          0.0059173875488340855,
          0.050309062004089355,
          null
         ],
         "y": [
          -0.1461554765701294,
          -0.17116832733154297,
          null
         ]
        },
        {
         "line": {
          "color": "gray",
          "width": 1
         },
         "mode": "lines",
         "type": "scatter",
         "x": [
          0.0059173875488340855,
          -0.11885945498943329,
          null
         ],
         "y": [
          -0.1461554765701294,
          -0.04541396349668503,
          null
         ]
        },
        {
         "line": {
          "color": "gray",
          "width": 1
         },
         "mode": "lines",
         "type": "scatter",
         "x": [
          0.0059173875488340855,
          0.01968897320330143,
          null
         ],
         "y": [
          -0.1461554765701294,
          -0.1902918517589569,
          null
         ]
        },
        {
         "line": {
          "color": "gray",
          "width": 1
         },
         "mode": "lines",
         "type": "scatter",
         "x": [
          0.0059173875488340855,
          0.02341463789343834,
          null
         ],
         "y": [
          -0.1461554765701294,
          -0.1695871502161026,
          null
         ]
        },
        {
         "line": {
          "color": "gray",
          "width": 1
         },
         "mode": "lines",
         "type": "scatter",
         "x": [
          0.0059173875488340855,
          -0.13904303312301636,
          null
         ],
         "y": [
          -0.1461554765701294,
          -0.09674906730651855,
          null
         ]
        },
        {
         "line": {
          "color": "gray",
          "width": 1
         },
         "mode": "lines",
         "type": "scatter",
         "x": [
          0.0059173875488340855,
          0.029877033084630966,
          null
         ],
         "y": [
          -0.1461554765701294,
          -0.15558584034442902,
          null
         ]
        },
        {
         "line": {
          "color": "gray",
          "width": 1
         },
         "mode": "lines",
         "type": "scatter",
         "x": [
          0.0059173875488340855,
          0.04929805546998978,
          null
         ],
         "y": [
          -0.1461554765701294,
          -0.1495821624994278,
          null
         ]
        },
        {
         "line": {
          "color": "gray",
          "width": 1
         },
         "mode": "lines",
         "type": "scatter",
         "x": [
          0.0059173875488340855,
          0.016788452863693237,
          null
         ],
         "y": [
          -0.1461554765701294,
          -0.18401125073432922,
          null
         ]
        },
        {
         "line": {
          "color": "gray",
          "width": 1
         },
         "mode": "lines",
         "type": "scatter",
         "x": [
          0.0059173875488340855,
          0.055028628557920456,
          null
         ],
         "y": [
          -0.1461554765701294,
          -0.15368901193141937,
          null
         ]
        },
        {
         "line": {
          "color": "gray",
          "width": 1
         },
         "mode": "lines",
         "type": "scatter",
         "x": [
          0.0059173875488340855,
          0.053354814648628235,
          null
         ],
         "y": [
          -0.1461554765701294,
          -0.17796394228935242,
          null
         ]
        },
        {
         "line": {
          "color": "gray",
          "width": 1
         },
         "mode": "lines",
         "type": "scatter",
         "x": [
          0.0059173875488340855,
          0.045555420219898224,
          null
         ],
         "y": [
          -0.1461554765701294,
          -0.1761162430047989,
          null
         ]
        },
        {
         "line": {
          "color": "gray",
          "width": 1
         },
         "mode": "lines",
         "type": "scatter",
         "x": [
          0.0059173875488340855,
          0.0331275537610054,
          null
         ],
         "y": [
          -0.1461554765701294,
          -0.14442281424999237,
          null
         ]
        },
        {
         "line": {
          "color": "gray",
          "width": 1
         },
         "mode": "lines",
         "type": "scatter",
         "x": [
          0.0059173875488340855,
          -0.017942873761057854,
          null
         ],
         "y": [
          -0.1461554765701294,
          -0.0714946910738945,
          null
         ]
        },
        {
         "line": {
          "color": "gray",
          "width": 1
         },
         "mode": "lines",
         "type": "scatter",
         "x": [
          0.0059173875488340855,
          0.04924967885017395,
          null
         ],
         "y": [
          -0.1461554765701294,
          -0.15705221891403198,
          null
         ]
        },
        {
         "line": {
          "color": "gray",
          "width": 1
         },
         "mode": "lines",
         "type": "scatter",
         "x": [
          0.0059173875488340855,
          0.03809374198317528,
          null
         ],
         "y": [
          -0.1461554765701294,
          -0.19424070417881012,
          null
         ]
        },
        {
         "line": {
          "color": "gray",
          "width": 1
         },
         "mode": "lines",
         "type": "scatter",
         "x": [
          0.0059173875488340855,
          0.027337994426488876,
          null
         ],
         "y": [
          -0.1461554765701294,
          -0.18358705937862396,
          null
         ]
        },
        {
         "line": {
          "color": "gray",
          "width": 1
         },
         "mode": "lines",
         "type": "scatter",
         "x": [
          0.0059173875488340855,
          0.039326589554548264,
          null
         ],
         "y": [
          -0.1461554765701294,
          -0.15038098394870758,
          null
         ]
        },
        {
         "line": {
          "color": "gray",
          "width": 1
         },
         "mode": "lines",
         "type": "scatter",
         "x": [
          0.0059173875488340855,
          0.01472274400293827,
          null
         ],
         "y": [
          -0.1461554765701294,
          -0.19351716339588165,
          null
         ]
        },
        {
         "line": {
          "color": "gray",
          "width": 1
         },
         "mode": "lines",
         "type": "scatter",
         "x": [
          0.0059173875488340855,
          0.028728952631354332,
          null
         ],
         "y": [
          -0.1461554765701294,
          -0.20124390721321106,
          null
         ]
        },
        {
         "line": {
          "color": "gray",
          "width": 1
         },
         "mode": "lines",
         "type": "scatter",
         "x": [
          0.0059173875488340855,
          0.039337337017059326,
          null
         ],
         "y": [
          -0.1461554765701294,
          -0.17969933152198792,
          null
         ]
        },
        {
         "line": {
          "color": "gray",
          "width": 1
         },
         "mode": "lines",
         "type": "scatter",
         "x": [
          0.0059173875488340855,
          0.03453170880675316,
          null
         ],
         "y": [
          -0.1461554765701294,
          -0.1850646734237671,
          null
         ]
        },
        {
         "line": {
          "color": "gray",
          "width": 1
         },
         "mode": "lines",
         "type": "scatter",
         "x": [
          0.0059173875488340855,
          0.025151405483484268,
          null
         ],
         "y": [
          -0.1461554765701294,
          -0.19625495374202728,
          null
         ]
        },
        {
         "line": {
          "color": "gray",
          "width": 1
         },
         "mode": "lines",
         "type": "scatter",
         "x": [
          0.0059173875488340855,
          0.03942475840449333,
          null
         ],
         "y": [
          -0.1461554765701294,
          -0.15869341790676117,
          null
         ]
        },
        {
         "line": {
          "color": "gray",
          "width": 1
         },
         "mode": "lines",
         "type": "scatter",
         "x": [
          0.0059173875488340855,
          0.0420321524143219,
          null
         ],
         "y": [
          -0.1461554765701294,
          -0.1676202416419983,
          null
         ]
        },
        {
         "line": {
          "color": "gray",
          "width": 1
         },
         "mode": "lines",
         "type": "scatter",
         "x": [
          0.0059173875488340855,
          0.04647115245461464,
          null
         ],
         "y": [
          -0.1461554765701294,
          -0.14429211616516113,
          null
         ]
        },
        {
         "line": {
          "color": "gray",
          "width": 1
         },
         "mode": "lines",
         "type": "scatter",
         "x": [
          -0.05802026763558388,
          0.11169447004795074,
          null
         ],
         "y": [
          0.2210351675748825,
          0.1962146908044815,
          null
         ]
        },
        {
         "line": {
          "color": "gray",
          "width": 1
         },
         "mode": "lines",
         "type": "scatter",
         "x": [
          -0.05802026763558388,
          -0.08179616928100586,
          null
         ],
         "y": [
          0.2210351675748825,
          0.2469480037689209,
          null
         ]
        },
        {
         "line": {
          "color": "gray",
          "width": 1
         },
         "mode": "lines",
         "type": "scatter",
         "x": [
          -0.05802026763558388,
          -0.0893578827381134,
          null
         ],
         "y": [
          0.2210351675748825,
          0.24797295033931732,
          null
         ]
        },
        {
         "line": {
          "color": "gray",
          "width": 1
         },
         "mode": "lines",
         "type": "scatter",
         "x": [
          -0.05802026763558388,
          -0.040633708238601685,
          null
         ],
         "y": [
          0.2210351675748825,
          0.24782694876194,
          null
         ]
        },
        {
         "line": {
          "color": "gray",
          "width": 1
         },
         "mode": "lines",
         "type": "scatter",
         "x": [
          -0.05802026763558388,
          -0.057745009660720825,
          null
         ],
         "y": [
          0.2210351675748825,
          0.2556127607822418,
          null
         ]
        },
        {
         "line": {
          "color": "gray",
          "width": 1
         },
         "mode": "lines",
         "type": "scatter",
         "x": [
          -0.05802026763558388,
          -0.060809582471847534,
          null
         ],
         "y": [
          0.2210351675748825,
          0.24698157608509064,
          null
         ]
        },
        {
         "line": {
          "color": "gray",
          "width": 1
         },
         "mode": "lines",
         "type": "scatter",
         "x": [
          -0.05802026763558388,
          -0.06925538927316666,
          null
         ],
         "y": [
          0.2210351675748825,
          0.2611790895462036,
          null
         ]
        },
        {
         "line": {
          "color": "gray",
          "width": 1
         },
         "mode": "lines",
         "type": "scatter",
         "x": [
          -0.05802026763558388,
          -0.09540704637765884,
          null
         ],
         "y": [
          0.2210351675748825,
          0.24220596253871918,
          null
         ]
        },
        {
         "line": {
          "color": "gray",
          "width": 1
         },
         "mode": "lines",
         "type": "scatter",
         "x": [
          -0.05802026763558388,
          -0.08834699541330338,
          null
         ],
         "y": [
          0.2210351675748825,
          0.23966476321220398,
          null
         ]
        },
        {
         "line": {
          "color": "gray",
          "width": 1
         },
         "mode": "lines",
         "type": "scatter",
         "x": [
          -0.05802026763558388,
          -0.08694317191839218,
          null
         ],
         "y": [
          0.2210351675748825,
          0.2595602869987488,
          null
         ]
        },
        {
         "line": {
          "color": "gray",
          "width": 1
         },
         "mode": "lines",
         "type": "scatter",
         "x": [
          -0.05802026763558388,
          -0.05189467966556549,
          null
         ],
         "y": [
          0.2210351675748825,
          0.2643153965473175,
          null
         ]
        },
        {
         "line": {
          "color": "gray",
          "width": 1
         },
         "mode": "lines",
         "type": "scatter",
         "x": [
          -0.05802026763558388,
          -0.03731706365942955,
          null
         ],
         "y": [
          0.2210351675748825,
          0.23834845423698425,
          null
         ]
        },
        {
         "line": {
          "color": "gray",
          "width": 1
         },
         "mode": "lines",
         "type": "scatter",
         "x": [
          -0.05802026763558388,
          -0.06683792918920517,
          null
         ],
         "y": [
          0.2210351675748825,
          0.27000588178634644,
          null
         ]
        },
        {
         "line": {
          "color": "gray",
          "width": 1
         },
         "mode": "lines",
         "type": "scatter",
         "x": [
          -0.05802026763558388,
          -0.09234913438558578,
          null
         ],
         "y": [
          0.2210351675748825,
          0.2532636225223541,
          null
         ]
        },
        {
         "line": {
          "color": "gray",
          "width": 1
         },
         "mode": "lines",
         "type": "scatter",
         "x": [
          -0.05802026763558388,
          -0.07776329666376114,
          null
         ],
         "y": [
          0.2210351675748825,
          0.2271537482738495,
          null
         ]
        },
        {
         "line": {
          "color": "gray",
          "width": 1
         },
         "mode": "lines",
         "type": "scatter",
         "x": [
          -0.05802026763558388,
          -0.0758659839630127,
          null
         ],
         "y": [
          0.2210351675748825,
          0.25628015398979187,
          null
         ]
        },
        {
         "line": {
          "color": "gray",
          "width": 1
         },
         "mode": "lines",
         "type": "scatter",
         "x": [
          -0.05802026763558388,
          -0.08842139691114426,
          null
         ],
         "y": [
          0.2210351675748825,
          0.23186427354812622,
          null
         ]
        },
        {
         "line": {
          "color": "gray",
          "width": 1
         },
         "mode": "lines",
         "type": "scatter",
         "x": [
          -0.05802026763558388,
          -0.04655205085873604,
          null
         ],
         "y": [
          0.2210351675748825,
          0.2398061901330948,
          null
         ]
        },
        {
         "line": {
          "color": "gray",
          "width": 1
         },
         "mode": "lines",
         "type": "scatter",
         "x": [
          -0.05802026763558388,
          -0.048675935715436935,
          null
         ],
         "y": [
          0.2210351675748825,
          0.258400022983551,
          null
         ]
        },
        {
         "line": {
          "color": "gray",
          "width": 1
         },
         "mode": "lines",
         "type": "scatter",
         "x": [
          -0.05802026763558388,
          -0.05842871218919754,
          null
         ],
         "y": [
          0.2210351675748825,
          0.2692708671092987,
          null
         ]
        },
        {
         "line": {
          "color": "gray",
          "width": 1
         },
         "mode": "lines",
         "type": "scatter",
         "x": [
          -0.05802026763558388,
          -0.05774013325572014,
          null
         ],
         "y": [
          0.2210351675748825,
          0.23697984218597412,
          null
         ]
        },
        {
         "line": {
          "color": "gray",
          "width": 1
         },
         "mode": "lines",
         "type": "scatter",
         "x": [
          -0.05802026763558388,
          -0.06879211962223053,
          null
         ],
         "y": [
          0.2210351675748825,
          0.253287672996521,
          null
         ]
        },
        {
         "line": {
          "color": "gray",
          "width": 1
         },
         "mode": "lines",
         "type": "scatter",
         "x": [
          -0.05802026763558388,
          -0.0824432373046875,
          null
         ],
         "y": [
          0.2210351675748825,
          0.255786269903183,
          null
         ]
        },
        {
         "line": {
          "color": "gray",
          "width": 1
         },
         "mode": "lines",
         "type": "scatter",
         "x": [
          -0.05802026763558388,
          -0.06156894937157631,
          null
         ],
         "y": [
          0.2210351675748825,
          0.26238781213760376,
          null
         ]
        },
        {
         "line": {
          "color": "gray",
          "width": 1
         },
         "mode": "lines",
         "type": "scatter",
         "x": [
          -0.05802026763558388,
          -0.17631421983242035,
          null
         ],
         "y": [
          0.2210351675748825,
          0.09678009897470474,
          null
         ]
        },
        {
         "line": {
          "color": "gray",
          "width": 1
         },
         "mode": "lines",
         "type": "scatter",
         "x": [
          -0.05802026763558388,
          -0.07380474358797073,
          null
         ],
         "y": [
          0.2210351675748825,
          0.26677873730659485,
          null
         ]
        },
        {
         "line": {
          "color": "gray",
          "width": 1
         },
         "mode": "lines",
         "type": "scatter",
         "x": [
          -0.05802026763558388,
          -0.045746829360723495,
          null
         ],
         "y": [
          0.2210351675748825,
          0.2529085576534271,
          null
         ]
        },
        {
         "line": {
          "color": "gray",
          "width": 1
         },
         "mode": "lines",
         "type": "scatter",
         "x": [
          -0.05802026763558388,
          -0.08062539994716644,
          null
         ],
         "y": [
          0.2210351675748825,
          0.2655293345451355,
          null
         ]
        },
        {
         "line": {
          "color": "gray",
          "width": 1
         },
         "mode": "lines",
         "type": "scatter",
         "x": [
          -0.05802026763558388,
          -0.07467939704656601,
          null
         ],
         "y": [
          0.2210351675748825,
          0.24427688121795654,
          null
         ]
        },
        {
         "line": {
          "color": "gray",
          "width": 1
         },
         "mode": "lines",
         "type": "scatter",
         "x": [
          -0.2126934677362442,
          -0.17631421983242035,
          null
         ],
         "y": [
          0.1382446438074112,
          0.09678009897470474,
          null
         ]
        },
        {
         "line": {
          "color": "gray",
          "width": 1
         },
         "mode": "lines",
         "type": "scatter",
         "x": [
          -0.2126934677362442,
          -0.2398369014263153,
          null
         ],
         "y": [
          0.1382446438074112,
          0.16826313734054565,
          null
         ]
        },
        {
         "line": {
          "color": "gray",
          "width": 1
         },
         "mode": "lines",
         "type": "scatter",
         "x": [
          0.06766202300786972,
          0.06568566709756851,
          null
         ],
         "y": [
          0.34515970945358276,
          0.2928071916103363,
          null
         ]
        },
        {
         "line": {
          "color": "gray",
          "width": 1
         },
         "mode": "lines",
         "type": "scatter",
         "x": [
          0.06766202300786972,
          0.06966753304004669,
          null
         ],
         "y": [
          0.34515970945358276,
          0.3831680715084076,
          null
         ]
        },
        {
         "line": {
          "color": "gray",
          "width": 1
         },
         "mode": "lines",
         "type": "scatter",
         "x": [
          -0.858607828617096,
          -0.8908352255821228,
          null
         ],
         "y": [
          -0.3022819757461548,
          -0.3145415484905243,
          null
         ]
        },
        {
         "line": {
          "color": "gray",
          "width": 1
         },
         "mode": "lines",
         "type": "scatter",
         "x": [
          -0.858607828617096,
          -0.8472439050674438,
          null
         ],
         "y": [
          -0.3022819757461548,
          -0.3094194233417511,
          null
         ]
        },
        {
         "line": {
          "color": "gray",
          "width": 1
         },
         "mode": "lines",
         "type": "scatter",
         "x": [
          -0.858607828617096,
          -0.8409348130226135,
          null
         ],
         "y": [
          -0.3022819757461548,
          -0.2920759916305542,
          null
         ]
        },
        {
         "line": {
          "color": "gray",
          "width": 1
         },
         "mode": "lines",
         "type": "scatter",
         "x": [
          0.62959223985672,
          0.6535956263542175,
          null
         ],
         "y": [
          -0.4342441260814667,
          -0.45067256689071655,
          null
         ]
        },
        {
         "line": {
          "color": "gray",
          "width": 1
         },
         "mode": "lines",
         "type": "scatter",
         "x": [
          0.62959223985672,
          0.6584232449531555,
          null
         ],
         "y": [
          -0.4342441260814667,
          -0.45790359377861023,
          null
         ]
        },
        {
         "line": {
          "color": "gray",
          "width": 1
         },
         "mode": "lines",
         "type": "scatter",
         "x": [
          0.62959223985672,
          0.5789518356323242,
          null
         ],
         "y": [
          -0.4342441260814667,
          -0.40185633301734924,
          null
         ]
        },
        {
         "line": {
          "color": "gray",
          "width": 1
         },
         "mode": "lines",
         "type": "scatter",
         "x": [
          0.62959223985672,
          0.6626022458076477,
          null
         ],
         "y": [
          -0.4342441260814667,
          -0.44981759786605835,
          null
         ]
        },
        {
         "line": {
          "color": "gray",
          "width": 1
         },
         "mode": "lines",
         "type": "scatter",
         "x": [
          0.62959223985672,
          0.6609135866165161,
          null
         ],
         "y": [
          -0.4342441260814667,
          -0.4420335292816162,
          null
         ]
        },
        {
         "line": {
          "color": "gray",
          "width": 1
         },
         "mode": "lines",
         "type": "scatter",
         "x": [
          0.62959223985672,
          0.6499114632606506,
          null
         ],
         "y": [
          -0.4342441260814667,
          -0.4601093530654907,
          null
         ]
        },
        {
         "line": {
          "color": "gray",
          "width": 1
         },
         "mode": "lines",
         "type": "scatter",
         "x": [
          -0.753339409828186,
          -0.7700360417366028,
          null
         ],
         "y": [
          -0.4475429356098175,
          -0.45888960361480713,
          null
         ]
        },
        {
         "line": {
          "color": "gray",
          "width": 1
         },
         "mode": "lines",
         "type": "scatter",
         "x": [
          0.05527182295918465,
          0.040658365935087204,
          null
         ],
         "y": [
          0.3761756122112274,
          0.4180631637573242,
          null
         ]
        },
        {
         "line": {
          "color": "gray",
          "width": 1
         },
         "mode": "lines",
         "type": "scatter",
         "x": [
          0.05527182295918465,
          0.034567125141620636,
          null
         ],
         "y": [
          0.3761756122112274,
          0.4149642288684845,
          null
         ]
        },
        {
         "line": {
          "color": "gray",
          "width": 1
         },
         "mode": "lines",
         "type": "scatter",
         "x": [
          0.05527182295918465,
          0.051136162132024765,
          null
         ],
         "y": [
          0.3761756122112274,
          0.4114287197589874,
          null
         ]
        },
        {
         "line": {
          "color": "gray",
          "width": 1
         },
         "mode": "lines",
         "type": "scatter",
         "x": [
          0.05527182295918465,
          0.060306012630462646,
          null
         ],
         "y": [
          0.3761756122112274,
          0.41431552171707153,
          null
         ]
        },
        {
         "line": {
          "color": "gray",
          "width": 1
         },
         "mode": "lines",
         "type": "scatter",
         "x": [
          0.05527182295918465,
          0.033274613320827484,
          null
         ],
         "y": [
          0.3761756122112274,
          0.40791183710098267,
          null
         ]
        },
        {
         "line": {
          "color": "gray",
          "width": 1
         },
         "mode": "lines",
         "type": "scatter",
         "x": [
          0.05527182295918465,
          0.04720726236701012,
          null
         ],
         "y": [
          0.3761756122112274,
          0.41943490505218506,
          null
         ]
        },
        {
         "line": {
          "color": "gray",
          "width": 1
         },
         "mode": "lines",
         "type": "scatter",
         "x": [
          0.05527182295918465,
          0.042619604617357254,
          null
         ],
         "y": [
          0.3761756122112274,
          0.40970364212989807,
          null
         ]
        },
        {
         "line": {
          "color": "gray",
          "width": 1
         },
         "mode": "lines",
         "type": "scatter",
         "x": [
          0.05527182295918465,
          0.09976844489574432,
          null
         ],
         "y": [
          0.3761756122112274,
          0.3084874749183655,
          null
         ]
        },
        {
         "line": {
          "color": "gray",
          "width": 1
         },
         "mode": "lines",
         "type": "scatter",
         "x": [
          0.05527182295918465,
          0.06568566709756851,
          null
         ],
         "y": [
          0.3761756122112274,
          0.2928071916103363,
          null
         ]
        },
        {
         "line": {
          "color": "gray",
          "width": 1
         },
         "mode": "lines",
         "type": "scatter",
         "x": [
          0.05527182295918465,
          0.05448544770479202,
          null
         ],
         "y": [
          0.3761756122112274,
          0.41903218626976013,
          null
         ]
        },
        {
         "line": {
          "color": "gray",
          "width": 1
         },
         "mode": "lines",
         "type": "scatter",
         "x": [
          -0.752866804599762,
          -0.781736433506012,
          null
         ],
         "y": [
          0.4149274230003357,
          0.43621450662612915,
          null
         ]
        },
        {
         "line": {
          "color": "gray",
          "width": 1
         },
         "mode": "lines",
         "type": "scatter",
         "x": [
          -0.752866804599762,
          -0.7855837941169739,
          null
         ],
         "y": [
          0.4149274230003357,
          0.4273078739643097,
          null
         ]
        },
        {
         "line": {
          "color": "gray",
          "width": 1
         },
         "mode": "lines",
         "type": "scatter",
         "x": [
          -0.752866804599762,
          -0.7637110352516174,
          null
         ],
         "y": [
          0.4149274230003357,
          0.4067450761795044,
          null
         ]
        },
        {
         "line": {
          "color": "gray",
          "width": 1
         },
         "mode": "lines",
         "type": "scatter",
         "x": [
          -0.752866804599762,
          -0.7285629510879517,
          null
         ],
         "y": [
          0.4149274230003357,
          0.4001097083091736,
          null
         ]
        },
        {
         "line": {
          "color": "gray",
          "width": 1
         },
         "mode": "lines",
         "type": "scatter",
         "x": [
          -0.752866804599762,
          -0.7721497416496277,
          null
         ],
         "y": [
          0.4149274230003357,
          0.4311717450618744,
          null
         ]
        },
        {
         "line": {
          "color": "gray",
          "width": 1
         },
         "mode": "lines",
         "type": "scatter",
         "x": [
          -0.16766810417175293,
          -0.16218341886997223,
          null
         ],
         "y": [
          -0.06785860657691956,
          0.0025604546535760164,
          null
         ]
        },
        {
         "line": {
          "color": "gray",
          "width": 1
         },
         "mode": "lines",
         "type": "scatter",
         "x": [
          -0.16766810417175293,
          -0.17853227257728577,
          null
         ],
         "y": [
          -0.06785860657691956,
          -0.11079324781894684,
          null
         ]
        },
        {
         "line": {
          "color": "gray",
          "width": 1
         },
         "mode": "lines",
         "type": "scatter",
         "x": [
          -0.16766810417175293,
          -0.17004810273647308,
          null
         ],
         "y": [
          -0.06785860657691956,
          -0.11052149534225464,
          null
         ]
        },
        {
         "line": {
          "color": "gray",
          "width": 1
         },
         "mode": "lines",
         "type": "scatter",
         "x": [
          -0.37026602029800415,
          -0.38715577125549316,
          null
         ],
         "y": [
          -0.7760641574859619,
          -0.8087832927703857,
          null
         ]
        },
        {
         "line": {
          "color": "gray",
          "width": 1
         },
         "mode": "lines",
         "type": "scatter",
         "x": [
          -0.37026602029800415,
          -0.35746586322784424,
          null
         ],
         "y": [
          -0.7760641574859619,
          -0.7524581551551819,
          null
         ]
        },
        {
         "line": {
          "color": "gray",
          "width": 1
         },
         "mode": "lines",
         "type": "scatter",
         "x": [
          -0.37026602029800415,
          -0.38922756910324097,
          null
         ],
         "y": [
          -0.7760641574859619,
          -0.8001357913017273,
          null
         ]
        },
        {
         "line": {
          "color": "gray",
          "width": 1
         },
         "mode": "lines",
         "type": "scatter",
         "x": [
          -0.37026602029800415,
          -0.38129425048828125,
          null
         ],
         "y": [
          -0.7760641574859619,
          -0.7695990800857544,
          null
         ]
        },
        {
         "line": {
          "color": "gray",
          "width": 1
         },
         "mode": "lines",
         "type": "scatter",
         "x": [
          -0.37026602029800415,
          -0.3781433701515198,
          null
         ],
         "y": [
          -0.7760641574859619,
          -0.807532012462616,
          null
         ]
        },
        {
         "line": {
          "color": "gray",
          "width": 1
         },
         "mode": "lines",
         "type": "scatter",
         "x": [
          -0.047435421496629715,
          -0.037483520805835724,
          null
         ],
         "y": [
          0.0034750907216221094,
          0.022179346531629562,
          null
         ]
        },
        {
         "line": {
          "color": "gray",
          "width": 1
         },
         "mode": "lines",
         "type": "scatter",
         "x": [
          -0.047435421496629715,
          -0.07888631522655487,
          null
         ],
         "y": [
          0.0034750907216221094,
          0.029446564614772797,
          null
         ]
        },
        {
         "line": {
          "color": "gray",
          "width": 1
         },
         "mode": "lines",
         "type": "scatter",
         "x": [
          -0.047435421496629715,
          -0.03092191182076931,
          null
         ],
         "y": [
          0.0034750907216221094,
          -0.017558230087161064,
          null
         ]
        },
        {
         "line": {
          "color": "gray",
          "width": 1
         },
         "mode": "lines",
         "type": "scatter",
         "x": [
          -0.047435421496629715,
          -0.062342915683984756,
          null
         ],
         "y": [
          0.0034750907216221094,
          0.003804609412327409,
          null
         ]
        },
        {
         "line": {
          "color": "gray",
          "width": 1
         },
         "mode": "lines",
         "type": "scatter",
         "x": [
          -0.047435421496629715,
          -0.017469514161348343,
          null
         ],
         "y": [
          0.0034750907216221094,
          0.005864993203431368,
          null
         ]
        },
        {
         "line": {
          "color": "gray",
          "width": 1
         },
         "mode": "lines",
         "type": "scatter",
         "x": [
          -0.047435421496629715,
          -0.01916320063173771,
          null
         ],
         "y": [
          0.0034750907216221094,
          0.014942578971385956,
          null
         ]
        },
        {
         "line": {
          "color": "gray",
          "width": 1
         },
         "mode": "lines",
         "type": "scatter",
         "x": [
          -0.047435421496629715,
          -0.06490740925073624,
          null
         ],
         "y": [
          0.0034750907216221094,
          0.0316552072763443,
          null
         ]
        },
        {
         "line": {
          "color": "gray",
          "width": 1
         },
         "mode": "lines",
         "type": "scatter",
         "x": [
          -0.047435421496629715,
          -0.08894794434309006,
          null
         ],
         "y": [
          0.0034750907216221094,
          0.012418895028531551,
          null
         ]
        },
        {
         "line": {
          "color": "gray",
          "width": 1
         },
         "mode": "lines",
         "type": "scatter",
         "x": [
          -0.047435421496629715,
          -0.05419925972819328,
          null
         ],
         "y": [
          0.0034750907216221094,
          -0.026760892942547798,
          null
         ]
        },
        {
         "line": {
          "color": "gray",
          "width": 1
         },
         "mode": "lines",
         "type": "scatter",
         "x": [
          -0.047435421496629715,
          -0.04427202418446541,
          null
         ],
         "y": [
          0.0034750907216221094,
          0.03980702906847,
          null
         ]
        },
        {
         "line": {
          "color": "gray",
          "width": 1
         },
         "mode": "lines",
         "type": "scatter",
         "x": [
          -0.047435421496629715,
          -0.06742546707391739,
          null
         ],
         "y": [
          0.0034750907216221094,
          0.013354289345443249,
          null
         ]
        },
        {
         "line": {
          "color": "gray",
          "width": 1
         },
         "mode": "lines",
         "type": "scatter",
         "x": [
          -0.047435421496629715,
          -0.047336187213659286,
          null
         ],
         "y": [
          0.0034750907216221094,
          0.024561233818531036,
          null
         ]
        },
        {
         "line": {
          "color": "gray",
          "width": 1
         },
         "mode": "lines",
         "type": "scatter",
         "x": [
          -0.047435421496629715,
          -0.07431057095527649,
          null
         ],
         "y": [
          0.0034750907216221094,
          0.0017454817425459623,
          null
         ]
        },
        {
         "line": {
          "color": "gray",
          "width": 1
         },
         "mode": "lines",
         "type": "scatter",
         "x": [
          -0.047435421496629715,
          -0.028811754658818245,
          null
         ],
         "y": [
          0.0034750907216221094,
          0.00424114940688014,
          null
         ]
        },
        {
         "line": {
          "color": "gray",
          "width": 1
         },
         "mode": "lines",
         "type": "scatter",
         "x": [
          -0.047435421496629715,
          -0.030509978532791138,
          null
         ],
         "y": [
          0.0034750907216221094,
          0.030759694054722786,
          null
         ]
        },
        {
         "line": {
          "color": "gray",
          "width": 1
         },
         "mode": "lines",
         "type": "scatter",
         "x": [
          -0.047435421496629715,
          -0.08415169268846512,
          null
         ],
         "y": [
          0.0034750907216221094,
          -0.003411480225622654,
          null
         ]
        },
        {
         "line": {
          "color": "gray",
          "width": 1
         },
         "mode": "lines",
         "type": "scatter",
         "x": [
          -0.047435421496629715,
          -0.0706464871764183,
          null
         ],
         "y": [
          0.0034750907216221094,
          -0.006144192069768906,
          null
         ]
        },
        {
         "line": {
          "color": "gray",
          "width": 1
         },
         "mode": "lines",
         "type": "scatter",
         "x": [
          -0.047435421496629715,
          -0.1164708361029625,
          null
         ],
         "y": [
          0.0034750907216221094,
          0.18153086304664612,
          null
         ]
        },
        {
         "line": {
          "color": "gray",
          "width": 1
         },
         "mode": "lines",
         "type": "scatter",
         "x": [
          -0.047435421496629715,
          -0.03775190934538841,
          null
         ],
         "y": [
          0.0034750907216221094,
          -0.01071301568299532,
          null
         ]
        },
        {
         "line": {
          "color": "gray",
          "width": 1
         },
         "mode": "lines",
         "type": "scatter",
         "x": [
          -0.047435421496629715,
          -0.038766998797655106,
          null
         ],
         "y": [
          0.0034750907216221094,
          -0.024065181612968445,
          null
         ]
        },
        {
         "line": {
          "color": "gray",
          "width": 1
         },
         "mode": "lines",
         "type": "scatter",
         "x": [
          -0.047435421496629715,
          -0.07576027512550354,
          null
         ],
         "y": [
          0.0034750907216221094,
          -0.01974789798259735,
          null
         ]
        },
        {
         "line": {
          "color": "gray",
          "width": 1
         },
         "mode": "lines",
         "type": "scatter",
         "x": [
          -0.047435421496629715,
          -0.08672787249088287,
          null
         ],
         "y": [
          0.0034750907216221094,
          0.019912099465727806,
          null
         ]
        },
        {
         "line": {
          "color": "gray",
          "width": 1
         },
         "mode": "lines",
         "type": "scatter",
         "x": [
          -0.047435421496629715,
          -0.10284686833620071,
          null
         ],
         "y": [
          0.0034750907216221094,
          0.05088416114449501,
          null
         ]
        },
        {
         "line": {
          "color": "gray",
          "width": 1
         },
         "mode": "lines",
         "type": "scatter",
         "x": [
          -0.047435421496629715,
          -0.029777439311146736,
          null
         ],
         "y": [
          0.0034750907216221094,
          0.016405023634433746,
          null
         ]
        },
        {
         "line": {
          "color": "gray",
          "width": 1
         },
         "mode": "lines",
         "type": "scatter",
         "x": [
          -0.047435421496629715,
          -0.06052534654736519,
          null
         ],
         "y": [
          0.0034750907216221094,
          -0.009171695448458195,
          null
         ]
        },
        {
         "line": {
          "color": "gray",
          "width": 1
         },
         "mode": "lines",
         "type": "scatter",
         "x": [
          -0.047435421496629715,
          -0.0671284943819046,
          null
         ],
         "y": [
          0.0034750907216221094,
          -0.023217685520648956,
          null
         ]
        },
        {
         "line": {
          "color": "gray",
          "width": 1
         },
         "mode": "lines",
         "type": "scatter",
         "x": [
          -0.047435421496629715,
          -0.07521698623895645,
          null
         ],
         "y": [
          0.0034750907216221094,
          0.019146239385008812,
          null
         ]
        },
        {
         "line": {
          "color": "gray",
          "width": 1
         },
         "mode": "lines",
         "type": "scatter",
         "x": [
          -0.047435421496629715,
          -0.05336754396557808,
          null
         ],
         "y": [
          0.0034750907216221094,
          0.016686685383319855,
          null
         ]
        },
        {
         "line": {
          "color": "gray",
          "width": 1
         },
         "mode": "lines",
         "type": "scatter",
         "x": [
          -0.047435421496629715,
          -0.017942873761057854,
          null
         ],
         "y": [
          0.0034750907216221094,
          -0.0714946910738945,
          null
         ]
        },
        {
         "line": {
          "color": "gray",
          "width": 1
         },
         "mode": "lines",
         "type": "scatter",
         "x": [
          -0.047435421496629715,
          -0.06283654272556305,
          null
         ],
         "y": [
          0.0034750907216221094,
          0.024104095995426178,
          null
         ]
        },
        {
         "line": {
          "color": "gray",
          "width": 1
         },
         "mode": "lines",
         "type": "scatter",
         "x": [
          -0.047435421496629715,
          -0.08196773380041122,
          null
         ],
         "y": [
          0.0034750907216221094,
          -0.010621687397360802,
          null
         ]
        },
        {
         "line": {
          "color": "gray",
          "width": 1
         },
         "mode": "lines",
         "type": "scatter",
         "x": [
          -0.047435421496629715,
          -0.10001622140407562,
          null
         ],
         "y": [
          0.0034750907216221094,
          0.0531548373401165,
          null
         ]
        },
        {
         "line": {
          "color": "gray",
          "width": 1
         },
         "mode": "lines",
         "type": "scatter",
         "x": [
          -0.047435421496629715,
          -0.04721943661570549,
          null
         ],
         "y": [
          0.0034750907216221094,
          -0.019770123064517975,
          null
         ]
        },
        {
         "line": {
          "color": "gray",
          "width": 1
         },
         "mode": "lines",
         "type": "scatter",
         "x": [
          -0.047435421496629715,
          -0.03787988796830177,
          null
         ],
         "y": [
          0.0034750907216221094,
          0.03401009365916252,
          null
         ]
        },
        {
         "line": {
          "color": "gray",
          "width": 1
         },
         "mode": "lines",
         "type": "scatter",
         "x": [
          -0.047435421496629715,
          -0.020509131252765656,
          null
         ],
         "y": [
          0.0034750907216221094,
          -0.0029292164836078882,
          null
         ]
        },
        {
         "line": {
          "color": "gray",
          "width": 1
         },
         "mode": "lines",
         "type": "scatter",
         "x": [
          -0.047435421496629715,
          -0.08081865310668945,
          null
         ],
         "y": [
          0.0034750907216221094,
          0.011039203964173794,
          null
         ]
        },
        {
         "line": {
          "color": "gray",
          "width": 1
         },
         "mode": "lines",
         "type": "scatter",
         "x": [
          -0.047435421496629715,
          -0.023759890347719193,
          null
         ],
         "y": [
          0.0034750907216221094,
          0.024219950661063194,
          null
         ]
        },
        {
         "line": {
          "color": "gray",
          "width": 1
         },
         "mode": "lines",
         "type": "scatter",
         "x": [
          -0.047435421496629715,
          -0.059397585690021515,
          null
         ],
         "y": [
          0.0034750907216221094,
          0.03771330416202545,
          null
         ]
        },
        {
         "line": {
          "color": "gray",
          "width": 1
         },
         "mode": "lines",
         "type": "scatter",
         "x": [
          -0.047435421496629715,
          0.006826639641076326,
          null
         ],
         "y": [
          0.0034750907216221094,
          -0.004879587795585394,
          null
         ]
        },
        {
         "line": {
          "color": "gray",
          "width": 1
         },
         "mode": "lines",
         "type": "scatter",
         "x": [
          -0.047435421496629715,
          -0.07219431549310684,
          null
         ],
         "y": [
          0.0034750907216221094,
          -0.013668932020664215,
          null
         ]
        },
        {
         "line": {
          "color": "gray",
          "width": 1
         },
         "mode": "lines",
         "type": "scatter",
         "x": [
          -0.047435421496629715,
          -0.05216536670923233,
          null
         ],
         "y": [
          0.0034750907216221094,
          -0.03922661021351814,
          null
         ]
        },
        {
         "line": {
          "color": "gray",
          "width": 1
         },
         "mode": "lines",
         "type": "scatter",
         "x": [
          -0.047435421496629715,
          -0.052490804344415665,
          null
         ],
         "y": [
          0.0034750907216221094,
          0.039663974195718765,
          null
         ]
        },
        {
         "line": {
          "color": "gray",
          "width": 1
         },
         "mode": "lines",
         "type": "scatter",
         "x": [
          -0.047435421496629715,
          -0.049041539430618286,
          null
         ],
         "y": [
          0.0034750907216221094,
          0.031957466155290604,
          null
         ]
        },
        {
         "line": {
          "color": "gray",
          "width": 1
         },
         "mode": "lines",
         "type": "scatter",
         "x": [
          -0.047435421496629715,
          -0.08569325506687164,
          null
         ],
         "y": [
          0.0034750907216221094,
          0.00356633891351521,
          null
         ]
        },
        {
         "line": {
          "color": "gray",
          "width": 1
         },
         "mode": "lines",
         "type": "scatter",
         "x": [
          -0.047435421496629715,
          -0.021924905478954315,
          null
         ],
         "y": [
          0.0034750907216221094,
          -0.07243920117616653,
          null
         ]
        },
        {
         "line": {
          "color": "gray",
          "width": 1
         },
         "mode": "lines",
         "type": "scatter",
         "x": [
          -0.047435421496629715,
          -0.07414080202579498,
          null
         ],
         "y": [
          0.0034750907216221094,
          0.03407533839344978,
          null
         ]
        },
        {
         "line": {
          "color": "gray",
          "width": 1
         },
         "mode": "lines",
         "type": "scatter",
         "x": [
          -0.047435421496629715,
          -0.010078025981783867,
          null
         ],
         "y": [
          0.0034750907216221094,
          -0.13094264268875122,
          null
         ]
        },
        {
         "line": {
          "color": "gray",
          "width": 1
         },
         "mode": "lines",
         "type": "scatter",
         "x": [
          -0.047435421496629715,
          0.04806895554065704,
          null
         ],
         "y": [
          0.0034750907216221094,
          -0.037505753338336945,
          null
         ]
        },
        {
         "line": {
          "color": "gray",
          "width": 1
         },
         "mode": "lines",
         "type": "scatter",
         "x": [
          -0.047435421496629715,
          0.05369282513856888,
          null
         ],
         "y": [
          0.0034750907216221094,
          -0.08760048449039459,
          null
         ]
        },
        {
         "line": {
          "color": "gray",
          "width": 1
         },
         "mode": "lines",
         "type": "scatter",
         "x": [
          -0.047435421496629715,
          -0.06920510530471802,
          null
         ],
         "y": [
          0.0034750907216221094,
          0.0403113067150116,
          null
         ]
        },
        {
         "line": {
          "color": "gray",
          "width": 1
         },
         "mode": "lines",
         "type": "scatter",
         "x": [
          -0.047435421496629715,
          -0.05854406952857971,
          null
         ],
         "y": [
          0.0034750907216221094,
          -0.01983344368636608,
          null
         ]
        },
        {
         "line": {
          "color": "gray",
          "width": 1
         },
         "mode": "lines",
         "type": "scatter",
         "x": [
          -0.047435421496629715,
          -0.023524371907114983,
          null
         ],
         "y": [
          0.0034750907216221094,
          -0.010985503904521465,
          null
         ]
        },
        {
         "line": {
          "color": "gray",
          "width": 1
         },
         "mode": "lines",
         "type": "scatter",
         "x": [
          -0.0894952341914177,
          -0.11256550997495651,
          null
         ],
         "y": [
          0.024783093482255936,
          0.05859740823507309,
          null
         ]
        },
        {
         "line": {
          "color": "gray",
          "width": 1
         },
         "mode": "lines",
         "type": "scatter",
         "x": [
          -0.0894952341914177,
          -0.05216536670923233,
          null
         ],
         "y": [
          0.024783093482255936,
          -0.03922661021351814,
          null
         ]
        },
        {
         "line": {
          "color": "gray",
          "width": 1
         },
         "mode": "lines",
         "type": "scatter",
         "x": [
          -0.0894952341914177,
          -0.185943141579628,
          null
         ],
         "y": [
          0.024783093482255936,
          -0.004838320892304182,
          null
         ]
        },
        {
         "line": {
          "color": "gray",
          "width": 1
         },
         "mode": "lines",
         "type": "scatter",
         "x": [
          -0.0894952341914177,
          -0.18474124372005463,
          null
         ],
         "y": [
          0.024783093482255936,
          -0.008261546492576599,
          null
         ]
        },
        {
         "line": {
          "color": "gray",
          "width": 1
         },
         "mode": "lines",
         "type": "scatter",
         "x": [
          -0.0894952341914177,
          0.026181578636169434,
          null
         ],
         "y": [
          0.024783093482255936,
          0.1285030096769333,
          null
         ]
        },
        {
         "line": {
          "color": "gray",
          "width": 1
         },
         "mode": "lines",
         "type": "scatter",
         "x": [
          -0.0894952341914177,
          -0.07403703778982162,
          null
         ],
         "y": [
          0.024783093482255936,
          -0.07040669023990631,
          null
         ]
        },
        {
         "line": {
          "color": "gray",
          "width": 1
         },
         "mode": "lines",
         "type": "scatter",
         "x": [
          -0.0894952341914177,
          -0.10281965881586075,
          null
         ],
         "y": [
          0.024783093482255936,
          0.06020621955394745,
          null
         ]
        },
        {
         "line": {
          "color": "gray",
          "width": 1
         },
         "mode": "lines",
         "type": "scatter",
         "x": [
          -0.058383338153362274,
          -0.07544881105422974,
          null
         ],
         "y": [
          -0.16497622430324554,
          -0.22104589641094208,
          null
         ]
        },
        {
         "line": {
          "color": "gray",
          "width": 1
         },
         "mode": "lines",
         "type": "scatter",
         "x": [
          -0.058383338153362274,
          -0.080208420753479,
          null
         ],
         "y": [
          -0.16497622430324554,
          -0.1567760407924652,
          null
         ]
        },
        {
         "line": {
          "color": "gray",
          "width": 1
         },
         "mode": "lines",
         "type": "scatter",
         "x": [
          -0.058383338153362274,
          -0.06214392930269241,
          null
         ],
         "y": [
          -0.16497622430324554,
          -0.22259871661663055,
          null
         ]
        },
        {
         "line": {
          "color": "gray",
          "width": 1
         },
         "mode": "lines",
         "type": "scatter",
         "x": [
          -0.058383338153362274,
          -0.06549330055713654,
          null
         ],
         "y": [
          -0.16497622430324554,
          -0.2057911455631256,
          null
         ]
        },
        {
         "line": {
          "color": "gray",
          "width": 1
         },
         "mode": "lines",
         "type": "scatter",
         "x": [
          -0.058383338153362274,
          -0.10147581249475479,
          null
         ],
         "y": [
          -0.16497622430324554,
          -0.18444499373435974,
          null
         ]
        },
        {
         "line": {
          "color": "gray",
          "width": 1
         },
         "mode": "lines",
         "type": "scatter",
         "x": [
          -0.058383338153362274,
          -0.08496053516864777,
          null
         ],
         "y": [
          -0.16497622430324554,
          -0.19755449891090393,
          null
         ]
        },
        {
         "line": {
          "color": "gray",
          "width": 1
         },
         "mode": "lines",
         "type": "scatter",
         "x": [
          -0.058383338153362274,
          -0.05486002191901207,
          null
         ],
         "y": [
          -0.16497622430324554,
          -0.18754909932613373,
          null
         ]
        },
        {
         "line": {
          "color": "gray",
          "width": 1
         },
         "mode": "lines",
         "type": "scatter",
         "x": [
          -0.058383338153362274,
          -0.08257320523262024,
          null
         ],
         "y": [
          -0.16497622430324554,
          -0.21814025938510895,
          null
         ]
        },
        {
         "line": {
          "color": "gray",
          "width": 1
         },
         "mode": "lines",
         "type": "scatter",
         "x": [
          -0.058383338153362274,
          -0.039846424013376236,
          null
         ],
         "y": [
          -0.16497622430324554,
          -0.2012377232313156,
          null
         ]
        },
        {
         "line": {
          "color": "gray",
          "width": 1
         },
         "mode": "lines",
         "type": "scatter",
         "x": [
          -0.058383338153362274,
          -0.0585799403488636,
          null
         ],
         "y": [
          -0.16497622430324554,
          -0.24834977090358734,
          null
         ]
        },
        {
         "line": {
          "color": "gray",
          "width": 1
         },
         "mode": "lines",
         "type": "scatter",
         "x": [
          -0.058383338153362274,
          -0.09027893841266632,
          null
         ],
         "y": [
          -0.16497622430324554,
          -0.17334440350532532,
          null
         ]
        },
        {
         "line": {
          "color": "gray",
          "width": 1
         },
         "mode": "lines",
         "type": "scatter",
         "x": [
          -0.058383338153362274,
          -0.0407656766474247,
          null
         ],
         "y": [
          -0.16497622430324554,
          -0.210182785987854,
          null
         ]
        },
        {
         "line": {
          "color": "gray",
          "width": 1
         },
         "mode": "lines",
         "type": "scatter",
         "x": [
          -0.058383338153362274,
          0.019412199035286903,
          null
         ],
         "y": [
          -0.16497622430324554,
          -0.03215645253658295,
          null
         ]
        },
        {
         "line": {
          "color": "gray",
          "width": 1
         },
         "mode": "lines",
         "type": "scatter",
         "x": [
          -0.058383338153362274,
          -0.081835076212883,
          null
         ],
         "y": [
          -0.16497622430324554,
          -0.2071157991886139,
          null
         ]
        },
        {
         "line": {
          "color": "gray",
          "width": 1
         },
         "mode": "lines",
         "type": "scatter",
         "x": [
          -0.058383338153362274,
          -0.022483132779598236,
          null
         ],
         "y": [
          -0.16497622430324554,
          -0.02791781723499298,
          null
         ]
        },
        {
         "line": {
          "color": "gray",
          "width": 1
         },
         "mode": "lines",
         "type": "scatter",
         "x": [
          -0.058383338153362274,
          -0.07431142032146454,
          null
         ],
         "y": [
          -0.16497622430324554,
          -0.16909746825695038,
          null
         ]
        },
        {
         "line": {
          "color": "gray",
          "width": 1
         },
         "mode": "lines",
         "type": "scatter",
         "x": [
          -0.058383338153362274,
          -0.08291705697774887,
          null
         ],
         "y": [
          -0.16497622430324554,
          -0.16996590793132782,
          null
         ]
        },
        {
         "line": {
          "color": "gray",
          "width": 1
         },
         "mode": "lines",
         "type": "scatter",
         "x": [
          -0.058383338153362274,
          -0.05246572196483612,
          null
         ],
         "y": [
          -0.16497622430324554,
          -0.21030797064304352,
          null
         ]
        },
        {
         "line": {
          "color": "gray",
          "width": 1
         },
         "mode": "lines",
         "type": "scatter",
         "x": [
          -0.058383338153362274,
          -0.07472226023674011,
          null
         ],
         "y": [
          -0.16497622430324554,
          -0.2032063603401184,
          null
         ]
        },
        {
         "line": {
          "color": "gray",
          "width": 1
         },
         "mode": "lines",
         "type": "scatter",
         "x": [
          -0.058383338153362274,
          -0.0994901955127716,
          null
         ],
         "y": [
          -0.16497622430324554,
          -0.1968192160129547,
          null
         ]
        },
        {
         "line": {
          "color": "gray",
          "width": 1
         },
         "mode": "lines",
         "type": "scatter",
         "x": [
          -0.058383338153362274,
          -0.06717883050441742,
          null
         ],
         "y": [
          -0.16497622430324554,
          -0.1873837262392044,
          null
         ]
        },
        {
         "line": {
          "color": "gray",
          "width": 1
         },
         "mode": "lines",
         "type": "scatter",
         "x": [
          -0.058383338153362274,
          -0.04945669323205948,
          null
         ],
         "y": [
          -0.16497622430324554,
          -0.221948504447937,
          null
         ]
        },
        {
         "line": {
          "color": "gray",
          "width": 1
         },
         "mode": "lines",
         "type": "scatter",
         "x": [
          -0.058383338153362274,
          -0.05397992208600044,
          null
         ],
         "y": [
          -0.16497622430324554,
          -0.15997470915317535,
          null
         ]
        },
        {
         "line": {
          "color": "gray",
          "width": 1
         },
         "mode": "lines",
         "type": "scatter",
         "x": [
          -0.058383338153362274,
          0.012118599377572536,
          null
         ],
         "y": [
          -0.16497622430324554,
          -0.026935342699289322,
          null
         ]
        },
        {
         "line": {
          "color": "gray",
          "width": 1
         },
         "mode": "lines",
         "type": "scatter",
         "x": [
          -0.058383338153362274,
          -0.04656677693128586,
          null
         ],
         "y": [
          -0.16497622430324554,
          -0.20447330176830292,
          null
         ]
        },
        {
         "line": {
          "color": "gray",
          "width": 1
         },
         "mode": "lines",
         "type": "scatter",
         "x": [
          -0.058383338153362274,
          -0.08841995149850845,
          null
         ],
         "y": [
          -0.16497622430324554,
          -0.1607905626296997,
          null
         ]
        },
        {
         "line": {
          "color": "gray",
          "width": 1
         },
         "mode": "lines",
         "type": "scatter",
         "x": [
          -0.058383338153362274,
          -0.09089984744787216,
          null
         ],
         "y": [
          -0.16497622430324554,
          -0.21131810545921326,
          null
         ]
        },
        {
         "line": {
          "color": "gray",
          "width": 1
         },
         "mode": "lines",
         "type": "scatter",
         "x": [
          -0.058383338153362274,
          -0.06060438230633736,
          null
         ],
         "y": [
          -0.16497622430324554,
          -0.2127383053302765,
          null
         ]
        },
        {
         "line": {
          "color": "gray",
          "width": 1
         },
         "mode": "lines",
         "type": "scatter",
         "x": [
          -0.058383338153362274,
          -0.0756298378109932,
          null
         ],
         "y": [
          -0.16497622430324554,
          -0.18201027810573578,
          null
         ]
        },
        {
         "line": {
          "color": "gray",
          "width": 1
         },
         "mode": "lines",
         "type": "scatter",
         "x": [
          -0.058383338153362274,
          -0.0490155853331089,
          null
         ],
         "y": [
          -0.16497622430324554,
          -0.19640201330184937,
          null
         ]
        },
        {
         "line": {
          "color": "gray",
          "width": 1
         },
         "mode": "lines",
         "type": "scatter",
         "x": [
          -0.058383338153362274,
          -0.08068893849849701,
          null
         ],
         "y": [
          -0.16497622430324554,
          -0.19015057384967804,
          null
         ]
        },
        {
         "line": {
          "color": "gray",
          "width": 1
         },
         "mode": "lines",
         "type": "scatter",
         "x": [
          -0.058383338153362274,
          -0.06634804606437683,
          null
         ],
         "y": [
          -0.16497622430324554,
          -0.2164582759141922,
          null
         ]
        },
        {
         "line": {
          "color": "gray",
          "width": 1
         },
         "mode": "lines",
         "type": "scatter",
         "x": [
          -0.058383338153362274,
          -0.04331859201192856,
          null
         ],
         "y": [
          -0.16497622430324554,
          -0.18802565336227417,
          null
         ]
        },
        {
         "line": {
          "color": "gray",
          "width": 1
         },
         "mode": "lines",
         "type": "scatter",
         "x": [
          -0.058383338153362274,
          -0.056565362960100174,
          null
         ],
         "y": [
          -0.16497622430324554,
          -0.2209346741437912,
          null
         ]
        },
        {
         "line": {
          "color": "gray",
          "width": 1
         },
         "mode": "lines",
         "type": "scatter",
         "x": [
          -0.058383338153362274,
          -0.0892123132944107,
          null
         ],
         "y": [
          -0.16497622430324554,
          -0.20476034283638,
          null
         ]
        },
        {
         "line": {
          "color": "gray",
          "width": 1
         },
         "mode": "lines",
         "type": "scatter",
         "x": [
          -0.058383338153362274,
          -0.08970509469509125,
          null
         ],
         "y": [
          -0.16497622430324554,
          -0.18852196633815765,
          null
         ]
        },
        {
         "line": {
          "color": "gray",
          "width": 1
         },
         "mode": "lines",
         "type": "scatter",
         "x": [
          -0.058383338153362274,
          -0.07403703778982162,
          null
         ],
         "y": [
          -0.16497622430324554,
          -0.07040669023990631,
          null
         ]
        },
        {
         "line": {
          "color": "gray",
          "width": 1
         },
         "mode": "lines",
         "type": "scatter",
         "x": [
          -0.058383338153362274,
          -0.0951002910733223,
          null
         ],
         "y": [
          -0.16497622430324554,
          -0.18085503578186035,
          null
         ]
        },
        {
         "line": {
          "color": "gray",
          "width": 1
         },
         "mode": "lines",
         "type": "scatter",
         "x": [
          -0.058383338153362274,
          -0.09219682961702347,
          null
         ],
         "y": [
          -0.16497622430324554,
          -0.1966642141342163,
          null
         ]
        },
        {
         "line": {
          "color": "gray",
          "width": 1
         },
         "mode": "lines",
         "type": "scatter",
         "x": [
          -0.058383338153362274,
          -0.043243564665317535,
          null
         ],
         "y": [
          -0.16497622430324554,
          -0.2166759967803955,
          null
         ]
        },
        {
         "line": {
          "color": "gray",
          "width": 1
         },
         "mode": "lines",
         "type": "scatter",
         "x": [
          -0.058383338153362274,
          -0.06891565769910812,
          null
         ],
         "y": [
          -0.16497622430324554,
          -0.2217543125152588,
          null
         ]
        },
        {
         "line": {
          "color": "gray",
          "width": 1
         },
         "mode": "lines",
         "type": "scatter",
         "x": [
          -0.058383338153362274,
          -0.07157773524522781,
          null
         ],
         "y": [
          -0.16497622430324554,
          -0.20973160862922668,
          null
         ]
        },
        {
         "line": {
          "color": "gray",
          "width": 1
         },
         "mode": "lines",
         "type": "scatter",
         "x": [
          -0.058383338153362274,
          -0.07684776186943054,
          null
         ],
         "y": [
          -0.16497622430324554,
          -0.19697317481040955,
          null
         ]
        },
        {
         "line": {
          "color": "gray",
          "width": 1
         },
         "mode": "lines",
         "type": "scatter",
         "x": [
          -0.058383338153362274,
          -0.08550106734037399,
          null
         ],
         "y": [
          -0.16497622430324554,
          -0.18146423995494843,
          null
         ]
        },
        {
         "line": {
          "color": "gray",
          "width": 1
         },
         "mode": "lines",
         "type": "scatter",
         "x": [
          -0.058383338153362274,
          -0.05469674617052078,
          null
         ],
         "y": [
          -0.16497622430324554,
          -0.1773681342601776,
          null
         ]
        },
        {
         "line": {
          "color": "gray",
          "width": 1
         },
         "mode": "lines",
         "type": "scatter",
         "x": [
          -0.058383338153362274,
          -0.09479064494371414,
          null
         ],
         "y": [
          -0.16497622430324554,
          -0.16582979261875153,
          null
         ]
        },
        {
         "line": {
          "color": "gray",
          "width": 1
         },
         "mode": "lines",
         "type": "scatter",
         "x": [
          -0.058383338153362274,
          -0.09595058858394623,
          null
         ],
         "y": [
          -0.16497622430324554,
          -0.2038319706916809,
          null
         ]
        },
        {
         "line": {
          "color": "gray",
          "width": 1
         },
         "mode": "lines",
         "type": "scatter",
         "x": [
          -0.058383338153362274,
          -0.08400037884712219,
          null
         ],
         "y": [
          -0.16497622430324554,
          -0.21247367560863495,
          null
         ]
        },
        {
         "line": {
          "color": "gray",
          "width": 1
         },
         "mode": "lines",
         "type": "scatter",
         "x": [
          -0.058383338153362274,
          -0.07565394043922424,
          null
         ],
         "y": [
          -0.16497622430324554,
          -0.2149188071489334,
          null
         ]
        },
        {
         "line": {
          "color": "gray",
          "width": 1
         },
         "mode": "lines",
         "type": "scatter",
         "x": [
          -0.058383338153362274,
          -0.06778263300657272,
          null
         ],
         "y": [
          -0.16497622430324554,
          -0.19502440094947815,
          null
         ]
        },
        {
         "line": {
          "color": "gray",
          "width": 1
         },
         "mode": "lines",
         "type": "scatter",
         "x": [
          -0.058383338153362274,
          -0.051252372562885284,
          null
         ],
         "y": [
          -0.16497622430324554,
          -0.21608838438987732,
          null
         ]
        },
        {
         "line": {
          "color": "gray",
          "width": 1
         },
         "mode": "lines",
         "type": "scatter",
         "x": [
          -0.058383338153362274,
          -0.05575535446405411,
          null
         ],
         "y": [
          -0.16497622430324554,
          -0.20421725511550903,
          null
         ]
        },
        {
         "line": {
          "color": "gray",
          "width": 1
         },
         "mode": "lines",
         "type": "scatter",
         "x": [
          -0.058383338153362274,
          -0.04413865879178047,
          null
         ],
         "y": [
          -0.16497622430324554,
          -0.17351585626602173,
          null
         ]
        },
        {
         "line": {
          "color": "gray",
          "width": 1
         },
         "mode": "lines",
         "type": "scatter",
         "x": [
          -0.058383338153362274,
          -0.09885574877262115,
          null
         ],
         "y": [
          -0.16497622430324554,
          -0.17355018854141235,
          null
         ]
        },
        {
         "line": {
          "color": "gray",
          "width": 1
         },
         "mode": "lines",
         "type": "scatter",
         "x": [
          -0.058383338153362274,
          -0.06034434586763382,
          null
         ],
         "y": [
          -0.16497622430324554,
          -0.19875481724739075,
          null
         ]
        },
        {
         "line": {
          "color": "gray",
          "width": 1
         },
         "mode": "lines",
         "type": "scatter",
         "x": [
          -0.058383338153362274,
          -0.09764757752418518,
          null
         ],
         "y": [
          -0.16497622430324554,
          -0.19009298086166382,
          null
         ]
        },
        {
         "line": {
          "color": "gray",
          "width": 1
         },
         "mode": "lines",
         "type": "scatter",
         "x": [
          0.1861722767353058,
          0.21132221817970276,
          null
         ],
         "y": [
          -0.09329796582460403,
          -0.1332007795572281,
          null
         ]
        },
        {
         "line": {
          "color": "gray",
          "width": 1
         },
         "mode": "lines",
         "type": "scatter",
         "x": [
          0.1861722767353058,
          -0.05216536670923233,
          null
         ],
         "y": [
          -0.09329796582460403,
          -0.03922661021351814,
          null
         ]
        },
        {
         "line": {
          "color": "gray",
          "width": 1
         },
         "mode": "lines",
         "type": "scatter",
         "x": [
          0.1861722767353058,
          0.2383369654417038,
          null
         ],
         "y": [
          -0.09329796582460403,
          -0.08877898752689362,
          null
         ]
        },
        {
         "line": {
          "color": "gray",
          "width": 1
         },
         "mode": "lines",
         "type": "scatter",
         "x": [
          0.1861722767353058,
          0.22164539992809296,
          null
         ],
         "y": [
          -0.09329796582460403,
          -0.12656168639659882,
          null
         ]
        },
        {
         "line": {
          "color": "gray",
          "width": 1
         },
         "mode": "lines",
         "type": "scatter",
         "x": [
          0.1861722767353058,
          0.22633515298366547,
          null
         ],
         "y": [
          -0.09329796582460403,
          -0.07630227506160736,
          null
         ]
        },
        {
         "line": {
          "color": "gray",
          "width": 1
         },
         "mode": "lines",
         "type": "scatter",
         "x": [
          0.1861722767353058,
          0.21474453806877136,
          null
         ],
         "y": [
          -0.09329796582460403,
          -0.08182700723409653,
          null
         ]
        },
        {
         "line": {
          "color": "gray",
          "width": 1
         },
         "mode": "lines",
         "type": "scatter",
         "x": [
          0.1861722767353058,
          0.20474344491958618,
          null
         ],
         "y": [
          -0.09329796582460403,
          -0.12936042249202728,
          null
         ]
        },
        {
         "line": {
          "color": "gray",
          "width": 1
         },
         "mode": "lines",
         "type": "scatter",
         "x": [
          0.1861722767353058,
          0.22987687587738037,
          null
         ],
         "y": [
          -0.09329796582460403,
          -0.12100160121917725,
          null
         ]
        },
        {
         "line": {
          "color": "gray",
          "width": 1
         },
         "mode": "lines",
         "type": "scatter",
         "x": [
          0.1861722767353058,
          0.22383850812911987,
          null
         ],
         "y": [
          -0.09329796582460403,
          -0.11448436975479126,
          null
         ]
        },
        {
         "line": {
          "color": "gray",
          "width": 1
         },
         "mode": "lines",
         "type": "scatter",
         "x": [
          0.1861722767353058,
          0.21257612109184265,
          null
         ],
         "y": [
          -0.09329796582460403,
          -0.11659799516201019,
          null
         ]
        },
        {
         "line": {
          "color": "gray",
          "width": 1
         },
         "mode": "lines",
         "type": "scatter",
         "x": [
          0.1861722767353058,
          0.23053081333637238,
          null
         ],
         "y": [
          -0.09329796582460403,
          -0.09415455907583237,
          null
         ]
        },
        {
         "line": {
          "color": "gray",
          "width": 1
         },
         "mode": "lines",
         "type": "scatter",
         "x": [
          0.1861722767353058,
          0.22984373569488525,
          null
         ],
         "y": [
          -0.09329796582460403,
          -0.11170145869255066,
          null
         ]
        },
        {
         "line": {
          "color": "gray",
          "width": 1
         },
         "mode": "lines",
         "type": "scatter",
         "x": [
          0.1861722767353058,
          0.22038638591766357,
          null
         ],
         "y": [
          -0.09329796582460403,
          -0.09065040946006775,
          null
         ]
        },
        {
         "line": {
          "color": "gray",
          "width": 1
         },
         "mode": "lines",
         "type": "scatter",
         "x": [
          0.1861722767353058,
          0.22427232563495636,
          null
         ],
         "y": [
          -0.09329796582460403,
          -0.08453212678432465,
          null
         ]
        },
        {
         "line": {
          "color": "gray",
          "width": 1
         },
         "mode": "lines",
         "type": "scatter",
         "x": [
          0.1861722767353058,
          0.21343360841274261,
          null
         ],
         "y": [
          -0.09329796582460403,
          -0.12482675164937973,
          null
         ]
        },
        {
         "line": {
          "color": "gray",
          "width": 1
         },
         "mode": "lines",
         "type": "scatter",
         "x": [
          0.1861722767353058,
          0.23171596229076385,
          null
         ],
         "y": [
          -0.09329796582460403,
          -0.08751185983419418,
          null
         ]
        },
        {
         "line": {
          "color": "gray",
          "width": 1
         },
         "mode": "lines",
         "type": "scatter",
         "x": [
          0.1861722767353058,
          0.23495259881019592,
          null
         ],
         "y": [
          -0.09329796582460403,
          -0.11738086491823196,
          null
         ]
        },
        {
         "line": {
          "color": "gray",
          "width": 1
         },
         "mode": "lines",
         "type": "scatter",
         "x": [
          0.1861722767353058,
          0.21876659989356995,
          null
         ],
         "y": [
          -0.09329796582460403,
          -0.13202767074108124,
          null
         ]
        },
        {
         "line": {
          "color": "gray",
          "width": 1
         },
         "mode": "lines",
         "type": "scatter",
         "x": [
          0.1861722767353058,
          0.24093519151210785,
          null
         ],
         "y": [
          -0.09329796582460403,
          -0.10145904123783112,
          null
         ]
        },
        {
         "line": {
          "color": "gray",
          "width": 1
         },
         "mode": "lines",
         "type": "scatter",
         "x": [
          0.1861722767353058,
          0.2198629081249237,
          null
         ],
         "y": [
          -0.09329796582460403,
          -0.1188802421092987,
          null
         ]
        },
        {
         "line": {
          "color": "gray",
          "width": 1
         },
         "mode": "lines",
         "type": "scatter",
         "x": [
          0.1861722767353058,
          0.20517994463443756,
          null
         ],
         "y": [
          -0.09329796582460403,
          -0.1218285784125328,
          null
         ]
        },
        {
         "line": {
          "color": "gray",
          "width": 1
         },
         "mode": "lines",
         "type": "scatter",
         "x": [
          0.1861722767353058,
          0.23241256177425385,
          null
         ],
         "y": [
          -0.09329796582460403,
          -0.08089864253997803,
          null
         ]
        },
        {
         "line": {
          "color": "gray",
          "width": 1
         },
         "mode": "lines",
         "type": "scatter",
         "x": [
          0.1861722767353058,
          0.18264266848564148,
          null
         ],
         "y": [
          -0.09329796582460403,
          -0.14583934843540192,
          null
         ]
        },
        {
         "line": {
          "color": "gray",
          "width": 1
         },
         "mode": "lines",
         "type": "scatter",
         "x": [
          0.1861722767353058,
          0.2302445024251938,
          null
         ],
         "y": [
          -0.09329796582460403,
          -0.1049356460571289,
          null
         ]
        },
        {
         "line": {
          "color": "gray",
          "width": 1
         },
         "mode": "lines",
         "type": "scatter",
         "x": [
          0.1861722767353058,
          0.21406038105487823,
          null
         ],
         "y": [
          -0.09329796582460403,
          -0.09469132125377655,
          null
         ]
        },
        {
         "line": {
          "color": "gray",
          "width": 1
         },
         "mode": "lines",
         "type": "scatter",
         "x": [
          0.1861722767353058,
          0.21895667910575867,
          null
         ],
         "y": [
          -0.09329796582460403,
          -0.07569270581007004,
          null
         ]
        },
        {
         "line": {
          "color": "gray",
          "width": 1
         },
         "mode": "lines",
         "type": "scatter",
         "x": [
          0.1861722767353058,
          0.23636531829833984,
          null
         ],
         "y": [
          -0.09329796582460403,
          -0.1043059229850769,
          null
         ]
        },
        {
         "line": {
          "color": "gray",
          "width": 1
         },
         "mode": "lines",
         "type": "scatter",
         "x": [
          0.1861722767353058,
          0.22497659921646118,
          null
         ],
         "y": [
          -0.09329796582460403,
          -0.09798223525285721,
          null
         ]
        },
        {
         "line": {
          "color": "gray",
          "width": 1
         },
         "mode": "lines",
         "type": "scatter",
         "x": [
          0.1861722767353058,
          0.20935571193695068,
          null
         ],
         "y": [
          -0.09329796582460403,
          -0.10916651040315628,
          null
         ]
        },
        {
         "line": {
          "color": "gray",
          "width": 1
         },
         "mode": "lines",
         "type": "scatter",
         "x": [
          0.1861722767353058,
          0.237264484167099,
          null
         ],
         "y": [
          -0.09329796582460403,
          -0.09597375988960266,
          null
         ]
        },
        {
         "line": {
          "color": "gray",
          "width": 1
         },
         "mode": "lines",
         "type": "scatter",
         "x": [
          0.1861722767353058,
          0.2379155457019806,
          null
         ],
         "y": [
          -0.09329796582460403,
          -0.11149780452251434,
          null
         ]
        },
        {
         "line": {
          "color": "gray",
          "width": 1
         },
         "mode": "lines",
         "type": "scatter",
         "x": [
          0.1861722767353058,
          0.22800709307193756,
          null
         ],
         "y": [
          -0.09329796582460403,
          -0.1266978532075882,
          null
         ]
        },
        {
         "line": {
          "color": "gray",
          "width": 1
         },
         "mode": "lines",
         "type": "scatter",
         "x": [
          0.1861722767353058,
          0.22274048626422882,
          null
         ],
         "y": [
          -0.09329796582460403,
          -0.10450661927461624,
          null
         ]
        },
        {
         "line": {
          "color": "gray",
          "width": 1
         },
         "mode": "lines",
         "type": "scatter",
         "x": [
          0.1861722767353058,
          0.21605707705020905,
          null
         ],
         "y": [
          -0.09329796582460403,
          -0.10573681443929672,
          null
         ]
        },
        {
         "line": {
          "color": "gray",
          "width": 1
         },
         "mode": "lines",
         "type": "scatter",
         "x": [
          0.8834168314933777,
          0.8933295011520386,
          null
         ],
         "y": [
          0.27248430252075195,
          0.27871179580688477,
          null
         ]
        },
        {
         "line": {
          "color": "gray",
          "width": 1
         },
         "mode": "lines",
         "type": "scatter",
         "x": [
          -0.010078025981783867,
          0.008853942155838013,
          null
         ],
         "y": [
          -0.13094264268875122,
          -0.13137613236904144,
          null
         ]
        },
        {
         "line": {
          "color": "gray",
          "width": 1
         },
         "mode": "lines",
         "type": "scatter",
         "x": [
          -0.010078025981783867,
          -0.0029714207630604506,
          null
         ],
         "y": [
          -0.13094264268875122,
          -0.17422132194042206,
          null
         ]
        },
        {
         "line": {
          "color": "gray",
          "width": 1
         },
         "mode": "lines",
         "type": "scatter",
         "x": [
          -0.010078025981783867,
          0.0005701520130969584,
          null
         ],
         "y": [
          -0.13094264268875122,
          -0.18005676567554474,
          null
         ]
        },
        {
         "line": {
          "color": "gray",
          "width": 1
         },
         "mode": "lines",
         "type": "scatter",
         "x": [
          -0.010078025981783867,
          -0.002411637920886278,
          null
         ],
         "y": [
          -0.13094264268875122,
          -0.15487268567085266,
          null
         ]
        },
        {
         "line": {
          "color": "gray",
          "width": 1
         },
         "mode": "lines",
         "type": "scatter",
         "x": [
          -0.010078025981783867,
          -0.018712909892201424,
          null
         ],
         "y": [
          -0.13094264268875122,
          -0.17657621204853058,
          null
         ]
        },
        {
         "line": {
          "color": "gray",
          "width": 1
         },
         "mode": "lines",
         "type": "scatter",
         "x": [
          -0.010078025981783867,
          0.0034510225523263216,
          null
         ],
         "y": [
          -0.13094264268875122,
          -0.1476222574710846,
          null
         ]
        },
        {
         "line": {
          "color": "gray",
          "width": 1
         },
         "mode": "lines",
         "type": "scatter",
         "x": [
          -0.010078025981783867,
          -0.010586741380393505,
          null
         ],
         "y": [
          -0.13094264268875122,
          -0.18341600894927979,
          null
         ]
        },
        {
         "line": {
          "color": "gray",
          "width": 1
         },
         "mode": "lines",
         "type": "scatter",
         "x": [
          -0.010078025981783867,
          -0.022578956559300423,
          null
         ],
         "y": [
          -0.13094264268875122,
          -0.16069312393665314,
          null
         ]
        },
        {
         "line": {
          "color": "gray",
          "width": 1
         },
         "mode": "lines",
         "type": "scatter",
         "x": [
          -0.010078025981783867,
          -0.011390377767384052,
          null
         ],
         "y": [
          -0.13094264268875122,
          -0.1757856160402298,
          null
         ]
        },
        {
         "line": {
          "color": "gray",
          "width": 1
         },
         "mode": "lines",
         "type": "scatter",
         "x": [
          -0.010078025981783867,
          0.00852579902857542,
          null
         ],
         "y": [
          -0.13094264268875122,
          -0.1554577350616455,
          null
         ]
        },
        {
         "line": {
          "color": "gray",
          "width": 1
         },
         "mode": "lines",
         "type": "scatter",
         "x": [
          -0.010078025981783867,
          0.004534934647381306,
          null
         ],
         "y": [
          -0.13094264268875122,
          -0.165583074092865,
          null
         ]
        },
        {
         "line": {
          "color": "gray",
          "width": 1
         },
         "mode": "lines",
         "type": "scatter",
         "x": [
          -0.010078025981783867,
          -0.010683293454349041,
          null
         ],
         "y": [
          -0.13094264268875122,
          -0.16931863129138947,
          null
         ]
        },
        {
         "line": {
          "color": "gray",
          "width": 1
         },
         "mode": "lines",
         "type": "scatter",
         "x": [
          -0.010078025981783867,
          0.01174943894147873,
          null
         ],
         "y": [
          -0.13094264268875122,
          -0.0103636858984828,
          null
         ]
        },
        {
         "line": {
          "color": "gray",
          "width": 1
         },
         "mode": "lines",
         "type": "scatter",
         "x": [
          -0.010078025981783867,
          -0.016141369938850403,
          null
         ],
         "y": [
          -0.13094264268875122,
          -0.15556390583515167,
          null
         ]
        },
        {
         "line": {
          "color": "gray",
          "width": 1
         },
         "mode": "lines",
         "type": "scatter",
         "x": [
          -0.010078025981783867,
          -0.015708019956946373,
          null
         ],
         "y": [
          -0.13094264268875122,
          -0.18446990847587585,
          null
         ]
        },
        {
         "line": {
          "color": "gray",
          "width": 1
         },
         "mode": "lines",
         "type": "scatter",
         "x": [
          -0.010078025981783867,
          -0.014349625445902348,
          null
         ],
         "y": [
          -0.13094264268875122,
          -0.1464732587337494,
          null
         ]
        },
        {
         "line": {
          "color": "gray",
          "width": 1
         },
         "mode": "lines",
         "type": "scatter",
         "x": [
          -0.010078025981783867,
          -0.0032079163938760757,
          null
         ],
         "y": [
          -0.13094264268875122,
          -0.16505682468414307,
          null
         ]
        },
        {
         "line": {
          "color": "gray",
          "width": 1
         },
         "mode": "lines",
         "type": "scatter",
         "x": [
          -0.010078025981783867,
          -0.01794445887207985,
          null
         ],
         "y": [
          -0.13094264268875122,
          -0.16788099706172943,
          null
         ]
        },
        {
         "line": {
          "color": "gray",
          "width": 1
         },
         "mode": "lines",
         "type": "scatter",
         "x": [
          -0.010078025981783867,
          -0.005765988025814295,
          null
         ],
         "y": [
          -0.13094264268875122,
          -0.1805167943239212,
          null
         ]
        },
        {
         "line": {
          "color": "gray",
          "width": 1
         },
         "mode": "lines",
         "type": "scatter",
         "x": [
          -0.010078025981783867,
          0.004905401263386011,
          null
         ],
         "y": [
          -0.13094264268875122,
          -0.17706553637981415,
          null
         ]
        },
        {
         "line": {
          "color": "gray",
          "width": 1
         },
         "mode": "lines",
         "type": "scatter",
         "x": [
          -0.010078025981783867,
          -0.0032657640986144543,
          null
         ],
         "y": [
          -0.13094264268875122,
          -0.1866845339536667,
          null
         ]
        },
        {
         "line": {
          "color": "gray",
          "width": 1
         },
         "mode": "lines",
         "type": "scatter",
         "x": [
          -0.6785370111465454,
          -0.7086451053619385,
          null
         ],
         "y": [
          -0.3773064911365509,
          -0.39756152033805847,
          null
         ]
        },
        {
         "line": {
          "color": "gray",
          "width": 1
         },
         "mode": "lines",
         "type": "scatter",
         "x": [
          -0.6785370111465454,
          -0.6590937972068787,
          null
         ],
         "y": [
          -0.3773064911365509,
          -0.36646878719329834,
          null
         ]
        },
        {
         "line": {
          "color": "gray",
          "width": 1
         },
         "mode": "lines",
         "type": "scatter",
         "x": [
          -0.6785370111465454,
          -0.6910616159439087,
          null
         ],
         "y": [
          -0.3773064911365509,
          -0.37479421496391296,
          null
         ]
        },
        {
         "line": {
          "color": "gray",
          "width": 1
         },
         "mode": "lines",
         "type": "scatter",
         "x": [
          0.9688181281089783,
          0.9356858730316162,
          null
         ],
         "y": [
          0.04842715710401535,
          0.046698227524757385,
          null
         ]
        },
        {
         "line": {
          "color": "gray",
          "width": 1
         },
         "mode": "lines",
         "type": "scatter",
         "x": [
          0.06494920700788498,
          0.019412199035286903,
          null
         ],
         "y": [
          -0.047989603132009506,
          -0.03215645253658295,
          null
         ]
        },
        {
         "line": {
          "color": "gray",
          "width": 1
         },
         "mode": "lines",
         "type": "scatter",
         "x": [
          0.06494920700788498,
          0.10088570415973663,
          null
         ],
         "y": [
          -0.047989603132009506,
          -0.05808621272444725,
          null
         ]
        },
        {
         "line": {
          "color": "gray",
          "width": 1
         },
         "mode": "lines",
         "type": "scatter",
         "x": [
          0.06494920700788498,
          0.01174943894147873,
          null
         ],
         "y": [
          -0.047989603132009506,
          -0.0103636858984828,
          null
         ]
        },
        {
         "line": {
          "color": "gray",
          "width": 1
         },
         "mode": "lines",
         "type": "scatter",
         "x": [
          0.06494920700788498,
          0.09161680191755295,
          null
         ],
         "y": [
          -0.047989603132009506,
          -0.07163823395967484,
          null
         ]
        },
        {
         "line": {
          "color": "gray",
          "width": 1
         },
         "mode": "lines",
         "type": "scatter",
         "x": [
          0.06494920700788498,
          0.09937174618244171,
          null
         ],
         "y": [
          -0.047989603132009506,
          -0.06738993525505066,
          null
         ]
        },
        {
         "line": {
          "color": "gray",
          "width": 1
         },
         "mode": "lines",
         "type": "scatter",
         "x": [
          0.06494920700788498,
          0.09389761090278625,
          null
         ],
         "y": [
          -0.047989603132009506,
          -0.06271617114543915,
          null
         ]
        },
        {
         "line": {
          "color": "gray",
          "width": 1
         },
         "mode": "lines",
         "type": "scatter",
         "x": [
          0.14146003127098083,
          0.1572856307029724,
          null
         ],
         "y": [
          0.23277361690998077,
          0.26576870679855347,
          null
         ]
        },
        {
         "line": {
          "color": "gray",
          "width": 1
         },
         "mode": "lines",
         "type": "scatter",
         "x": [
          0.14146003127098083,
          0.17167089879512787,
          null
         ],
         "y": [
          0.23277361690998077,
          0.2537349760532379,
          null
         ]
        },
        {
         "line": {
          "color": "gray",
          "width": 1
         },
         "mode": "lines",
         "type": "scatter",
         "x": [
          0.14146003127098083,
          0.16805391013622284,
          null
         ],
         "y": [
          0.23277361690998077,
          0.2602160573005676,
          null
         ]
        },
        {
         "line": {
          "color": "gray",
          "width": 1
         },
         "mode": "lines",
         "type": "scatter",
         "x": [
          0.14146003127098083,
          0.16214953362941742,
          null
         ],
         "y": [
          0.23277361690998077,
          0.2543797194957733,
          null
         ]
        },
        {
         "line": {
          "color": "gray",
          "width": 1
         },
         "mode": "lines",
         "type": "scatter",
         "x": [
          0.14146003127098083,
          0.158254474401474,
          null
         ],
         "y": [
          0.23277361690998077,
          0.2729444205760956,
          null
         ]
        },
        {
         "line": {
          "color": "gray",
          "width": 1
         },
         "mode": "lines",
         "type": "scatter",
         "x": [
          0.14146003127098083,
          0.14421819150447845,
          null
         ],
         "y": [
          0.23277361690998077,
          0.2631950080394745,
          null
         ]
        },
        {
         "line": {
          "color": "gray",
          "width": 1
         },
         "mode": "lines",
         "type": "scatter",
         "x": [
          0.14146003127098083,
          0.026181578636169434,
          null
         ],
         "y": [
          0.23277361690998077,
          0.1285030096769333,
          null
         ]
        },
        {
         "line": {
          "color": "gray",
          "width": 1
         },
         "mode": "lines",
         "type": "scatter",
         "x": [
          0.14146003127098083,
          0.17498551309108734,
          null
         ],
         "y": [
          0.23277361690998077,
          0.26624390482902527,
          null
         ]
        },
        {
         "line": {
          "color": "gray",
          "width": 1
         },
         "mode": "lines",
         "type": "scatter",
         "x": [
          0.14146003127098083,
          0.16524170339107513,
          null
         ],
         "y": [
          0.23277361690998077,
          0.27432724833488464,
          null
         ]
        },
        {
         "line": {
          "color": "gray",
          "width": 1
         },
         "mode": "lines",
         "type": "scatter",
         "x": [
          0.14146003127098083,
          0.2459266036748886,
          null
         ],
         "y": [
          0.23277361690998077,
          0.17503659427165985,
          null
         ]
        },
        {
         "line": {
          "color": "gray",
          "width": 1
         },
         "mode": "lines",
         "type": "scatter",
         "x": [
          0.14146003127098083,
          0.1395735889673233,
          null
         ],
         "y": [
          0.23277361690998077,
          0.27236223220825195,
          null
         ]
        },
        {
         "line": {
          "color": "gray",
          "width": 1
         },
         "mode": "lines",
         "type": "scatter",
         "x": [
          0.14146003127098083,
          0.17128725349903107,
          null
         ],
         "y": [
          0.23277361690998077,
          0.2713938355445862,
          null
         ]
        },
        {
         "line": {
          "color": "gray",
          "width": 1
         },
         "mode": "lines",
         "type": "scatter",
         "x": [
          0.14146003127098083,
          0.17441733181476593,
          null
         ],
         "y": [
          0.23277361690998077,
          0.14870129525661469,
          null
         ]
        },
        {
         "line": {
          "color": "gray",
          "width": 1
         },
         "mode": "lines",
         "type": "scatter",
         "x": [
          0.14146003127098083,
          0.1646679937839508,
          null
         ],
         "y": [
          0.23277361690998077,
          0.2660422921180725,
          null
         ]
        },
        {
         "line": {
          "color": "gray",
          "width": 1
         },
         "mode": "lines",
         "type": "scatter",
         "x": [
          0.14146003127098083,
          0.1786118745803833,
          null
         ],
         "y": [
          0.23277361690998077,
          0.2544954717159271,
          null
         ]
        },
        {
         "line": {
          "color": "gray",
          "width": 1
         },
         "mode": "lines",
         "type": "scatter",
         "x": [
          0.14146003127098083,
          0.09976844489574432,
          null
         ],
         "y": [
          0.23277361690998077,
          0.3084874749183655,
          null
         ]
        },
        {
         "line": {
          "color": "gray",
          "width": 1
         },
         "mode": "lines",
         "type": "scatter",
         "x": [
          0.14146003127098083,
          0.1515660285949707,
          null
         ],
         "y": [
          0.23277361690998077,
          0.25829899311065674,
          null
         ]
        },
        {
         "line": {
          "color": "gray",
          "width": 1
         },
         "mode": "lines",
         "type": "scatter",
         "x": [
          0.14146003127098083,
          0.17621588706970215,
          null
         ],
         "y": [
          0.23277361690998077,
          0.2477910816669464,
          null
         ]
        },
        {
         "line": {
          "color": "gray",
          "width": 1
         },
         "mode": "lines",
         "type": "scatter",
         "x": [
          0.14146003127098083,
          0.06568566709756851,
          null
         ],
         "y": [
          0.23277361690998077,
          0.2928071916103363,
          null
         ]
        },
        {
         "line": {
          "color": "gray",
          "width": 1
         },
         "mode": "lines",
         "type": "scatter",
         "x": [
          0.14146003127098083,
          0.1797153502702713,
          null
         ],
         "y": [
          0.23277361690998077,
          0.26145491003990173,
          null
         ]
        },
        {
         "line": {
          "color": "gray",
          "width": 1
         },
         "mode": "lines",
         "type": "scatter",
         "x": [
          -0.2316221445798874,
          -0.23569355905056,
          null
         ],
         "y": [
          0.33915072679519653,
          0.3725915849208832,
          null
         ]
        },
        {
         "line": {
          "color": "gray",
          "width": 1
         },
         "mode": "lines",
         "type": "scatter",
         "x": [
          -0.2316221445798874,
          -0.23514124751091003,
          null
         ],
         "y": [
          0.33915072679519653,
          0.38055333495140076,
          null
         ]
        },
        {
         "line": {
          "color": "gray",
          "width": 1
         },
         "mode": "lines",
         "type": "scatter",
         "x": [
          -0.2316221445798874,
          -0.25078555941581726,
          null
         ],
         "y": [
          0.33915072679519653,
          0.3770101070404053,
          null
         ]
        },
        {
         "line": {
          "color": "gray",
          "width": 1
         },
         "mode": "lines",
         "type": "scatter",
         "x": [
          -0.2316221445798874,
          -0.24250943958759308,
          null
         ],
         "y": [
          0.33915072679519653,
          0.3870813846588135,
          null
         ]
        },
        {
         "line": {
          "color": "gray",
          "width": 1
         },
         "mode": "lines",
         "type": "scatter",
         "x": [
          -0.2316221445798874,
          -0.1164708361029625,
          null
         ],
         "y": [
          0.33915072679519653,
          0.18153086304664612,
          null
         ]
        },
        {
         "line": {
          "color": "gray",
          "width": 1
         },
         "mode": "lines",
         "type": "scatter",
         "x": [
          -0.2316221445798874,
          -0.2690095901489258,
          null
         ],
         "y": [
          0.33915072679519653,
          0.3667784035205841,
          null
         ]
        },
        {
         "line": {
          "color": "gray",
          "width": 1
         },
         "mode": "lines",
         "type": "scatter",
         "x": [
          -0.2316221445798874,
          -0.2509349584579468,
          null
         ],
         "y": [
          0.33915072679519653,
          0.3651144504547119,
          null
         ]
        },
        {
         "line": {
          "color": "gray",
          "width": 1
         },
         "mode": "lines",
         "type": "scatter",
         "x": [
          -0.2316221445798874,
          -0.22800327837467194,
          null
         ],
         "y": [
          0.33915072679519653,
          0.37951329350471497,
          null
         ]
        },
        {
         "line": {
          "color": "gray",
          "width": 1
         },
         "mode": "lines",
         "type": "scatter",
         "x": [
          -0.2316221445798874,
          -0.2445956915616989,
          null
         ],
         "y": [
          0.33915072679519653,
          0.38024434447288513,
          null
         ]
        },
        {
         "line": {
          "color": "gray",
          "width": 1
         },
         "mode": "lines",
         "type": "scatter",
         "x": [
          -0.2316221445798874,
          -0.249583438038826,
          null
         ],
         "y": [
          0.33915072679519653,
          0.3864371180534363,
          null
         ]
        },
        {
         "line": {
          "color": "gray",
          "width": 1
         },
         "mode": "lines",
         "type": "scatter",
         "x": [
          -0.2316221445798874,
          -0.2588657736778259,
          null
         ],
         "y": [
          0.33915072679519653,
          0.3796338438987732,
          null
         ]
        },
        {
         "line": {
          "color": "gray",
          "width": 1
         },
         "mode": "lines",
         "type": "scatter",
         "x": [
          -0.2316221445798874,
          -0.27373096346855164,
          null
         ],
         "y": [
          0.33915072679519653,
          0.36298343539237976,
          null
         ]
        },
        {
         "line": {
          "color": "gray",
          "width": 1
         },
         "mode": "lines",
         "type": "scatter",
         "x": [
          -0.2316221445798874,
          -0.2697654068470001,
          null
         ],
         "y": [
          0.33915072679519653,
          0.3737529218196869,
          null
         ]
        },
        {
         "line": {
          "color": "gray",
          "width": 1
         },
         "mode": "lines",
         "type": "scatter",
         "x": [
          -0.2316221445798874,
          -0.243768110871315,
          null
         ],
         "y": [
          0.33915072679519653,
          0.3709067106246948,
          null
         ]
        },
        {
         "line": {
          "color": "gray",
          "width": 1
         },
         "mode": "lines",
         "type": "scatter",
         "x": [
          -0.2316221445798874,
          -0.2357047200202942,
          null
         ],
         "y": [
          0.33915072679519653,
          0.38625696301460266,
          null
         ]
        },
        {
         "line": {
          "color": "gray",
          "width": 1
         },
         "mode": "lines",
         "type": "scatter",
         "x": [
          -0.2316221445798874,
          -0.256282240152359,
          null
         ],
         "y": [
          0.33915072679519653,
          0.385276198387146,
          null
         ]
        },
        {
         "line": {
          "color": "gray",
          "width": 1
         },
         "mode": "lines",
         "type": "scatter",
         "x": [
          -0.2316221445798874,
          -0.2588598132133484,
          null
         ],
         "y": [
          0.33915072679519653,
          0.3621198832988739,
          null
         ]
        },
        {
         "line": {
          "color": "gray",
          "width": 1
         },
         "mode": "lines",
         "type": "scatter",
         "x": [
          -0.2316221445798874,
          -0.2641616463661194,
          null
         ],
         "y": [
          0.33915072679519653,
          0.3576449751853943,
          null
         ]
        },
        {
         "line": {
          "color": "gray",
          "width": 1
         },
         "mode": "lines",
         "type": "scatter",
         "x": [
          -0.2316221445798874,
          -0.2706960439682007,
          null
         ],
         "y": [
          0.33915072679519653,
          0.3555837571620941,
          null
         ]
        },
        {
         "line": {
          "color": "gray",
          "width": 1
         },
         "mode": "lines",
         "type": "scatter",
         "x": [
          -0.2316221445798874,
          -0.25554484128952026,
          null
         ],
         "y": [
          0.33915072679519653,
          0.37193748354911804,
          null
         ]
        },
        {
         "line": {
          "color": "gray",
          "width": 1
         },
         "mode": "lines",
         "type": "scatter",
         "x": [
          -0.2316221445798874,
          -0.26487910747528076,
          null
         ],
         "y": [
          0.33915072679519653,
          0.37848642468452454,
          null
         ]
        },
        {
         "line": {
          "color": "gray",
          "width": 1
         },
         "mode": "lines",
         "type": "scatter",
         "x": [
          -0.2316221445798874,
          -0.2625595033168793,
          null
         ],
         "y": [
          0.33915072679519653,
          0.3698350191116333,
          null
         ]
        },
        {
         "line": {
          "color": "gray",
          "width": 1
         },
         "mode": "lines",
         "type": "scatter",
         "x": [
          -0.029060473665595055,
          -0.056705575436353683,
          null
         ],
         "y": [
          0.12555895745754242,
          0.1452532410621643,
          null
         ]
        },
        {
         "line": {
          "color": "gray",
          "width": 1
         },
         "mode": "lines",
         "type": "scatter",
         "x": [
          -0.029060473665595055,
          0.12732216715812683,
          null
         ],
         "y": [
          0.12555895745754242,
          0.15149913728237152,
          null
         ]
        },
        {
         "line": {
          "color": "gray",
          "width": 1
         },
         "mode": "lines",
         "type": "scatter",
         "x": [
          -0.029060473665595055,
          -0.057974714785814285,
          null
         ],
         "y": [
          0.12555895745754242,
          0.15229059755802155,
          null
         ]
        },
        {
         "line": {
          "color": "gray",
          "width": 1
         },
         "mode": "lines",
         "type": "scatter",
         "x": [
          -0.029060473665595055,
          -0.15663781762123108,
          null
         ],
         "y": [
          0.12555895745754242,
          0.04499673470854759,
          null
         ]
        },
        {
         "line": {
          "color": "gray",
          "width": 1
         },
         "mode": "lines",
         "type": "scatter",
         "x": [
          -0.029060473665595055,
          -0.04808333143591881,
          null
         ],
         "y": [
          0.12555895745754242,
          0.1512371003627777,
          null
         ]
        },
        {
         "line": {
          "color": "gray",
          "width": 1
         },
         "mode": "lines",
         "type": "scatter",
         "x": [
          -0.029060473665595055,
          -0.053944844752550125,
          null
         ],
         "y": [
          0.12555895745754242,
          0.1588522344827652,
          null
         ]
        },
        {
         "line": {
          "color": "gray",
          "width": 1
         },
         "mode": "lines",
         "type": "scatter",
         "x": [
          -0.029060473665595055,
          -0.04519617184996605,
          null
         ],
         "y": [
          0.12555895745754242,
          0.15734067559242249,
          null
         ]
        },
        {
         "line": {
          "color": "gray",
          "width": 1
         },
         "mode": "lines",
         "type": "scatter",
         "x": [
          -0.029060473665595055,
          -0.04479961097240448,
          null
         ],
         "y": [
          0.12555895745754242,
          0.1640760749578476,
          null
         ]
        },
        {
         "line": {
          "color": "gray",
          "width": 1
         },
         "mode": "lines",
         "type": "scatter",
         "x": [
          -0.029060473665595055,
          -0.03611060976982117,
          null
         ],
         "y": [
          0.12555895745754242,
          0.1619555950164795,
          null
         ]
        },
        {
         "line": {
          "color": "gray",
          "width": 1
         },
         "mode": "lines",
         "type": "scatter",
         "x": [
          0.18174083530902863,
          0.2459266036748886,
          null
         ],
         "y": [
          0.23573043942451477,
          0.17503659427165985,
          null
         ]
        },
        {
         "line": {
          "color": "gray",
          "width": 1
         },
         "mode": "lines",
         "type": "scatter",
         "x": [
          0.18174083530902863,
          0.15490196645259857,
          null
         ],
         "y": [
          0.23573043942451477,
          0.27414700388908386,
          null
         ]
        },
        {
         "line": {
          "color": "gray",
          "width": 1
         },
         "mode": "lines",
         "type": "scatter",
         "x": [
          0.18174083530902863,
          0.15989753603935242,
          null
         ],
         "y": [
          0.23573043942451477,
          0.2790115177631378,
          null
         ]
        },
        {
         "line": {
          "color": "gray",
          "width": 1
         },
         "mode": "lines",
         "type": "scatter",
         "x": [
          0.18174083530902863,
          0.15014714002609253,
          null
         ],
         "y": [
          0.23573043942451477,
          0.2670277953147888,
          null
         ]
        },
        {
         "line": {
          "color": "gray",
          "width": 1
         },
         "mode": "lines",
         "type": "scatter",
         "x": [
          -0.14252853393554688,
          -0.1785455048084259,
          null
         ],
         "y": [
          0.0927731916308403,
          0.13120003044605255,
          null
         ]
        },
        {
         "line": {
          "color": "gray",
          "width": 1
         },
         "mode": "lines",
         "type": "scatter",
         "x": [
          -0.14252853393554688,
          -0.10001622140407562,
          null
         ],
         "y": [
          0.0927731916308403,
          0.0531548373401165,
          null
         ]
        },
        {
         "line": {
          "color": "gray",
          "width": 1
         },
         "mode": "lines",
         "type": "scatter",
         "x": [
          -0.14252853393554688,
          -0.10284686833620071,
          null
         ],
         "y": [
          0.0927731916308403,
          0.05088416114449501,
          null
         ]
        },
        {
         "line": {
          "color": "gray",
          "width": 1
         },
         "mode": "lines",
         "type": "scatter",
         "x": [
          0.970976710319519,
          0.9999999403953552,
          null
         ],
         "y": [
          -0.053360216319561005,
          -0.05550975352525711,
          null
         ]
        },
        {
         "line": {
          "color": "gray",
          "width": 1
         },
         "mode": "lines",
         "type": "scatter",
         "x": [
          0.970976710319519,
          0.9471808075904846,
          null
         ],
         "y": [
          -0.053360216319561005,
          -0.051702264696359634,
          null
         ]
        },
        {
         "line": {
          "color": "gray",
          "width": 1
         },
         "mode": "lines",
         "type": "scatter",
         "x": [
          0.5268924832344055,
          0.5607786774635315,
          null
         ],
         "y": [
          0.16165558993816376,
          0.14838743209838867,
          null
         ]
        },
        {
         "line": {
          "color": "gray",
          "width": 1
         },
         "mode": "lines",
         "type": "scatter",
         "x": [
          0.5268924832344055,
          0.5698003768920898,
          null
         ],
         "y": [
          0.16165558993816376,
          0.1589454561471939,
          null
         ]
        },
        {
         "line": {
          "color": "gray",
          "width": 1
         },
         "mode": "lines",
         "type": "scatter",
         "x": [
          0.5268924832344055,
          0.5713258981704712,
          null
         ],
         "y": [
          0.16165558993816376,
          0.1673201024532318,
          null
         ]
        },
        {
         "line": {
          "color": "gray",
          "width": 1
         },
         "mode": "lines",
         "type": "scatter",
         "x": [
          0.5268924832344055,
          0.5567274689674377,
          null
         ],
         "y": [
          0.16165558993816376,
          0.18219974637031555,
          null
         ]
        },
        {
         "line": {
          "color": "gray",
          "width": 1
         },
         "mode": "lines",
         "type": "scatter",
         "x": [
          0.5268924832344055,
          0.5594375729560852,
          null
         ],
         "y": [
          0.16165558993816376,
          0.17348705232143402,
          null
         ]
        },
        {
         "line": {
          "color": "gray",
          "width": 1
         },
         "mode": "lines",
         "type": "scatter",
         "x": [
          0.5268924832344055,
          0.5667409300804138,
          null
         ],
         "y": [
          0.16165558993816376,
          0.15189479291439056,
          null
         ]
        },
        {
         "line": {
          "color": "gray",
          "width": 1
         },
         "mode": "lines",
         "type": "scatter",
         "x": [
          0.5268924832344055,
          0.5598137974739075,
          null
         ],
         "y": [
          0.16165558993816376,
          0.15916161239147186,
          null
         ]
        },
        {
         "line": {
          "color": "gray",
          "width": 1
         },
         "mode": "lines",
         "type": "scatter",
         "x": [
          0.5268924832344055,
          0.5639861226081848,
          null
         ],
         "y": [
          0.16165558993816376,
          0.18089117109775543,
          null
         ]
        },
        {
         "line": {
          "color": "gray",
          "width": 1
         },
         "mode": "lines",
         "type": "scatter",
         "x": [
          0.5268924832344055,
          0.40592706203460693,
          null
         ],
         "y": [
          0.16165558993816376,
          0.16561856865882874,
          null
         ]
        },
        {
         "line": {
          "color": "gray",
          "width": 1
         },
         "mode": "lines",
         "type": "scatter",
         "x": [
          0.5268924832344055,
          0.5636765360832214,
          null
         ],
         "y": [
          0.16165558993816376,
          0.16619685292243958,
          null
         ]
        },
        {
         "line": {
          "color": "gray",
          "width": 1
         },
         "mode": "lines",
         "type": "scatter",
         "x": [
          0.5268924832344055,
          0.5681537985801697,
          null
         ],
         "y": [
          0.16165558993816376,
          0.17440296709537506,
          null
         ]
        },
        {
         "line": {
          "color": "gray",
          "width": 1
         },
         "mode": "lines",
         "type": "scatter",
         "x": [
          -0.008016645908355713,
          -0.01018702145665884,
          null
         ],
         "y": [
          0.8420130014419556,
          0.8772467970848083,
          null
         ]
        },
        {
         "line": {
          "color": "gray",
          "width": 1
         },
         "mode": "lines",
         "type": "scatter",
         "x": [
          -0.008016645908355713,
          -0.014931363053619862,
          null
         ],
         "y": [
          0.8420130014419556,
          0.8518389463424683,
          null
         ]
        },
        {
         "line": {
          "color": "gray",
          "width": 1
         },
         "mode": "lines",
         "type": "scatter",
         "x": [
          -0.008016645908355713,
          -0.004900605417788029,
          null
         ],
         "y": [
          0.8420130014419556,
          0.8025411367416382,
          null
         ]
        },
        {
         "line": {
          "color": "gray",
          "width": 1
         },
         "mode": "lines",
         "type": "scatter",
         "x": [
          0.8114330768585205,
          0.8415937423706055,
          null
         ],
         "y": [
          0.2835659384727478,
          0.29428768157958984,
          null
         ]
        },
        {
         "line": {
          "color": "gray",
          "width": 1
         },
         "mode": "lines",
         "type": "scatter",
         "x": [
          0.33292779326438904,
          0.2459266036748886,
          null
         ],
         "y": [
          0.11772705614566803,
          0.17503659427165985,
          null
         ]
        },
        {
         "line": {
          "color": "gray",
          "width": 1
         },
         "mode": "lines",
         "type": "scatter",
         "x": [
          0.33292779326438904,
          0.36557552218437195,
          null
         ],
         "y": [
          0.11772705614566803,
          0.101921446621418,
          null
         ]
        },
        {
         "line": {
          "color": "gray",
          "width": 1
         },
         "mode": "lines",
         "type": "scatter",
         "x": [
          0.33292779326438904,
          0.365246444940567,
          null
         ],
         "y": [
          0.11772705614566803,
          0.118594691157341,
          null
         ]
        },
        {
         "line": {
          "color": "gray",
          "width": 1
         },
         "mode": "lines",
         "type": "scatter",
         "x": [
          0.33292779326438904,
          0.3699726164340973,
          null
         ],
         "y": [
          0.11772705614566803,
          0.11248084157705307,
          null
         ]
        },
        {
         "line": {
          "color": "gray",
          "width": 1
         },
         "mode": "lines",
         "type": "scatter",
         "x": [
          0.33292779326438904,
          0.3651896119117737,
          null
         ],
         "y": [
          0.11772705614566803,
          0.13170410692691803,
          null
         ]
        },
        {
         "line": {
          "color": "gray",
          "width": 1
         },
         "mode": "lines",
         "type": "scatter",
         "x": [
          0.33292779326438904,
          0.3304041624069214,
          null
         ],
         "y": [
          0.11772705614566803,
          0.14098960161209106,
          null
         ]
        },
        {
         "line": {
          "color": "gray",
          "width": 1
         },
         "mode": "lines",
         "type": "scatter",
         "x": [
          0.33292779326438904,
          0.3516397774219513,
          null
         ],
         "y": [
          0.11772705614566803,
          0.08739078044891357,
          null
         ]
        },
        {
         "line": {
          "color": "gray",
          "width": 1
         },
         "mode": "lines",
         "type": "scatter",
         "x": [
          0.33292779326438904,
          0.3461624085903168,
          null
         ],
         "y": [
          0.11772705614566803,
          0.088144950568676,
          null
         ]
        },
        {
         "line": {
          "color": "gray",
          "width": 1
         },
         "mode": "lines",
         "type": "scatter",
         "x": [
          0.33292779326438904,
          0.3622508645057678,
          null
         ],
         "y": [
          0.11772705614566803,
          0.13746093213558197,
          null
         ]
        },
        {
         "line": {
          "color": "gray",
          "width": 1
         },
         "mode": "lines",
         "type": "scatter",
         "x": [
          0.33292779326438904,
          0.3424186706542969,
          null
         ],
         "y": [
          0.11772705614566803,
          0.0843905583024025,
          null
         ]
        },
        {
         "line": {
          "color": "gray",
          "width": 1
         },
         "mode": "lines",
         "type": "scatter",
         "x": [
          0.33292779326438904,
          0.3590516149997711,
          null
         ],
         "y": [
          0.11772705614566803,
          0.11918541043996811,
          null
         ]
        },
        {
         "line": {
          "color": "gray",
          "width": 1
         },
         "mode": "lines",
         "type": "scatter",
         "x": [
          0.33292779326438904,
          0.3690844178199768,
          null
         ],
         "y": [
          0.11772705614566803,
          0.10627388209104538,
          null
         ]
        },
        {
         "line": {
          "color": "gray",
          "width": 1
         },
         "mode": "lines",
         "type": "scatter",
         "x": [
          0.33292779326438904,
          0.34747007489204407,
          null
         ],
         "y": [
          0.11772705614566803,
          0.14388123154640198,
          null
         ]
        },
        {
         "line": {
          "color": "gray",
          "width": 1
         },
         "mode": "lines",
         "type": "scatter",
         "x": [
          0.33292779326438904,
          0.33399009704589844,
          null
         ],
         "y": [
          0.11772705614566803,
          0.13280774652957916,
          null
         ]
        },
        {
         "line": {
          "color": "gray",
          "width": 1
         },
         "mode": "lines",
         "type": "scatter",
         "x": [
          0.33292779326438904,
          0.35393908619880676,
          null
         ],
         "y": [
          0.11772705614566803,
          0.1019001305103302,
          null
         ]
        },
        {
         "line": {
          "color": "gray",
          "width": 1
         },
         "mode": "lines",
         "type": "scatter",
         "x": [
          0.33292779326438904,
          0.34866875410079956,
          null
         ],
         "y": [
          0.11772705614566803,
          0.09796062111854553,
          null
         ]
        },
        {
         "line": {
          "color": "gray",
          "width": 1
         },
         "mode": "lines",
         "type": "scatter",
         "x": [
          0.33292779326438904,
          0.32469263672828674,
          null
         ],
         "y": [
          0.11772705614566803,
          0.14335128664970398,
          null
         ]
        },
        {
         "line": {
          "color": "gray",
          "width": 1
         },
         "mode": "lines",
         "type": "scatter",
         "x": [
          0.33292779326438904,
          0.31899842619895935,
          null
         ],
         "y": [
          0.11772705614566803,
          0.1043376475572586,
          null
         ]
        },
        {
         "line": {
          "color": "gray",
          "width": 1
         },
         "mode": "lines",
         "type": "scatter",
         "x": [
          0.33292779326438904,
          0.33091264963150024,
          null
         ],
         "y": [
          0.11772705614566803,
          0.08893273025751114,
          null
         ]
        },
        {
         "line": {
          "color": "gray",
          "width": 1
         },
         "mode": "lines",
         "type": "scatter",
         "x": [
          0.33292779326438904,
          0.3382240831851959,
          null
         ],
         "y": [
          0.11772705614566803,
          0.09055385738611221,
          null
         ]
        },
        {
         "line": {
          "color": "gray",
          "width": 1
         },
         "mode": "lines",
         "type": "scatter",
         "x": [
          0.33292779326438904,
          0.3528774380683899,
          null
         ],
         "y": [
          0.11772705614566803,
          0.10797400027513504,
          null
         ]
        },
        {
         "line": {
          "color": "gray",
          "width": 1
         },
         "mode": "lines",
         "type": "scatter",
         "x": [
          0.33292779326438904,
          0.32525208592414856,
          null
         ],
         "y": [
          0.11772705614566803,
          0.12477636337280273,
          null
         ]
        },
        {
         "line": {
          "color": "gray",
          "width": 1
         },
         "mode": "lines",
         "type": "scatter",
         "x": [
          0.33292779326438904,
          0.33563512563705444,
          null
         ],
         "y": [
          0.11772705614566803,
          0.08511204272508621,
          null
         ]
        },
        {
         "line": {
          "color": "gray",
          "width": 1
         },
         "mode": "lines",
         "type": "scatter",
         "x": [
          0.33292779326438904,
          0.32216575741767883,
          null
         ],
         "y": [
          0.11772705614566803,
          0.13181625306606293,
          null
         ]
        },
        {
         "line": {
          "color": "gray",
          "width": 1
         },
         "mode": "lines",
         "type": "scatter",
         "x": [
          0.33292779326438904,
          0.3494800925254822,
          null
         ],
         "y": [
          0.11772705614566803,
          0.130793496966362,
          null
         ]
        },
        {
         "line": {
          "color": "gray",
          "width": 1
         },
         "mode": "lines",
         "type": "scatter",
         "x": [
          0.33292779326438904,
          0.32496586441993713,
          null
         ],
         "y": [
          0.11772705614566803,
          0.13662303984165192,
          null
         ]
        },
        {
         "line": {
          "color": "gray",
          "width": 1
         },
         "mode": "lines",
         "type": "scatter",
         "x": [
          0.33292779326438904,
          0.3534730076789856,
          null
         ],
         "y": [
          0.11772705614566803,
          0.12298577278852463,
          null
         ]
        },
        {
         "line": {
          "color": "gray",
          "width": 1
         },
         "mode": "lines",
         "type": "scatter",
         "x": [
          0.33292779326438904,
          0.3588220775127411,
          null
         ],
         "y": [
          0.11772705614566803,
          0.12784534692764282,
          null
         ]
        },
        {
         "line": {
          "color": "gray",
          "width": 1
         },
         "mode": "lines",
         "type": "scatter",
         "x": [
          0.33292779326438904,
          0.3619580566883087,
          null
         ],
         "y": [
          0.11772705614566803,
          0.11223449558019638,
          null
         ]
        },
        {
         "line": {
          "color": "gray",
          "width": 1
         },
         "mode": "lines",
         "type": "scatter",
         "x": [
          0.33292779326438904,
          0.354362815618515,
          null
         ],
         "y": [
          0.11772705614566803,
          0.09455233067274094,
          null
         ]
        },
        {
         "line": {
          "color": "gray",
          "width": 1
         },
         "mode": "lines",
         "type": "scatter",
         "x": [
          0.33292779326438904,
          0.32574018836021423,
          null
         ],
         "y": [
          0.11772705614566803,
          0.09909524023532867,
          null
         ]
        },
        {
         "line": {
          "color": "gray",
          "width": 1
         },
         "mode": "lines",
         "type": "scatter",
         "x": [
          0.33292779326438904,
          0.3405570089817047,
          null
         ],
         "y": [
          0.11772705614566803,
          0.14661450684070587,
          null
         ]
        },
        {
         "line": {
          "color": "gray",
          "width": 1
         },
         "mode": "lines",
         "type": "scatter",
         "x": [
          0.33292779326438904,
          0.34244319796562195,
          null
         ],
         "y": [
          0.11772705614566803,
          0.10296035557985306,
          null
         ]
        },
        {
         "line": {
          "color": "gray",
          "width": 1
         },
         "mode": "lines",
         "type": "scatter",
         "x": [
          0.33292779326438904,
          0.3154183328151703,
          null
         ],
         "y": [
          0.11772705614566803,
          0.1275503933429718,
          null
         ]
        },
        {
         "line": {
          "color": "gray",
          "width": 1
         },
         "mode": "lines",
         "type": "scatter",
         "x": [
          0.33292779326438904,
          0.35504475235939026,
          null
         ],
         "y": [
          0.11772705614566803,
          0.11393251270055771,
          null
         ]
        },
        {
         "line": {
          "color": "gray",
          "width": 1
         },
         "mode": "lines",
         "type": "scatter",
         "x": [
          0.33292779326438904,
          0.3546306788921356,
          null
         ],
         "y": [
          0.11772705614566803,
          0.14140047132968903,
          null
         ]
        },
        {
         "line": {
          "color": "gray",
          "width": 1
         },
         "mode": "lines",
         "type": "scatter",
         "x": [
          0.33292779326438904,
          0.34028151631355286,
          null
         ],
         "y": [
          0.11772705614566803,
          0.1340825855731964,
          null
         ]
        },
        {
         "line": {
          "color": "gray",
          "width": 1
         },
         "mode": "lines",
         "type": "scatter",
         "x": [
          0.33292779326438904,
          0.3727709650993347,
          null
         ],
         "y": [
          0.11772705614566803,
          0.11810329556465149,
          null
         ]
        },
        {
         "line": {
          "color": "gray",
          "width": 1
         },
         "mode": "lines",
         "type": "scatter",
         "x": [
          0.33292779326438904,
          0.3657635450363159,
          null
         ],
         "y": [
          0.11772705614566803,
          0.0965539738535881,
          null
         ]
        },
        {
         "line": {
          "color": "gray",
          "width": 1
         },
         "mode": "lines",
         "type": "scatter",
         "x": [
          0.33292779326438904,
          0.3222476541996002,
          null
         ],
         "y": [
          0.11772705614566803,
          0.1122790202498436,
          null
         ]
        },
        {
         "line": {
          "color": "gray",
          "width": 1
         },
         "mode": "lines",
         "type": "scatter",
         "x": [
          0.33292779326438904,
          0.34242984652519226,
          null
         ],
         "y": [
          0.11772705614566803,
          0.14069928228855133,
          null
         ]
        },
        {
         "line": {
          "color": "gray",
          "width": 1
         },
         "mode": "lines",
         "type": "scatter",
         "x": [
          0.33292779326438904,
          0.3352034091949463,
          null
         ],
         "y": [
          0.11772705614566803,
          0.14460721611976624,
          null
         ]
        },
        {
         "line": {
          "color": "gray",
          "width": 1
         },
         "mode": "lines",
         "type": "scatter",
         "x": [
          0.33292779326438904,
          0.34375616908073425,
          null
         ],
         "y": [
          0.11772705614566803,
          0.09425359964370728,
          null
         ]
        },
        {
         "line": {
          "color": "gray",
          "width": 1
         },
         "mode": "lines",
         "type": "scatter",
         "x": [
          0.33292779326438904,
          0.3667592406272888,
          null
         ],
         "y": [
          0.11772705614566803,
          0.1517181694507599,
          null
         ]
        },
        {
         "line": {
          "color": "gray",
          "width": 1
         },
         "mode": "lines",
         "type": "scatter",
         "x": [
          0.33292779326438904,
          0.3163606822490692,
          null
         ],
         "y": [
          0.11772705614566803,
          0.11678767204284668,
          null
         ]
        },
        {
         "line": {
          "color": "gray",
          "width": 1
         },
         "mode": "lines",
         "type": "scatter",
         "x": [
          0.33292779326438904,
          0.3568436801433563,
          null
         ],
         "y": [
          0.11772705614566803,
          0.13415314257144928,
          null
         ]
        },
        {
         "line": {
          "color": "gray",
          "width": 1
         },
         "mode": "lines",
         "type": "scatter",
         "x": [
          0.33292779326438904,
          0.35737815499305725,
          null
         ],
         "y": [
          0.11772705614566803,
          0.09013687819242477,
          null
         ]
        },
        {
         "line": {
          "color": "gray",
          "width": 1
         },
         "mode": "lines",
         "type": "scatter",
         "x": [
          0.33292779326438904,
          0.3451191484928131,
          null
         ],
         "y": [
          0.11772705614566803,
          0.12424807250499725,
          null
         ]
        },
        {
         "line": {
          "color": "gray",
          "width": 1
         },
         "mode": "lines",
         "type": "scatter",
         "x": [
          0.33292779326438904,
          0.3718109130859375,
          null
         ],
         "y": [
          0.11772705614566803,
          0.12523746490478516,
          null
         ]
        },
        {
         "line": {
          "color": "gray",
          "width": 1
         },
         "mode": "lines",
         "type": "scatter",
         "x": [
          0.33292779326438904,
          0.3497048318386078,
          null
         ],
         "y": [
          0.11772705614566803,
          0.1374051570892334,
          null
         ]
        },
        {
         "line": {
          "color": "gray",
          "width": 1
         },
         "mode": "lines",
         "type": "scatter",
         "x": [
          0.33292779326438904,
          0.32854893803596497,
          null
         ],
         "y": [
          0.11772705614566803,
          0.10626600682735443,
          null
         ]
        },
        {
         "line": {
          "color": "gray",
          "width": 1
         },
         "mode": "lines",
         "type": "scatter",
         "x": [
          0.33292779326438904,
          0.3642813265323639,
          null
         ],
         "y": [
          0.11772705614566803,
          0.1252489686012268,
          null
         ]
        },
        {
         "line": {
          "color": "gray",
          "width": 1
         },
         "mode": "lines",
         "type": "scatter",
         "x": [
          0.33292779326438904,
          0.3635311722755432,
          null
         ],
         "y": [
          0.11772705614566803,
          0.10711055248975754,
          null
         ]
        },
        {
         "line": {
          "color": "gray",
          "width": 1
         },
         "mode": "lines",
         "type": "scatter",
         "x": [
          0.33292779326438904,
          0.3339649736881256,
          null
         ],
         "y": [
          0.11772705614566803,
          0.09491792321205139,
          null
         ]
        },
        {
         "line": {
          "color": "gray",
          "width": 1
         },
         "mode": "lines",
         "type": "scatter",
         "x": [
          0.33292779326438904,
          0.3603368401527405,
          null
         ],
         "y": [
          0.11772705614566803,
          0.09779088944196701,
          null
         ]
        },
        {
         "line": {
          "color": "gray",
          "width": 1
         },
         "mode": "lines",
         "type": "scatter",
         "x": [
          0.33292779326438904,
          0.3255499005317688,
          null
         ],
         "y": [
          0.11772705614566803,
          0.09295868128538132,
          null
         ]
        },
        {
         "line": {
          "color": "gray",
          "width": 1
         },
         "mode": "lines",
         "type": "scatter",
         "x": [
          0.33292779326438904,
          0.3333556652069092,
          null
         ],
         "y": [
          0.11772705614566803,
          0.10105296969413757,
          null
         ]
        },
        {
         "line": {
          "color": "gray",
          "width": 1
         },
         "mode": "lines",
         "type": "scatter",
         "x": [
          -0.561295211315155,
          -0.5765520930290222,
          null
         ],
         "y": [
          0.3010866343975067,
          0.30859097838401794,
          null
         ]
        },
        {
         "line": {
          "color": "gray",
          "width": 1
         },
         "mode": "lines",
         "type": "scatter",
         "x": [
          -0.561295211315155,
          -0.5952869653701782,
          null
         ],
         "y": [
          0.3010866343975067,
          0.3071625232696533,
          null
         ]
        },
        {
         "line": {
          "color": "gray",
          "width": 1
         },
         "mode": "lines",
         "type": "scatter",
         "x": [
          -0.561295211315155,
          -0.5978811979293823,
          null
         ],
         "y": [
          0.3010866343975067,
          0.316916823387146,
          null
         ]
        },
        {
         "line": {
          "color": "gray",
          "width": 1
         },
         "mode": "lines",
         "type": "scatter",
         "x": [
          -0.561295211315155,
          -0.526093602180481,
          null
         ],
         "y": [
          0.3010866343975067,
          0.2872850298881531,
          null
         ]
        },
        {
         "line": {
          "color": "gray",
          "width": 1
         },
         "mode": "lines",
         "type": "scatter",
         "x": [
          -0.561295211315155,
          -0.5879973769187927,
          null
         ],
         "y": [
          0.3010866343975067,
          0.31770798563957214,
          null
         ]
        },
        {
         "line": {
          "color": "gray",
          "width": 1
         },
         "mode": "lines",
         "type": "scatter",
         "x": [
          -0.561295211315155,
          -0.5506888628005981,
          null
         ],
         "y": [
          0.3010866343975067,
          0.31134310364723206,
          null
         ]
        },
        {
         "line": {
          "color": "gray",
          "width": 1
         },
         "mode": "lines",
         "type": "scatter",
         "x": [
          0.0736612007021904,
          0.11704728752374649,
          null
         ],
         "y": [
          0.10628088563680649,
          0.1392243355512619,
          null
         ]
        },
        {
         "line": {
          "color": "gray",
          "width": 1
         },
         "mode": "lines",
         "type": "scatter",
         "x": [
          0.0736612007021904,
          0.07970862835645676,
          null
         ],
         "y": [
          0.10628088563680649,
          0.14687682688236237,
          null
         ]
        },
        {
         "line": {
          "color": "gray",
          "width": 1
         },
         "mode": "lines",
         "type": "scatter",
         "x": [
          0.0736612007021904,
          0.10320834070444107,
          null
         ],
         "y": [
          0.10628088563680649,
          0.08768963068723679,
          null
         ]
        },
        {
         "line": {
          "color": "gray",
          "width": 1
         },
         "mode": "lines",
         "type": "scatter",
         "x": [
          0.0736612007021904,
          0.12145611643791199,
          null
         ],
         "y": [
          0.10628088563680649,
          0.1178373247385025,
          null
         ]
        },
        {
         "line": {
          "color": "gray",
          "width": 1
         },
         "mode": "lines",
         "type": "scatter",
         "x": [
          0.0736612007021904,
          0.10412676632404327,
          null
         ],
         "y": [
          0.10628088563680649,
          0.11003871262073517,
          null
         ]
        },
        {
         "line": {
          "color": "gray",
          "width": 1
         },
         "mode": "lines",
         "type": "scatter",
         "x": [
          0.0736612007021904,
          0.08508553355932236,
          null
         ],
         "y": [
          0.10628088563680649,
          0.1254788488149643,
          null
         ]
        },
        {
         "line": {
          "color": "gray",
          "width": 1
         },
         "mode": "lines",
         "type": "scatter",
         "x": [
          0.0736612007021904,
          0.019412199035286903,
          null
         ],
         "y": [
          0.10628088563680649,
          -0.03215645253658295,
          null
         ]
        },
        {
         "line": {
          "color": "gray",
          "width": 1
         },
         "mode": "lines",
         "type": "scatter",
         "x": [
          0.0736612007021904,
          0.08488532900810242,
          null
         ],
         "y": [
          0.10628088563680649,
          0.13545864820480347,
          null
         ]
        },
        {
         "line": {
          "color": "gray",
          "width": 1
         },
         "mode": "lines",
         "type": "scatter",
         "x": [
          0.0736612007021904,
          0.1128227710723877,
          null
         ],
         "y": [
          0.10628088563680649,
          0.11745305359363556,
          null
         ]
        },
        {
         "line": {
          "color": "gray",
          "width": 1
         },
         "mode": "lines",
         "type": "scatter",
         "x": [
          0.0736612007021904,
          0.07427279651165009,
          null
         ],
         "y": [
          0.10628088563680649,
          0.14357829093933105,
          null
         ]
        },
        {
         "line": {
          "color": "gray",
          "width": 1
         },
         "mode": "lines",
         "type": "scatter",
         "x": [
          0.0736612007021904,
          0.11781984567642212,
          null
         ],
         "y": [
          0.10628088563680649,
          0.11188060790300369,
          null
         ]
        },
        {
         "line": {
          "color": "gray",
          "width": 1
         },
         "mode": "lines",
         "type": "scatter",
         "x": [
          0.0736612007021904,
          0.09340011328458786,
          null
         ],
         "y": [
          0.10628088563680649,
          0.1259012520313263,
          null
         ]
        },
        {
         "line": {
          "color": "gray",
          "width": 1
         },
         "mode": "lines",
         "type": "scatter",
         "x": [
          0.0736612007021904,
          0.1186937689781189,
          null
         ],
         "y": [
          0.10628088563680649,
          0.1240893080830574,
          null
         ]
        },
        {
         "line": {
          "color": "gray",
          "width": 1
         },
         "mode": "lines",
         "type": "scatter",
         "x": [
          0.0736612007021904,
          0.09870465844869614,
          null
         ],
         "y": [
          0.10628088563680649,
          0.1303522288799286,
          null
         ]
        },
        {
         "line": {
          "color": "gray",
          "width": 1
         },
         "mode": "lines",
         "type": "scatter",
         "x": [
          0.0736612007021904,
          0.09311651438474655,
          null
         ],
         "y": [
          0.10628088563680649,
          0.13970746099948883,
          null
         ]
        },
        {
         "line": {
          "color": "gray",
          "width": 1
         },
         "mode": "lines",
         "type": "scatter",
         "x": [
          0.0736612007021904,
          0.11371959745883942,
          null
         ],
         "y": [
          0.10628088563680649,
          0.09943459182977676,
          null
         ]
        },
        {
         "line": {
          "color": "gray",
          "width": 1
         },
         "mode": "lines",
         "type": "scatter",
         "x": [
          0.0736612007021904,
          0.09476824104785919,
          null
         ],
         "y": [
          0.10628088563680649,
          0.09129872173070908,
          null
         ]
        },
        {
         "line": {
          "color": "gray",
          "width": 1
         },
         "mode": "lines",
         "type": "scatter",
         "x": [
          0.0736612007021904,
          0.07618398219347,
          null
         ],
         "y": [
          0.10628088563680649,
          0.13312923908233643,
          null
         ]
        },
        {
         "line": {
          "color": "gray",
          "width": 1
         },
         "mode": "lines",
         "type": "scatter",
         "x": [
          0.0736612007021904,
          0.0868498831987381,
          null
         ],
         "y": [
          0.10628088563680649,
          0.14422354102134705,
          null
         ]
        },
        {
         "line": {
          "color": "gray",
          "width": 1
         },
         "mode": "lines",
         "type": "scatter",
         "x": [
          0.0736612007021904,
          0.10656879842281342,
          null
         ],
         "y": [
          0.10628088563680649,
          0.1264341026544571,
          null
         ]
        },
        {
         "line": {
          "color": "gray",
          "width": 1
         },
         "mode": "lines",
         "type": "scatter",
         "x": [
          0.0736612007021904,
          0.11418294161558151,
          null
         ],
         "y": [
          0.10628088563680649,
          0.12824304401874542,
          null
         ]
        },
        {
         "line": {
          "color": "gray",
          "width": 1
         },
         "mode": "lines",
         "type": "scatter",
         "x": [
          0.0736612007021904,
          0.09770023077726364,
          null
         ],
         "y": [
          0.10628088563680649,
          0.10348457098007202,
          null
         ]
        },
        {
         "line": {
          "color": "gray",
          "width": 1
         },
         "mode": "lines",
         "type": "scatter",
         "x": [
          0.0736612007021904,
          0.10599492490291595,
          null
         ],
         "y": [
          0.10628088563680649,
          0.12024030834436417,
          null
         ]
        },
        {
         "line": {
          "color": "gray",
          "width": 1
         },
         "mode": "lines",
         "type": "scatter",
         "x": [
          0.0736612007021904,
          0.11029543727636337,
          null
         ],
         "y": [
          0.10628088563680649,
          0.14152687788009644,
          null
         ]
        },
        {
         "line": {
          "color": "gray",
          "width": 1
         },
         "mode": "lines",
         "type": "scatter",
         "x": [
          0.0736612007021904,
          0.10648570209741592,
          null
         ],
         "y": [
          0.10628088563680649,
          0.14786675572395325,
          null
         ]
        },
        {
         "line": {
          "color": "gray",
          "width": 1
         },
         "mode": "lines",
         "type": "scatter",
         "x": [
          0.0736612007021904,
          0.09684523195028305,
          null
         ],
         "y": [
          0.10628088563680649,
          0.11661004275083542,
          null
         ]
        },
        {
         "line": {
          "color": "gray",
          "width": 1
         },
         "mode": "lines",
         "type": "scatter",
         "x": [
          0.0736612007021904,
          0.11974098533391953,
          null
         ],
         "y": [
          0.10628088563680649,
          0.10512209683656693,
          null
         ]
        },
        {
         "line": {
          "color": "gray",
          "width": 1
         },
         "mode": "lines",
         "type": "scatter",
         "x": [
          0.0736612007021904,
          0.10130249708890915,
          null
         ],
         "y": [
          0.10628088563680649,
          0.1379377394914627,
          null
         ]
        },
        {
         "line": {
          "color": "gray",
          "width": 1
         },
         "mode": "lines",
         "type": "scatter",
         "x": [
          0.0736612007021904,
          0.11104877293109894,
          null
         ],
         "y": [
          0.10628088563680649,
          0.10666495561599731,
          null
         ]
        },
        {
         "line": {
          "color": "gray",
          "width": 1
         },
         "mode": "lines",
         "type": "scatter",
         "x": [
          0.0736612007021904,
          0.09722865372896194,
          null
         ],
         "y": [
          0.10628088563680649,
          0.15116024017333984,
          null
         ]
        },
        {
         "line": {
          "color": "gray",
          "width": 1
         },
         "mode": "lines",
         "type": "scatter",
         "x": [
          0.0736612007021904,
          0.10819852352142334,
          null
         ],
         "y": [
          0.10628088563680649,
          0.1337594836950302,
          null
         ]
        },
        {
         "line": {
          "color": "gray",
          "width": 1
         },
         "mode": "lines",
         "type": "scatter",
         "x": [
          0.0736612007021904,
          0.012118599377572536,
          null
         ],
         "y": [
          0.10628088563680649,
          -0.026935342699289322,
          null
         ]
        },
        {
         "line": {
          "color": "gray",
          "width": 1
         },
         "mode": "lines",
         "type": "scatter",
         "x": [
          0.0736612007021904,
          0.10397408157587051,
          null
         ],
         "y": [
          0.10628088563680649,
          0.09638134390115738,
          null
         ]
        },
        {
         "line": {
          "color": "gray",
          "width": 1
         },
         "mode": "lines",
         "type": "scatter",
         "x": [
          0.0736612007021904,
          0.09937930852174759,
          null
         ],
         "y": [
          0.10628088563680649,
          0.14487414062023163,
          null
         ]
        },
        {
         "line": {
          "color": "gray",
          "width": 1
         },
         "mode": "lines",
         "type": "scatter",
         "x": [
          0.0736612007021904,
          0.11210062354803085,
          null
         ],
         "y": [
          0.10628088563680649,
          0.09301788359880447,
          null
         ]
        },
        {
         "line": {
          "color": "gray",
          "width": 1
         },
         "mode": "lines",
         "type": "scatter",
         "x": [
          0.0736612007021904,
          0.09050754457712173,
          null
         ],
         "y": [
          0.10628088563680649,
          0.15045885741710663,
          null
         ]
        },
        {
         "line": {
          "color": "gray",
          "width": 1
         },
         "mode": "lines",
         "type": "scatter",
         "x": [
          0.0736612007021904,
          0.08412782847881317,
          null
         ],
         "y": [
          0.10628088563680649,
          0.15375344455242157,
          null
         ]
        },
        {
         "line": {
          "color": "gray",
          "width": 1
         },
         "mode": "lines",
         "type": "scatter",
         "x": [
          0.005401523783802986,
          -0.0044501968659460545,
          null
         ],
         "y": [
          0.1054234579205513,
          0.15883873403072357,
          null
         ]
        },
        {
         "line": {
          "color": "gray",
          "width": 1
         },
         "mode": "lines",
         "type": "scatter",
         "x": [
          0.005401523783802986,
          0.020856037735939026,
          null
         ],
         "y": [
          0.1054234579205513,
          0.15290570259094238,
          null
         ]
        },
        {
         "line": {
          "color": "gray",
          "width": 1
         },
         "mode": "lines",
         "type": "scatter",
         "x": [
          0.005401523783802986,
          0.018503304570913315,
          null
         ],
         "y": [
          0.1054234579205513,
          0.14442510902881622,
          null
         ]
        },
        {
         "line": {
          "color": "gray",
          "width": 1
         },
         "mode": "lines",
         "type": "scatter",
         "x": [
          0.005401523783802986,
          0.028197156265378,
          null
         ],
         "y": [
          0.1054234579205513,
          0.13892757892608643,
          null
         ]
        },
        {
         "line": {
          "color": "gray",
          "width": 1
         },
         "mode": "lines",
         "type": "scatter",
         "x": [
          0.005401523783802986,
          -0.007984371855854988,
          null
         ],
         "y": [
          0.1054234579205513,
          0.14371590316295624,
          null
         ]
        },
        {
         "line": {
          "color": "gray",
          "width": 1
         },
         "mode": "lines",
         "type": "scatter",
         "x": [
          0.005401523783802986,
          0.027630921453237534,
          null
         ],
         "y": [
          0.1054234579205513,
          0.14779341220855713,
          null
         ]
        },
        {
         "line": {
          "color": "gray",
          "width": 1
         },
         "mode": "lines",
         "type": "scatter",
         "x": [
          0.005401523783802986,
          0.008847122080624104,
          null
         ],
         "y": [
          0.1054234579205513,
          0.15593716502189636,
          null
         ]
        },
        {
         "line": {
          "color": "gray",
          "width": 1
         },
         "mode": "lines",
         "type": "scatter",
         "x": [
          0.005401523783802986,
          0.0026737572625279427,
          null
         ],
         "y": [
          0.1054234579205513,
          0.1454102098941803,
          null
         ]
        },
        {
         "line": {
          "color": "gray",
          "width": 1
         },
         "mode": "lines",
         "type": "scatter",
         "x": [
          0.005401523783802986,
          0.036127857863903046,
          null
         ],
         "y": [
          0.1054234579205513,
          0.13466861844062805,
          null
         ]
        },
        {
         "line": {
          "color": "gray",
          "width": 1
         },
         "mode": "lines",
         "type": "scatter",
         "x": [
          0.005401523783802986,
          -0.0045439377427101135,
          null
         ],
         "y": [
          0.1054234579205513,
          0.13795046508312225,
          null
         ]
        },
        {
         "line": {
          "color": "gray",
          "width": 1
         },
         "mode": "lines",
         "type": "scatter",
         "x": [
          0.005401523783802986,
          0.013456515036523342,
          null
         ],
         "y": [
          0.1054234579205513,
          0.15151548385620117,
          null
         ]
        },
        {
         "line": {
          "color": "gray",
          "width": 1
         },
         "mode": "lines",
         "type": "scatter",
         "x": [
          0.005401523783802986,
          -0.022483132779598236,
          null
         ],
         "y": [
          0.1054234579205513,
          -0.02791781723499298,
          null
         ]
        },
        {
         "line": {
          "color": "gray",
          "width": 1
         },
         "mode": "lines",
         "type": "scatter",
         "x": [
          0.005401523783802986,
          0.010814622975885868,
          null
         ],
         "y": [
          0.1054234579205513,
          -0.01989746280014515,
          null
         ]
        },
        {
         "line": {
          "color": "gray",
          "width": 1
         },
         "mode": "lines",
         "type": "scatter",
         "x": [
          0.005401523783802986,
          -0.0008615342667326331,
          null
         ],
         "y": [
          0.1054234579205513,
          0.14998021721839905,
          null
         ]
        },
        {
         "line": {
          "color": "gray",
          "width": 1
         },
         "mode": "lines",
         "type": "scatter",
         "x": [
          0.005401523783802986,
          0.00989721529185772,
          null
         ],
         "y": [
          0.1054234579205513,
          0.1428271234035492,
          null
         ]
        },
        {
         "line": {
          "color": "gray",
          "width": 1
         },
         "mode": "lines",
         "type": "scatter",
         "x": [
          0.005401523783802986,
          0.011717075482010841,
          null
         ],
         "y": [
          0.1054234579205513,
          0.1357698142528534,
          null
         ]
        },
        {
         "line": {
          "color": "gray",
          "width": 1
         },
         "mode": "lines",
         "type": "scatter",
         "x": [
          0.2150212824344635,
          0.23435889184474945,
          null
         ],
         "y": [
          -0.7830865979194641,
          -0.811471164226532,
          null
         ]
        },
        {
         "line": {
          "color": "gray",
          "width": 1
         },
         "mode": "lines",
         "type": "scatter",
         "x": [
          0.2150212824344635,
          0.19861258566379547,
          null
         ],
         "y": [
          -0.7830865979194641,
          -0.7276063561439514,
          null
         ]
        },
        {
         "line": {
          "color": "gray",
          "width": 1
         },
         "mode": "lines",
         "type": "scatter",
         "x": [
          0.2150212824344635,
          0.21091490983963013,
          null
         ],
         "y": [
          -0.7830865979194641,
          -0.8158608078956604,
          null
         ]
        },
        {
         "line": {
          "color": "gray",
          "width": 1
         },
         "mode": "lines",
         "type": "scatter",
         "x": [
          0.2150212824344635,
          0.22599519789218903,
          null
         ],
         "y": [
          -0.7830865979194641,
          -0.8207679986953735,
          null
         ]
        },
        {
         "line": {
          "color": "gray",
          "width": 1
         },
         "mode": "lines",
         "type": "scatter",
         "x": [
          0.2150212824344635,
          0.21820279955863953,
          null
         ],
         "y": [
          -0.7830865979194641,
          -0.8149363994598389,
          null
         ]
        },
        {
         "line": {
          "color": "gray",
          "width": 1
         },
         "mode": "lines",
         "type": "scatter",
         "x": [
          0.2150212824344635,
          0.22549296915531158,
          null
         ],
         "y": [
          -0.7830865979194641,
          -0.8106215596199036,
          null
         ]
        },
        {
         "line": {
          "color": "gray",
          "width": 1
         },
         "mode": "lines",
         "type": "scatter",
         "x": [
          0.2150212824344635,
          0.20545262098312378,
          null
         ],
         "y": [
          -0.7830865979194641,
          -0.7709896564483643,
          null
         ]
        },
        {
         "line": {
          "color": "gray",
          "width": 1
         },
         "mode": "lines",
         "type": "scatter",
         "x": [
          0.2150212824344635,
          0.2294699251651764,
          null
         ],
         "y": [
          -0.7830865979194641,
          -0.7987715005874634,
          null
         ]
        },
        {
         "line": {
          "color": "gray",
          "width": 1
         },
         "mode": "lines",
         "type": "scatter",
         "x": [
          0.33685731887817383,
          0.2459266036748886,
          null
         ],
         "y": [
          0.11462581157684326,
          0.17503659427165985,
          null
         ]
        },
        {
         "line": {
          "color": "gray",
          "width": 1
         },
         "mode": "lines",
         "type": "scatter",
         "x": [
          0.33685731887817383,
          0.36557552218437195,
          null
         ],
         "y": [
          0.11462581157684326,
          0.101921446621418,
          null
         ]
        },
        {
         "line": {
          "color": "gray",
          "width": 1
         },
         "mode": "lines",
         "type": "scatter",
         "x": [
          0.33685731887817383,
          0.365246444940567,
          null
         ],
         "y": [
          0.11462581157684326,
          0.118594691157341,
          null
         ]
        },
        {
         "line": {
          "color": "gray",
          "width": 1
         },
         "mode": "lines",
         "type": "scatter",
         "x": [
          0.33685731887817383,
          0.3699726164340973,
          null
         ],
         "y": [
          0.11462581157684326,
          0.11248084157705307,
          null
         ]
        },
        {
         "line": {
          "color": "gray",
          "width": 1
         },
         "mode": "lines",
         "type": "scatter",
         "x": [
          0.33685731887817383,
          0.3651896119117737,
          null
         ],
         "y": [
          0.11462581157684326,
          0.13170410692691803,
          null
         ]
        },
        {
         "line": {
          "color": "gray",
          "width": 1
         },
         "mode": "lines",
         "type": "scatter",
         "x": [
          0.33685731887817383,
          0.3304041624069214,
          null
         ],
         "y": [
          0.11462581157684326,
          0.14098960161209106,
          null
         ]
        },
        {
         "line": {
          "color": "gray",
          "width": 1
         },
         "mode": "lines",
         "type": "scatter",
         "x": [
          0.33685731887817383,
          0.3516397774219513,
          null
         ],
         "y": [
          0.11462581157684326,
          0.08739078044891357,
          null
         ]
        },
        {
         "line": {
          "color": "gray",
          "width": 1
         },
         "mode": "lines",
         "type": "scatter",
         "x": [
          0.33685731887817383,
          0.3461624085903168,
          null
         ],
         "y": [
          0.11462581157684326,
          0.088144950568676,
          null
         ]
        },
        {
         "line": {
          "color": "gray",
          "width": 1
         },
         "mode": "lines",
         "type": "scatter",
         "x": [
          0.33685731887817383,
          0.3622508645057678,
          null
         ],
         "y": [
          0.11462581157684326,
          0.13746093213558197,
          null
         ]
        },
        {
         "line": {
          "color": "gray",
          "width": 1
         },
         "mode": "lines",
         "type": "scatter",
         "x": [
          0.33685731887817383,
          0.3424186706542969,
          null
         ],
         "y": [
          0.11462581157684326,
          0.0843905583024025,
          null
         ]
        },
        {
         "line": {
          "color": "gray",
          "width": 1
         },
         "mode": "lines",
         "type": "scatter",
         "x": [
          0.33685731887817383,
          0.3590516149997711,
          null
         ],
         "y": [
          0.11462581157684326,
          0.11918541043996811,
          null
         ]
        },
        {
         "line": {
          "color": "gray",
          "width": 1
         },
         "mode": "lines",
         "type": "scatter",
         "x": [
          0.33685731887817383,
          0.3690844178199768,
          null
         ],
         "y": [
          0.11462581157684326,
          0.10627388209104538,
          null
         ]
        },
        {
         "line": {
          "color": "gray",
          "width": 1
         },
         "mode": "lines",
         "type": "scatter",
         "x": [
          0.33685731887817383,
          0.34747007489204407,
          null
         ],
         "y": [
          0.11462581157684326,
          0.14388123154640198,
          null
         ]
        },
        {
         "line": {
          "color": "gray",
          "width": 1
         },
         "mode": "lines",
         "type": "scatter",
         "x": [
          0.33685731887817383,
          0.33399009704589844,
          null
         ],
         "y": [
          0.11462581157684326,
          0.13280774652957916,
          null
         ]
        },
        {
         "line": {
          "color": "gray",
          "width": 1
         },
         "mode": "lines",
         "type": "scatter",
         "x": [
          0.33685731887817383,
          0.35393908619880676,
          null
         ],
         "y": [
          0.11462581157684326,
          0.1019001305103302,
          null
         ]
        },
        {
         "line": {
          "color": "gray",
          "width": 1
         },
         "mode": "lines",
         "type": "scatter",
         "x": [
          0.33685731887817383,
          0.34866875410079956,
          null
         ],
         "y": [
          0.11462581157684326,
          0.09796062111854553,
          null
         ]
        },
        {
         "line": {
          "color": "gray",
          "width": 1
         },
         "mode": "lines",
         "type": "scatter",
         "x": [
          0.33685731887817383,
          0.32469263672828674,
          null
         ],
         "y": [
          0.11462581157684326,
          0.14335128664970398,
          null
         ]
        },
        {
         "line": {
          "color": "gray",
          "width": 1
         },
         "mode": "lines",
         "type": "scatter",
         "x": [
          0.33685731887817383,
          0.31899842619895935,
          null
         ],
         "y": [
          0.11462581157684326,
          0.1043376475572586,
          null
         ]
        },
        {
         "line": {
          "color": "gray",
          "width": 1
         },
         "mode": "lines",
         "type": "scatter",
         "x": [
          0.33685731887817383,
          0.33091264963150024,
          null
         ],
         "y": [
          0.11462581157684326,
          0.08893273025751114,
          null
         ]
        },
        {
         "line": {
          "color": "gray",
          "width": 1
         },
         "mode": "lines",
         "type": "scatter",
         "x": [
          0.33685731887817383,
          0.3382240831851959,
          null
         ],
         "y": [
          0.11462581157684326,
          0.09055385738611221,
          null
         ]
        },
        {
         "line": {
          "color": "gray",
          "width": 1
         },
         "mode": "lines",
         "type": "scatter",
         "x": [
          0.33685731887817383,
          0.3528774380683899,
          null
         ],
         "y": [
          0.11462581157684326,
          0.10797400027513504,
          null
         ]
        },
        {
         "line": {
          "color": "gray",
          "width": 1
         },
         "mode": "lines",
         "type": "scatter",
         "x": [
          0.33685731887817383,
          0.32525208592414856,
          null
         ],
         "y": [
          0.11462581157684326,
          0.12477636337280273,
          null
         ]
        },
        {
         "line": {
          "color": "gray",
          "width": 1
         },
         "mode": "lines",
         "type": "scatter",
         "x": [
          0.33685731887817383,
          0.33563512563705444,
          null
         ],
         "y": [
          0.11462581157684326,
          0.08511204272508621,
          null
         ]
        },
        {
         "line": {
          "color": "gray",
          "width": 1
         },
         "mode": "lines",
         "type": "scatter",
         "x": [
          0.33685731887817383,
          0.32216575741767883,
          null
         ],
         "y": [
          0.11462581157684326,
          0.13181625306606293,
          null
         ]
        },
        {
         "line": {
          "color": "gray",
          "width": 1
         },
         "mode": "lines",
         "type": "scatter",
         "x": [
          0.33685731887817383,
          0.3494800925254822,
          null
         ],
         "y": [
          0.11462581157684326,
          0.130793496966362,
          null
         ]
        },
        {
         "line": {
          "color": "gray",
          "width": 1
         },
         "mode": "lines",
         "type": "scatter",
         "x": [
          0.33685731887817383,
          0.32496586441993713,
          null
         ],
         "y": [
          0.11462581157684326,
          0.13662303984165192,
          null
         ]
        },
        {
         "line": {
          "color": "gray",
          "width": 1
         },
         "mode": "lines",
         "type": "scatter",
         "x": [
          0.33685731887817383,
          0.3534730076789856,
          null
         ],
         "y": [
          0.11462581157684326,
          0.12298577278852463,
          null
         ]
        },
        {
         "line": {
          "color": "gray",
          "width": 1
         },
         "mode": "lines",
         "type": "scatter",
         "x": [
          0.33685731887817383,
          0.3588220775127411,
          null
         ],
         "y": [
          0.11462581157684326,
          0.12784534692764282,
          null
         ]
        },
        {
         "line": {
          "color": "gray",
          "width": 1
         },
         "mode": "lines",
         "type": "scatter",
         "x": [
          0.33685731887817383,
          0.3619580566883087,
          null
         ],
         "y": [
          0.11462581157684326,
          0.11223449558019638,
          null
         ]
        },
        {
         "line": {
          "color": "gray",
          "width": 1
         },
         "mode": "lines",
         "type": "scatter",
         "x": [
          0.33685731887817383,
          0.354362815618515,
          null
         ],
         "y": [
          0.11462581157684326,
          0.09455233067274094,
          null
         ]
        },
        {
         "line": {
          "color": "gray",
          "width": 1
         },
         "mode": "lines",
         "type": "scatter",
         "x": [
          0.33685731887817383,
          0.32574018836021423,
          null
         ],
         "y": [
          0.11462581157684326,
          0.09909524023532867,
          null
         ]
        },
        {
         "line": {
          "color": "gray",
          "width": 1
         },
         "mode": "lines",
         "type": "scatter",
         "x": [
          0.33685731887817383,
          0.3405570089817047,
          null
         ],
         "y": [
          0.11462581157684326,
          0.14661450684070587,
          null
         ]
        },
        {
         "line": {
          "color": "gray",
          "width": 1
         },
         "mode": "lines",
         "type": "scatter",
         "x": [
          0.33685731887817383,
          0.34244319796562195,
          null
         ],
         "y": [
          0.11462581157684326,
          0.10296035557985306,
          null
         ]
        },
        {
         "line": {
          "color": "gray",
          "width": 1
         },
         "mode": "lines",
         "type": "scatter",
         "x": [
          0.33685731887817383,
          0.3154183328151703,
          null
         ],
         "y": [
          0.11462581157684326,
          0.1275503933429718,
          null
         ]
        },
        {
         "line": {
          "color": "gray",
          "width": 1
         },
         "mode": "lines",
         "type": "scatter",
         "x": [
          0.33685731887817383,
          0.35504475235939026,
          null
         ],
         "y": [
          0.11462581157684326,
          0.11393251270055771,
          null
         ]
        },
        {
         "line": {
          "color": "gray",
          "width": 1
         },
         "mode": "lines",
         "type": "scatter",
         "x": [
          0.33685731887817383,
          0.3546306788921356,
          null
         ],
         "y": [
          0.11462581157684326,
          0.14140047132968903,
          null
         ]
        },
        {
         "line": {
          "color": "gray",
          "width": 1
         },
         "mode": "lines",
         "type": "scatter",
         "x": [
          0.33685731887817383,
          0.34028151631355286,
          null
         ],
         "y": [
          0.11462581157684326,
          0.1340825855731964,
          null
         ]
        },
        {
         "line": {
          "color": "gray",
          "width": 1
         },
         "mode": "lines",
         "type": "scatter",
         "x": [
          0.33685731887817383,
          0.3727709650993347,
          null
         ],
         "y": [
          0.11462581157684326,
          0.11810329556465149,
          null
         ]
        },
        {
         "line": {
          "color": "gray",
          "width": 1
         },
         "mode": "lines",
         "type": "scatter",
         "x": [
          0.33685731887817383,
          0.3657635450363159,
          null
         ],
         "y": [
          0.11462581157684326,
          0.0965539738535881,
          null
         ]
        },
        {
         "line": {
          "color": "gray",
          "width": 1
         },
         "mode": "lines",
         "type": "scatter",
         "x": [
          0.33685731887817383,
          0.3222476541996002,
          null
         ],
         "y": [
          0.11462581157684326,
          0.1122790202498436,
          null
         ]
        },
        {
         "line": {
          "color": "gray",
          "width": 1
         },
         "mode": "lines",
         "type": "scatter",
         "x": [
          0.33685731887817383,
          0.34242984652519226,
          null
         ],
         "y": [
          0.11462581157684326,
          0.14069928228855133,
          null
         ]
        },
        {
         "line": {
          "color": "gray",
          "width": 1
         },
         "mode": "lines",
         "type": "scatter",
         "x": [
          0.33685731887817383,
          0.3352034091949463,
          null
         ],
         "y": [
          0.11462581157684326,
          0.14460721611976624,
          null
         ]
        },
        {
         "line": {
          "color": "gray",
          "width": 1
         },
         "mode": "lines",
         "type": "scatter",
         "x": [
          0.33685731887817383,
          0.34375616908073425,
          null
         ],
         "y": [
          0.11462581157684326,
          0.09425359964370728,
          null
         ]
        },
        {
         "line": {
          "color": "gray",
          "width": 1
         },
         "mode": "lines",
         "type": "scatter",
         "x": [
          0.33685731887817383,
          0.38109245896339417,
          null
         ],
         "y": [
          0.11462581157684326,
          0.13373634219169617,
          null
         ]
        },
        {
         "line": {
          "color": "gray",
          "width": 1
         },
         "mode": "lines",
         "type": "scatter",
         "x": [
          0.33685731887817383,
          0.3163606822490692,
          null
         ],
         "y": [
          0.11462581157684326,
          0.11678767204284668,
          null
         ]
        },
        {
         "line": {
          "color": "gray",
          "width": 1
         },
         "mode": "lines",
         "type": "scatter",
         "x": [
          0.33685731887817383,
          0.3568436801433563,
          null
         ],
         "y": [
          0.11462581157684326,
          0.13415314257144928,
          null
         ]
        },
        {
         "line": {
          "color": "gray",
          "width": 1
         },
         "mode": "lines",
         "type": "scatter",
         "x": [
          0.33685731887817383,
          0.35737815499305725,
          null
         ],
         "y": [
          0.11462581157684326,
          0.09013687819242477,
          null
         ]
        },
        {
         "line": {
          "color": "gray",
          "width": 1
         },
         "mode": "lines",
         "type": "scatter",
         "x": [
          0.33685731887817383,
          0.3451191484928131,
          null
         ],
         "y": [
          0.11462581157684326,
          0.12424807250499725,
          null
         ]
        },
        {
         "line": {
          "color": "gray",
          "width": 1
         },
         "mode": "lines",
         "type": "scatter",
         "x": [
          0.33685731887817383,
          0.3718109130859375,
          null
         ],
         "y": [
          0.11462581157684326,
          0.12523746490478516,
          null
         ]
        },
        {
         "line": {
          "color": "gray",
          "width": 1
         },
         "mode": "lines",
         "type": "scatter",
         "x": [
          0.33685731887817383,
          0.3497048318386078,
          null
         ],
         "y": [
          0.11462581157684326,
          0.1374051570892334,
          null
         ]
        },
        {
         "line": {
          "color": "gray",
          "width": 1
         },
         "mode": "lines",
         "type": "scatter",
         "x": [
          0.33685731887817383,
          0.32854893803596497,
          null
         ],
         "y": [
          0.11462581157684326,
          0.10626600682735443,
          null
         ]
        },
        {
         "line": {
          "color": "gray",
          "width": 1
         },
         "mode": "lines",
         "type": "scatter",
         "x": [
          0.33685731887817383,
          0.3642813265323639,
          null
         ],
         "y": [
          0.11462581157684326,
          0.1252489686012268,
          null
         ]
        },
        {
         "line": {
          "color": "gray",
          "width": 1
         },
         "mode": "lines",
         "type": "scatter",
         "x": [
          0.33685731887817383,
          0.3635311722755432,
          null
         ],
         "y": [
          0.11462581157684326,
          0.10711055248975754,
          null
         ]
        },
        {
         "line": {
          "color": "gray",
          "width": 1
         },
         "mode": "lines",
         "type": "scatter",
         "x": [
          0.33685731887817383,
          0.3339649736881256,
          null
         ],
         "y": [
          0.11462581157684326,
          0.09491792321205139,
          null
         ]
        },
        {
         "line": {
          "color": "gray",
          "width": 1
         },
         "mode": "lines",
         "type": "scatter",
         "x": [
          0.33685731887817383,
          0.3603368401527405,
          null
         ],
         "y": [
          0.11462581157684326,
          0.09779088944196701,
          null
         ]
        },
        {
         "line": {
          "color": "gray",
          "width": 1
         },
         "mode": "lines",
         "type": "scatter",
         "x": [
          0.33685731887817383,
          0.3255499005317688,
          null
         ],
         "y": [
          0.11462581157684326,
          0.09295868128538132,
          null
         ]
        },
        {
         "line": {
          "color": "gray",
          "width": 1
         },
         "mode": "lines",
         "type": "scatter",
         "x": [
          0.33685731887817383,
          0.3333556652069092,
          null
         ],
         "y": [
          0.11462581157684326,
          0.10105296969413757,
          null
         ]
        },
        {
         "line": {
          "color": "gray",
          "width": 1
         },
         "mode": "lines",
         "type": "scatter",
         "x": [
          0.11538156867027283,
          0.03402240574359894,
          null
         ],
         "y": [
          0.3598744571208954,
          0.2217462956905365,
          null
         ]
        },
        {
         "line": {
          "color": "gray",
          "width": 1
         },
         "mode": "lines",
         "type": "scatter",
         "x": [
          0.11538156867027283,
          0.1464187502861023,
          null
         ],
         "y": [
          0.3598744571208954,
          0.3878970742225647,
          null
         ]
        },
        {
         "line": {
          "color": "gray",
          "width": 1
         },
         "mode": "lines",
         "type": "scatter",
         "x": [
          0.11538156867027283,
          0.13099069893360138,
          null
         ],
         "y": [
          0.3598744571208954,
          0.4024081826210022,
          null
         ]
        },
        {
         "line": {
          "color": "gray",
          "width": 1
         },
         "mode": "lines",
         "type": "scatter",
         "x": [
          0.11538156867027283,
          0.123773954808712,
          null
         ],
         "y": [
          0.3598744571208954,
          0.40109142661094666,
          null
         ]
        },
        {
         "line": {
          "color": "gray",
          "width": 1
         },
         "mode": "lines",
         "type": "scatter",
         "x": [
          0.11538156867027283,
          0.10906951129436493,
          null
         ],
         "y": [
          0.3598744571208954,
          0.3964143991470337,
          null
         ]
        },
        {
         "line": {
          "color": "gray",
          "width": 1
         },
         "mode": "lines",
         "type": "scatter",
         "x": [
          0.11538156867027283,
          0.14275579154491425,
          null
         ],
         "y": [
          0.3598744571208954,
          0.4027901291847229,
          null
         ]
        },
        {
         "line": {
          "color": "gray",
          "width": 1
         },
         "mode": "lines",
         "type": "scatter",
         "x": [
          0.11538156867027283,
          0.127388596534729,
          null
         ],
         "y": [
          0.3598744571208954,
          0.40866905450820923,
          null
         ]
        },
        {
         "line": {
          "color": "gray",
          "width": 1
         },
         "mode": "lines",
         "type": "scatter",
         "x": [
          0.11538156867027283,
          0.12983036041259766,
          null
         ],
         "y": [
          0.3598744571208954,
          0.3880247473716736,
          null
         ]
        },
        {
         "line": {
          "color": "gray",
          "width": 1
         },
         "mode": "lines",
         "type": "scatter",
         "x": [
          0.11538156867027283,
          0.11228480935096741,
          null
         ],
         "y": [
          0.3598744571208954,
          0.40408140420913696,
          null
         ]
        },
        {
         "line": {
          "color": "gray",
          "width": 1
         },
         "mode": "lines",
         "type": "scatter",
         "x": [
          0.11538156867027283,
          0.11666074395179749,
          null
         ],
         "y": [
          0.3598744571208954,
          0.39690640568733215,
          null
         ]
        },
        {
         "line": {
          "color": "gray",
          "width": 1
         },
         "mode": "lines",
         "type": "scatter",
         "x": [
          0.11538156867027283,
          0.14631210267543793,
          null
         ],
         "y": [
          0.3598744571208954,
          0.37739571928977966,
          null
         ]
        },
        {
         "line": {
          "color": "gray",
          "width": 1
         },
         "mode": "lines",
         "type": "scatter",
         "x": [
          0.11538156867027283,
          0.1364000290632248,
          null
         ],
         "y": [
          0.3598744571208954,
          0.40644383430480957,
          null
         ]
        },
        {
         "line": {
          "color": "gray",
          "width": 1
         },
         "mode": "lines",
         "type": "scatter",
         "x": [
          0.11538156867027283,
          0.15316568315029144,
          null
         ],
         "y": [
          0.3598744571208954,
          0.3792748749256134,
          null
         ]
        },
        {
         "line": {
          "color": "gray",
          "width": 1
         },
         "mode": "lines",
         "type": "scatter",
         "x": [
          0.11538156867027283,
          0.13856904208660126,
          null
         ],
         "y": [
          0.3598744571208954,
          0.3895084857940674,
          null
         ]
        },
        {
         "line": {
          "color": "gray",
          "width": 1
         },
         "mode": "lines",
         "type": "scatter",
         "x": [
          0.11538156867027283,
          0.11944207549095154,
          null
         ],
         "y": [
          0.3598744571208954,
          0.40670937299728394,
          null
         ]
        },
        {
         "line": {
          "color": "gray",
          "width": 1
         },
         "mode": "lines",
         "type": "scatter",
         "x": [
          0.11538156867027283,
          0.06568566709756851,
          null
         ],
         "y": [
          0.3598744571208954,
          0.2928071916103363,
          null
         ]
        },
        {
         "line": {
          "color": "gray",
          "width": 1
         },
         "mode": "lines",
         "type": "scatter",
         "x": [
          0.11538156867027283,
          0.1426456868648529,
          null
         ],
         "y": [
          0.3598744571208954,
          0.39653778076171875,
          null
         ]
        },
        {
         "line": {
          "color": "gray",
          "width": 1
         },
         "mode": "lines",
         "type": "scatter",
         "x": [
          0.11538156867027283,
          0.14978231489658356,
          null
         ],
         "y": [
          0.3598744571208954,
          0.3955520689487457,
          null
         ]
        },
        {
         "line": {
          "color": "gray",
          "width": 1
         },
         "mode": "lines",
         "type": "scatter",
         "x": [
          0.11538156867027283,
          0.12243639677762985,
          null
         ],
         "y": [
          0.3598744571208954,
          0.39160847663879395,
          null
         ]
        },
        {
         "line": {
          "color": "gray",
          "width": 1
         },
         "mode": "lines",
         "type": "scatter",
         "x": [
          0.11538156867027283,
          0.13889889419078827,
          null
         ],
         "y": [
          0.3598744571208954,
          0.3815065622329712,
          null
         ]
        },
        {
         "line": {
          "color": "gray",
          "width": 1
         },
         "mode": "lines",
         "type": "scatter",
         "x": [
          0.11538156867027283,
          0.1532929390668869,
          null
         ],
         "y": [
          0.3598744571208954,
          0.38734227418899536,
          null
         ]
        },
        {
         "line": {
          "color": "gray",
          "width": 1
         },
         "mode": "lines",
         "type": "scatter",
         "x": [
          0.11538156867027283,
          0.13382576406002045,
          null
         ],
         "y": [
          0.3598744571208954,
          0.39645490050315857,
          null
         ]
        },
        {
         "line": {
          "color": "gray",
          "width": 1
         },
         "mode": "lines",
         "type": "scatter",
         "x": [
          -0.05793481320142746,
          -0.0585799403488636,
          null
         ],
         "y": [
          -0.3148884177207947,
          -0.24834977090358734,
          null
         ]
        },
        {
         "line": {
          "color": "gray",
          "width": 1
         },
         "mode": "lines",
         "type": "scatter",
         "x": [
          -0.05793481320142746,
          -0.0632469654083252,
          null
         ],
         "y": [
          -0.3148884177207947,
          -0.3562701344490051,
          null
         ]
        },
        {
         "line": {
          "color": "gray",
          "width": 1
         },
         "mode": "lines",
         "type": "scatter",
         "x": [
          -0.05793481320142746,
          -0.05476323887705803,
          null
         ],
         "y": [
          -0.3148884177207947,
          -0.3553835153579712,
          null
         ]
        },
        {
         "line": {
          "color": "gray",
          "width": 1
         },
         "mode": "lines",
         "type": "scatter",
         "x": [
          0.7292211651802063,
          0.7345930933952332,
          null
         ],
         "y": [
          0.38101476430892944,
          0.36679455637931824,
          null
         ]
        },
        {
         "line": {
          "color": "gray",
          "width": 1
         },
         "mode": "lines",
         "type": "scatter",
         "x": [
          0.7292211651802063,
          0.7064460515975952,
          null
         ],
         "y": [
          0.38101476430892944,
          0.3652758002281189,
          null
         ]
        },
        {
         "line": {
          "color": "gray",
          "width": 1
         },
         "mode": "lines",
         "type": "scatter",
         "x": [
          0.7292211651802063,
          0.7635036110877991,
          null
         ],
         "y": [
          0.38101476430892944,
          0.40140968561172485,
          null
         ]
        },
        {
         "line": {
          "color": "gray",
          "width": 1
         },
         "mode": "lines",
         "type": "scatter",
         "x": [
          0.7292211651802063,
          0.761130690574646,
          null
         ],
         "y": [
          0.38101476430892944,
          0.3879479169845581,
          null
         ]
        },
        {
         "line": {
          "color": "gray",
          "width": 1
         },
         "mode": "lines",
         "type": "scatter",
         "x": [
          0.7292211651802063,
          0.7573328018188477,
          null
         ],
         "y": [
          0.38101476430892944,
          0.39601191878318787,
          null
         ]
        },
        {
         "line": {
          "color": "gray",
          "width": 1
         },
         "mode": "lines",
         "type": "scatter",
         "x": [
          0.7292211651802063,
          0.7383095622062683,
          null
         ],
         "y": [
          0.38101476430892944,
          0.39752066135406494,
          null
         ]
        },
        {
         "line": {
          "color": "gray",
          "width": 1
         },
         "mode": "lines",
         "type": "scatter",
         "x": [
          0.7292211651802063,
          0.7523627877235413,
          null
         ],
         "y": [
          0.38101476430892944,
          0.40491288900375366,
          null
         ]
        },
        {
         "line": {
          "color": "gray",
          "width": 1
         },
         "mode": "lines",
         "type": "scatter",
         "x": [
          0.7292211651802063,
          0.7098310589790344,
          null
         ],
         "y": [
          0.38101476430892944,
          0.378351092338562,
          null
         ]
        },
        {
         "line": {
          "color": "gray",
          "width": 1
         },
         "mode": "lines",
         "type": "scatter",
         "x": [
          -0.8198142647743225,
          -0.8366841673851013,
          null
         ],
         "y": [
          0.32018813490867615,
          0.31998521089553833,
          null
         ]
        },
        {
         "line": {
          "color": "gray",
          "width": 1
         },
         "mode": "lines",
         "type": "scatter",
         "x": [
          -0.8198142647743225,
          -0.8288629651069641,
          null
         ],
         "y": [
          0.32018813490867615,
          0.33364352583885193,
          null
         ]
        },
        {
         "line": {
          "color": "gray",
          "width": 1
         },
         "mode": "lines",
         "type": "scatter",
         "x": [
          -0.8198142647743225,
          -0.8152756094932556,
          null
         ],
         "y": [
          0.32018813490867615,
          0.3081965148448944,
          null
         ]
        },
        {
         "line": {
          "color": "gray",
          "width": 1
         },
         "mode": "lines",
         "type": "scatter",
         "x": [
          0.13976016640663147,
          0.1667286902666092,
          null
         ],
         "y": [
          -0.07649364322423935,
          -0.1025451272726059,
          null
         ]
        },
        {
         "line": {
          "color": "gray",
          "width": 1
         },
         "mode": "lines",
         "type": "scatter",
         "x": [
          0.13976016640663147,
          0.16065309941768646,
          null
         ],
         "y": [
          -0.07649364322423935,
          -0.11265059560537338,
          null
         ]
        },
        {
         "line": {
          "color": "gray",
          "width": 1
         },
         "mode": "lines",
         "type": "scatter",
         "x": [
          0.13976016640663147,
          0.15858100354671478,
          null
         ],
         "y": [
          -0.07649364322423935,
          -0.10129418224096298,
          null
         ]
        },
        {
         "line": {
          "color": "gray",
          "width": 1
         },
         "mode": "lines",
         "type": "scatter",
         "x": [
          0.13976016640663147,
          0.1712333709001541,
          null
         ],
         "y": [
          -0.07649364322423935,
          -0.09563885629177094,
          null
         ]
        },
        {
         "line": {
          "color": "gray",
          "width": 1
         },
         "mode": "lines",
         "type": "scatter",
         "x": [
          0.13976016640663147,
          0.16687501966953278,
          null
         ],
         "y": [
          -0.07649364322423935,
          -0.10840227454900742,
          null
         ]
        },
        {
         "line": {
          "color": "gray",
          "width": 1
         },
         "mode": "lines",
         "type": "scatter",
         "x": [
          0.13976016640663147,
          0.04806895554065704,
          null
         ],
         "y": [
          -0.07649364322423935,
          -0.037505753338336945,
          null
         ]
        },
        {
         "line": {
          "color": "gray",
          "width": 1
         },
         "mode": "lines",
         "type": "scatter",
         "x": [
          0.13976016640663147,
          0.15418967604637146,
          null
         ],
         "y": [
          -0.07649364322423935,
          -0.11011969298124313,
          null
         ]
        },
        {
         "line": {
          "color": "gray",
          "width": 1
         },
         "mode": "lines",
         "type": "scatter",
         "x": [
          0.13976016640663147,
          0.17527525126934052,
          null
         ],
         "y": [
          -0.07649364322423935,
          -0.010032701306045055,
          null
         ]
        },
        {
         "line": {
          "color": "gray",
          "width": 1
         },
         "mode": "lines",
         "type": "scatter",
         "x": [
          0.13976016640663147,
          0.16565774381160736,
          null
         ],
         "y": [
          -0.07649364322423935,
          -0.09160042554140091,
          null
         ]
        },
        {
         "line": {
          "color": "gray",
          "width": 1
         },
         "mode": "lines",
         "type": "scatter",
         "x": [
          0.22039566934108734,
          0.23566044867038727,
          null
         ],
         "y": [
          0.7158641815185547,
          0.7378343939781189,
          null
         ]
        },
        {
         "line": {
          "color": "gray",
          "width": 1
         },
         "mode": "lines",
         "type": "scatter",
         "x": [
          0.22039566934108734,
          0.22623257339000702,
          null
         ],
         "y": [
          0.7158641815185547,
          0.750622570514679,
          null
         ]
        },
        {
         "line": {
          "color": "gray",
          "width": 1
         },
         "mode": "lines",
         "type": "scatter",
         "x": [
          0.22039566934108734,
          0.22113248705863953,
          null
         ],
         "y": [
          0.7158641815185547,
          0.7403678297996521,
          null
         ]
        },
        {
         "line": {
          "color": "gray",
          "width": 1
         },
         "mode": "lines",
         "type": "scatter",
         "x": [
          0.22039566934108734,
          0.2353992760181427,
          null
         ],
         "y": [
          0.7158641815185547,
          0.7483638525009155,
          null
         ]
        },
        {
         "line": {
          "color": "gray",
          "width": 1
         },
         "mode": "lines",
         "type": "scatter",
         "x": [
          0.22039566934108734,
          0.20577150583267212,
          null
         ],
         "y": [
          0.7158641815185547,
          0.6718074083328247,
          null
         ]
        },
        {
         "line": {
          "color": "gray",
          "width": 1
         },
         "mode": "lines",
         "type": "scatter",
         "x": [
          0.05480250343680382,
          0.08434484153985977,
          null
         ],
         "y": [
          -0.015521006658673286,
          -0.016481216996908188,
          null
         ]
        },
        {
         "line": {
          "color": "gray",
          "width": 1
         },
         "mode": "lines",
         "type": "scatter",
         "x": [
          0.05480250343680382,
          0.08447523415088654,
          null
         ],
         "y": [
          -0.015521006658673286,
          -0.025177249684929848,
          null
         ]
        },
        {
         "line": {
          "color": "gray",
          "width": 1
         },
         "mode": "lines",
         "type": "scatter",
         "x": [
          0.05480250343680382,
          0.006826639641076326,
          null
         ],
         "y": [
          -0.015521006658673286,
          -0.004879587795585394,
          null
         ]
        },
        {
         "line": {
          "color": "gray",
          "width": 1
         },
         "mode": "lines",
         "type": "scatter",
         "x": [
          -0.17142997682094574,
          -0.11885945498943329,
          null
         ],
         "y": [
          -0.08026323467493057,
          -0.04541396349668503,
          null
         ]
        },
        {
         "line": {
          "color": "gray",
          "width": 1
         },
         "mode": "lines",
         "type": "scatter",
         "x": [
          -0.17142997682094574,
          -0.17878752946853638,
          null
         ],
         "y": [
          -0.08026323467493057,
          -0.11054375022649765,
          null
         ]
        },
        {
         "line": {
          "color": "gray",
          "width": 1
         },
         "mode": "lines",
         "type": "scatter",
         "x": [
          -0.17142997682094574,
          -0.22329314053058624,
          null
         ],
         "y": [
          -0.08026323467493057,
          -0.06588570773601532,
          null
         ]
        },
        {
         "line": {
          "color": "gray",
          "width": 1
         },
         "mode": "lines",
         "type": "scatter",
         "x": [
          -0.17142997682094574,
          -0.18602308630943298,
          null
         ],
         "y": [
          -0.08026323467493057,
          -0.11510983109474182,
          null
         ]
        },
        {
         "line": {
          "color": "gray",
          "width": 1
         },
         "mode": "lines",
         "type": "scatter",
         "x": [
          -0.9029468894004822,
          -0.8986609578132629,
          null
         ],
         "y": [
          -0.07015784829854965,
          -0.08010831475257874,
          null
         ]
        },
        {
         "line": {
          "color": "gray",
          "width": 1
         },
         "mode": "lines",
         "type": "scatter",
         "x": [
          0.4134351909160614,
          0.43574070930480957,
          null
         ],
         "y": [
          0.6537609696388245,
          0.6809476017951965,
          null
         ]
        },
        {
         "line": {
          "color": "gray",
          "width": 1
         },
         "mode": "lines",
         "type": "scatter",
         "x": [
          0.4134351909160614,
          0.4312668740749359,
          null
         ],
         "y": [
          0.6537609696388245,
          0.6872337460517883,
          null
         ]
        },
        {
         "line": {
          "color": "gray",
          "width": 1
         },
         "mode": "lines",
         "type": "scatter",
         "x": [
          0.4134351909160614,
          0.42381471395492554,
          null
         ],
         "y": [
          0.6537609696388245,
          0.6734604239463806,
          null
         ]
        },
        {
         "line": {
          "color": "gray",
          "width": 1
         },
         "mode": "lines",
         "type": "scatter",
         "x": [
          0.4134351909160614,
          0.4395792484283447,
          null
         ],
         "y": [
          0.6537609696388245,
          0.6742244958877563,
          null
         ]
        },
        {
         "line": {
          "color": "gray",
          "width": 1
         },
         "mode": "lines",
         "type": "scatter",
         "x": [
          0.4134351909160614,
          0.4226800203323364,
          null
         ],
         "y": [
          0.6537609696388245,
          0.6860557198524475,
          null
         ]
        },
        {
         "line": {
          "color": "gray",
          "width": 1
         },
         "mode": "lines",
         "type": "scatter",
         "x": [
          0.4134351909160614,
          0.380066841840744,
          null
         ],
         "y": [
          0.6537609696388245,
          0.6024553179740906,
          null
         ]
        },
        {
         "line": {
          "color": "gray",
          "width": 1
         },
         "mode": "lines",
         "type": "scatter",
         "x": [
          0.716005802154541,
          0.7496991753578186,
          null
         ],
         "y": [
          0.16946332156658173,
          0.16673089563846588,
          null
         ]
        },
        {
         "line": {
          "color": "gray",
          "width": 1
         },
         "mode": "lines",
         "type": "scatter",
         "x": [
          0.716005802154541,
          0.7443382143974304,
          null
         ],
         "y": [
          0.16946332156658173,
          0.18454663455486298,
          null
         ]
        },
        {
         "line": {
          "color": "gray",
          "width": 1
         },
         "mode": "lines",
         "type": "scatter",
         "x": [
          0.716005802154541,
          0.7536832094192505,
          null
         ],
         "y": [
          0.16946332156658173,
          0.1734153926372528,
          null
         ]
        },
        {
         "line": {
          "color": "gray",
          "width": 1
         },
         "mode": "lines",
         "type": "scatter",
         "x": [
          0.716005802154541,
          0.6710002422332764,
          null
         ],
         "y": [
          0.16946332156658173,
          0.1597425490617752,
          null
         ]
        },
        {
         "line": {
          "color": "gray",
          "width": 1
         },
         "mode": "lines",
         "type": "scatter",
         "x": [
          0.716005802154541,
          0.6809734106063843,
          null
         ],
         "y": [
          0.16946332156658173,
          0.16380098462104797,
          null
         ]
        },
        {
         "line": {
          "color": "gray",
          "width": 1
         },
         "mode": "lines",
         "type": "scatter",
         "x": [
          0.716005802154541,
          0.7496358752250671,
          null
         ],
         "y": [
          0.16946332156658173,
          0.179447740316391,
          null
         ]
        },
        {
         "line": {
          "color": "gray",
          "width": 1
         },
         "mode": "lines",
         "type": "scatter",
         "x": [
          0.6680171489715576,
          0.6277868747711182,
          null
         ],
         "y": [
          -0.3068968951702118,
          -0.2916928231716156,
          null
         ]
        },
        {
         "line": {
          "color": "gray",
          "width": 1
         },
         "mode": "lines",
         "type": "scatter",
         "x": [
          0.6680171489715576,
          0.7052467465400696,
          null
         ],
         "y": [
          -0.3068968951702118,
          -0.30993080139160156,
          null
         ]
        },
        {
         "line": {
          "color": "gray",
          "width": 1
         },
         "mode": "lines",
         "type": "scatter",
         "x": [
          0.6680171489715576,
          0.6947304606437683,
          null
         ],
         "y": [
          -0.3068968951702118,
          -0.3328685462474823,
          null
         ]
        },
        {
         "line": {
          "color": "gray",
          "width": 1
         },
         "mode": "lines",
         "type": "scatter",
         "x": [
          0.6680171489715576,
          0.7003154754638672,
          null
         ],
         "y": [
          -0.3068968951702118,
          -0.3196312487125397,
          null
         ]
        },
        {
         "line": {
          "color": "gray",
          "width": 1
         },
         "mode": "lines",
         "type": "scatter",
         "x": [
          0.6680171489715576,
          0.6444655656814575,
          null
         ],
         "y": [
          -0.3068968951702118,
          -0.29991981387138367,
          null
         ]
        },
        {
         "line": {
          "color": "gray",
          "width": 1
         },
         "mode": "lines",
         "type": "scatter",
         "x": [
          0.6680171489715576,
          0.7082802653312683,
          null
         ],
         "y": [
          -0.3068968951702118,
          -0.319086492061615,
          null
         ]
        },
        {
         "line": {
          "color": "gray",
          "width": 1
         },
         "mode": "lines",
         "type": "scatter",
         "x": [
          0.6680171489715576,
          0.6951931715011597,
          null
         ],
         "y": [
          -0.3068968951702118,
          -0.3004182279109955,
          null
         ]
        },
        {
         "line": {
          "color": "gray",
          "width": 1
         },
         "mode": "lines",
         "type": "scatter",
         "x": [
          0.6680171489715576,
          0.6970850229263306,
          null
         ],
         "y": [
          -0.3068968951702118,
          -0.31095948815345764,
          null
         ]
        },
        {
         "line": {
          "color": "gray",
          "width": 1
         },
         "mode": "lines",
         "type": "scatter",
         "x": [
          0.6680171489715576,
          0.6929675340652466,
          null
         ],
         "y": [
          -0.3068968951702118,
          -0.3203781843185425,
          null
         ]
        },
        {
         "line": {
          "color": "gray",
          "width": 1
         },
         "mode": "lines",
         "type": "scatter",
         "x": [
          0.6680171489715576,
          0.6845844984054565,
          null
         ],
         "y": [
          -0.3068968951702118,
          -0.33435457944869995,
          null
         ]
        },
        {
         "line": {
          "color": "gray",
          "width": 1
         },
         "mode": "lines",
         "type": "scatter",
         "x": [
          0.6680171489715576,
          0.7039272785186768,
          null
         ],
         "y": [
          -0.3068968951702118,
          -0.3020254969596863,
          null
         ]
        },
        {
         "line": {
          "color": "gray",
          "width": 1
         },
         "mode": "lines",
         "type": "scatter",
         "x": [
          0.6680171489715576,
          0.6728042364120483,
          null
         ],
         "y": [
          -0.3068968951702118,
          -0.2909259498119354,
          null
         ]
        },
        {
         "line": {
          "color": "gray",
          "width": 1
         },
         "mode": "lines",
         "type": "scatter",
         "x": [
          0.6680171489715576,
          0.7024170756340027,
          null
         ],
         "y": [
          -0.3068968951702118,
          -0.3281996250152588,
          null
         ]
        },
        {
         "line": {
          "color": "gray",
          "width": 1
         },
         "mode": "lines",
         "type": "scatter",
         "x": [
          0.6680171489715576,
          0.6559792757034302,
          null
         ],
         "y": [
          -0.3068968951702118,
          -0.3189087212085724,
          null
         ]
        },
        {
         "line": {
          "color": "gray",
          "width": 1
         },
         "mode": "lines",
         "type": "scatter",
         "x": [
          0.6680171489715576,
          0.688189685344696,
          null
         ],
         "y": [
          -0.3068968951702118,
          -0.32701918482780457,
          null
         ]
        },
        {
         "line": {
          "color": "gray",
          "width": 1
         },
         "mode": "lines",
         "type": "scatter",
         "x": [
          -0.7881569862365723,
          -0.787479043006897,
          null
         ],
         "y": [
          -0.21152275800704956,
          -0.22588780522346497,
          null
         ]
        },
        {
         "line": {
          "color": "gray",
          "width": 1
         },
         "mode": "lines",
         "type": "scatter",
         "x": [
          -0.7881569862365723,
          -0.8215193152427673,
          null
         ],
         "y": [
          -0.21152275800704956,
          -0.22038044035434723,
          null
         ]
        },
        {
         "line": {
          "color": "gray",
          "width": 1
         },
         "mode": "lines",
         "type": "scatter",
         "x": [
          -0.7881569862365723,
          -0.7870177030563354,
          null
         ],
         "y": [
          -0.21152275800704956,
          -0.1953142136335373,
          null
         ]
        },
        {
         "line": {
          "color": "gray",
          "width": 1
         },
         "mode": "lines",
         "type": "scatter",
         "x": [
          -0.7870177030563354,
          -0.7811822891235352,
          null
         ],
         "y": [
          -0.1953142136335373,
          -0.18146878480911255,
          null
         ]
        },
        {
         "line": {
          "color": "gray",
          "width": 1
         },
         "mode": "lines",
         "type": "scatter",
         "x": [
          -0.0949762761592865,
          -0.05216536670923233,
          null
         ],
         "y": [
          0.03754556551575661,
          -0.03922661021351814,
          null
         ]
        },
        {
         "line": {
          "color": "gray",
          "width": 1
         },
         "mode": "lines",
         "type": "scatter",
         "x": [
          -0.0949762761592865,
          -0.1180257648229599,
          null
         ],
         "y": [
          0.03754556551575661,
          0.0740167498588562,
          null
         ]
        },
        {
         "line": {
          "color": "gray",
          "width": 1
         },
         "mode": "lines",
         "type": "scatter",
         "x": [
          -0.0949762761592865,
          -0.12360163778066635,
          null
         ],
         "y": [
          0.03754556551575661,
          0.06962451338768005,
          null
         ]
        },
        {
         "line": {
          "color": "gray",
          "width": 1
         },
         "mode": "lines",
         "type": "scatter",
         "x": [
          -0.0949762761592865,
          -0.11136982589960098,
          null
         ],
         "y": [
          0.03754556551575661,
          0.0769381895661354,
          null
         ]
        },
        {
         "line": {
          "color": "gray",
          "width": 1
         },
         "mode": "lines",
         "type": "scatter",
         "x": [
          0.12413374334573746,
          0.11732171475887299,
          null
         ],
         "y": [
          -0.8616750240325928,
          -0.869908332824707,
          null
         ]
        },
        {
         "hovertemplate": "%{text}",
         "marker": {
          "color": "blue",
          "line": {
           "color": "black",
           "width": 0.5
          },
          "size": 15
         },
         "mode": "markers",
         "text": [
          "Animal Telemetry Network",
          "Argo",
          "BlueBRIDGE",
          "C4ADS Natural Resources Cell",
          "Canada's Dark Vessel Detection Program",
          "CCAMLR Data",
          "Ecologically or Biologically Significant Marine Areas",
          "Coastal Resilience Mapping Portal",
          "Copernicus Marine Service",
          "Coral Reef Sentinels Program",
          "Coral Triangle Atlas",
          "Coriolis Ocean Database for Reanalysis",
          "Deep Ocean Observing Strategy",
          "Deep-Ocean Stewardship Initiative",
          "Digital Twin of the Ocean",
          "Earth Observing System Data and Information System (EOSDIS) - Ocean Data",
          "EDF Fisheries Solution Center",
          "EMODnet",
          "eOceans",
          "FishBase",
          "Global Oceans Biodiversity Initiative (GOBI)",
          "ICES Marine Data",
          "iMarine Gateway",
          "International Comprehensive Ocean-Atmospheric Data Set",
          "International Fisheries Innovation Network",
          "International Group for Marine Ecological Time Series",
          "IOC Ocean Data and Information System",
          "International Seabed Authority DeepData Database",
          "Land+Ocean Data",
          "Litterbase",
          "Lloyds List intelligence (seasearcher)",
          "Mapping Application for Penguin Populations and Projected Dynamics",
          "Marine Ecological Research Management AID",
          "Marine Geoscience Data System",
          "Marine Life 2030: A Global Integrated Marine Biodiversity Information Management and Forecasting System for Sustainable Development and Conservation",
          "Marine Observing Network for the Group on Earth Observations - Biodiversity Observing Networks (GEO-BON) - NAME CHECK NEEDED",
          "Marine Protection Atlas",
          "MitoFish",
          "NOAA U.S. Seafood Import Monitoring Program",
          "Ocean Biogeographic Information System (OBIS)",
          "Ocean + library",
          "Ocean Data Platform",
          "Ocean Data View",
          "Ocean Tracking Network",
          "OceanDataLab",
          "oceanmind",
          "OceanPredict",
          "OceanSITES",
          "odinafrica",
          "One Ocean Network for Deep Observation",
          "Ocean Observatories Initiative - National Science Foundation funded (OOI)",
          "Our Shared Seas",
          "Pacific Islands Forum Fisheries Agency Regional Fisheries Surveillance Center ",
          "PANGAEA",
          "Pew Charitable Trust ‘Eyes on the Sea’",
          "POGO (Partenrship for Observation of the Global Ocean - Nippon Foundation)",
          "Ram Legacy Stock Assessment Database",
          "ReefBase",
          "Sea Around US",
          "Seabird Tracking Database",
          "SeaDataNet",
          "Seafood Alliance for Legality and Traceability",
          "Seafood Watch",
          "SeaVision - US Navy/ US Department of Transportation",
          "State of the world's sea turtles",
          "Sustainability of Marine Ecosystems through global knowledge networks (SMARTNET)",
          "The Fishery Improvement Projects Database",
          "The Hydrous presents: The Decade of Ocean Empathy",
          "The Nippon Foundation-GEBCO Seabed 2030 Project",
          "Traseable",
          "UNEP World Conservation Monitoring Centre Ocean Data Viewer",
          "UNESCO International Oceanographic Data and Information Exchange (IODE)",
          "UNESCO IODE Ocean Data Portal",
          "Universeum Ocean Science Lab",
          "World Ocean Atlas",
          "World Ocean Database - NOAA National Centers for Environmental Information",
          "World Register of Marine Species",
          "WWF DETECT - IT"
         ],
         "type": "scatter",
         "x": [
          0.24923215806484222,
          -0.4936286211013794,
          -0.3205500543117523,
          0.5600415468215942,
          0.10672959685325623,
          0.276594877243042,
          -0.28217726945877075,
          -0.0022485435474663973,
          0.4949072003364563,
          -0.44473034143447876,
          -0.050258684903383255,
          0.42238348722457886,
          0.15192003548145294,
          -0.5845292210578918,
          0.19738245010375977,
          0.07698912918567657,
          0.4350789487361908,
          -0.06036751717329025,
          0.3997994661331177,
          -0.011034268885850906,
          0.0059173875488340855,
          -0.05802026763558388,
          -0.2126934677362442,
          0.06766202300786972,
          -0.858607828617096,
          0.62959223985672,
          -0.753339409828186,
          -0.9069206714630127,
          0.05527182295918465,
          0.680665910243988,
          0.7917407155036926,
          -0.752866804599762,
          -0.16766810417175293,
          -0.37026602029800415,
          -0.047435421496629715,
          -0.0894952341914177,
          -0.058383338153362274,
          -0.7868300676345825,
          -0.8876331448554993,
          0.1861722767353058,
          0.8834168314933777,
          -0.010078025981783867,
          0.7321642637252808,
          -0.6785370111465454,
          0.9688181281089783,
          0.06494920700788498,
          0.14146003127098083,
          -0.2316221445798874,
          -0.029060473665595055,
          0.18174083530902863,
          -0.14252853393554688,
          0.970976710319519,
          0.5268924832344055,
          -0.008016645908355713,
          0.8114330768585205,
          0.33292779326438904,
          -0.561295211315155,
          0.0736612007021904,
          0.005401523783802986,
          0.2150212824344635,
          0.33685731887817383,
          0.11538156867027283,
          -0.05793481320142746,
          0.7292211651802063,
          -0.8198142647743225,
          0.13976016640663147,
          0.8812842965126038,
          0.22039566934108734,
          0.05480250343680382,
          -0.17142997682094574,
          -0.9029468894004822,
          0.4134351909160614,
          0.716005802154541,
          0.6680171489715576,
          -0.7881569862365723,
          -0.7870177030563354,
          -0.0949762761592865,
          0.12413374334573746
         ],
         "y": [
          -0.6863217949867249,
          -0.8610132932662964,
          0.23479793965816498,
          -0.5363525748252869,
          0.8018739223480225,
          0.17357192933559418,
          -0.04063086584210396,
          0.12481658160686493,
          0.006896860431879759,
          -0.2386653870344162,
          0.08176529407501221,
          0.05395423620939255,
          -0.17904603481292725,
          0.41380560398101807,
          0.06281223893165588,
          0.4362965226173401,
          -0.7341390252113342,
          -0.7545901536941528,
          -0.6727089881896973,
          0.18693596124649048,
          -0.1461554765701294,
          0.2210351675748825,
          0.1382446438074112,
          0.34515970945358276,
          -0.3022819757461548,
          -0.4342441260814667,
          -0.4475429356098175,
          0.47986966371536255,
          0.3761756122112274,
          -0.840230405330658,
          -0.38889721035957336,
          0.4149274230003357,
          -0.06785860657691956,
          -0.7760641574859619,
          0.0034750907216221094,
          0.024783093482255936,
          -0.16497622430324554,
          0.6294937133789062,
          0.4445960223674774,
          -0.09329796582460403,
          0.27248430252075195,
          -0.13094264268875122,
          0.6866433620452881,
          -0.3773064911365509,
          0.04842715710401535,
          -0.047989603132009506,
          0.23277361690998077,
          0.33915072679519653,
          0.12555895745754242,
          0.23573043942451477,
          0.0927731916308403,
          -0.053360216319561005,
          0.16165558993816376,
          0.8420130014419556,
          0.2835659384727478,
          0.11772705614566803,
          0.3010866343975067,
          0.10628088563680649,
          0.1054234579205513,
          -0.7830865979194641,
          0.11462581157684326,
          0.3598744571208954,
          -0.3148884177207947,
          0.38101476430892944,
          0.32018813490867615,
          -0.07649364322423935,
          -0.23573967814445496,
          0.7158641815185547,
          -0.015521006658673286,
          -0.08026323467493057,
          -0.07015784829854965,
          0.6537609696388245,
          0.16946332156658173,
          -0.3068968951702118,
          -0.21152275800704956,
          -0.1953142136335373,
          0.03754556551575661,
          -0.8616750240325928
         ]
        },
        {
         "hovertemplate": "%{text}",
         "marker": {
          "color": "red",
          "line": {
           "color": "black",
           "width": 0.5
          },
          "size": 10
         },
         "mode": "markers",
         "text": [
          "FACT Network",
          "Atlantic Coast Telemetry (ACT) Network",
          "Southern California Acoustic Telemetry Tracking Network (SCATTN)",
          "Wood Hole Group Argos Services Team, participating researchers",
          "Interagency Ocean Observation Committee (IOOC) member agencies",
          "IOOS Program Office",
          "IOOS Regional Associations",
          "other experts",
          "International Oceanographic Commission (IOC)",
          "National Research Council of Italy",
          "European Research Consortium for Informatics and Mathematics (ERCIM)",
          "Engineering Ingegneria Informatica Spa",
          "National and Kapodistrian University of Athens (UOA)",
          "The Food and Agriculture Organization of the United Nations (FAO)",
          "International Council for the Exploration of the Sea (ICES)",
          "Institut de Recherche pour le Dévelopement (IRD)",
          "Foundation for Research and Technology Hellas (FORTH)",
          "Trust-IT Services LTD",
          "Integrated Information Systems (I2S)",
          "Communication & Information Technologies Experts (CITE)",
          "Collecte Localisation Satellites (CLS)",
          "GRID-Arendal",
          "Pole Mer Bretagne Atlantique",
          "Hon. April Foley",
          "John Callery",
          "Joe D'Cruz",
          "LTG (Ret.) David P. Fridovich",
          "Newton Howard, PHD, HDR",
          "Sergey Kanareykin",
          "John Pearce",
          "Archie Ravishankar",
          "Palantir",
          "Amazon Web Services (AWS)",
          "Windward",
          "Planet",
          "Spire",
          "Fivecast",
          "ADS-B Exchange",
          "Unfolded",
          "Bright Data",
          "DomainTools",
          "Greylist",
          "Department of National Defence",
          "Defence Research and Development Canada’s Centre for Security Science' Global Affairs Canada",
          "MDA",
          "Forum Fisheries Agency",
          "Ecuadorian Maritime Authority",
          "National Directorate of Aquatic Spaces",
          "University of Tasmania",
          "FAO (FAO) Coordinating Working Party on Fisheries Statistics (CWP)",
          "Fishery Resources Monitoring System (FIRMS)",
          "Scientific Committee on Antarctic Research Marine Biodiversity Information Network (SCAR-MarBIN)",
          "Global Database on Vulnerable Marine Ecosystems (FAO initiative) 'Cooperations:' Agreement for the Conservation of Albatrosses and Petrels (ACAP)",
          "Commission for the Conservation of Southern Bluefin Tuna (CCSBT)",
          "Committee for Environmental Protection (CEP)",
          "Convention for the International Trade in Endangered Species (CITES)",
          "Permanent Commission for the South Pacific (CPPS)",
          "United Nations Food and Agriculture Organisation (FAO)",
          "Pacific Islands Forum Fisheries Agency (FFA)",
          "Inter-American Tropical Tuna Commission (IATTC)",
          "Intergovernmental Oceanographic Commission (IOC)",
          "International Union for the Conservation of Nature (IUCN)",
          "International Whaling Commission (IWC)",
          "Scientific Committee on Antarctic Research (SCAR)",
          "Scientific Committee on Oceanic Research (SCOR)",
          "South East Atlantic Fisheries Organisation (SEAFO)",
          "Secretariat for the Pacific Community (SPC)",
          "South Pacific Regional Fisheries Management Organisation (SPRFMO)",
          "Southern Indian Ocean Fisheries Agreement (SIOFA) United Nations Environment Programme (UNEP)",
          "Western and Central Pacific Fisheries Commission (WCPFC)",
          "AEON Environmental Foundation",
          "African Centre for Technology Studies (ACTS)",
          "Agropolis International",
          "Airbus S.A.S.",
          "Alpine Convention",
          "American Bird Conservancy Alliance for Zero Extinction (AZE) (ABC)",
          "Anatrack",
          "Arab Organization for Agricultural Development (AOAD)",
          "ASEAN Centre for Biodiversity (ACB)",
          "Asociación Latinoamericana de Integración (ALADI)",
          "Biodiversity Center Ministry of the Environment",
          "BioNET-INTERNATIONAL",
          "Bioversity International",
          "BirdLife International",
          "Botanic Gardens Conservation International (BGCI)",
          "Botanical Gardens Montreal (Canada)",
          "Botanische Gärten der Rheinischen Friedrich-Wilhelms-Universität Bonn",
          "CABI (CABI)",
          "Canadian Environmental Network (RCEN)",
          "Canadian Forest Service",
          "Carleton University (Canada)",
          "Carpathian Convention",
          "CBD Alliance",
          "Census of Marine Life (CMoL)",
          "Center for International Forestry Research (CIFOR)",
          "Centre for International Sustainable Development Law (CISDL)",
          "Centro Internacional de Agricultura Tropical (CIAT)",
          "Comisión Nacional para el Conocimiento y Uso de la Biodiversidad (CONABIO)",
          "Comisión Permanente del Pacífico Sur (CPPS)",
          "Concordia University",
          "Conservation International (CI)",
          "Conservation of Arctic Flora and Fauna (CAFF)",
          "Consultative Group on International Agricultural Research (CGIAR)",
          "Convention for the Protection and Development of the Marine environment of the Wider Caribbean Region (Cartagena Convention)",
          "Convention on International Trade in Endangered Species of Wild Fauna and Flora (CITES)",
          "Convention on the Conservation of European Wildlife and Natural Habitats (Bern Convention) Council of Europe (Bern Convention)",
          "Convention on the Conservation of Migratory Species of Wild Animals (CMS)",
          "Deutsche Gesellschaft für Internationale Zusammenarbeit (GIZ) GmbH (GIZ)",
          "DIVERSITAS. Earth Rangers",
          "École des Hautres Études Commerciales (HEC-Alger)",
          "Environment Canada",
          "Federal Agency for Nature Conservation (Germany) (BfN)",
          "Federal Ministry for Economic Cooperation and Development (BMZ)",
          "Fishbase Information and Research Group (FIN)",
          "Folk Research Centre",
          "Food and Agriculture Organization of the United Nations (FAO)",
          "Foundation for International Environmental Law and Development (FIELD)",
          "Future Earth International",
          "Genetic Resources Communications Systems Inc.",
          "Diversity (GRCS Diversity)",
          "Global Biodiversity Information Facility (GBIF)",
          "Global Environment Facility (GEF)",
          "Global International Waters Assessment (UNEP/GIWA)",
          "Global Invasive Species Programme - Secretariat (GISP)",
          "Global Programme of Action for the Protection of the Marine Environment from Land-Based Activities (UNEP/GPA)",
          "Green Belt Movement",
          "United Nations Environment Programme (UNEP/GRID-Arendal)",
          "Group on Earth Observations (GEO)",
          "Healthy Urban Microbiome Initiative (HUMI)",
          "Higashiyama Botanical Gardens Horus Institute for Environmental Conservation and Development",
          "ICI Environment",
          "ICLEI - Local Governments for Sustainability (ICLEI)",
          "Indigenous Women's Biodiversity Network - Latin America & Caribbbean",
          "Information and Communication Centre of the Barcelona Convention",
          "Institut de l'Énergie et de l'Environnement de la Francophonie",
          "Institute for Global Environmental Strategies (IGES)",
          "Instituto Alexander Von Humboldt",
          "Instituto Nacional de Biodiversidad (INBio)",
          "Instituto Superiore per la Protezione e la Ricerca Ambientale (ISPRA)",
          "Inter-American Biodiversity Information Network (IABIN)",
          "Intergovernmental Oceanographic Commission UNESCO (IOC/UNESCO)",
          "Intergovernmental Platform on Biodiversity and Ecosystem Services (IPBES)",
          "International Association for Impact Assessment (IAIA)",
          "International Barcode of Life (iBOL)",
          "International Centre for Genetic Engineering and Biotechnology (ICGEB)",
          "International Civil Aviation Organization (ICAO)",
          "International Development Law Organization (IDLO)",
          "International Federation of Agricultural Producers (IFAP)",
          "International Fund for Agricultural Development (IFAD)",
          "International Ocean Institute (IOI)",
          "International Plant Genetic Resources Institute (IPGRI)",
          "International Plant Protection Convention Secretariat (FAO/IPPC)",
          "International Treaty on Plant Genetic Resources for Food and Agriculture FAO (ITPGRFA)",
          "International Tropical Timber Organization (ITTO)",
          "International Union of Biological Sciences (IUBS)",
          "IUCN - Countdown 2010",
          "IUCN - International Union for Conservation of Nature (IUCN)",
          "IUCN Species Survival Commission",
          "Japan Committee for IUCN (IUCN-J)",
          "Joint Nature Conservation Committee (JNCC)",
          "Kobe University",
          "Korea Forest Service",
          "Leibniz-Institut für Evolutions und Biodiversitätsforschung - Museum für Naturkunde - Humboldt-Universität zu Berlin",
          "McGill University",
          "Minister of Housing",
          "Spatial Planning and the Environment",
          "Ministry for Economic Cooperation and Development (Germany)",
          "Ministry of Agriculture",
          "Nature and Food Quality (ANF)",
          "Nature Management and Fisheries (Netherlands)",
          "Sea",
          "Environment and Spatial Planning",
          "Ministry of Oceans and Fisheries of the Republic of Korea",
          "Missouri Botanical Garden",
          "Museum National d'Histoire Naturelle (France)",
          "National Commission for the Knowledge and Use of Biodiversity (CONABIO)",
          "National Commission for Wildlife Conservation and Development (NCWCD)",
          "National Geographic Society",
          "National Institute of Biological Resources (NIBR)",
          "Natural History Museum",
          "NatureServe",
          "New Partnership for Africa's Development (NEPAD)",
          "Observatoire du Sahara et du Sahel (OSS)",
          "Organization for Economic Co-operation and Development (OECD)",
          "Organization for Industrial",
          "Spiritual",
          "Cultural Advancement International (OISCA)",
          "Pan-European Biological and Landscape Diversity Strategy (PEBLDS)",
          "Partnerships in Environmental Management for the Seas of East Asia (PEMSEA)",
          "Permanent Secretariat of the Amazon Cooperation Treaty Organization (ACTO-OTCA)",
          "Programme régional de Conservation de la zone Côtière et Marine en Afrique de l’Ouest (PRCM)",
          "Ramsar Convention on Wetlands (Ramsar)",
          "RARE Conservation",
          "Royal Belgian Institute of Natural Sciences",
          "Royal Botanic Garden of Edinburgh",
          "Royal Botanic Gardens",
          "Kew",
          "Secretaría de Medio Ambiente y Recursos Naturales",
          "Secretariat of the Pacific Regional Environment Programme (SPREP)",
          "Sedna Foundation (SEDNA)",
          "Smithsonian Institution",
          "South African National Biodiversity Institute (SANBI)",
          "State of Parana",
          "Stockholm University (SRC)",
          "Tehran Process Secretariat for Low Forest Cover Countries (TPS LFCC)",
          "The Government of the Republic of South Africa",
          "The Nature Conservancy (TNC)",
          "The Union for Ethical BioTrade (UEBT)",
          "Tourisme Montréal",
          "TRAFFIC International",
          "UNEP Division of Environmental Law and Conventions (UNEP/DELC)",
          "UNEP Mediterranean Action Plan for the Barcelona Convention (UNEP/MAP)",
          "UNEP World Conservation Monitoring Centre (UNEP-WCMC)",
          "United Nations Conference on Trade and Development (UNCTAD)",
          "United Nations Convention to Combat Desertification (UNCCD)",
          "United Nations Development Programme (UNDP)",
          "United Nations Development Programme/Drylands Development Centre (UNDP - DDC)",
          "United Nations Economic Commission for Africa (UNECA)",
          "United Nations Economic Commission for Europe (UNECE)",
          "United Nations Economic Commission for Latin America and the Caribbean (UNECLAC)",
          "United Nations Educational",
          "Scientific and Cultural Organization (UNESCO)",
          "United Nations Environment Programme (UNEP)",
          "United Nations Forum on Forests (UNFF)",
          "United Nations Foundation",
          "United Nations Human Settlements Programme (UN-HABITAT)",
          "United Nations Industrial Development Organization (UNIDO)",
          "United Nations Institute for Training and Research (UNITAR)",
          "United Nations University - Institute of Advanced Studies (UNU-IAS)",
          "United Nations University - International Institute for Global Health (UNU-IIGH)",
          "United Nations World Tourism Organization (UNWTO)",
          "United States Department of Agriculture",
          "Universidad Livre do Meio Ambiente (Brazil)",
          "Universita di Roma \"\"La Sapienza\"\"",
          "Université de Montréal",
          "Université du Québec à Montréal -UQAM (UQAM)",
          "Université Laval",
          "University of Guelph",
          "University of Tokyo",
          "University of Toronto (Canada)",
          "Ville de Montréal (Canada)",
          "Western Indian Ocean Marine Science Association (WIOMSA)",
          "Wetlands International (WI)",
          "Wildlife Conservation Society (WCS)",
          "World Agroforestry Centre (ICRAF)",
          "World Association of Zoos and Aquariums (WAZA)",
          "World Bank",
          "World Future Council",
          "World Health Organization (WHO)",
          "World Intellectual Property Organization (WIPO)",
          "World Organisation for Animal Health (OIE)",
          "World Wildlife Fund (WWF)",
          "National Oceanic and Atmospheric Administration (NOAA)",
          "United Nations University, Natural Capital Project",
          "Association of State Floodplain Managers",
          "University of Southern Mississippi",
          "UNited States Geological Survey (USGS)",
          "Microsoft",
          "Esri",
          "Azavea",
          "Spatial Development International",
          "Global Disaster Preparedness Center",
          "the International Federation of the Red Cross",
          "ISR",
          "Horizon 2020",
          "European Marine Observation and Data Network (EMODNet)",
          "EU4OceanObs",
          "the European Space Agency (ESA)",
          "the European Organisation for the Exploitation of Meteorological Satellites (EUMETSAT)",
          "the European Centre for Medium-Range Weather Forecasts (ECMWF)",
          "National Aeronautic and Space Administration (NASA) Ames",
          "the Scripps Institution of Oceanography",
          "the University of California San Diego",
          "the California Academy of Science",
          "Arizona State University",
          "Conservation X Labs",
          "Conservify",
          "Waitt Institute",
          "Smithsonian’s Healthy Reef Initiative.",
          "United States Agency for International Development (USAID)",
          "Coral Triangle Support Partnership (CTSP)",
          "Coral Triangle Initiative on Coral Reefs, Fisheries and Food Security (CTI-CFF)",
          "International Union for Conservation of Nature Global Marine Species Assessment (IUCN-GMSA)",
          "WorldFish",
          "CORIOLIS Data Centre (DAC)",
          "EuroGOOS",
          "MyOcean",
          "Advisory Board: OceanSITES",
          "China",
          "Ocean Observatories Initiative (OOI)",
          "InterRIDGE",
          "Ocean Networks Canada (ONC)",
          "Consortium for Ocean Leadership (COL)",
          "Seabed 2030",
          "International Seabed Authority (ISA)",
          "International Oceagraphic Data and Information Exchange, Ocean Data and Information System (IODE ODIS)",
          "Schmidt Ocean Institute",
          "REV Oceans",
          "Jeff Ardron, Commonwealth Secretariat, UK",
          "Jon Copley, University of Southampton, UK",
          "Judith Gobin University of the West Indies, Trinidad & Tobago",
          "Maila Guilhon, University of Sao Paolo, Brazil",
          "Baban Ingole, National Centre for Polar & Ocean Research, India",
          "Se-Jong Ju, Korean Institute of Ocean Science and Technology, South Korea",
          "Alan Leonardi, National Oceanic and Atmospheric Administration (NOAA) Office of Ocean Exploration & Research, USA",
          "Hannah Lily, Hannah Lily Law, UK",
          "Rose Lesley Kautoke, Government of the Kingdom of Tonga, Tonga",
          "Anna Metaxas, Dalhousie University, Canada",
          "Agnes Muthumbi, University of Nairobi, Kenya",
          "Pei-Yuan Qian, Hong Kong University of Science and Technology, Hong Kong",
          "Eva Ramirez-Llodra, NIVA, Norway & REV Ocean, Norway",
          "Francesca Santoro, UNESCO-IOC, France",
          "Julia Sigwart Queen's University, N. Ireland",
          "Oliver Steeds, Nekton, UK",
          "Torsten Thiele, LSE Institute of Global Affairs, London & Institute for Advanced Sustainability Studies, Germany & Global Ocean Trust founder",
          "Alix Willemez, Global Environment Facility, Côte d'Ivoire",
          "National Oceanography Centre",
          "Mercator Ocean International",
          "Fugro",
          "Integrated Marine Observing System",
          "National Oceans and Coastal Information Management System",
          "International Science Council (ISC) World Data System (WDS)",
          "Committee on Earth Observation Satellites (CEOS)",
          "CEOS WGISS Integrated Catalog (CWIC)",
          "Quality Assurance Framework for Earth Observaiton (QA4EO)",
          "United States Group on Earth Observations (USGEO)",
          "Earth Science Information Partners (ESIP)",
          "Federal Geographic Data Committee (FGDC)",
          "International Organization for Standardizaiton (ISO)",
          "Open Geospatial Consortium (OGC)",
          "Data.Gov",
          "Climate Resiliency Toolkit",
          "National Climate Assessment (NCA)",
          "United States Geological Survey (USGS)",
          "None indicated",
          "Centre for Documentation, Research and Experimentation on Accidental Water Pollution (CEDRE)",
          "Istituto Nazionale di Geofisica e Vulcanologia, Sede di Bologna (INGV)",
          "Iv.Javakhishvili Tbilisi State University, Centre of Relations with UNESCO (UNESCO) Oceanological Research Centre and GeoDNA (TSU-DNA)",
          "A.N.D. International (AND)",
          "Albanian Geological Survey (AGS)",
          "Alfred Wegener Institute (AWI)",
          "Anguilla Community College (ACC)",
          "AZTI Tecnalia (AZTI)",
          "Balearic Islands Coastal Observing and Forecasting System (SOCIB)",
          "Baltic Sea Hydrographic Commission (BSHC)",
          "Belgian Marine Data Centre (RBINS-ODNATURE-BMDC)",
          "British Geological Survey (BGS)",
          "Center for Marine Environmental Sciences (MARUM)",
          "Centre for Environment, Fisheries and Aquaculture Science (CEFAS)",
          "Centre for Marine Sciences (CCMAR)",
          "Centro Tecnológico del Mar (CETMAR)",
          "CNR (CNR), Institute of Environmental Geology and Geoengineering (IGAG)",
          "COGEA",
          "Conference of Peripheral Maritime Regions (CRPM)",
          "Coronis Computing SL (Coronis)",
          "Croatian Hydrographic Institute (HHI)",
          "CSIC-ICM/Institute of Marine Sciences (CSIC-ICM)",
          "Cyprus Geological Survey (GSD)",
          "Danish Centre for Environment and Energy (DCE)",
          "Danish Geodata Agency - Danish Hydrographic Office (GST)",
          "Danish Maritime Authority (DMA)",
          "Danube Delta National Institute (DDNI)",
          "FAO",
          "GEOMAR Helmholtz Centre for Ocean Research Kiel",
          "Global Fisheries Cluster UBC",
          "Museum National d'Histoire Naturelle",
          "Royal Museum for Central Africa Tervuren",
          "Swedish Museum of Natural History",
          "Aristotle University of Thessaloniki",
          "Chinese Academy of Fishery Sciences",
          "Universidade Federal de Sergipe",
          "University of Western Australia",
          "German Federal Agency for Nature Conservation (BfN)",
          "the International Union for Conservation of Nature (IUCN)",
          "the United Nations Environmental Programme (UNEP) World Conservation Monitoring Centre (WCMC)",
          "the Marine Conservation Biology Institute (MCBI)",
          "the Census of Marine Life",
          "the Ocean Biogeographic Information System (OBIS)",
          "the Marine Geospatial Ecology Lab of Duke University (MGEL)",
          "Convention on Biological Diversity",
          "Seascape consultants",
          "Convention on Migratory Species (CMS)",
          "International Union for Conservation of Nature (IUCN)",
          "Duke Nicholas School of th Environment",
          "Commonwealth Scientific and Industrial Research Organisation (CSIRO)",
          "Tethys Research Institute",
          "MarViva Foundation",
          "French Biodiversity Agency (OFB)",
          "Science and Conservation of Fish Aggregations (SCRFA)",
          "United Nations University (UNU) Institute of Advanced Studies (IAS)",
          "National Institute of Water and Atmospheric Research (NIWA)",
          "Smithsonian Conservation Biology Institute",
          "University of California Santa Cruz",
          "University of Hawai'i",
          "Sustainable FIsheries Partnership",
          "Senckenberg",
          "Old Dominion University",
          "United Nations Freiburg",
          "James Cook University",
          "Departamento de Oceanografia e Pescas (DOP), Universidade Dos Acores",
          "Food and Agriculture Organization (FAO)",
          "International Maritime Organization (IMO)",
          "International Seabed Authority",
          "Northeastern University",
          "Whale and Dolphin Conservation",
          "Pacific Marine Analysis and Research Association (Pac MARA)",
          "San Fransisco State Estuary and Ocean Science Center",
          "MigraMar",
          "Sargasso Sea Commission",
          "Universidad de Valparaiso Chile",
          "WildOceans",
          "Natural Resources Defense Council (NRDC)",
          "University of Aberdeen",
          "Ocean Institute",
          "Apex",
          "Columbia University",
          "North Atlantic Salmon Conservation Organization (NASCO)",
          "The United Kingdom of Great Britain and Northern Ireland",
          "European Commission (EC) - DG ENV",
          "European Commission (EC) - DG MARE",
          "Republic of Iceland",
          "North East Atlantic Fisheries Commission (NEAFC)",
          "Kingdom of Norway",
          "Secretariat of the Convention on Biological Diversity",
          "World Maritime University (WMU)",
          "Mediterranean Science Commission (CIESM)",
          "United Nations Education, Scientific, and Cultural Organization – Intergovernmental Oceanographic Commission (UNESCO-IOC)",
          "General Fisheries Commission in the Mediterranean (GFCM)",
          "The North Atlantic Marine Mammal Commission (NAMMCO)",
          "International Arctic Science Committee (IASC)",
          "BONUS",
          "National Oceanographic Data Center of the USA (NODC)",
          "World Organisation for Animal Health (Oie)",
          "The Convention for the Protection of the marine Environment of the North-East Atlantic (OSPAR)",
          "Baltic Marine Biologists",
          "The European Environment Agency (EEA)",
          "International cooperation in the development and maintenance of the Fisheries Resources Monitoring System (FIRMS)",
          "Northwest Atlantic Fisheries Organization (NAFO)",
          "The North Pacific Marine Science Organization (PICES)",
          "European Aquaculture Society (EAS)",
          "Statistical Office of the European Communities (EUROSTAT)",
          "Baltic Marine Environment Protection Commission (HELCOM)",
          "Government of Denmark and the Home Governments of the Faroe Islands and of Greenland",
          "Italy's National Research Council (CNR)",
          "the National Science Foundation's National Center for Atmospheric Research (NCAR)",
          "University of California Santa Barbara (UCSB)",
          "University of Washington (UW)",
          "Environmental Defense Fund (EFD)",
          "Intergovernmental Oceanographic Commission of UNESCO (IOC)",
          "the International Ocean Carbon Coordination Project (IOCCP) and the Ocean Carbon and Biogeochemistry Program (OCB)",
          "Korea Institute of Ocean Science and Technology",
          "PICES",
          "ICES-CIEM",
          "National Oceanic and Atmospheric Association (NOAA)",
          "Tara Ocean Foundation",
          "The Lawrence Berkeley National Laboratory (Berkeley Lab)",
          "Future 500",
          "Aclima",
          "Federation of American Scientists (FAS)",
          "Global Footprint Network (GFN)",
          "International Energy Agency (IEA)",
          "Met Office Hadley Centre for Climate Science and Services",
          "National Aeronautics and Space Administration (NASA)",
          "U.S. Energy Information Administration (EIA)",
          "Penguin Watch",
          "Black Bawks data science",
          "The Lynch Lab",
          "Oceanites",
          "C3",
          "World Wildlife Foundation (WWF)",
          "Sparkgeo",
          "U.S. Antarctic Program (USAP), the Ridge 2000 and MARGINS programs",
          "Global Multi-Resolution Topography (GMRT) Synthesis",
          "GeoMapApp",
          "US Antarctic Program Data Center (USAP-DC)",
          "Rolling Deck to Repository (R2R) Program",
          "University of South Florida",
          "University of Porto",
          "Hokkaido University",
          "Memorial University of Newfoundland",
          "Nord University",
          "and School of Environment",
          "St. George's University",
          "University of the West Indies",
          "University of the South Pacific",
          "University of Ryukyus",
          "University of Malaya",
          "University of Gothenburg",
          "Tara Oceans Consortium",
          "Universiti Malaysia Terengganu",
          "Universidade Federal do Espirio Santo",
          "Institute of Coastal Research",
          "National University of Ireland Galway (NUI Galway)",
          "Global Seaweeds Coastal Futures",
          "Scripps Institution of Oceanography",
          "University of Alabama Huntsville",
          "University of California Merced",
          "Oregon State University",
          "University of Alaska Fairbanks",
          "Monterey Bay Aquarium Research Institute",
          "University of California Santa Barbara",
          "University of Maine",
          "University of Maryland Center for Environmental Science",
          "Universidad Nacional Autonoma de Mexico",
          "University of Miami",
          "University of Washington",
          "Ocean Carbon & Biogeochemistry (OCB) Project Office Woods Hole Oceanographic Institution",
          "MPI for Marine Microbioligy",
          "Celsiusstr",
          "Senckenberg Research Institute and Natural History Museum",
          "University of Edinburgh",
          "Lehigh University",
          "UNESCO Intergovernmental Oceanographic Commission",
          "UN Environment Programme World Conservation Monitoring Centre (UNEP-WCMC)",
          "GEO Blue Planet Secretariat",
          "Atlantic International Research Centre",
          "Parque de Ciencia e Tecnologia de Ilha Terceira (TERINOV)",
          "Migramar",
          "REV Ocean",
          "Group on Earth Observations Biodiversity Observation Network (GEO BON)",
          "CORDIO East Africa",
          "Fundacion La Salle de Ciencias Naturales de Venezuela (FLASA)",
          "Group on Earth Observations",
          "European Space Agency (ESA)",
          "IUCN",
          "US National Aeronautics and Space Administration (NASA)",
          "MissonBlue",
          "Sea Legacy",
          "Antarctic and Southern Ocean Coalition",
          "WildAid",
          "High Seas Alliance",
          "Oceanic Global",
          "deepsea conservation coalition",
          "Seattle Aquarium",
          "GOBI",
          "Conservation Alliance for Seafood Solutions",
          "Antarctic Ocean Alliance",
          "CARTODB",
          "Conservation International",
          "ESRI",
          "National Geographic",
          "Global Penguin Society",
          "GreenPeace",
          "OCEANA",
          "Ocean Conservancy",
          "PEW Charitable Trusts",
          "MedPan",
          "WWF",
          "Open Channels",
          "The Nature Conservancy",
          "National Marine Protected Areas Center",
          "WCS",
          "Benioff Ocean Initiative",
          "UNEP/WCMC",
          "Bitonga Divers",
          "Blue Prosperity Coalition",
          "ZSL",
          "Earth Law Center",
          "Oneworld Oneocean.com",
          "Canadaian Parks and Wilderness Society- British Columbia Center",
          "Fundacion Rompientes",
          "Global Conservation",
          "OceanRevolution",
          "Jnana Foundation",
          "EMAHO films",
          "Linking Tourism and Conservation (LT&C)",
          "Pacific Environment",
          "Turtle Island Restoration Network",
          "Heirs to Our Oceans",
          "Blue Sphere Foundation",
          "Global Ocean Trust",
          "Blue Halo Initiative",
          "MARE",
          "Ocean Unite",
          "Sevenseasmedia.org",
          "MarViva",
          "Sinazulnohayverde CLT",
          "SKYTRUTH",
          "sharkstewards.org",
          "WDPA",
          "Sargasso Sea Alliance.",
          "IOC-UNESCO’s (UNESCO) International Oceanographic Data and Information (IODE) programme",
          "TDWG DATA QUALITY INTEREST GROUP",
          "GOOS",
          "GEOBON MBON",
          "EurOBIS",
          "Antarctic OBIS",
          "Ocean Tracking Network (OTN) and the Integrated Marine Observing System (IMOS)",
          "Animal Tracking Facility (ATF) have nodes in: Caribbean",
          "Brazil",
          "Sub-Saharan Africa",
          "Senegal",
          "Argentina",
          "Japan",
          "Antartic",
          "Australia",
          "Kenya",
          "Black Sea",
          "Arctic",
          "Malaysia",
          "Canada",
          "UK",
          "Eastern South Pacific",
          "Europe",
          "Colombia",
          "USA",
          "India",
          "South Pacific",
          "Persian Gulf and Gulf of Oman",
          "Indonesia",
          "Mediterranean",
          "South-East Asia",
          "South-West Pacific",
          "Proteus",
          "Accenture",
          "Aker ASA",
          "Aker Biomarine",
          "AkerBP",
          "AkerHorizon",
          "Aker Solutions",
          "BAHR",
          "Cognite",
          "Global Fishing Watch",
          "International Oceanographic Data and Information Exchange (IODE)",
          "Mærsk Mc-Kinney Møller Center for Zero Carbon Shipping (MMMCZCS)",
          "Mercuria",
          "Confederation for Norwegian Enterprise (NHO)",
          "The North Alliance (NoA)",
          "Norwegian University of Science and Technology (NTNU)",
          "OPS Sjømat",
          "SINTEF Ocean",
          "University of Tromsø (UIT)",
          "Vanora",
          "World Economic Forum",
          "Dalhousie University",
          "Nunavut",
          "The Confederacy of Mainland Mi'kmaq",
          "Space Oceanography Laboratory at French Research Institute for Exploitation of the Sea (IFREMER)",
          "Fauna and Flora international",
          "The Royal Thai Government",
          "The Seafood Taskforce",
          "Sainsbury's",
          "Bureau of Meterorology",
          "Centro Euro-Mediterraneo sui Cambiamenti Climatici (CMCC)",
          "Centre de National d'Eutes Spatiales (CNES)",
          "Canadian Operational Network of Coupled Environmental Prediction Systems (CONCEPTS)",
          "Commonwealth Scientific and Industrial Research Organization (CSIRO)",
          "European Organization for the Exploitation of Meteorological Satellites (EUMETSAT)",
          "Korea Hydrographic and Oceanic Society (KHOA)",
          "Korea Institute of Ocean Science and Technology (KIOST)",
          "French Research Institute for Exploitation of the Sea (IFREMER)",
          "Indian National Center for Ocean Information Services (INCOIS)",
          "Met Office",
          "Meteorological Research Institute (MRI)",
          "Japan Meteorological Agency (JAM)",
          "Nansen Environmental and Remote Sensing Center (NERSC)",
          "National Marine Environmental Center of State Oceanic Administration (SOA-NMEFC)",
          "Rede de Mooelagem e Observacao Oceanografica (REMO)",
          "University of Bergen (UiB) Geophysical Institute, NO",
          "CCHDO CLIVAR and Carbon Hydographic Office, USA",
          "CDIAC Carbon Dioxide Information Analysis Center, USA",
          "EUROSITES EuroSites project, EU",
          "IMOS Integrated Marine Observing System, AU",
          "INCOIS Indian National Centre for Ocean Information Services",
          "JAMSTEC Japan Agency for Marine-Earth Science and Technology",
          "MBARI Monterey Bay Aquarium Research Institute, USA",
          "MEDS Marine Environmental Data Service, Canada",
          "NDBC National Data Buoy Center, USA",
          "NIOZ Royal Netherlands Institute for Sea Research, NL",
          "NOCS National Oceanography Centre, Southampton UK",
          "PMEL Pacific Marine Environmental Laboratory, USA",
          "SIO Scripps Institution of Oceanography, USA",
          "UH University of Hawaii, USA",
          "WHOI Woods Hole Oceanographic Institution, USA",
          "UNESCO’s Global Ocean Observing System (GOOS)",
          "Global Earth Observing System of Systems (GEOSS)",
          "Climate Variability and Predictability project (CLIVAR) of the World Climate Research Program (WCRP)",
          "Partnership for Observation of the Global Oceans (POGO)",
          "Ocean Observations Panel for Climate (OOPC)",
          "International Oceanographic Data and Information Exchange Program (IODE)",
          "Nairobi Convention",
          "Marine and Coastal Operations for Southern Africa (MarCOSouth)",
          "Coastal Oceans Research and Development (CORDIO)",
          "United Nations Environment Program (UNEP)",
          "Regional Centre for Mapping of Resources for Development",
          "Biodiversity and Protected Areas Management (BIOPAMA)",
          "Japan Agency for Marine-Earth Science and Technology (JAMSTEC)",
          "European Multidisciplinary Seafloor Observatory (EMSO)",
          "Ocean Networks Canada",
          "Woods Hole Oceanographic Institution (WHOI)",
          "CEA Consulting",
          "Center for Biodiversity and Conservation",
          "Secretariat of the Pacific Community (SPC)",
          "Pacific Islands Forum Secretariat (FORSEC)",
          "South Pacific Regional Environmental Programme (SPREP)",
          "South Pacific Applied Geoscience Commission (SOPAC)",
          "Pacific Islands Development Programme (PIDP)",
          "South Pacific Tourism Organization (SPTO)",
          "University of the South Pacific (USP)",
          "Pacific Islands Law Officer Network (PILON)",
          "Parties of the Nauru Agreement (PNA)",
          "Te Vaka Moana (TVM)",
          "International Science Council (ISC)",
          "Baseline Surface Radiation Netowrk (BSRN)",
          "World Meteorological Organization",
          "Satellite Applications Catapult",
          "Marine Information Service (MARIS)",
          "British Oceanographic Data Centre (BODC)",
          "Bundesamt fur Seeschiffart und Hydrographie (BSH)",
          "Swedish Meteorological and Hydrological Institute (SMHI)",
          "Spanish Oceanograhpic Institute (IEO)",
          "Hellenic Centre for Marine Research, Institute of Oceanography (HCMR/IO)",
          "National Institute of Oceanography and Applied Geophysics (OGS)",
          "All-Russia Research Institute of Hydrometeorological Information - World Data Center (RIHMI-WDC)",
          "National Agency for New Technologies, Energy and Sustainable Economic Development (ENEA)",
          "National Institute of Geophysics and Volcanology (INGV)",
          "Middle East Technical University Institute of Marine Sciences (METU-IMS)",
          "Alfred-Wegener-Institute for Polar- and Marine Research",
          "University of Liege",
          "Institute of Marine Research",
          "Aarhus University",
          "International Council for Exploraiton of the Sea (ICES)",
          "Institute for Environmenta nad Sustainability (IES)",
          "Marine Institute (MI)",
          "International Hydrographic Organization (IHO)",
          "Royal Netherlands Institute for Sea Research (NIOZ)",
          "Royal Belgian Institute of National Sciences (RBINS)",
          "Flanders Marine Institute (VLIZ)",
          "Marine and Freshwater Research Institute (MFRI)",
          "Finnish Meteorological Institute (FMI)",
          "Institute of Meteorology and Water Management (IMGW)",
          "Marine Systems Institute (MSI)",
          "Latvian Institute of Aquatic Ecology (LHEI)",
          "Shirshov Institute of Oceanology of Russian Academy of Sciences (SIO-RAS)",
          "Institute of Oceanology of Bulgarian Academy of Sciences (IO-BAS)",
          "National Institute for Marine Research and Development (NIMRD)",
          "Georgian Designated National Agency (GeoDNA)",
          "Institute of Oceanography and Fisheries (IOF)",
          "National Institute of Biology (NIB)",
          "International Ocean Institute - Malta Operational Centre at University Of Malta",
          "Israel Oceanographic and Liminological Research Institute (IOLR)",
          "CNR, Consiglio Nazionale delle Ricerche- Istituto per lo Studio del MARe (CNR)",
          "Institute of Oceanology, Polish Academy of Sciences (IO-PAN)",
          "Spanish National Research Council (CSIC)",
          "Deltares",
          "Finnish Environmental Institute (SKYE)",
          "Ukranian Scientific Center for Ecology of the Sea (UkrSCES)",
          "ETT Solutions",
          "Intergovernmental Oceanographic Commission of UNESCO (UNESCO) (IOC) (GOOS)",
          "German Climate Computing Center (DKRZ)",
          "Cineca",
          "CSC - IT Center for Science",
          "Science and Technology Facilities Council (STFC)",
          "Greek Research and Technology Network (GRNET)",
          "University of Bergen (UiB)",
          "Helmholtz Centre for Ocean Research Kiel (GEOMAR)",
          "52°North Initiative for Geospatial Open Source Software GmbH",
          "Shom",
          "ORION Joint Research and Development Center",
          "Mediterranean Institute of Oceanography",
          "Oceanic and Continental Environments and Paleoenvironments (EPOC)",
          "University of Bologna, Environmental Science Laboratory",
          "Census of Marine Life",
          "Canadian Foundation for Innovation",
          "National Center for Ecological ANalysis and Synthesis (NCEAS)",
          "National Sciences and Engineering Research Council of Canada (NSERC)",
          "Smith Conservation Research Fellowship",
          "National Science Foundation",
          "Agence pour la Recherche et la Valorisation Marines",
          "Atlantic and Gulf Rapid Reef Assessment",
          "Australian Institute of Marine Science",
          "Caribbean Coastal Marine Productivity Program",
          "Centre de Recherches Insulaires et Observatoire de l'Environnement (CRIOBE-EPHE)",
          "Climate Change, Agriculture and Food Security",
          "Coordinating Body on the Seas of East Asia",
          "Coral Cay Conservation",
          "Coral Reef Degradation in the Indian Ocean",
          "Coral Reef Initiative for the South Pacific",
          "Demis",
          "Global Coral Reef Monitoring Network",
          "Global Vision International",
          "Institute de Recherche pour le developpement",
          "Institute for Marine Remote Sensing",
          "Institute of Marine Resources",
          "International Coral Reef Action Network",
          "International Coral Reef Initiative",
          "International Society for Reef Studies",
          "International Waters Learning Exchange and Resource Network (IW:LEARN)",
          "International Year of the Reef",
          "Japan Wildlife Research Center",
          "Locally Managed Marine Area Network",
          "MPA Global",
          "NASA",
          "National Oceanic & Atmospheric Administration (NOAA)",
          "Reef Check",
          "Reef Relief",
          "Secretariat of the Pacific Community",
          "South Pacific Regional Environment Program",
          "The WorldFish Center",
          "United Nations Environment Programme",
          "World Conservation Monitoring Centre",
          "World Resources Institute",
          "World Wildlife Fund",
          "SeaLifeBase",
          "The Pew Charitable Trusts",
          "Paul M. Angell Family Foundation",
          "Global Greengrants Fund",
          "Vulcan Inc.",
          "Fisheries Economics Research Unit",
          "Changing Ocean Research Unit",
          "The MAVA Foundation",
          "The Oak Foundation",
          "NEREUS",
          "Baltic 2020",
          "Global Aquaculture Performance Index",
          "Oceana",
          "Global Ocean Biodiversity Initiative",
          "Federal Ministry for the Environment, Nature Conservation, Building and Nuclear Safety",
          "Darwin Initiative, European Commission, Birdfair",
          "Cambrdige Conservation Initiative",
          "MAVA Fondation Pour la Nature",
          "Royal Society for the Protection of Birds",
          "Pew Charitable Trusts",
          "4ocean",
          "Intergovernmental Oceanographic Commission of UNESCO (IOC GOOS)",
          "The David and Lucile Packard Foundation",
          "Gordon and Betty Moore Foundation",
          "Walton Family Foundation",
          "FishWise Advisory Committee: USAID",
          "Center for Strategic International Studies (CSIS)",
          "Department of Labor in the International Labor Affairs Bureau",
          "Environmental Justice Foundation (EJF)",
          "Embassy of Japan",
          "Fisheries Transparency Initiative (FiTI)",
          "Francisco Blaha, Independent Expert",
          "Future of Fish",
          "Global Tuna Alliance",
          "Iberostar",
          "Marine Stewardship Council (MSC)",
          "Philippines Bureau of Fisheries and Aquatic Resources",
          "Richard Stavis, Independent Expert",
          "United States Department of State",
          "Virgil Group",
          "World Benchmarking Alliance (WBA)",
          "World Wide Fund for Nature (WWF)",
          "Global Seafood Ratings Alliance",
          "Certification & Ratings Collaboration",
          "Battlespace Awareness and Information Operations",
          "US Department of Transportation (USDOT)",
          "US Fleet Forces Command",
          "Naval Information Warfare Center (NWIC)",
          "National Oceanographic and Atmospheric Administration (NOAA)",
          "Department of Homeland Security (DHS)",
          "Association of Southeast Asian Nations (ASEAN)",
          "Naval Cooperation and Guidance for Shipping (NCAGS)",
          "Oceanic Society",
          "OBIS-Sea Map at Duke University",
          "IUCN (IUCN) SSC Marine Turtle Specialist Group",
          "OCEAN DECADE PARTNERS: Norway",
          "Sweden",
          "Korea Institute of Ocean Science and technology (KIOST)",
          "Ministry of Education, Culture, Sports, Science and Technology (MEXT)",
          "Portugal",
          "Panerai",
          "Fisheries and Oceans Canada (DFO)",
          "The Smithsonian",
          "National Science Foundation (NSF)",
          "Stanford University",
          "Adobe",
          "Meridian Treehouse",
          "General Bathymetric Chart of the Oceans (GEBCO)",
          "International Hydrographic Association (IHO)",
          "Pacific Community",
          "Technical Centre for Agricultural and Rural Cooperation (CTA)",
          "Ocean+",
          "International Association of Aquatic and Marine Science Libraries and Information Centers (IAMSLIC)",
          "International Council for Science (ICSU)",
          "Scientific Community on Oceanic Research (SCOR)",
          "Harmful Algal Bloom Program (HAB)",
          "Research Data Alliance (RDA)",
          "World Meteorological Organization (WMO)",
          "Federal Service for Hydrometeorology",
          "Environmental Monitoring of the Russian Federation (Roshydromet)",
          "Joint WMO-IOC Technical Commission for Oceanography and Marine Meteorology (JCOMM)",
          "SeaDataNet (SDN)",
          "Global Earth Observation System of System (GEOSS)",
          "IODE/JCOMM Expert Group for Data Management Practices (ETDMP)",
          "SKF",
          "Saab Automobile",
          "Volvo",
          "Instalco",
          "AstraZeneca",
          "Carl Bennet Ab",
          "Elanders Group",
          "Getinge Enfo",
          "Morris Law",
          "APS",
          "AI Sweden",
          "Stockholm Resilience Centre",
          "Stockholm University Collaboration Actors: Vastra-Gotaland Regional Council",
          "Gothenburg Municipality",
          "Skolverket",
          "National Oceanic and Atmospheric Administration (NOAA) National Centers for Environmental Information",
          "World Ocean Database",
          "National Oceanic and Atmospheric Administration (NOAA) Centers for Environmental Information",
          "European Ocean Biodiversity System (EurOBIS)",
          "Ocean Biodiversity System (OBIS)",
          "European Marine Observation and Data Network (EMODnet)",
          "Hewlett-Packard Enterprises (HP)"
         ],
         "type": "scatter",
         "x": [
          0.22559906542301178,
          0.2639719545841217,
          0.2617666721343994,
          0.24925440549850464,
          0.2726348340511322,
          0.270808607339859,
          0.24168355762958527,
          0.25576478242874146,
          -0.47742101550102234,
          -0.33537980914115906,
          -0.344258189201355,
          -0.3260083794593811,
          -0.3240215480327606,
          -0.35532504320144653,
          -0.3421879708766937,
          -0.3483206331729889,
          -0.3361019790172577,
          -0.3540566861629486,
          -0.32869258522987366,
          -0.31186655163764954,
          -0.319021075963974,
          -0.2999104857444763,
          -0.31528767943382263,
          0.5769054889678955,
          0.5834836959838867,
          0.5878437161445618,
          0.5468373894691467,
          0.5781128406524658,
          0.5835140347480774,
          0.5928683280944824,
          0.5750173926353455,
          0.5942071676254272,
          0.5834888219833374,
          0.5213536024093628,
          0.5930399894714355,
          0.5256646275520325,
          0.5769772529602051,
          0.5605911016464233,
          0.5563199520111084,
          0.5685030221939087,
          0.5929937362670898,
          0.5683091282844543,
          0.10117248445749283,
          0.12127557396888733,
          0.11030694097280502,
          0.11534559726715088,
          0.09965728223323822,
          0.10465766489505768,
          0.2952938973903656,
          0.30713510513305664,
          0.3043663501739502,
          0.299340158700943,
          0.3039180636405945,
          0.31994763016700745,
          0.3234765827655792,
          0.31163185834884644,
          0.32412293553352356,
          0.31681206822395325,
          0.3165891170501709,
          0.31350868940353394,
          0.12732216715812683,
          0.3128090500831604,
          0.33019936084747314,
          0.3241647481918335,
          0.11169447004795074,
          0.29025787115097046,
          0.29713955521583557,
          0.30987364053726196,
          0.3035779595375061,
          0.40592706203460693,
          -0.3200203776359558,
          -0.3341272175312042,
          -0.3168346583843231,
          -0.2550203502178192,
          -0.2698521614074707,
          -0.26921725273132324,
          -0.3407600224018097,
          -0.2758502960205078,
          -0.32752522826194763,
          -0.3091031610965729,
          -0.2988772690296173,
          -0.3250768482685089,
          -0.2759186327457428,
          -0.13747812807559967,
          -0.30085039138793945,
          -0.26140928268432617,
          -0.284281849861145,
          -0.3068152964115143,
          -0.332864373922348,
          -0.3120005428791046,
          -0.29673686623573303,
          -0.3193936049938202,
          -0.28410226106643677,
          -0.31695255637168884,
          -0.30544766783714294,
          -0.27464357018470764,
          -0.33560553193092346,
          -0.2699922025203705,
          -0.327700674533844,
          -0.28240567445755005,
          -0.3205447494983673,
          -0.2666354775428772,
          -0.22329314053058624,
          -0.3197114169597626,
          -0.3024863302707672,
          -0.33053839206695557,
          -0.2947915494441986,
          -0.262531578540802,
          -0.2504625618457794,
          -0.32500848174095154,
          -0.32719552516937256,
          -0.30740559101104736,
          -0.3052888810634613,
          -0.31376707553863525,
          -0.2872563898563385,
          -0.17631421983242035,
          -0.2916348874568939,
          -0.250693678855896,
          -0.2944642901420593,
          -0.2585514485836029,
          -0.05216536670923233,
          -0.2800148129463196,
          -0.34098535776138306,
          -0.3405413031578064,
          -0.33723559975624084,
          -0.2876472771167755,
          -0.3176508843898773,
          -0.2690710425376892,
          -0.34250107407569885,
          -0.2571583390235901,
          -0.3455011248588562,
          -0.3191939890384674,
          -0.351089745759964,
          -0.2909686267375946,
          -0.24905121326446533,
          -0.3297737240791321,
          -0.3007504642009735,
          -0.3165673315525055,
          -0.3275321424007416,
          -0.29048818349838257,
          -0.3489762246608734,
          -0.18474124372005463,
          -0.25952449440956116,
          -0.185943141579628,
          -0.332287460565567,
          -0.2806917428970337,
          -0.3333808183670044,
          -0.31412044167518616,
          -0.3207182288169861,
          -0.3257692754268646,
          -0.3385230004787445,
          -0.29372888803482056,
          -0.3083292841911316,
          -0.2822798490524292,
          -0.25854191184043884,
          -0.29766368865966797,
          -0.335676908493042,
          -0.3043363392353058,
          -0.32569530606269836,
          -0.32652950286865234,
          -0.27471020817756653,
          -0.3304966688156128,
          -0.3436517119407654,
          -0.3138226270675659,
          -0.30763280391693115,
          -0.2670230269432068,
          -0.3388548791408539,
          -0.2627232074737549,
          -0.28883540630340576,
          -0.2843005955219269,
          -0.3330461084842682,
          -0.31498458981513977,
          -0.30070430040359497,
          -0.27286267280578613,
          -0.3384905755519867,
          -0.3314107656478882,
          -0.2691574990749359,
          -0.2661867141723633,
          -0.33691662549972534,
          -0.3117918074131012,
          -0.344483882188797,
          -0.34610414505004883,
          -0.26363861560821533,
          -0.3350749909877777,
          -0.351863831281662,
          -0.3010246753692627,
          -0.31256774067878723,
          -0.3117223083972931,
          -0.35009104013442993,
          -0.3444679379463196,
          -0.28179508447647095,
          -0.3239966928958893,
          -0.3077446520328522,
          -0.271931529045105,
          -0.33502036333084106,
          -0.3142140805721283,
          -0.32387596368789673,
          -0.32393133640289307,
          -0.28674712777137756,
          -0.3422444462776184,
          -0.3651951253414154,
          -0.13904303312301636,
          -0.3113277554512024,
          -0.34355223178863525,
          -0.25163400173187256,
          -0.33155450224876404,
          -0.13103821873664856,
          -0.33561915159225464,
          -0.2993875741958618,
          -0.29807063937187195,
          -0.3169545829296112,
          -0.253354012966156,
          -0.3452443480491638,
          -0.3083816170692444,
          -0.3118801414966583,
          -0.2974739372730255,
          -0.28903844952583313,
          -0.28152936697006226,
          -0.3036106824874878,
          -0.32872188091278076,
          -0.3105568289756775,
          -0.31970441341400146,
          -0.3054794669151306,
          -0.32086941599845886,
          -0.27372997999191284,
          -0.31835198402404785,
          -0.32357102632522583,
          -0.2933167815208435,
          -0.2736189365386963,
          -0.32563379406929016,
          -0.33127984404563904,
          -0.30186864733695984,
          -0.3252093493938446,
          -0.34966662526130676,
          -0.28112393617630005,
          -0.27831873297691345,
          -0.2598232924938202,
          -0.30476340651512146,
          -0.3439924418926239,
          -0.338733971118927,
          -0.2548461854457855,
          -0.15663781762123108,
          -0.2574593722820282,
          -0.16218341886997223,
          -0.35048195719718933,
          -0.2956152558326721,
          -0.28710755705833435,
          -0.2638738453388214,
          -0.3475055992603302,
          -0.2944255769252777,
          -0.2951662540435791,
          -0.11885945498943329,
          0.06568566709756851,
          0.017224593088030815,
          0.029658164829015732,
          0.01926928386092186,
          0.0017867687856778502,
          0.01174943894147873,
          0.007261364720761776,
          0.022880369797348976,
          -0.016728511080145836,
          0.027772480621933937,
          0.012677036225795746,
          0.02155373990535736,
          0.5275237560272217,
          0.5292227268218994,
          0.5350033640861511,
          0.5313130617141724,
          0.5359382033348083,
          0.5224759578704834,
          -0.45723697543144226,
          -0.4762439727783203,
          -0.4781256318092346,
          -0.4749601483345032,
          -0.46333014965057373,
          -0.4833001494407654,
          -0.4683922827243805,
          -0.48369094729423523,
          -0.46853944659233093,
          0.03402240574359894,
          -0.03191172331571579,
          -0.0495479591190815,
          -0.03854675218462944,
          -0.03518645092844963,
          0.4576459527015686,
          0.4633205235004425,
          0.4615107774734497,
          0.17767266929149628,
          0.18264266848564148,
          0.18335479497909546,
          0.18446791172027588,
          0.17831116914749146,
          0.18988873064517975,
          0.18802399933338165,
          0.1669522225856781,
          0.17427583038806915,
          0.05369282513856888,
          0.17088723182678223,
          -0.5574153661727905,
          -0.5653068423271179,
          -0.620468020439148,
          -0.5941784977912903,
          -0.5749858021736145,
          -0.5630668997764587,
          -0.6204292178153992,
          -0.6059858202934265,
          -0.6112341284751892,
          -0.6126229166984558,
          -0.6186889410018921,
          -0.606051504611969,
          -0.6012144684791565,
          -0.5932456851005554,
          -0.6036339998245239,
          -0.6008427739143372,
          -0.6139715313911438,
          -0.5845170617103577,
          0.23106130957603455,
          0.17441733181476593,
          0.17527525126934052,
          0.2264845073223114,
          0.22966857254505157,
          0.09077118337154388,
          0.08544308692216873,
          0.07599759846925735,
          0.07197058945894241,
          0.09937156736850739,
          0.05981770530343056,
          0.08130180090665817,
          0.0653262808918953,
          0.06690685451030731,
          0.07568128407001495,
          0.09195724874734879,
          0.08404888212680817,
          0.09801223874092102,
          0.4190392792224884,
          -0.05474505200982094,
          -0.06958292424678802,
          -0.05378534272313118,
          -0.06744150072336197,
          -0.08249358832836151,
          -0.08937209099531174,
          -0.0828583762049675,
          -0.03603329882025719,
          -0.056498561054468155,
          -0.042773205786943436,
          -0.05546288564801216,
          -0.035089630633592606,
          -0.05062125250697136,
          -0.060763876885175705,
          -0.07660271972417831,
          -0.04290176182985306,
          -0.07736875116825104,
          -0.08831766992807388,
          -0.04782209172844887,
          -0.06382250785827637,
          -0.07381436973810196,
          -0.05443553626537323,
          -0.079684779047966,
          -0.06941161304712296,
          -0.08480861037969589,
          -0.04103400558233261,
          -0.05433562025427818,
          -0.0077581750229001045,
          -0.1164708361029625,
          0.004488741979002953,
          -0.019000204280018806,
          -0.012712191790342331,
          -0.0019277090905234218,
          -0.017756029963493347,
          -0.0007181412656791508,
          -0.008914700709283352,
          -0.0044501968659460545,
          0.04734766483306885,
          0.03697561100125313,
          0.04298397898674011,
          0.030950097367167473,
          0.056007254868745804,
          0.05491797626018524,
          0.03437409922480583,
          0.010814622975885868,
          0.047179386019706726,
          0.0443202406167984,
          -0.021924905478954315,
          0.03321271762251854,
          0.011356249451637268,
          0.03491510823369026,
          0.016533251851797104,
          0.02228185161948204,
          0.023874906823039055,
          0.0494445376098156,
          0.026335259899497032,
          0.032043859362602234,
          0.042796455323696136,
          0.050309062004089355,
          0.01968897320330143,
          0.02341463789343834,
          0.029877033084630966,
          0.04929805546998978,
          0.016788452863693237,
          0.055028628557920456,
          0.053354814648628235,
          0.045555420219898224,
          0.0331275537610054,
          -0.017942873761057854,
          0.04924967885017395,
          0.03809374198317528,
          0.027337994426488876,
          0.039326589554548264,
          0.01472274400293827,
          0.028728952631354332,
          0.039337337017059326,
          0.03453170880675316,
          0.025151405483484268,
          0.03942475840449333,
          0.0420321524143219,
          0.04647115245461464,
          -0.08179616928100586,
          -0.0893578827381134,
          -0.040633708238601685,
          -0.057745009660720825,
          -0.060809582471847534,
          -0.06925538927316666,
          -0.09540704637765884,
          -0.08834699541330338,
          -0.08694317191839218,
          -0.05189467966556549,
          -0.03731706365942955,
          -0.06683792918920517,
          -0.09234913438558578,
          -0.07776329666376114,
          -0.0758659839630127,
          -0.08842139691114426,
          -0.04655205085873604,
          -0.048675935715436935,
          -0.05842871218919754,
          -0.05774013325572014,
          -0.06879211962223053,
          -0.0824432373046875,
          -0.06156894937157631,
          -0.07380474358797073,
          -0.045746829360723495,
          -0.08062539994716644,
          -0.07467939704656601,
          -0.2398369014263153,
          0.06966753304004669,
          -0.8908352255821228,
          -0.8472439050674438,
          -0.8409348130226135,
          0.6535956263542175,
          0.6584232449531555,
          0.5789518356323242,
          0.6626022458076477,
          0.6609135866165161,
          0.6499114632606506,
          -0.7700360417366028,
          0.040658365935087204,
          0.034567125141620636,
          0.051136162132024765,
          0.060306012630462646,
          0.033274613320827484,
          0.04720726236701012,
          0.042619604617357254,
          0.09976844489574432,
          0.05448544770479202,
          -0.781736433506012,
          -0.7855837941169739,
          -0.7637110352516174,
          -0.7285629510879517,
          -0.7721497416496277,
          -0.17853227257728577,
          -0.17004810273647308,
          -0.38715577125549316,
          -0.35746586322784424,
          -0.38922756910324097,
          -0.38129425048828125,
          -0.3781433701515198,
          -0.037483520805835724,
          -0.07888631522655487,
          -0.03092191182076931,
          -0.062342915683984756,
          -0.017469514161348343,
          -0.01916320063173771,
          -0.06490740925073624,
          -0.08894794434309006,
          -0.05419925972819328,
          -0.04427202418446541,
          -0.06742546707391739,
          -0.047336187213659286,
          -0.07431057095527649,
          -0.028811754658818245,
          -0.030509978532791138,
          -0.08415169268846512,
          -0.0706464871764183,
          -0.03775190934538841,
          -0.038766998797655106,
          -0.07576027512550354,
          -0.08672787249088287,
          -0.10284686833620071,
          -0.029777439311146736,
          -0.06052534654736519,
          -0.0671284943819046,
          -0.07521698623895645,
          -0.05336754396557808,
          -0.06283654272556305,
          -0.08196773380041122,
          -0.10001622140407562,
          -0.04721943661570549,
          -0.03787988796830177,
          -0.020509131252765656,
          -0.08081865310668945,
          -0.023759890347719193,
          -0.059397585690021515,
          0.006826639641076326,
          -0.07219431549310684,
          -0.052490804344415665,
          -0.049041539430618286,
          -0.08569325506687164,
          -0.07414080202579498,
          0.04806895554065704,
          -0.06920510530471802,
          -0.05854406952857971,
          -0.023524371907114983,
          -0.11256550997495651,
          0.026181578636169434,
          -0.07403703778982162,
          -0.10281965881586075,
          -0.07544881105422974,
          -0.080208420753479,
          -0.06214392930269241,
          -0.06549330055713654,
          -0.10147581249475479,
          -0.08496053516864777,
          -0.05486002191901207,
          -0.08257320523262024,
          -0.039846424013376236,
          -0.0585799403488636,
          -0.09027893841266632,
          -0.0407656766474247,
          0.019412199035286903,
          -0.081835076212883,
          -0.022483132779598236,
          -0.07431142032146454,
          -0.08291705697774887,
          -0.05246572196483612,
          -0.07472226023674011,
          -0.0994901955127716,
          -0.06717883050441742,
          -0.04945669323205948,
          -0.05397992208600044,
          0.012118599377572536,
          -0.04656677693128586,
          -0.08841995149850845,
          -0.09089984744787216,
          -0.06060438230633736,
          -0.0756298378109932,
          -0.0490155853331089,
          -0.08068893849849701,
          -0.06634804606437683,
          -0.04331859201192856,
          -0.056565362960100174,
          -0.0892123132944107,
          -0.08970509469509125,
          -0.0951002910733223,
          -0.09219682961702347,
          -0.043243564665317535,
          -0.06891565769910812,
          -0.07157773524522781,
          -0.07684776186943054,
          -0.08550106734037399,
          -0.05469674617052078,
          -0.09479064494371414,
          -0.09595058858394623,
          -0.08400037884712219,
          -0.07565394043922424,
          -0.06778263300657272,
          -0.051252372562885284,
          -0.05575535446405411,
          -0.04413865879178047,
          -0.09885574877262115,
          -0.06034434586763382,
          -0.09764757752418518,
          0.21132221817970276,
          0.2383369654417038,
          0.22164539992809296,
          0.22633515298366547,
          0.21474453806877136,
          0.20474344491958618,
          0.22987687587738037,
          0.22383850812911987,
          0.21257612109184265,
          0.23053081333637238,
          0.22984373569488525,
          0.22038638591766357,
          0.22427232563495636,
          0.21343360841274261,
          0.23171596229076385,
          0.23495259881019592,
          0.21876659989356995,
          0.24093519151210785,
          0.2198629081249237,
          0.20517994463443756,
          0.23241256177425385,
          0.2302445024251938,
          0.21406038105487823,
          0.21895667910575867,
          0.23636531829833984,
          0.22497659921646118,
          0.20935571193695068,
          0.237264484167099,
          0.2379155457019806,
          0.22800709307193756,
          0.22274048626422882,
          0.21605707705020905,
          0.8933295011520386,
          0.008853942155838013,
          -0.0029714207630604506,
          0.0005701520130969584,
          -0.002411637920886278,
          -0.018712909892201424,
          0.0034510225523263216,
          -0.010586741380393505,
          -0.022578956559300423,
          -0.011390377767384052,
          0.00852579902857542,
          0.004534934647381306,
          -0.010683293454349041,
          -0.016141369938850403,
          -0.015708019956946373,
          -0.014349625445902348,
          -0.0032079163938760757,
          -0.01794445887207985,
          -0.005765988025814295,
          0.004905401263386011,
          -0.0032657640986144543,
          -0.7086451053619385,
          -0.6590937972068787,
          -0.6910616159439087,
          0.9356858730316162,
          0.10088570415973663,
          0.09161680191755295,
          0.09937174618244171,
          0.09389761090278625,
          0.1572856307029724,
          0.17167089879512787,
          0.16805391013622284,
          0.16214953362941742,
          0.158254474401474,
          0.14421819150447845,
          0.17498551309108734,
          0.16524170339107513,
          0.2459266036748886,
          0.1395735889673233,
          0.17128725349903107,
          0.1646679937839508,
          0.1786118745803833,
          0.1515660285949707,
          0.17621588706970215,
          0.1797153502702713,
          -0.23569355905056,
          -0.23514124751091003,
          -0.25078555941581726,
          -0.24250943958759308,
          -0.2690095901489258,
          -0.2509349584579468,
          -0.22800327837467194,
          -0.2445956915616989,
          -0.249583438038826,
          -0.2588657736778259,
          -0.27373096346855164,
          -0.2697654068470001,
          -0.243768110871315,
          -0.2357047200202942,
          -0.256282240152359,
          -0.2588598132133484,
          -0.2641616463661194,
          -0.2706960439682007,
          -0.25554484128952026,
          -0.26487910747528076,
          -0.2625595033168793,
          -0.056705575436353683,
          -0.057974714785814285,
          -0.04808333143591881,
          -0.053944844752550125,
          -0.04519617184996605,
          -0.04479961097240448,
          -0.03611060976982117,
          0.15490196645259857,
          0.15989753603935242,
          0.15014714002609253,
          -0.1785455048084259,
          0.9999999403953552,
          0.9471808075904846,
          0.5607786774635315,
          0.5698003768920898,
          0.5713258981704712,
          0.5567274689674377,
          0.5594375729560852,
          0.5667409300804138,
          0.5598137974739075,
          0.5639861226081848,
          0.5636765360832214,
          0.5681537985801697,
          -0.01018702145665884,
          -0.014931363053619862,
          -0.004900605417788029,
          0.8415937423706055,
          0.36557552218437195,
          0.365246444940567,
          0.3699726164340973,
          0.3651896119117737,
          0.3304041624069214,
          0.3516397774219513,
          0.3461624085903168,
          0.3622508645057678,
          0.3424186706542969,
          0.3590516149997711,
          0.3690844178199768,
          0.34747007489204407,
          0.33399009704589844,
          0.35393908619880676,
          0.34866875410079956,
          0.32469263672828674,
          0.31899842619895935,
          0.33091264963150024,
          0.3382240831851959,
          0.3528774380683899,
          0.32525208592414856,
          0.33563512563705444,
          0.32216575741767883,
          0.3494800925254822,
          0.32496586441993713,
          0.3534730076789856,
          0.3588220775127411,
          0.3619580566883087,
          0.354362815618515,
          0.32574018836021423,
          0.3405570089817047,
          0.34244319796562195,
          0.3154183328151703,
          0.35504475235939026,
          0.3546306788921356,
          0.34028151631355286,
          0.3727709650993347,
          0.3657635450363159,
          0.3222476541996002,
          0.34242984652519226,
          0.3352034091949463,
          0.34375616908073425,
          0.3667592406272888,
          0.3163606822490692,
          0.3568436801433563,
          0.35737815499305725,
          0.3451191484928131,
          0.3718109130859375,
          0.3497048318386078,
          0.32854893803596497,
          0.3642813265323639,
          0.3635311722755432,
          0.3339649736881256,
          0.3603368401527405,
          0.3255499005317688,
          0.3333556652069092,
          -0.5765520930290222,
          -0.5952869653701782,
          -0.5978811979293823,
          -0.526093602180481,
          -0.5879973769187927,
          -0.5506888628005981,
          0.11704728752374649,
          0.07970862835645676,
          0.10320834070444107,
          0.12145611643791199,
          0.10412676632404327,
          0.08508553355932236,
          0.08488532900810242,
          0.1128227710723877,
          0.07427279651165009,
          0.11781984567642212,
          0.09340011328458786,
          0.1186937689781189,
          0.09870465844869614,
          0.09311651438474655,
          0.11371959745883942,
          0.09476824104785919,
          0.07618398219347,
          0.0868498831987381,
          0.10656879842281342,
          0.11418294161558151,
          0.09770023077726364,
          0.10599492490291595,
          0.11029543727636337,
          0.10648570209741592,
          0.09684523195028305,
          0.11974098533391953,
          0.10130249708890915,
          0.11104877293109894,
          0.09722865372896194,
          0.10819852352142334,
          0.10397408157587051,
          0.09937930852174759,
          0.11210062354803085,
          0.09050754457712173,
          0.08412782847881317,
          0.020856037735939026,
          0.018503304570913315,
          0.028197156265378,
          -0.007984371855854988,
          0.027630921453237534,
          0.008847122080624104,
          0.0026737572625279427,
          0.036127857863903046,
          -0.0045439377427101135,
          0.013456515036523342,
          -0.0008615342667326331,
          0.00989721529185772,
          0.011717075482010841,
          0.23435889184474945,
          0.19861258566379547,
          0.21091490983963013,
          0.22599519789218903,
          0.21820279955863953,
          0.22549296915531158,
          0.20545262098312378,
          0.2294699251651764,
          0.38109245896339417,
          0.1464187502861023,
          0.13099069893360138,
          0.123773954808712,
          0.10906951129436493,
          0.14275579154491425,
          0.127388596534729,
          0.12983036041259766,
          0.11228480935096741,
          0.11666074395179749,
          0.14631210267543793,
          0.1364000290632248,
          0.15316568315029144,
          0.13856904208660126,
          0.11944207549095154,
          0.1426456868648529,
          0.14978231489658356,
          0.12243639677762985,
          0.13889889419078827,
          0.1532929390668869,
          0.13382576406002045,
          -0.0632469654083252,
          -0.05476323887705803,
          0.7345930933952332,
          0.7064460515975952,
          0.7635036110877991,
          0.761130690574646,
          0.7573328018188477,
          0.7383095622062683,
          0.7523627877235413,
          0.7098310589790344,
          -0.8366841673851013,
          -0.8288629651069641,
          -0.8152756094932556,
          0.1667286902666092,
          0.16065309941768646,
          0.15858100354671478,
          0.1712333709001541,
          0.16687501966953278,
          0.15418967604637146,
          0.16565774381160736,
          0.23566044867038727,
          0.22623257339000702,
          0.22113248705863953,
          0.2353992760181427,
          0.20577150583267212,
          0.08434484153985977,
          0.08447523415088654,
          -0.17878752946853638,
          -0.18602308630943298,
          -0.8986609578132629,
          0.43574070930480957,
          0.4312668740749359,
          0.42381471395492554,
          0.4395792484283447,
          0.4226800203323364,
          0.380066841840744,
          0.7496991753578186,
          0.7443382143974304,
          0.7536832094192505,
          0.6710002422332764,
          0.6809734106063843,
          0.7496358752250671,
          0.6277868747711182,
          0.7052467465400696,
          0.6947304606437683,
          0.7003154754638672,
          0.6444655656814575,
          0.7082802653312683,
          0.6951931715011597,
          0.6970850229263306,
          0.6929675340652466,
          0.6845844984054565,
          0.7039272785186768,
          0.6728042364120483,
          0.7024170756340027,
          0.6559792757034302,
          0.688189685344696,
          -0.787479043006897,
          -0.8215193152427673,
          -0.7811822891235352,
          -0.1180257648229599,
          -0.12360163778066635,
          -0.11136982589960098,
          0.11732171475887299
         ],
         "y": [
          -0.6330748796463013,
          -0.7188044190406799,
          -0.7103797793388367,
          -0.7159953713417053,
          -0.7054778933525085,
          -0.7132436633110046,
          -0.7007277607917786,
          -0.7198703289031982,
          -0.8345253467559814,
          0.27625906467437744,
          0.27125266194343567,
          0.27245184779167175,
          0.27853018045425415,
          0.25436925888061523,
          0.26234301924705505,
          0.2584865093231201,
          0.26868826150894165,
          0.264107346534729,
          0.26420941948890686,
          0.26883620023727417,
          0.266773521900177,
          0.10006130486726761,
          0.27574223279953003,
          -0.5277314782142639,
          -0.5517721772193909,
          -0.5632139444351196,
          -0.5477844476699829,
          -0.5633561015129089,
          -0.542755663394928,
          -0.5383671522140503,
          -0.570784866809845,
          -0.54498291015625,
          -0.5695501565933228,
          -0.4985833168029785,
          -0.5586152672767639,
          -0.49319711327552795,
          -0.5566391348838806,
          -0.569583535194397,
          -0.5594142079353333,
          -0.5738303661346436,
          -0.5517666935920715,
          -0.563707709312439,
          0.7599172592163086,
          0.8307889103889465,
          0.8312374949455261,
          0.8371996283531189,
          0.8295779824256897,
          0.8385900855064392,
          0.20431576669216156,
          0.13944034278392792,
          0.20789828896522522,
          0.13425591588020325,
          0.21453368663787842,
          0.18662241101264954,
          0.16266389191150665,
          0.20882724225521088,
          0.1753990799188614,
          0.19529663026332855,
          0.1772494912147522,
          0.203346848487854,
          0.15149913728237152,
          0.14595749974250793,
          0.16430480778217316,
          0.150957852602005,
          0.1962146908044815,
          0.2120945155620575,
          0.21235206723213196,
          0.18999314308166504,
          0.20072880387306213,
          0.16561856865882874,
          0.008044303394854069,
          -0.001871526357717812,
          -0.01018504798412323,
          -0.07545822858810425,
          -0.08866352587938309,
          -0.08108369261026382,
          -0.07218511402606964,
          -0.08684831857681274,
          -0.07680794596672058,
          0.00831768848001957,
          0.010292049497365952,
          0.0055434308014810085,
          -0.09571683406829834,
          -0.0953461080789566,
          0.000018544771592132747,
          -0.05983791500329971,
          -0.06579971313476562,
          -0.017838425934314728,
          -0.007493274286389351,
          -0.007478019688278437,
          -0.05658850446343422,
          -0.04929348826408386,
          -0.02071801945567131,
          -0.0735618844628334,
          -0.09848426282405853,
          -0.0026522811967879534,
          -0.018508000299334526,
          -0.09564601629972458,
          -0.020718179643154144,
          -0.05600307509303093,
          -0.022634541615843773,
          -0.06578828394412994,
          -0.06588570773601532,
          -0.0962972566485405,
          -0.03590149059891701,
          -0.0877256914973259,
          -0.027824465185403824,
          -0.014081892557442188,
          -0.04762154817581177,
          -0.09316506236791611,
          -0.06196471303701401,
          -0.001850409316830337,
          -0.0612943172454834,
          -0.09479973465204239,
          -0.10182899981737137,
          0.09678009897470474,
          -0.0029700947925448418,
          -0.03698478639125824,
          0.01385970413684845,
          -0.08360808342695236,
          -0.03922661021351814,
          0.01067437045276165,
          -0.042253803461790085,
          -0.07880695164203644,
          -0.03340136632323265,
          0.012740058824419975,
          -0.0815286859869957,
          -0.05138007551431656,
          -0.0676167756319046,
          -0.052813515067100525,
          -0.0388345941901207,
          -0.031838562339544296,
          -0.039049554616212845,
          -0.09762152284383774,
          -0.06069234013557434,
          -0.04861580580472946,
          -0.09232622385025024,
          -0.04324974864721298,
          -0.04218357056379318,
          -0.012650544755160809,
          -0.02614416927099228,
          -0.008261546492576599,
          -0.006302011664956808,
          -0.004838320892304182,
          -0.024404490366578102,
          -0.10034932941198349,
          -0.06529900431632996,
          -0.05564942955970764,
          -0.0672803595662117,
          -0.008966207504272461,
          -0.0635247454047203,
          0.004738388583064079,
          -0.07145478576421738,
          -0.009213241748511791,
          -0.042822279036045074,
          -0.07804255932569504,
          -0.07407549768686295,
          -0.011024776846170425,
          -0.003579061245545745,
          -0.014557885006070137,
          -0.06612151116132736,
          -0.08054555952548981,
          -0.020293204113841057,
          0.012287606485188007,
          -0.05075255408883095,
          -0.006431685760617256,
          -0.05062562972307205,
          -0.0789942592382431,
          -0.08599912375211716,
          -0.001114819897338748,
          -0.013356980867683887,
          0.005457965657114983,
          -0.10035055130720139,
          -0.07483891397714615,
          -0.026563819497823715,
          -0.031959958374500275,
          -0.033753689378499985,
          0.0011789090931415558,
          -0.057042330503463745,
          -0.023039724677801132,
          -0.03094029612839222,
          -0.04704051837325096,
          -0.08942116051912308,
          -0.045800451189279556,
          -0.04491850733757019,
          -0.07119625061750412,
          -0.06496216356754303,
          -0.07824090868234634,
          -0.05733422189950943,
          -0.06028700992465019,
          -0.0759829431772232,
          -0.05426716431975365,
          -0.09111832082271576,
          0.006415513809770346,
          -0.03908969461917877,
          -0.0007994192419573665,
          -0.07237723469734192,
          -0.08757556229829788,
          0.006254592910408974,
          -0.011676535941660404,
          -0.1440918892621994,
          -0.09674906730651855,
          -0.038867346942424774,
          -0.024867551401257515,
          -0.0680721327662468,
          -0.05569051578640938,
          0.046686481684446335,
          -0.08261378854513168,
          -0.046242982149124146,
          -0.007326630409806967,
          -0.0892070084810257,
          -0.025038113817572594,
          -0.01581467129290104,
          -0.030241915956139565,
          -0.08604080975055695,
          -0.019141454249620438,
          -0.07408200204372406,
          -0.09328534454107285,
          0.005901046097278595,
          0.0011065047001466155,
          -0.09932471066713333,
          -0.06080674007534981,
          -0.08072056621313095,
          -0.00032913978793658316,
          -0.011552096344530582,
          -0.0161381084471941,
          -0.0821182057261467,
          -0.08280999958515167,
          -0.020757921040058136,
          -0.03644803166389465,
          -0.07089598476886749,
          -0.08621427416801453,
          -0.02846112847328186,
          -0.03331455588340759,
          -0.0832500234246254,
          0.003876894246786833,
          -0.0714799165725708,
          0.013962139375507832,
          -0.05413403362035751,
          -0.007243478205054998,
          -0.016541188582777977,
          0.04499673470854759,
          -0.03184160217642784,
          0.0025604546535760164,
          -0.051188234239816666,
          -0.1022283136844635,
          -0.09191721677780151,
          -0.022980421781539917,
          -0.06492312997579575,
          -0.0660352110862732,
          -0.09290949255228043,
          -0.04541396349668503,
          0.2928071916103363,
          0.12176867574453354,
          0.13584478199481964,
          0.14474865794181824,
          0.1432860642671585,
          -0.0103636858984828,
          0.1311604082584381,
          0.1140814945101738,
          0.14716412127017975,
          0.12363187223672867,
          0.11312952637672424,
          0.13410282135009766,
          -0.004285397473722696,
          -0.01285087876021862,
          -0.005394953303039074,
          0.003000763477757573,
          0.0074468026868999004,
          -0.015538355335593224,
          -0.274032324552536,
          -0.2580891251564026,
          -0.2668633759021759,
          -0.2731115221977234,
          -0.2775047719478607,
          -0.2620837390422821,
          -0.272657185792923,
          -0.25388747453689575,
          -0.26481401920318604,
          0.2217462956905365,
          0.09417134523391724,
          0.10676202923059464,
          0.10213929414749146,
          0.13966450095176697,
          0.03880397602915764,
          0.053335558623075485,
          0.045743927359580994,
          -0.2065621316432953,
          -0.14583934843540192,
          -0.20956429839134216,
          -0.21624627709388733,
          -0.22047299146652222,
          -0.2087537795305252,
          -0.20174120366573334,
          -0.21781285107135773,
          -0.21431247889995575,
          -0.08760048449039459,
          -0.22309932112693787,
          0.39168480038642883,
          0.4225734770298004,
          0.4280953109264374,
          0.44637030363082886,
          0.40653368830680847,
          0.4063887596130371,
          0.42057663202285767,
          0.4234541356563568,
          0.4115969240665436,
          0.4317161440849304,
          0.4368101954460144,
          0.4425753057003021,
          0.4481145143508911,
          0.4006502032279968,
          0.4361489713191986,
          0.39689064025878906,
          0.44418635964393616,
          0.4377819001674652,
          0.05208803713321686,
          0.14870129525661469,
          -0.010032701306045055,
          0.046586401760578156,
          0.06063167005777359,
          0.4806080162525177,
          0.4705235958099365,
          0.47131577134132385,
          0.4781377613544464,
          0.46980318427085876,
          0.4739588797092438,
          0.47725340723991394,
          0.4808988571166992,
          0.472342312335968,
          0.48392945528030396,
          0.4730423390865326,
          0.48322999477386475,
          0.4769679009914398,
          -0.7061954140663147,
          -0.789429247379303,
          -0.7991844415664673,
          -0.6962040066719055,
          -0.7862411737442017,
          -0.7734962701797485,
          -0.7786179780960083,
          -0.7523400783538818,
          -0.7722859382629395,
          -0.7967864274978638,
          -0.7670606970787048,
          -0.7223424315452576,
          -0.7790206074714661,
          -0.7818922400474548,
          -0.7825113534927368,
          -0.7595514059066772,
          -0.7812946438789368,
          -0.7801998257637024,
          -0.7665337324142456,
          -0.793666422367096,
          -0.7939170598983765,
          -0.788762629032135,
          -0.7060590982437134,
          -0.791814386844635,
          -0.7747474908828735,
          -0.7853868007659912,
          -0.7888583540916443,
          -0.7733413577079773,
          0.23961739242076874,
          0.18153086304664612,
          0.22768911719322205,
          0.2326587587594986,
          0.23528023064136505,
          0.23647858202457428,
          0.24069134891033173,
          0.23063677549362183,
          0.228603795170784,
          0.15883873403072357,
          -0.18916325271129608,
          -0.17229381203651428,
          -0.19390885531902313,
          -0.17563149333000183,
          -0.1697731614112854,
          -0.16243526339530945,
          -0.19955265522003174,
          -0.01989746280014515,
          -0.16355356574058533,
          -0.1382344514131546,
          -0.07243920117616653,
          -0.1916753053665161,
          -0.19876481592655182,
          -0.13590505719184875,
          -0.20178794860839844,
          -0.20246894657611847,
          -0.17732639610767365,
          -0.1829165518283844,
          -0.19031545519828796,
          -0.16455799341201782,
          -0.1852569282054901,
          -0.17116832733154297,
          -0.1902918517589569,
          -0.1695871502161026,
          -0.15558584034442902,
          -0.1495821624994278,
          -0.18401125073432922,
          -0.15368901193141937,
          -0.17796394228935242,
          -0.1761162430047989,
          -0.14442281424999237,
          -0.0714946910738945,
          -0.15705221891403198,
          -0.19424070417881012,
          -0.18358705937862396,
          -0.15038098394870758,
          -0.19351716339588165,
          -0.20124390721321106,
          -0.17969933152198792,
          -0.1850646734237671,
          -0.19625495374202728,
          -0.15869341790676117,
          -0.1676202416419983,
          -0.14429211616516113,
          0.2469480037689209,
          0.24797295033931732,
          0.24782694876194,
          0.2556127607822418,
          0.24698157608509064,
          0.2611790895462036,
          0.24220596253871918,
          0.23966476321220398,
          0.2595602869987488,
          0.2643153965473175,
          0.23834845423698425,
          0.27000588178634644,
          0.2532636225223541,
          0.2271537482738495,
          0.25628015398979187,
          0.23186427354812622,
          0.2398061901330948,
          0.258400022983551,
          0.2692708671092987,
          0.23697984218597412,
          0.253287672996521,
          0.255786269903183,
          0.26238781213760376,
          0.26677873730659485,
          0.2529085576534271,
          0.2655293345451355,
          0.24427688121795654,
          0.16826313734054565,
          0.3831680715084076,
          -0.3145415484905243,
          -0.3094194233417511,
          -0.2920759916305542,
          -0.45067256689071655,
          -0.45790359377861023,
          -0.40185633301734924,
          -0.44981759786605835,
          -0.4420335292816162,
          -0.4601093530654907,
          -0.45888960361480713,
          0.4180631637573242,
          0.4149642288684845,
          0.4114287197589874,
          0.41431552171707153,
          0.40791183710098267,
          0.41943490505218506,
          0.40970364212989807,
          0.3084874749183655,
          0.41903218626976013,
          0.43621450662612915,
          0.4273078739643097,
          0.4067450761795044,
          0.4001097083091736,
          0.4311717450618744,
          -0.11079324781894684,
          -0.11052149534225464,
          -0.8087832927703857,
          -0.7524581551551819,
          -0.8001357913017273,
          -0.7695990800857544,
          -0.807532012462616,
          0.022179346531629562,
          0.029446564614772797,
          -0.017558230087161064,
          0.003804609412327409,
          0.005864993203431368,
          0.014942578971385956,
          0.0316552072763443,
          0.012418895028531551,
          -0.026760892942547798,
          0.03980702906847,
          0.013354289345443249,
          0.024561233818531036,
          0.0017454817425459623,
          0.00424114940688014,
          0.030759694054722786,
          -0.003411480225622654,
          -0.006144192069768906,
          -0.01071301568299532,
          -0.024065181612968445,
          -0.01974789798259735,
          0.019912099465727806,
          0.05088416114449501,
          0.016405023634433746,
          -0.009171695448458195,
          -0.023217685520648956,
          0.019146239385008812,
          0.016686685383319855,
          0.024104095995426178,
          -0.010621687397360802,
          0.0531548373401165,
          -0.019770123064517975,
          0.03401009365916252,
          -0.0029292164836078882,
          0.011039203964173794,
          0.024219950661063194,
          0.03771330416202545,
          -0.004879587795585394,
          -0.013668932020664215,
          0.039663974195718765,
          0.031957466155290604,
          0.00356633891351521,
          0.03407533839344978,
          -0.037505753338336945,
          0.0403113067150116,
          -0.01983344368636608,
          -0.010985503904521465,
          0.05859740823507309,
          0.1285030096769333,
          -0.07040669023990631,
          0.06020621955394745,
          -0.22104589641094208,
          -0.1567760407924652,
          -0.22259871661663055,
          -0.2057911455631256,
          -0.18444499373435974,
          -0.19755449891090393,
          -0.18754909932613373,
          -0.21814025938510895,
          -0.2012377232313156,
          -0.24834977090358734,
          -0.17334440350532532,
          -0.210182785987854,
          -0.03215645253658295,
          -0.2071157991886139,
          -0.02791781723499298,
          -0.16909746825695038,
          -0.16996590793132782,
          -0.21030797064304352,
          -0.2032063603401184,
          -0.1968192160129547,
          -0.1873837262392044,
          -0.221948504447937,
          -0.15997470915317535,
          -0.026935342699289322,
          -0.20447330176830292,
          -0.1607905626296997,
          -0.21131810545921326,
          -0.2127383053302765,
          -0.18201027810573578,
          -0.19640201330184937,
          -0.19015057384967804,
          -0.2164582759141922,
          -0.18802565336227417,
          -0.2209346741437912,
          -0.20476034283638,
          -0.18852196633815765,
          -0.18085503578186035,
          -0.1966642141342163,
          -0.2166759967803955,
          -0.2217543125152588,
          -0.20973160862922668,
          -0.19697317481040955,
          -0.18146423995494843,
          -0.1773681342601776,
          -0.16582979261875153,
          -0.2038319706916809,
          -0.21247367560863495,
          -0.2149188071489334,
          -0.19502440094947815,
          -0.21608838438987732,
          -0.20421725511550903,
          -0.17351585626602173,
          -0.17355018854141235,
          -0.19875481724739075,
          -0.19009298086166382,
          -0.1332007795572281,
          -0.08877898752689362,
          -0.12656168639659882,
          -0.07630227506160736,
          -0.08182700723409653,
          -0.12936042249202728,
          -0.12100160121917725,
          -0.11448436975479126,
          -0.11659799516201019,
          -0.09415455907583237,
          -0.11170145869255066,
          -0.09065040946006775,
          -0.08453212678432465,
          -0.12482675164937973,
          -0.08751185983419418,
          -0.11738086491823196,
          -0.13202767074108124,
          -0.10145904123783112,
          -0.1188802421092987,
          -0.1218285784125328,
          -0.08089864253997803,
          -0.1049356460571289,
          -0.09469132125377655,
          -0.07569270581007004,
          -0.1043059229850769,
          -0.09798223525285721,
          -0.10916651040315628,
          -0.09597375988960266,
          -0.11149780452251434,
          -0.1266978532075882,
          -0.10450661927461624,
          -0.10573681443929672,
          0.27871179580688477,
          -0.13137613236904144,
          -0.17422132194042206,
          -0.18005676567554474,
          -0.15487268567085266,
          -0.17657621204853058,
          -0.1476222574710846,
          -0.18341600894927979,
          -0.16069312393665314,
          -0.1757856160402298,
          -0.1554577350616455,
          -0.165583074092865,
          -0.16931863129138947,
          -0.15556390583515167,
          -0.18446990847587585,
          -0.1464732587337494,
          -0.16505682468414307,
          -0.16788099706172943,
          -0.1805167943239212,
          -0.17706553637981415,
          -0.1866845339536667,
          -0.39756152033805847,
          -0.36646878719329834,
          -0.37479421496391296,
          0.046698227524757385,
          -0.05808621272444725,
          -0.07163823395967484,
          -0.06738993525505066,
          -0.06271617114543915,
          0.26576870679855347,
          0.2537349760532379,
          0.2602160573005676,
          0.2543797194957733,
          0.2729444205760956,
          0.2631950080394745,
          0.26624390482902527,
          0.27432724833488464,
          0.17503659427165985,
          0.27236223220825195,
          0.2713938355445862,
          0.2660422921180725,
          0.2544954717159271,
          0.25829899311065674,
          0.2477910816669464,
          0.26145491003990173,
          0.3725915849208832,
          0.38055333495140076,
          0.3770101070404053,
          0.3870813846588135,
          0.3667784035205841,
          0.3651144504547119,
          0.37951329350471497,
          0.38024434447288513,
          0.3864371180534363,
          0.3796338438987732,
          0.36298343539237976,
          0.3737529218196869,
          0.3709067106246948,
          0.38625696301460266,
          0.385276198387146,
          0.3621198832988739,
          0.3576449751853943,
          0.3555837571620941,
          0.37193748354911804,
          0.37848642468452454,
          0.3698350191116333,
          0.1452532410621643,
          0.15229059755802155,
          0.1512371003627777,
          0.1588522344827652,
          0.15734067559242249,
          0.1640760749578476,
          0.1619555950164795,
          0.27414700388908386,
          0.2790115177631378,
          0.2670277953147888,
          0.13120003044605255,
          -0.05550975352525711,
          -0.051702264696359634,
          0.14838743209838867,
          0.1589454561471939,
          0.1673201024532318,
          0.18219974637031555,
          0.17348705232143402,
          0.15189479291439056,
          0.15916161239147186,
          0.18089117109775543,
          0.16619685292243958,
          0.17440296709537506,
          0.8772467970848083,
          0.8518389463424683,
          0.8025411367416382,
          0.29428768157958984,
          0.101921446621418,
          0.118594691157341,
          0.11248084157705307,
          0.13170410692691803,
          0.14098960161209106,
          0.08739078044891357,
          0.088144950568676,
          0.13746093213558197,
          0.0843905583024025,
          0.11918541043996811,
          0.10627388209104538,
          0.14388123154640198,
          0.13280774652957916,
          0.1019001305103302,
          0.09796062111854553,
          0.14335128664970398,
          0.1043376475572586,
          0.08893273025751114,
          0.09055385738611221,
          0.10797400027513504,
          0.12477636337280273,
          0.08511204272508621,
          0.13181625306606293,
          0.130793496966362,
          0.13662303984165192,
          0.12298577278852463,
          0.12784534692764282,
          0.11223449558019638,
          0.09455233067274094,
          0.09909524023532867,
          0.14661450684070587,
          0.10296035557985306,
          0.1275503933429718,
          0.11393251270055771,
          0.14140047132968903,
          0.1340825855731964,
          0.11810329556465149,
          0.0965539738535881,
          0.1122790202498436,
          0.14069928228855133,
          0.14460721611976624,
          0.09425359964370728,
          0.1517181694507599,
          0.11678767204284668,
          0.13415314257144928,
          0.09013687819242477,
          0.12424807250499725,
          0.12523746490478516,
          0.1374051570892334,
          0.10626600682735443,
          0.1252489686012268,
          0.10711055248975754,
          0.09491792321205139,
          0.09779088944196701,
          0.09295868128538132,
          0.10105296969413757,
          0.30859097838401794,
          0.3071625232696533,
          0.316916823387146,
          0.2872850298881531,
          0.31770798563957214,
          0.31134310364723206,
          0.1392243355512619,
          0.14687682688236237,
          0.08768963068723679,
          0.1178373247385025,
          0.11003871262073517,
          0.1254788488149643,
          0.13545864820480347,
          0.11745305359363556,
          0.14357829093933105,
          0.11188060790300369,
          0.1259012520313263,
          0.1240893080830574,
          0.1303522288799286,
          0.13970746099948883,
          0.09943459182977676,
          0.09129872173070908,
          0.13312923908233643,
          0.14422354102134705,
          0.1264341026544571,
          0.12824304401874542,
          0.10348457098007202,
          0.12024030834436417,
          0.14152687788009644,
          0.14786675572395325,
          0.11661004275083542,
          0.10512209683656693,
          0.1379377394914627,
          0.10666495561599731,
          0.15116024017333984,
          0.1337594836950302,
          0.09638134390115738,
          0.14487414062023163,
          0.09301788359880447,
          0.15045885741710663,
          0.15375344455242157,
          0.15290570259094238,
          0.14442510902881622,
          0.13892757892608643,
          0.14371590316295624,
          0.14779341220855713,
          0.15593716502189636,
          0.1454102098941803,
          0.13466861844062805,
          0.13795046508312225,
          0.15151548385620117,
          0.14998021721839905,
          0.1428271234035492,
          0.1357698142528534,
          -0.811471164226532,
          -0.7276063561439514,
          -0.8158608078956604,
          -0.8207679986953735,
          -0.8149363994598389,
          -0.8106215596199036,
          -0.7709896564483643,
          -0.7987715005874634,
          0.13373634219169617,
          0.3878970742225647,
          0.4024081826210022,
          0.40109142661094666,
          0.3964143991470337,
          0.4027901291847229,
          0.40866905450820923,
          0.3880247473716736,
          0.40408140420913696,
          0.39690640568733215,
          0.37739571928977966,
          0.40644383430480957,
          0.3792748749256134,
          0.3895084857940674,
          0.40670937299728394,
          0.39653778076171875,
          0.3955520689487457,
          0.39160847663879395,
          0.3815065622329712,
          0.38734227418899536,
          0.39645490050315857,
          -0.3562701344490051,
          -0.3553835153579712,
          0.36679455637931824,
          0.3652758002281189,
          0.40140968561172485,
          0.3879479169845581,
          0.39601191878318787,
          0.39752066135406494,
          0.40491288900375366,
          0.378351092338562,
          0.31998521089553833,
          0.33364352583885193,
          0.3081965148448944,
          -0.1025451272726059,
          -0.11265059560537338,
          -0.10129418224096298,
          -0.09563885629177094,
          -0.10840227454900742,
          -0.11011969298124313,
          -0.09160042554140091,
          0.7378343939781189,
          0.750622570514679,
          0.7403678297996521,
          0.7483638525009155,
          0.6718074083328247,
          -0.016481216996908188,
          -0.025177249684929848,
          -0.11054375022649765,
          -0.11510983109474182,
          -0.08010831475257874,
          0.6809476017951965,
          0.6872337460517883,
          0.6734604239463806,
          0.6742244958877563,
          0.6860557198524475,
          0.6024553179740906,
          0.16673089563846588,
          0.18454663455486298,
          0.1734153926372528,
          0.1597425490617752,
          0.16380098462104797,
          0.179447740316391,
          -0.2916928231716156,
          -0.30993080139160156,
          -0.3328685462474823,
          -0.3196312487125397,
          -0.29991981387138367,
          -0.319086492061615,
          -0.3004182279109955,
          -0.31095948815345764,
          -0.3203781843185425,
          -0.33435457944869995,
          -0.3020254969596863,
          -0.2909259498119354,
          -0.3281996250152588,
          -0.3189087212085724,
          -0.32701918482780457,
          -0.22588780522346497,
          -0.22038044035434723,
          -0.18146878480911255,
          0.0740167498588562,
          0.06962451338768005,
          0.0769381895661354,
          -0.869908332824707
         ]
        },
        {
         "hoverinfo": "skip",
         "marker": {
          "color": "rgba(0,0,0,0)",
          "size": 0
         },
         "mode": "text",
         "showlegend": false,
         "text": [
          "Animal Telemetry Network",
          "Argo",
          "BlueBRIDGE",
          "C4ADS Natural Resources Cell",
          "Canada's Dark Vessel Detection Program",
          "CCAMLR Data",
          "Ecologically or Biologically Significant Marine Areas",
          "Coastal Resilience Mapping Portal",
          "Copernicus Marine Service",
          "Coral Reef Sentinels Program",
          "Coral Triangle Atlas",
          "Coriolis Ocean Database for Reanalysis",
          "Deep Ocean Observing Strategy",
          "Deep-Ocean Stewardship Initiative",
          "Digital Twin of the Ocean",
          "Earth Observing System Data and Information System (EOSDIS) - Ocean Data",
          "EDF Fisheries Solution Center",
          "EMODnet",
          "eOceans",
          "FishBase",
          "Global Oceans Biodiversity Initiative (GOBI)",
          "ICES Marine Data",
          "iMarine Gateway",
          "International Comprehensive Ocean-Atmospheric Data Set",
          "International Fisheries Innovation Network",
          "International Group for Marine Ecological Time Series",
          "IOC Ocean Data and Information System",
          "International Seabed Authority DeepData Database",
          "Land+Ocean Data",
          "Litterbase",
          "Lloyds List intelligence (seasearcher)",
          "Mapping Application for Penguin Populations and Projected Dynamics",
          "Marine Ecological Research Management AID",
          "Marine Geoscience Data System",
          "Marine Life 2030: A Global Integrated Marine Biodiversity Information Management and Forecasting System for Sustainable Development and Conservation",
          "Marine Observing Network for the Group on Earth Observations - Biodiversity Observing Networks (GEO-BON) - NAME CHECK NEEDED",
          "Marine Protection Atlas",
          "MitoFish",
          "NOAA U.S. Seafood Import Monitoring Program",
          "Ocean Biogeographic Information System (OBIS)",
          "Ocean + library",
          "Ocean Data Platform",
          "Ocean Data View",
          "Ocean Tracking Network",
          "OceanDataLab",
          "oceanmind",
          "OceanPredict",
          "OceanSITES",
          "odinafrica",
          "One Ocean Network for Deep Observation",
          "Ocean Observatories Initiative - National Science Foundation funded (OOI)",
          "Our Shared Seas",
          "Pacific Islands Forum Fisheries Agency Regional Fisheries Surveillance Center ",
          "PANGAEA",
          "Pew Charitable Trust ‘Eyes on the Sea’",
          "POGO (Partenrship for Observation of the Global Ocean - Nippon Foundation)",
          "Ram Legacy Stock Assessment Database",
          "ReefBase",
          "Sea Around US",
          "Seabird Tracking Database",
          "SeaDataNet",
          "Seafood Alliance for Legality and Traceability",
          "Seafood Watch",
          "SeaVision - US Navy/ US Department of Transportation",
          "State of the world's sea turtles",
          "Sustainability of Marine Ecosystems through global knowledge networks (SMARTNET)",
          "The Fishery Improvement Projects Database",
          "The Hydrous presents: The Decade of Ocean Empathy",
          "The Nippon Foundation-GEBCO Seabed 2030 Project",
          "Traseable",
          "UNEP World Conservation Monitoring Centre Ocean Data Viewer",
          "UNESCO International Oceanographic Data and Information Exchange (IODE)",
          "UNESCO IODE Ocean Data Portal",
          "Universeum Ocean Science Lab",
          "World Ocean Atlas",
          "World Ocean Database - NOAA National Centers for Environmental Information",
          "World Register of Marine Species",
          "WWF DETECT - IT"
         ],
         "textfont": {
          "size": 8
         },
         "textposition": "bottom center",
         "type": "scatter",
         "x": [
          0.24923215806484222,
          -0.4936286211013794,
          -0.3205500543117523,
          0.5600415468215942,
          0.10672959685325623,
          0.276594877243042,
          -0.28217726945877075,
          -0.0022485435474663973,
          0.4949072003364563,
          -0.44473034143447876,
          -0.050258684903383255,
          0.42238348722457886,
          0.15192003548145294,
          -0.5845292210578918,
          0.19738245010375977,
          0.07698912918567657,
          0.4350789487361908,
          -0.06036751717329025,
          0.3997994661331177,
          -0.011034268885850906,
          0.0059173875488340855,
          -0.05802026763558388,
          -0.2126934677362442,
          0.06766202300786972,
          -0.858607828617096,
          0.62959223985672,
          -0.753339409828186,
          -0.9069206714630127,
          0.05527182295918465,
          0.680665910243988,
          0.7917407155036926,
          -0.752866804599762,
          -0.16766810417175293,
          -0.37026602029800415,
          -0.047435421496629715,
          -0.0894952341914177,
          -0.058383338153362274,
          -0.7868300676345825,
          -0.8876331448554993,
          0.1861722767353058,
          0.8834168314933777,
          -0.010078025981783867,
          0.7321642637252808,
          -0.6785370111465454,
          0.9688181281089783,
          0.06494920700788498,
          0.14146003127098083,
          -0.2316221445798874,
          -0.029060473665595055,
          0.18174083530902863,
          -0.14252853393554688,
          0.970976710319519,
          0.5268924832344055,
          -0.008016645908355713,
          0.8114330768585205,
          0.33292779326438904,
          -0.561295211315155,
          0.0736612007021904,
          0.005401523783802986,
          0.2150212824344635,
          0.33685731887817383,
          0.11538156867027283,
          -0.05793481320142746,
          0.7292211651802063,
          -0.8198142647743225,
          0.13976016640663147,
          0.8812842965126038,
          0.22039566934108734,
          0.05480250343680382,
          -0.17142997682094574,
          -0.9029468894004822,
          0.4134351909160614,
          0.716005802154541,
          0.6680171489715576,
          -0.7881569862365723,
          -0.7870177030563354,
          -0.0949762761592865,
          0.12413374334573746
         ],
         "y": [
          -0.6863217949867249,
          -0.8610132932662964,
          0.23479793965816498,
          -0.5363525748252869,
          0.8018739223480225,
          0.17357192933559418,
          -0.04063086584210396,
          0.12481658160686493,
          0.006896860431879759,
          -0.2386653870344162,
          0.08176529407501221,
          0.05395423620939255,
          -0.17904603481292725,
          0.41380560398101807,
          0.06281223893165588,
          0.4362965226173401,
          -0.7341390252113342,
          -0.7545901536941528,
          -0.6727089881896973,
          0.18693596124649048,
          -0.1461554765701294,
          0.2210351675748825,
          0.1382446438074112,
          0.34515970945358276,
          -0.3022819757461548,
          -0.4342441260814667,
          -0.4475429356098175,
          0.47986966371536255,
          0.3761756122112274,
          -0.840230405330658,
          -0.38889721035957336,
          0.4149274230003357,
          -0.06785860657691956,
          -0.7760641574859619,
          0.0034750907216221094,
          0.024783093482255936,
          -0.16497622430324554,
          0.6294937133789062,
          0.4445960223674774,
          -0.09329796582460403,
          0.27248430252075195,
          -0.13094264268875122,
          0.6866433620452881,
          -0.3773064911365509,
          0.04842715710401535,
          -0.047989603132009506,
          0.23277361690998077,
          0.33915072679519653,
          0.12555895745754242,
          0.23573043942451477,
          0.0927731916308403,
          -0.053360216319561005,
          0.16165558993816376,
          0.8420130014419556,
          0.2835659384727478,
          0.11772705614566803,
          0.3010866343975067,
          0.10628088563680649,
          0.1054234579205513,
          -0.7830865979194641,
          0.11462581157684326,
          0.3598744571208954,
          -0.3148884177207947,
          0.38101476430892944,
          0.32018813490867615,
          -0.07649364322423935,
          -0.23573967814445496,
          0.7158641815185547,
          -0.015521006658673286,
          -0.08026323467493057,
          -0.07015784829854965,
          0.6537609696388245,
          0.16946332156658173,
          -0.3068968951702118,
          -0.21152275800704956,
          -0.1953142136335373,
          0.03754556551575661,
          -0.8616750240325928
         ]
        },
        {
         "hoverinfo": "skip",
         "marker": {
          "color": "rgba(0,0,0,0)",
          "size": 0
         },
         "mode": "text",
         "showlegend": false,
         "text": [
          "FACT Network",
          "Atlantic Coast Telemetry (ACT) Network",
          "Southern California Acoustic Telemetry Tracking Network (SCATTN)",
          "Wood Hole Group Argos Services Team, participating researchers",
          "Interagency Ocean Observation Committee (IOOC) member agencies",
          "IOOS Program Office",
          "IOOS Regional Associations",
          "other experts",
          "International Oceanographic Commission (IOC)",
          "National Research Council of Italy",
          "European Research Consortium for Informatics and Mathematics (ERCIM)",
          "Engineering Ingegneria Informatica Spa",
          "National and Kapodistrian University of Athens (UOA)",
          "The Food and Agriculture Organization of the United Nations (FAO)",
          "International Council for the Exploration of the Sea (ICES)",
          "Institut de Recherche pour le Dévelopement (IRD)",
          "Foundation for Research and Technology Hellas (FORTH)",
          "Trust-IT Services LTD",
          "Integrated Information Systems (I2S)",
          "Communication & Information Technologies Experts (CITE)",
          "Collecte Localisation Satellites (CLS)",
          "GRID-Arendal",
          "Pole Mer Bretagne Atlantique",
          "Hon. April Foley",
          "John Callery",
          "Joe D'Cruz",
          "LTG (Ret.) David P. Fridovich",
          "Newton Howard, PHD, HDR",
          "Sergey Kanareykin",
          "John Pearce",
          "Archie Ravishankar",
          "Palantir",
          "Amazon Web Services (AWS)",
          "Windward",
          "Planet",
          "Spire",
          "Fivecast",
          "ADS-B Exchange",
          "Unfolded",
          "Bright Data",
          "DomainTools",
          "Greylist",
          "Department of National Defence",
          "Defence Research and Development Canada’s Centre for Security Science' Global Affairs Canada",
          "MDA",
          "Forum Fisheries Agency",
          "Ecuadorian Maritime Authority",
          "National Directorate of Aquatic Spaces",
          "University of Tasmania",
          "FAO (FAO) Coordinating Working Party on Fisheries Statistics (CWP)",
          "Fishery Resources Monitoring System (FIRMS)",
          "Scientific Committee on Antarctic Research Marine Biodiversity Information Network (SCAR-MarBIN)",
          "Global Database on Vulnerable Marine Ecosystems (FAO initiative) 'Cooperations:' Agreement for the Conservation of Albatrosses and Petrels (ACAP)",
          "Commission for the Conservation of Southern Bluefin Tuna (CCSBT)",
          "Committee for Environmental Protection (CEP)",
          "Convention for the International Trade in Endangered Species (CITES)",
          "Permanent Commission for the South Pacific (CPPS)",
          "United Nations Food and Agriculture Organisation (FAO)",
          "Pacific Islands Forum Fisheries Agency (FFA)",
          "Inter-American Tropical Tuna Commission (IATTC)",
          "Intergovernmental Oceanographic Commission (IOC)",
          "International Union for the Conservation of Nature (IUCN)",
          "International Whaling Commission (IWC)",
          "Scientific Committee on Antarctic Research (SCAR)",
          "Scientific Committee on Oceanic Research (SCOR)",
          "South East Atlantic Fisheries Organisation (SEAFO)",
          "Secretariat for the Pacific Community (SPC)",
          "South Pacific Regional Fisheries Management Organisation (SPRFMO)",
          "Southern Indian Ocean Fisheries Agreement (SIOFA) United Nations Environment Programme (UNEP)",
          "Western and Central Pacific Fisheries Commission (WCPFC)",
          "AEON Environmental Foundation",
          "African Centre for Technology Studies (ACTS)",
          "Agropolis International",
          "Airbus S.A.S.",
          "Alpine Convention",
          "American Bird Conservancy Alliance for Zero Extinction (AZE) (ABC)",
          "Anatrack",
          "Arab Organization for Agricultural Development (AOAD)",
          "ASEAN Centre for Biodiversity (ACB)",
          "Asociación Latinoamericana de Integración (ALADI)",
          "Biodiversity Center Ministry of the Environment",
          "BioNET-INTERNATIONAL",
          "Bioversity International",
          "BirdLife International",
          "Botanic Gardens Conservation International (BGCI)",
          "Botanical Gardens Montreal (Canada)",
          "Botanische Gärten der Rheinischen Friedrich-Wilhelms-Universität Bonn",
          "CABI (CABI)",
          "Canadian Environmental Network (RCEN)",
          "Canadian Forest Service",
          "Carleton University (Canada)",
          "Carpathian Convention",
          "CBD Alliance",
          "Census of Marine Life (CMoL)",
          "Center for International Forestry Research (CIFOR)",
          "Centre for International Sustainable Development Law (CISDL)",
          "Centro Internacional de Agricultura Tropical (CIAT)",
          "Comisión Nacional para el Conocimiento y Uso de la Biodiversidad (CONABIO)",
          "Comisión Permanente del Pacífico Sur (CPPS)",
          "Concordia University",
          "Conservation International (CI)",
          "Conservation of Arctic Flora and Fauna (CAFF)",
          "Consultative Group on International Agricultural Research (CGIAR)",
          "Convention for the Protection and Development of the Marine environment of the Wider Caribbean Region (Cartagena Convention)",
          "Convention on International Trade in Endangered Species of Wild Fauna and Flora (CITES)",
          "Convention on the Conservation of European Wildlife and Natural Habitats (Bern Convention) Council of Europe (Bern Convention)",
          "Convention on the Conservation of Migratory Species of Wild Animals (CMS)",
          "Deutsche Gesellschaft für Internationale Zusammenarbeit (GIZ) GmbH (GIZ)",
          "DIVERSITAS. Earth Rangers",
          "École des Hautres Études Commerciales (HEC-Alger)",
          "Environment Canada",
          "Federal Agency for Nature Conservation (Germany) (BfN)",
          "Federal Ministry for Economic Cooperation and Development (BMZ)",
          "Fishbase Information and Research Group (FIN)",
          "Folk Research Centre",
          "Food and Agriculture Organization of the United Nations (FAO)",
          "Foundation for International Environmental Law and Development (FIELD)",
          "Future Earth International",
          "Genetic Resources Communications Systems Inc.",
          "Diversity (GRCS Diversity)",
          "Global Biodiversity Information Facility (GBIF)",
          "Global Environment Facility (GEF)",
          "Global International Waters Assessment (UNEP/GIWA)",
          "Global Invasive Species Programme - Secretariat (GISP)",
          "Global Programme of Action for the Protection of the Marine Environment from Land-Based Activities (UNEP/GPA)",
          "Green Belt Movement",
          "United Nations Environment Programme (UNEP/GRID-Arendal)",
          "Group on Earth Observations (GEO)",
          "Healthy Urban Microbiome Initiative (HUMI)",
          "Higashiyama Botanical Gardens Horus Institute for Environmental Conservation and Development",
          "ICI Environment",
          "ICLEI - Local Governments for Sustainability (ICLEI)",
          "Indigenous Women's Biodiversity Network - Latin America & Caribbbean",
          "Information and Communication Centre of the Barcelona Convention",
          "Institut de l'Énergie et de l'Environnement de la Francophonie",
          "Institute for Global Environmental Strategies (IGES)",
          "Instituto Alexander Von Humboldt",
          "Instituto Nacional de Biodiversidad (INBio)",
          "Instituto Superiore per la Protezione e la Ricerca Ambientale (ISPRA)",
          "Inter-American Biodiversity Information Network (IABIN)",
          "Intergovernmental Oceanographic Commission UNESCO (IOC/UNESCO)",
          "Intergovernmental Platform on Biodiversity and Ecosystem Services (IPBES)",
          "International Association for Impact Assessment (IAIA)",
          "International Barcode of Life (iBOL)",
          "International Centre for Genetic Engineering and Biotechnology (ICGEB)",
          "International Civil Aviation Organization (ICAO)",
          "International Development Law Organization (IDLO)",
          "International Federation of Agricultural Producers (IFAP)",
          "International Fund for Agricultural Development (IFAD)",
          "International Ocean Institute (IOI)",
          "International Plant Genetic Resources Institute (IPGRI)",
          "International Plant Protection Convention Secretariat (FAO/IPPC)",
          "International Treaty on Plant Genetic Resources for Food and Agriculture FAO (ITPGRFA)",
          "International Tropical Timber Organization (ITTO)",
          "International Union of Biological Sciences (IUBS)",
          "IUCN - Countdown 2010",
          "IUCN - International Union for Conservation of Nature (IUCN)",
          "IUCN Species Survival Commission",
          "Japan Committee for IUCN (IUCN-J)",
          "Joint Nature Conservation Committee (JNCC)",
          "Kobe University",
          "Korea Forest Service",
          "Leibniz-Institut für Evolutions und Biodiversitätsforschung - Museum für Naturkunde - Humboldt-Universität zu Berlin",
          "McGill University",
          "Minister of Housing",
          "Spatial Planning and the Environment",
          "Ministry for Economic Cooperation and Development (Germany)",
          "Ministry of Agriculture",
          "Nature and Food Quality (ANF)",
          "Nature Management and Fisheries (Netherlands)",
          "Sea",
          "Environment and Spatial Planning",
          "Ministry of Oceans and Fisheries of the Republic of Korea",
          "Missouri Botanical Garden",
          "Museum National d'Histoire Naturelle (France)",
          "National Commission for the Knowledge and Use of Biodiversity (CONABIO)",
          "National Commission for Wildlife Conservation and Development (NCWCD)",
          "National Geographic Society",
          "National Institute of Biological Resources (NIBR)",
          "Natural History Museum",
          "NatureServe",
          "New Partnership for Africa's Development (NEPAD)",
          "Observatoire du Sahara et du Sahel (OSS)",
          "Organization for Economic Co-operation and Development (OECD)",
          "Organization for Industrial",
          "Spiritual",
          "Cultural Advancement International (OISCA)",
          "Pan-European Biological and Landscape Diversity Strategy (PEBLDS)",
          "Partnerships in Environmental Management for the Seas of East Asia (PEMSEA)",
          "Permanent Secretariat of the Amazon Cooperation Treaty Organization (ACTO-OTCA)",
          "Programme régional de Conservation de la zone Côtière et Marine en Afrique de l’Ouest (PRCM)",
          "Ramsar Convention on Wetlands (Ramsar)",
          "RARE Conservation",
          "Royal Belgian Institute of Natural Sciences",
          "Royal Botanic Garden of Edinburgh",
          "Royal Botanic Gardens",
          "Kew",
          "Secretaría de Medio Ambiente y Recursos Naturales",
          "Secretariat of the Pacific Regional Environment Programme (SPREP)",
          "Sedna Foundation (SEDNA)",
          "Smithsonian Institution",
          "South African National Biodiversity Institute (SANBI)",
          "State of Parana",
          "Stockholm University (SRC)",
          "Tehran Process Secretariat for Low Forest Cover Countries (TPS LFCC)",
          "The Government of the Republic of South Africa",
          "The Nature Conservancy (TNC)",
          "The Union for Ethical BioTrade (UEBT)",
          "Tourisme Montréal",
          "TRAFFIC International",
          "UNEP Division of Environmental Law and Conventions (UNEP/DELC)",
          "UNEP Mediterranean Action Plan for the Barcelona Convention (UNEP/MAP)",
          "UNEP World Conservation Monitoring Centre (UNEP-WCMC)",
          "United Nations Conference on Trade and Development (UNCTAD)",
          "United Nations Convention to Combat Desertification (UNCCD)",
          "United Nations Development Programme (UNDP)",
          "United Nations Development Programme/Drylands Development Centre (UNDP - DDC)",
          "United Nations Economic Commission for Africa (UNECA)",
          "United Nations Economic Commission for Europe (UNECE)",
          "United Nations Economic Commission for Latin America and the Caribbean (UNECLAC)",
          "United Nations Educational",
          "Scientific and Cultural Organization (UNESCO)",
          "United Nations Environment Programme (UNEP)",
          "United Nations Forum on Forests (UNFF)",
          "United Nations Foundation",
          "United Nations Human Settlements Programme (UN-HABITAT)",
          "United Nations Industrial Development Organization (UNIDO)",
          "United Nations Institute for Training and Research (UNITAR)",
          "United Nations University - Institute of Advanced Studies (UNU-IAS)",
          "United Nations University - International Institute for Global Health (UNU-IIGH)",
          "United Nations World Tourism Organization (UNWTO)",
          "United States Department of Agriculture",
          "Universidad Livre do Meio Ambiente (Brazil)",
          "Universita di Roma \"\"La Sapienza\"\"",
          "Université de Montréal",
          "Université du Québec à Montréal -UQAM (UQAM)",
          "Université Laval",
          "University of Guelph",
          "University of Tokyo",
          "University of Toronto (Canada)",
          "Ville de Montréal (Canada)",
          "Western Indian Ocean Marine Science Association (WIOMSA)",
          "Wetlands International (WI)",
          "Wildlife Conservation Society (WCS)",
          "World Agroforestry Centre (ICRAF)",
          "World Association of Zoos and Aquariums (WAZA)",
          "World Bank",
          "World Future Council",
          "World Health Organization (WHO)",
          "World Intellectual Property Organization (WIPO)",
          "World Organisation for Animal Health (OIE)",
          "World Wildlife Fund (WWF)",
          "National Oceanic and Atmospheric Administration (NOAA)",
          "United Nations University, Natural Capital Project",
          "Association of State Floodplain Managers",
          "University of Southern Mississippi",
          "UNited States Geological Survey (USGS)",
          "Microsoft",
          "Esri",
          "Azavea",
          "Spatial Development International",
          "Global Disaster Preparedness Center",
          "the International Federation of the Red Cross",
          "ISR",
          "Horizon 2020",
          "European Marine Observation and Data Network (EMODNet)",
          "EU4OceanObs",
          "the European Space Agency (ESA)",
          "the European Organisation for the Exploitation of Meteorological Satellites (EUMETSAT)",
          "the European Centre for Medium-Range Weather Forecasts (ECMWF)",
          "National Aeronautic and Space Administration (NASA) Ames",
          "the Scripps Institution of Oceanography",
          "the University of California San Diego",
          "the California Academy of Science",
          "Arizona State University",
          "Conservation X Labs",
          "Conservify",
          "Waitt Institute",
          "Smithsonian’s Healthy Reef Initiative.",
          "United States Agency for International Development (USAID)",
          "Coral Triangle Support Partnership (CTSP)",
          "Coral Triangle Initiative on Coral Reefs, Fisheries and Food Security (CTI-CFF)",
          "International Union for Conservation of Nature Global Marine Species Assessment (IUCN-GMSA)",
          "WorldFish",
          "CORIOLIS Data Centre (DAC)",
          "EuroGOOS",
          "MyOcean",
          "Advisory Board: OceanSITES",
          "China",
          "Ocean Observatories Initiative (OOI)",
          "InterRIDGE",
          "Ocean Networks Canada (ONC)",
          "Consortium for Ocean Leadership (COL)",
          "Seabed 2030",
          "International Seabed Authority (ISA)",
          "International Oceagraphic Data and Information Exchange, Ocean Data and Information System (IODE ODIS)",
          "Schmidt Ocean Institute",
          "REV Oceans",
          "Jeff Ardron, Commonwealth Secretariat, UK",
          "Jon Copley, University of Southampton, UK",
          "Judith Gobin University of the West Indies, Trinidad & Tobago",
          "Maila Guilhon, University of Sao Paolo, Brazil",
          "Baban Ingole, National Centre for Polar & Ocean Research, India",
          "Se-Jong Ju, Korean Institute of Ocean Science and Technology, South Korea",
          "Alan Leonardi, National Oceanic and Atmospheric Administration (NOAA) Office of Ocean Exploration & Research, USA",
          "Hannah Lily, Hannah Lily Law, UK",
          "Rose Lesley Kautoke, Government of the Kingdom of Tonga, Tonga",
          "Anna Metaxas, Dalhousie University, Canada",
          "Agnes Muthumbi, University of Nairobi, Kenya",
          "Pei-Yuan Qian, Hong Kong University of Science and Technology, Hong Kong",
          "Eva Ramirez-Llodra, NIVA, Norway & REV Ocean, Norway",
          "Francesca Santoro, UNESCO-IOC, France",
          "Julia Sigwart Queen's University, N. Ireland",
          "Oliver Steeds, Nekton, UK",
          "Torsten Thiele, LSE Institute of Global Affairs, London & Institute for Advanced Sustainability Studies, Germany & Global Ocean Trust founder",
          "Alix Willemez, Global Environment Facility, Côte d'Ivoire",
          "National Oceanography Centre",
          "Mercator Ocean International",
          "Fugro",
          "Integrated Marine Observing System",
          "National Oceans and Coastal Information Management System",
          "International Science Council (ISC) World Data System (WDS)",
          "Committee on Earth Observation Satellites (CEOS)",
          "CEOS WGISS Integrated Catalog (CWIC)",
          "Quality Assurance Framework for Earth Observaiton (QA4EO)",
          "United States Group on Earth Observations (USGEO)",
          "Earth Science Information Partners (ESIP)",
          "Federal Geographic Data Committee (FGDC)",
          "International Organization for Standardizaiton (ISO)",
          "Open Geospatial Consortium (OGC)",
          "Data.Gov",
          "Climate Resiliency Toolkit",
          "National Climate Assessment (NCA)",
          "United States Geological Survey (USGS)",
          "None indicated",
          "Centre for Documentation, Research and Experimentation on Accidental Water Pollution (CEDRE)",
          "Istituto Nazionale di Geofisica e Vulcanologia, Sede di Bologna (INGV)",
          "Iv.Javakhishvili Tbilisi State University, Centre of Relations with UNESCO (UNESCO) Oceanological Research Centre and GeoDNA (TSU-DNA)",
          "A.N.D. International (AND)",
          "Albanian Geological Survey (AGS)",
          "Alfred Wegener Institute (AWI)",
          "Anguilla Community College (ACC)",
          "AZTI Tecnalia (AZTI)",
          "Balearic Islands Coastal Observing and Forecasting System (SOCIB)",
          "Baltic Sea Hydrographic Commission (BSHC)",
          "Belgian Marine Data Centre (RBINS-ODNATURE-BMDC)",
          "British Geological Survey (BGS)",
          "Center for Marine Environmental Sciences (MARUM)",
          "Centre for Environment, Fisheries and Aquaculture Science (CEFAS)",
          "Centre for Marine Sciences (CCMAR)",
          "Centro Tecnológico del Mar (CETMAR)",
          "CNR (CNR), Institute of Environmental Geology and Geoengineering (IGAG)",
          "COGEA",
          "Conference of Peripheral Maritime Regions (CRPM)",
          "Coronis Computing SL (Coronis)",
          "Croatian Hydrographic Institute (HHI)",
          "CSIC-ICM/Institute of Marine Sciences (CSIC-ICM)",
          "Cyprus Geological Survey (GSD)",
          "Danish Centre for Environment and Energy (DCE)",
          "Danish Geodata Agency - Danish Hydrographic Office (GST)",
          "Danish Maritime Authority (DMA)",
          "Danube Delta National Institute (DDNI)",
          "FAO",
          "GEOMAR Helmholtz Centre for Ocean Research Kiel",
          "Global Fisheries Cluster UBC",
          "Museum National d'Histoire Naturelle",
          "Royal Museum for Central Africa Tervuren",
          "Swedish Museum of Natural History",
          "Aristotle University of Thessaloniki",
          "Chinese Academy of Fishery Sciences",
          "Universidade Federal de Sergipe",
          "University of Western Australia",
          "German Federal Agency for Nature Conservation (BfN)",
          "the International Union for Conservation of Nature (IUCN)",
          "the United Nations Environmental Programme (UNEP) World Conservation Monitoring Centre (WCMC)",
          "the Marine Conservation Biology Institute (MCBI)",
          "the Census of Marine Life",
          "the Ocean Biogeographic Information System (OBIS)",
          "the Marine Geospatial Ecology Lab of Duke University (MGEL)",
          "Convention on Biological Diversity",
          "Seascape consultants",
          "Convention on Migratory Species (CMS)",
          "International Union for Conservation of Nature (IUCN)",
          "Duke Nicholas School of th Environment",
          "Commonwealth Scientific and Industrial Research Organisation (CSIRO)",
          "Tethys Research Institute",
          "MarViva Foundation",
          "French Biodiversity Agency (OFB)",
          "Science and Conservation of Fish Aggregations (SCRFA)",
          "United Nations University (UNU) Institute of Advanced Studies (IAS)",
          "National Institute of Water and Atmospheric Research (NIWA)",
          "Smithsonian Conservation Biology Institute",
          "University of California Santa Cruz",
          "University of Hawai'i",
          "Sustainable FIsheries Partnership",
          "Senckenberg",
          "Old Dominion University",
          "United Nations Freiburg",
          "James Cook University",
          "Departamento de Oceanografia e Pescas (DOP), Universidade Dos Acores",
          "Food and Agriculture Organization (FAO)",
          "International Maritime Organization (IMO)",
          "International Seabed Authority",
          "Northeastern University",
          "Whale and Dolphin Conservation",
          "Pacific Marine Analysis and Research Association (Pac MARA)",
          "San Fransisco State Estuary and Ocean Science Center",
          "MigraMar",
          "Sargasso Sea Commission",
          "Universidad de Valparaiso Chile",
          "WildOceans",
          "Natural Resources Defense Council (NRDC)",
          "University of Aberdeen",
          "Ocean Institute",
          "Apex",
          "Columbia University",
          "North Atlantic Salmon Conservation Organization (NASCO)",
          "The United Kingdom of Great Britain and Northern Ireland",
          "European Commission (EC) - DG ENV",
          "European Commission (EC) - DG MARE",
          "Republic of Iceland",
          "North East Atlantic Fisheries Commission (NEAFC)",
          "Kingdom of Norway",
          "Secretariat of the Convention on Biological Diversity",
          "World Maritime University (WMU)",
          "Mediterranean Science Commission (CIESM)",
          "United Nations Education, Scientific, and Cultural Organization – Intergovernmental Oceanographic Commission (UNESCO-IOC)",
          "General Fisheries Commission in the Mediterranean (GFCM)",
          "The North Atlantic Marine Mammal Commission (NAMMCO)",
          "International Arctic Science Committee (IASC)",
          "BONUS",
          "National Oceanographic Data Center of the USA (NODC)",
          "World Organisation for Animal Health (Oie)",
          "The Convention for the Protection of the marine Environment of the North-East Atlantic (OSPAR)",
          "Baltic Marine Biologists",
          "The European Environment Agency (EEA)",
          "International cooperation in the development and maintenance of the Fisheries Resources Monitoring System (FIRMS)",
          "Northwest Atlantic Fisheries Organization (NAFO)",
          "The North Pacific Marine Science Organization (PICES)",
          "European Aquaculture Society (EAS)",
          "Statistical Office of the European Communities (EUROSTAT)",
          "Baltic Marine Environment Protection Commission (HELCOM)",
          "Government of Denmark and the Home Governments of the Faroe Islands and of Greenland",
          "Italy's National Research Council (CNR)",
          "the National Science Foundation's National Center for Atmospheric Research (NCAR)",
          "University of California Santa Barbara (UCSB)",
          "University of Washington (UW)",
          "Environmental Defense Fund (EFD)",
          "Intergovernmental Oceanographic Commission of UNESCO (IOC)",
          "the International Ocean Carbon Coordination Project (IOCCP) and the Ocean Carbon and Biogeochemistry Program (OCB)",
          "Korea Institute of Ocean Science and Technology",
          "PICES",
          "ICES-CIEM",
          "National Oceanic and Atmospheric Association (NOAA)",
          "Tara Ocean Foundation",
          "The Lawrence Berkeley National Laboratory (Berkeley Lab)",
          "Future 500",
          "Aclima",
          "Federation of American Scientists (FAS)",
          "Global Footprint Network (GFN)",
          "International Energy Agency (IEA)",
          "Met Office Hadley Centre for Climate Science and Services",
          "National Aeronautics and Space Administration (NASA)",
          "U.S. Energy Information Administration (EIA)",
          "Penguin Watch",
          "Black Bawks data science",
          "The Lynch Lab",
          "Oceanites",
          "C3",
          "World Wildlife Foundation (WWF)",
          "Sparkgeo",
          "U.S. Antarctic Program (USAP), the Ridge 2000 and MARGINS programs",
          "Global Multi-Resolution Topography (GMRT) Synthesis",
          "GeoMapApp",
          "US Antarctic Program Data Center (USAP-DC)",
          "Rolling Deck to Repository (R2R) Program",
          "University of South Florida",
          "University of Porto",
          "Hokkaido University",
          "Memorial University of Newfoundland",
          "Nord University",
          "and School of Environment",
          "St. George's University",
          "University of the West Indies",
          "University of the South Pacific",
          "University of Ryukyus",
          "University of Malaya",
          "University of Gothenburg",
          "Tara Oceans Consortium",
          "Universiti Malaysia Terengganu",
          "Universidade Federal do Espirio Santo",
          "Institute of Coastal Research",
          "National University of Ireland Galway (NUI Galway)",
          "Global Seaweeds Coastal Futures",
          "Scripps Institution of Oceanography",
          "University of Alabama Huntsville",
          "University of California Merced",
          "Oregon State University",
          "University of Alaska Fairbanks",
          "Monterey Bay Aquarium Research Institute",
          "University of California Santa Barbara",
          "University of Maine",
          "University of Maryland Center for Environmental Science",
          "Universidad Nacional Autonoma de Mexico",
          "University of Miami",
          "University of Washington",
          "Ocean Carbon & Biogeochemistry (OCB) Project Office Woods Hole Oceanographic Institution",
          "MPI for Marine Microbioligy",
          "Celsiusstr",
          "Senckenberg Research Institute and Natural History Museum",
          "University of Edinburgh",
          "Lehigh University",
          "UNESCO Intergovernmental Oceanographic Commission",
          "UN Environment Programme World Conservation Monitoring Centre (UNEP-WCMC)",
          "GEO Blue Planet Secretariat",
          "Atlantic International Research Centre",
          "Parque de Ciencia e Tecnologia de Ilha Terceira (TERINOV)",
          "Migramar",
          "REV Ocean",
          "Group on Earth Observations Biodiversity Observation Network (GEO BON)",
          "CORDIO East Africa",
          "Fundacion La Salle de Ciencias Naturales de Venezuela (FLASA)",
          "Group on Earth Observations",
          "European Space Agency (ESA)",
          "IUCN",
          "US National Aeronautics and Space Administration (NASA)",
          "MissonBlue",
          "Sea Legacy",
          "Antarctic and Southern Ocean Coalition",
          "WildAid",
          "High Seas Alliance",
          "Oceanic Global",
          "deepsea conservation coalition",
          "Seattle Aquarium",
          "GOBI",
          "Conservation Alliance for Seafood Solutions",
          "Antarctic Ocean Alliance",
          "CARTODB",
          "Conservation International",
          "ESRI",
          "National Geographic",
          "Global Penguin Society",
          "GreenPeace",
          "OCEANA",
          "Ocean Conservancy",
          "PEW Charitable Trusts",
          "MedPan",
          "WWF",
          "Open Channels",
          "The Nature Conservancy",
          "National Marine Protected Areas Center",
          "WCS",
          "Benioff Ocean Initiative",
          "UNEP/WCMC",
          "Bitonga Divers",
          "Blue Prosperity Coalition",
          "ZSL",
          "Earth Law Center",
          "Oneworld Oneocean.com",
          "Canadaian Parks and Wilderness Society- British Columbia Center",
          "Fundacion Rompientes",
          "Global Conservation",
          "OceanRevolution",
          "Jnana Foundation",
          "EMAHO films",
          "Linking Tourism and Conservation (LT&C)",
          "Pacific Environment",
          "Turtle Island Restoration Network",
          "Heirs to Our Oceans",
          "Blue Sphere Foundation",
          "Global Ocean Trust",
          "Blue Halo Initiative",
          "MARE",
          "Ocean Unite",
          "Sevenseasmedia.org",
          "MarViva",
          "Sinazulnohayverde CLT",
          "SKYTRUTH",
          "sharkstewards.org",
          "WDPA",
          "Sargasso Sea Alliance.",
          "IOC-UNESCO’s (UNESCO) International Oceanographic Data and Information (IODE) programme",
          "TDWG DATA QUALITY INTEREST GROUP",
          "GOOS",
          "GEOBON MBON",
          "EurOBIS",
          "Antarctic OBIS",
          "Ocean Tracking Network (OTN) and the Integrated Marine Observing System (IMOS)",
          "Animal Tracking Facility (ATF) have nodes in: Caribbean",
          "Brazil",
          "Sub-Saharan Africa",
          "Senegal",
          "Argentina",
          "Japan",
          "Antartic",
          "Australia",
          "Kenya",
          "Black Sea",
          "Arctic",
          "Malaysia",
          "Canada",
          "UK",
          "Eastern South Pacific",
          "Europe",
          "Colombia",
          "USA",
          "India",
          "South Pacific",
          "Persian Gulf and Gulf of Oman",
          "Indonesia",
          "Mediterranean",
          "South-East Asia",
          "South-West Pacific",
          "Proteus",
          "Accenture",
          "Aker ASA",
          "Aker Biomarine",
          "AkerBP",
          "AkerHorizon",
          "Aker Solutions",
          "BAHR",
          "Cognite",
          "Global Fishing Watch",
          "International Oceanographic Data and Information Exchange (IODE)",
          "Mærsk Mc-Kinney Møller Center for Zero Carbon Shipping (MMMCZCS)",
          "Mercuria",
          "Confederation for Norwegian Enterprise (NHO)",
          "The North Alliance (NoA)",
          "Norwegian University of Science and Technology (NTNU)",
          "OPS Sjømat",
          "SINTEF Ocean",
          "University of Tromsø (UIT)",
          "Vanora",
          "World Economic Forum",
          "Dalhousie University",
          "Nunavut",
          "The Confederacy of Mainland Mi'kmaq",
          "Space Oceanography Laboratory at French Research Institute for Exploitation of the Sea (IFREMER)",
          "Fauna and Flora international",
          "The Royal Thai Government",
          "The Seafood Taskforce",
          "Sainsbury's",
          "Bureau of Meterorology",
          "Centro Euro-Mediterraneo sui Cambiamenti Climatici (CMCC)",
          "Centre de National d'Eutes Spatiales (CNES)",
          "Canadian Operational Network of Coupled Environmental Prediction Systems (CONCEPTS)",
          "Commonwealth Scientific and Industrial Research Organization (CSIRO)",
          "European Organization for the Exploitation of Meteorological Satellites (EUMETSAT)",
          "Korea Hydrographic and Oceanic Society (KHOA)",
          "Korea Institute of Ocean Science and Technology (KIOST)",
          "French Research Institute for Exploitation of the Sea (IFREMER)",
          "Indian National Center for Ocean Information Services (INCOIS)",
          "Met Office",
          "Meteorological Research Institute (MRI)",
          "Japan Meteorological Agency (JAM)",
          "Nansen Environmental and Remote Sensing Center (NERSC)",
          "National Marine Environmental Center of State Oceanic Administration (SOA-NMEFC)",
          "Rede de Mooelagem e Observacao Oceanografica (REMO)",
          "University of Bergen (UiB) Geophysical Institute, NO",
          "CCHDO CLIVAR and Carbon Hydographic Office, USA",
          "CDIAC Carbon Dioxide Information Analysis Center, USA",
          "EUROSITES EuroSites project, EU",
          "IMOS Integrated Marine Observing System, AU",
          "INCOIS Indian National Centre for Ocean Information Services",
          "JAMSTEC Japan Agency for Marine-Earth Science and Technology",
          "MBARI Monterey Bay Aquarium Research Institute, USA",
          "MEDS Marine Environmental Data Service, Canada",
          "NDBC National Data Buoy Center, USA",
          "NIOZ Royal Netherlands Institute for Sea Research, NL",
          "NOCS National Oceanography Centre, Southampton UK",
          "PMEL Pacific Marine Environmental Laboratory, USA",
          "SIO Scripps Institution of Oceanography, USA",
          "UH University of Hawaii, USA",
          "WHOI Woods Hole Oceanographic Institution, USA",
          "UNESCO’s Global Ocean Observing System (GOOS)",
          "Global Earth Observing System of Systems (GEOSS)",
          "Climate Variability and Predictability project (CLIVAR) of the World Climate Research Program (WCRP)",
          "Partnership for Observation of the Global Oceans (POGO)",
          "Ocean Observations Panel for Climate (OOPC)",
          "International Oceanographic Data and Information Exchange Program (IODE)",
          "Nairobi Convention",
          "Marine and Coastal Operations for Southern Africa (MarCOSouth)",
          "Coastal Oceans Research and Development (CORDIO)",
          "United Nations Environment Program (UNEP)",
          "Regional Centre for Mapping of Resources for Development",
          "Biodiversity and Protected Areas Management (BIOPAMA)",
          "Japan Agency for Marine-Earth Science and Technology (JAMSTEC)",
          "European Multidisciplinary Seafloor Observatory (EMSO)",
          "Ocean Networks Canada",
          "Woods Hole Oceanographic Institution (WHOI)",
          "CEA Consulting",
          "Center for Biodiversity and Conservation",
          "Secretariat of the Pacific Community (SPC)",
          "Pacific Islands Forum Secretariat (FORSEC)",
          "South Pacific Regional Environmental Programme (SPREP)",
          "South Pacific Applied Geoscience Commission (SOPAC)",
          "Pacific Islands Development Programme (PIDP)",
          "South Pacific Tourism Organization (SPTO)",
          "University of the South Pacific (USP)",
          "Pacific Islands Law Officer Network (PILON)",
          "Parties of the Nauru Agreement (PNA)",
          "Te Vaka Moana (TVM)",
          "International Science Council (ISC)",
          "Baseline Surface Radiation Netowrk (BSRN)",
          "World Meteorological Organization",
          "Satellite Applications Catapult",
          "Marine Information Service (MARIS)",
          "British Oceanographic Data Centre (BODC)",
          "Bundesamt fur Seeschiffart und Hydrographie (BSH)",
          "Swedish Meteorological and Hydrological Institute (SMHI)",
          "Spanish Oceanograhpic Institute (IEO)",
          "Hellenic Centre for Marine Research, Institute of Oceanography (HCMR/IO)",
          "National Institute of Oceanography and Applied Geophysics (OGS)",
          "All-Russia Research Institute of Hydrometeorological Information - World Data Center (RIHMI-WDC)",
          "National Agency for New Technologies, Energy and Sustainable Economic Development (ENEA)",
          "National Institute of Geophysics and Volcanology (INGV)",
          "Middle East Technical University Institute of Marine Sciences (METU-IMS)",
          "Alfred-Wegener-Institute for Polar- and Marine Research",
          "University of Liege",
          "Institute of Marine Research",
          "Aarhus University",
          "International Council for Exploraiton of the Sea (ICES)",
          "Institute for Environmenta nad Sustainability (IES)",
          "Marine Institute (MI)",
          "International Hydrographic Organization (IHO)",
          "Royal Netherlands Institute for Sea Research (NIOZ)",
          "Royal Belgian Institute of National Sciences (RBINS)",
          "Flanders Marine Institute (VLIZ)",
          "Marine and Freshwater Research Institute (MFRI)",
          "Finnish Meteorological Institute (FMI)",
          "Institute of Meteorology and Water Management (IMGW)",
          "Marine Systems Institute (MSI)",
          "Latvian Institute of Aquatic Ecology (LHEI)",
          "Shirshov Institute of Oceanology of Russian Academy of Sciences (SIO-RAS)",
          "Institute of Oceanology of Bulgarian Academy of Sciences (IO-BAS)",
          "National Institute for Marine Research and Development (NIMRD)",
          "Georgian Designated National Agency (GeoDNA)",
          "Institute of Oceanography and Fisheries (IOF)",
          "National Institute of Biology (NIB)",
          "International Ocean Institute - Malta Operational Centre at University Of Malta",
          "Israel Oceanographic and Liminological Research Institute (IOLR)",
          "CNR, Consiglio Nazionale delle Ricerche- Istituto per lo Studio del MARe (CNR)",
          "Institute of Oceanology, Polish Academy of Sciences (IO-PAN)",
          "Spanish National Research Council (CSIC)",
          "Deltares",
          "Finnish Environmental Institute (SKYE)",
          "Ukranian Scientific Center for Ecology of the Sea (UkrSCES)",
          "ETT Solutions",
          "Intergovernmental Oceanographic Commission of UNESCO (UNESCO) (IOC) (GOOS)",
          "German Climate Computing Center (DKRZ)",
          "Cineca",
          "CSC - IT Center for Science",
          "Science and Technology Facilities Council (STFC)",
          "Greek Research and Technology Network (GRNET)",
          "University of Bergen (UiB)",
          "Helmholtz Centre for Ocean Research Kiel (GEOMAR)",
          "52°North Initiative for Geospatial Open Source Software GmbH",
          "Shom",
          "ORION Joint Research and Development Center",
          "Mediterranean Institute of Oceanography",
          "Oceanic and Continental Environments and Paleoenvironments (EPOC)",
          "University of Bologna, Environmental Science Laboratory",
          "Census of Marine Life",
          "Canadian Foundation for Innovation",
          "National Center for Ecological ANalysis and Synthesis (NCEAS)",
          "National Sciences and Engineering Research Council of Canada (NSERC)",
          "Smith Conservation Research Fellowship",
          "National Science Foundation",
          "Agence pour la Recherche et la Valorisation Marines",
          "Atlantic and Gulf Rapid Reef Assessment",
          "Australian Institute of Marine Science",
          "Caribbean Coastal Marine Productivity Program",
          "Centre de Recherches Insulaires et Observatoire de l'Environnement (CRIOBE-EPHE)",
          "Climate Change, Agriculture and Food Security",
          "Coordinating Body on the Seas of East Asia",
          "Coral Cay Conservation",
          "Coral Reef Degradation in the Indian Ocean",
          "Coral Reef Initiative for the South Pacific",
          "Demis",
          "Global Coral Reef Monitoring Network",
          "Global Vision International",
          "Institute de Recherche pour le developpement",
          "Institute for Marine Remote Sensing",
          "Institute of Marine Resources",
          "International Coral Reef Action Network",
          "International Coral Reef Initiative",
          "International Society for Reef Studies",
          "International Waters Learning Exchange and Resource Network (IW:LEARN)",
          "International Year of the Reef",
          "Japan Wildlife Research Center",
          "Locally Managed Marine Area Network",
          "MPA Global",
          "NASA",
          "National Oceanic & Atmospheric Administration (NOAA)",
          "Reef Check",
          "Reef Relief",
          "Secretariat of the Pacific Community",
          "South Pacific Regional Environment Program",
          "The WorldFish Center",
          "United Nations Environment Programme",
          "World Conservation Monitoring Centre",
          "World Resources Institute",
          "World Wildlife Fund",
          "SeaLifeBase",
          "The Pew Charitable Trusts",
          "Paul M. Angell Family Foundation",
          "Global Greengrants Fund",
          "Vulcan Inc.",
          "Fisheries Economics Research Unit",
          "Changing Ocean Research Unit",
          "The MAVA Foundation",
          "The Oak Foundation",
          "NEREUS",
          "Baltic 2020",
          "Global Aquaculture Performance Index",
          "Oceana",
          "Global Ocean Biodiversity Initiative",
          "Federal Ministry for the Environment, Nature Conservation, Building and Nuclear Safety",
          "Darwin Initiative, European Commission, Birdfair",
          "Cambrdige Conservation Initiative",
          "MAVA Fondation Pour la Nature",
          "Royal Society for the Protection of Birds",
          "Pew Charitable Trusts",
          "4ocean",
          "Intergovernmental Oceanographic Commission of UNESCO (IOC GOOS)",
          "The David and Lucile Packard Foundation",
          "Gordon and Betty Moore Foundation",
          "Walton Family Foundation",
          "FishWise Advisory Committee: USAID",
          "Center for Strategic International Studies (CSIS)",
          "Department of Labor in the International Labor Affairs Bureau",
          "Environmental Justice Foundation (EJF)",
          "Embassy of Japan",
          "Fisheries Transparency Initiative (FiTI)",
          "Francisco Blaha, Independent Expert",
          "Future of Fish",
          "Global Tuna Alliance",
          "Iberostar",
          "Marine Stewardship Council (MSC)",
          "Philippines Bureau of Fisheries and Aquatic Resources",
          "Richard Stavis, Independent Expert",
          "United States Department of State",
          "Virgil Group",
          "World Benchmarking Alliance (WBA)",
          "World Wide Fund for Nature (WWF)",
          "Global Seafood Ratings Alliance",
          "Certification & Ratings Collaboration",
          "Battlespace Awareness and Information Operations",
          "US Department of Transportation (USDOT)",
          "US Fleet Forces Command",
          "Naval Information Warfare Center (NWIC)",
          "National Oceanographic and Atmospheric Administration (NOAA)",
          "Department of Homeland Security (DHS)",
          "Association of Southeast Asian Nations (ASEAN)",
          "Naval Cooperation and Guidance for Shipping (NCAGS)",
          "Oceanic Society",
          "OBIS-Sea Map at Duke University",
          "IUCN (IUCN) SSC Marine Turtle Specialist Group",
          "OCEAN DECADE PARTNERS: Norway",
          "Sweden",
          "Korea Institute of Ocean Science and technology (KIOST)",
          "Ministry of Education, Culture, Sports, Science and Technology (MEXT)",
          "Portugal",
          "Panerai",
          "Fisheries and Oceans Canada (DFO)",
          "The Smithsonian",
          "National Science Foundation (NSF)",
          "Stanford University",
          "Adobe",
          "Meridian Treehouse",
          "General Bathymetric Chart of the Oceans (GEBCO)",
          "International Hydrographic Association (IHO)",
          "Pacific Community",
          "Technical Centre for Agricultural and Rural Cooperation (CTA)",
          "Ocean+",
          "International Association of Aquatic and Marine Science Libraries and Information Centers (IAMSLIC)",
          "International Council for Science (ICSU)",
          "Scientific Community on Oceanic Research (SCOR)",
          "Harmful Algal Bloom Program (HAB)",
          "Research Data Alliance (RDA)",
          "World Meteorological Organization (WMO)",
          "Federal Service for Hydrometeorology",
          "Environmental Monitoring of the Russian Federation (Roshydromet)",
          "Joint WMO-IOC Technical Commission for Oceanography and Marine Meteorology (JCOMM)",
          "SeaDataNet (SDN)",
          "Global Earth Observation System of System (GEOSS)",
          "IODE/JCOMM Expert Group for Data Management Practices (ETDMP)",
          "SKF",
          "Saab Automobile",
          "Volvo",
          "Instalco",
          "AstraZeneca",
          "Carl Bennet Ab",
          "Elanders Group",
          "Getinge Enfo",
          "Morris Law",
          "APS",
          "AI Sweden",
          "Stockholm Resilience Centre",
          "Stockholm University Collaboration Actors: Vastra-Gotaland Regional Council",
          "Gothenburg Municipality",
          "Skolverket",
          "National Oceanic and Atmospheric Administration (NOAA) National Centers for Environmental Information",
          "World Ocean Database",
          "National Oceanic and Atmospheric Administration (NOAA) Centers for Environmental Information",
          "European Ocean Biodiversity System (EurOBIS)",
          "Ocean Biodiversity System (OBIS)",
          "European Marine Observation and Data Network (EMODnet)",
          "Hewlett-Packard Enterprises (HP)"
         ],
         "textfont": {
          "size": 8
         },
         "textposition": "bottom center",
         "type": "scatter",
         "x": [
          0.22559906542301178,
          0.2639719545841217,
          0.2617666721343994,
          0.24925440549850464,
          0.2726348340511322,
          0.270808607339859,
          0.24168355762958527,
          0.25576478242874146,
          -0.47742101550102234,
          -0.33537980914115906,
          -0.344258189201355,
          -0.3260083794593811,
          -0.3240215480327606,
          -0.35532504320144653,
          -0.3421879708766937,
          -0.3483206331729889,
          -0.3361019790172577,
          -0.3540566861629486,
          -0.32869258522987366,
          -0.31186655163764954,
          -0.319021075963974,
          -0.2999104857444763,
          -0.31528767943382263,
          0.5769054889678955,
          0.5834836959838867,
          0.5878437161445618,
          0.5468373894691467,
          0.5781128406524658,
          0.5835140347480774,
          0.5928683280944824,
          0.5750173926353455,
          0.5942071676254272,
          0.5834888219833374,
          0.5213536024093628,
          0.5930399894714355,
          0.5256646275520325,
          0.5769772529602051,
          0.5605911016464233,
          0.5563199520111084,
          0.5685030221939087,
          0.5929937362670898,
          0.5683091282844543,
          0.10117248445749283,
          0.12127557396888733,
          0.11030694097280502,
          0.11534559726715088,
          0.09965728223323822,
          0.10465766489505768,
          0.2952938973903656,
          0.30713510513305664,
          0.3043663501739502,
          0.299340158700943,
          0.3039180636405945,
          0.31994763016700745,
          0.3234765827655792,
          0.31163185834884644,
          0.32412293553352356,
          0.31681206822395325,
          0.3165891170501709,
          0.31350868940353394,
          0.12732216715812683,
          0.3128090500831604,
          0.33019936084747314,
          0.3241647481918335,
          0.11169447004795074,
          0.29025787115097046,
          0.29713955521583557,
          0.30987364053726196,
          0.3035779595375061,
          0.40592706203460693,
          -0.3200203776359558,
          -0.3341272175312042,
          -0.3168346583843231,
          -0.2550203502178192,
          -0.2698521614074707,
          -0.26921725273132324,
          -0.3407600224018097,
          -0.2758502960205078,
          -0.32752522826194763,
          -0.3091031610965729,
          -0.2988772690296173,
          -0.3250768482685089,
          -0.2759186327457428,
          -0.13747812807559967,
          -0.30085039138793945,
          -0.26140928268432617,
          -0.284281849861145,
          -0.3068152964115143,
          -0.332864373922348,
          -0.3120005428791046,
          -0.29673686623573303,
          -0.3193936049938202,
          -0.28410226106643677,
          -0.31695255637168884,
          -0.30544766783714294,
          -0.27464357018470764,
          -0.33560553193092346,
          -0.2699922025203705,
          -0.327700674533844,
          -0.28240567445755005,
          -0.3205447494983673,
          -0.2666354775428772,
          -0.22329314053058624,
          -0.3197114169597626,
          -0.3024863302707672,
          -0.33053839206695557,
          -0.2947915494441986,
          -0.262531578540802,
          -0.2504625618457794,
          -0.32500848174095154,
          -0.32719552516937256,
          -0.30740559101104736,
          -0.3052888810634613,
          -0.31376707553863525,
          -0.2872563898563385,
          -0.17631421983242035,
          -0.2916348874568939,
          -0.250693678855896,
          -0.2944642901420593,
          -0.2585514485836029,
          -0.05216536670923233,
          -0.2800148129463196,
          -0.34098535776138306,
          -0.3405413031578064,
          -0.33723559975624084,
          -0.2876472771167755,
          -0.3176508843898773,
          -0.2690710425376892,
          -0.34250107407569885,
          -0.2571583390235901,
          -0.3455011248588562,
          -0.3191939890384674,
          -0.351089745759964,
          -0.2909686267375946,
          -0.24905121326446533,
          -0.3297737240791321,
          -0.3007504642009735,
          -0.3165673315525055,
          -0.3275321424007416,
          -0.29048818349838257,
          -0.3489762246608734,
          -0.18474124372005463,
          -0.25952449440956116,
          -0.185943141579628,
          -0.332287460565567,
          -0.2806917428970337,
          -0.3333808183670044,
          -0.31412044167518616,
          -0.3207182288169861,
          -0.3257692754268646,
          -0.3385230004787445,
          -0.29372888803482056,
          -0.3083292841911316,
          -0.2822798490524292,
          -0.25854191184043884,
          -0.29766368865966797,
          -0.335676908493042,
          -0.3043363392353058,
          -0.32569530606269836,
          -0.32652950286865234,
          -0.27471020817756653,
          -0.3304966688156128,
          -0.3436517119407654,
          -0.3138226270675659,
          -0.30763280391693115,
          -0.2670230269432068,
          -0.3388548791408539,
          -0.2627232074737549,
          -0.28883540630340576,
          -0.2843005955219269,
          -0.3330461084842682,
          -0.31498458981513977,
          -0.30070430040359497,
          -0.27286267280578613,
          -0.3384905755519867,
          -0.3314107656478882,
          -0.2691574990749359,
          -0.2661867141723633,
          -0.33691662549972534,
          -0.3117918074131012,
          -0.344483882188797,
          -0.34610414505004883,
          -0.26363861560821533,
          -0.3350749909877777,
          -0.351863831281662,
          -0.3010246753692627,
          -0.31256774067878723,
          -0.3117223083972931,
          -0.35009104013442993,
          -0.3444679379463196,
          -0.28179508447647095,
          -0.3239966928958893,
          -0.3077446520328522,
          -0.271931529045105,
          -0.33502036333084106,
          -0.3142140805721283,
          -0.32387596368789673,
          -0.32393133640289307,
          -0.28674712777137756,
          -0.3422444462776184,
          -0.3651951253414154,
          -0.13904303312301636,
          -0.3113277554512024,
          -0.34355223178863525,
          -0.25163400173187256,
          -0.33155450224876404,
          -0.13103821873664856,
          -0.33561915159225464,
          -0.2993875741958618,
          -0.29807063937187195,
          -0.3169545829296112,
          -0.253354012966156,
          -0.3452443480491638,
          -0.3083816170692444,
          -0.3118801414966583,
          -0.2974739372730255,
          -0.28903844952583313,
          -0.28152936697006226,
          -0.3036106824874878,
          -0.32872188091278076,
          -0.3105568289756775,
          -0.31970441341400146,
          -0.3054794669151306,
          -0.32086941599845886,
          -0.27372997999191284,
          -0.31835198402404785,
          -0.32357102632522583,
          -0.2933167815208435,
          -0.2736189365386963,
          -0.32563379406929016,
          -0.33127984404563904,
          -0.30186864733695984,
          -0.3252093493938446,
          -0.34966662526130676,
          -0.28112393617630005,
          -0.27831873297691345,
          -0.2598232924938202,
          -0.30476340651512146,
          -0.3439924418926239,
          -0.338733971118927,
          -0.2548461854457855,
          -0.15663781762123108,
          -0.2574593722820282,
          -0.16218341886997223,
          -0.35048195719718933,
          -0.2956152558326721,
          -0.28710755705833435,
          -0.2638738453388214,
          -0.3475055992603302,
          -0.2944255769252777,
          -0.2951662540435791,
          -0.11885945498943329,
          0.06568566709756851,
          0.017224593088030815,
          0.029658164829015732,
          0.01926928386092186,
          0.0017867687856778502,
          0.01174943894147873,
          0.007261364720761776,
          0.022880369797348976,
          -0.016728511080145836,
          0.027772480621933937,
          0.012677036225795746,
          0.02155373990535736,
          0.5275237560272217,
          0.5292227268218994,
          0.5350033640861511,
          0.5313130617141724,
          0.5359382033348083,
          0.5224759578704834,
          -0.45723697543144226,
          -0.4762439727783203,
          -0.4781256318092346,
          -0.4749601483345032,
          -0.46333014965057373,
          -0.4833001494407654,
          -0.4683922827243805,
          -0.48369094729423523,
          -0.46853944659233093,
          0.03402240574359894,
          -0.03191172331571579,
          -0.0495479591190815,
          -0.03854675218462944,
          -0.03518645092844963,
          0.4576459527015686,
          0.4633205235004425,
          0.4615107774734497,
          0.17767266929149628,
          0.18264266848564148,
          0.18335479497909546,
          0.18446791172027588,
          0.17831116914749146,
          0.18988873064517975,
          0.18802399933338165,
          0.1669522225856781,
          0.17427583038806915,
          0.05369282513856888,
          0.17088723182678223,
          -0.5574153661727905,
          -0.5653068423271179,
          -0.620468020439148,
          -0.5941784977912903,
          -0.5749858021736145,
          -0.5630668997764587,
          -0.6204292178153992,
          -0.6059858202934265,
          -0.6112341284751892,
          -0.6126229166984558,
          -0.6186889410018921,
          -0.606051504611969,
          -0.6012144684791565,
          -0.5932456851005554,
          -0.6036339998245239,
          -0.6008427739143372,
          -0.6139715313911438,
          -0.5845170617103577,
          0.23106130957603455,
          0.17441733181476593,
          0.17527525126934052,
          0.2264845073223114,
          0.22966857254505157,
          0.09077118337154388,
          0.08544308692216873,
          0.07599759846925735,
          0.07197058945894241,
          0.09937156736850739,
          0.05981770530343056,
          0.08130180090665817,
          0.0653262808918953,
          0.06690685451030731,
          0.07568128407001495,
          0.09195724874734879,
          0.08404888212680817,
          0.09801223874092102,
          0.4190392792224884,
          -0.05474505200982094,
          -0.06958292424678802,
          -0.05378534272313118,
          -0.06744150072336197,
          -0.08249358832836151,
          -0.08937209099531174,
          -0.0828583762049675,
          -0.03603329882025719,
          -0.056498561054468155,
          -0.042773205786943436,
          -0.05546288564801216,
          -0.035089630633592606,
          -0.05062125250697136,
          -0.060763876885175705,
          -0.07660271972417831,
          -0.04290176182985306,
          -0.07736875116825104,
          -0.08831766992807388,
          -0.04782209172844887,
          -0.06382250785827637,
          -0.07381436973810196,
          -0.05443553626537323,
          -0.079684779047966,
          -0.06941161304712296,
          -0.08480861037969589,
          -0.04103400558233261,
          -0.05433562025427818,
          -0.0077581750229001045,
          -0.1164708361029625,
          0.004488741979002953,
          -0.019000204280018806,
          -0.012712191790342331,
          -0.0019277090905234218,
          -0.017756029963493347,
          -0.0007181412656791508,
          -0.008914700709283352,
          -0.0044501968659460545,
          0.04734766483306885,
          0.03697561100125313,
          0.04298397898674011,
          0.030950097367167473,
          0.056007254868745804,
          0.05491797626018524,
          0.03437409922480583,
          0.010814622975885868,
          0.047179386019706726,
          0.0443202406167984,
          -0.021924905478954315,
          0.03321271762251854,
          0.011356249451637268,
          0.03491510823369026,
          0.016533251851797104,
          0.02228185161948204,
          0.023874906823039055,
          0.0494445376098156,
          0.026335259899497032,
          0.032043859362602234,
          0.042796455323696136,
          0.050309062004089355,
          0.01968897320330143,
          0.02341463789343834,
          0.029877033084630966,
          0.04929805546998978,
          0.016788452863693237,
          0.055028628557920456,
          0.053354814648628235,
          0.045555420219898224,
          0.0331275537610054,
          -0.017942873761057854,
          0.04924967885017395,
          0.03809374198317528,
          0.027337994426488876,
          0.039326589554548264,
          0.01472274400293827,
          0.028728952631354332,
          0.039337337017059326,
          0.03453170880675316,
          0.025151405483484268,
          0.03942475840449333,
          0.0420321524143219,
          0.04647115245461464,
          -0.08179616928100586,
          -0.0893578827381134,
          -0.040633708238601685,
          -0.057745009660720825,
          -0.060809582471847534,
          -0.06925538927316666,
          -0.09540704637765884,
          -0.08834699541330338,
          -0.08694317191839218,
          -0.05189467966556549,
          -0.03731706365942955,
          -0.06683792918920517,
          -0.09234913438558578,
          -0.07776329666376114,
          -0.0758659839630127,
          -0.08842139691114426,
          -0.04655205085873604,
          -0.048675935715436935,
          -0.05842871218919754,
          -0.05774013325572014,
          -0.06879211962223053,
          -0.0824432373046875,
          -0.06156894937157631,
          -0.07380474358797073,
          -0.045746829360723495,
          -0.08062539994716644,
          -0.07467939704656601,
          -0.2398369014263153,
          0.06966753304004669,
          -0.8908352255821228,
          -0.8472439050674438,
          -0.8409348130226135,
          0.6535956263542175,
          0.6584232449531555,
          0.5789518356323242,
          0.6626022458076477,
          0.6609135866165161,
          0.6499114632606506,
          -0.7700360417366028,
          0.040658365935087204,
          0.034567125141620636,
          0.051136162132024765,
          0.060306012630462646,
          0.033274613320827484,
          0.04720726236701012,
          0.042619604617357254,
          0.09976844489574432,
          0.05448544770479202,
          -0.781736433506012,
          -0.7855837941169739,
          -0.7637110352516174,
          -0.7285629510879517,
          -0.7721497416496277,
          -0.17853227257728577,
          -0.17004810273647308,
          -0.38715577125549316,
          -0.35746586322784424,
          -0.38922756910324097,
          -0.38129425048828125,
          -0.3781433701515198,
          -0.037483520805835724,
          -0.07888631522655487,
          -0.03092191182076931,
          -0.062342915683984756,
          -0.017469514161348343,
          -0.01916320063173771,
          -0.06490740925073624,
          -0.08894794434309006,
          -0.05419925972819328,
          -0.04427202418446541,
          -0.06742546707391739,
          -0.047336187213659286,
          -0.07431057095527649,
          -0.028811754658818245,
          -0.030509978532791138,
          -0.08415169268846512,
          -0.0706464871764183,
          -0.03775190934538841,
          -0.038766998797655106,
          -0.07576027512550354,
          -0.08672787249088287,
          -0.10284686833620071,
          -0.029777439311146736,
          -0.06052534654736519,
          -0.0671284943819046,
          -0.07521698623895645,
          -0.05336754396557808,
          -0.06283654272556305,
          -0.08196773380041122,
          -0.10001622140407562,
          -0.04721943661570549,
          -0.03787988796830177,
          -0.020509131252765656,
          -0.08081865310668945,
          -0.023759890347719193,
          -0.059397585690021515,
          0.006826639641076326,
          -0.07219431549310684,
          -0.052490804344415665,
          -0.049041539430618286,
          -0.08569325506687164,
          -0.07414080202579498,
          0.04806895554065704,
          -0.06920510530471802,
          -0.05854406952857971,
          -0.023524371907114983,
          -0.11256550997495651,
          0.026181578636169434,
          -0.07403703778982162,
          -0.10281965881586075,
          -0.07544881105422974,
          -0.080208420753479,
          -0.06214392930269241,
          -0.06549330055713654,
          -0.10147581249475479,
          -0.08496053516864777,
          -0.05486002191901207,
          -0.08257320523262024,
          -0.039846424013376236,
          -0.0585799403488636,
          -0.09027893841266632,
          -0.0407656766474247,
          0.019412199035286903,
          -0.081835076212883,
          -0.022483132779598236,
          -0.07431142032146454,
          -0.08291705697774887,
          -0.05246572196483612,
          -0.07472226023674011,
          -0.0994901955127716,
          -0.06717883050441742,
          -0.04945669323205948,
          -0.05397992208600044,
          0.012118599377572536,
          -0.04656677693128586,
          -0.08841995149850845,
          -0.09089984744787216,
          -0.06060438230633736,
          -0.0756298378109932,
          -0.0490155853331089,
          -0.08068893849849701,
          -0.06634804606437683,
          -0.04331859201192856,
          -0.056565362960100174,
          -0.0892123132944107,
          -0.08970509469509125,
          -0.0951002910733223,
          -0.09219682961702347,
          -0.043243564665317535,
          -0.06891565769910812,
          -0.07157773524522781,
          -0.07684776186943054,
          -0.08550106734037399,
          -0.05469674617052078,
          -0.09479064494371414,
          -0.09595058858394623,
          -0.08400037884712219,
          -0.07565394043922424,
          -0.06778263300657272,
          -0.051252372562885284,
          -0.05575535446405411,
          -0.04413865879178047,
          -0.09885574877262115,
          -0.06034434586763382,
          -0.09764757752418518,
          0.21132221817970276,
          0.2383369654417038,
          0.22164539992809296,
          0.22633515298366547,
          0.21474453806877136,
          0.20474344491958618,
          0.22987687587738037,
          0.22383850812911987,
          0.21257612109184265,
          0.23053081333637238,
          0.22984373569488525,
          0.22038638591766357,
          0.22427232563495636,
          0.21343360841274261,
          0.23171596229076385,
          0.23495259881019592,
          0.21876659989356995,
          0.24093519151210785,
          0.2198629081249237,
          0.20517994463443756,
          0.23241256177425385,
          0.2302445024251938,
          0.21406038105487823,
          0.21895667910575867,
          0.23636531829833984,
          0.22497659921646118,
          0.20935571193695068,
          0.237264484167099,
          0.2379155457019806,
          0.22800709307193756,
          0.22274048626422882,
          0.21605707705020905,
          0.8933295011520386,
          0.008853942155838013,
          -0.0029714207630604506,
          0.0005701520130969584,
          -0.002411637920886278,
          -0.018712909892201424,
          0.0034510225523263216,
          -0.010586741380393505,
          -0.022578956559300423,
          -0.011390377767384052,
          0.00852579902857542,
          0.004534934647381306,
          -0.010683293454349041,
          -0.016141369938850403,
          -0.015708019956946373,
          -0.014349625445902348,
          -0.0032079163938760757,
          -0.01794445887207985,
          -0.005765988025814295,
          0.004905401263386011,
          -0.0032657640986144543,
          -0.7086451053619385,
          -0.6590937972068787,
          -0.6910616159439087,
          0.9356858730316162,
          0.10088570415973663,
          0.09161680191755295,
          0.09937174618244171,
          0.09389761090278625,
          0.1572856307029724,
          0.17167089879512787,
          0.16805391013622284,
          0.16214953362941742,
          0.158254474401474,
          0.14421819150447845,
          0.17498551309108734,
          0.16524170339107513,
          0.2459266036748886,
          0.1395735889673233,
          0.17128725349903107,
          0.1646679937839508,
          0.1786118745803833,
          0.1515660285949707,
          0.17621588706970215,
          0.1797153502702713,
          -0.23569355905056,
          -0.23514124751091003,
          -0.25078555941581726,
          -0.24250943958759308,
          -0.2690095901489258,
          -0.2509349584579468,
          -0.22800327837467194,
          -0.2445956915616989,
          -0.249583438038826,
          -0.2588657736778259,
          -0.27373096346855164,
          -0.2697654068470001,
          -0.243768110871315,
          -0.2357047200202942,
          -0.256282240152359,
          -0.2588598132133484,
          -0.2641616463661194,
          -0.2706960439682007,
          -0.25554484128952026,
          -0.26487910747528076,
          -0.2625595033168793,
          -0.056705575436353683,
          -0.057974714785814285,
          -0.04808333143591881,
          -0.053944844752550125,
          -0.04519617184996605,
          -0.04479961097240448,
          -0.03611060976982117,
          0.15490196645259857,
          0.15989753603935242,
          0.15014714002609253,
          -0.1785455048084259,
          0.9999999403953552,
          0.9471808075904846,
          0.5607786774635315,
          0.5698003768920898,
          0.5713258981704712,
          0.5567274689674377,
          0.5594375729560852,
          0.5667409300804138,
          0.5598137974739075,
          0.5639861226081848,
          0.5636765360832214,
          0.5681537985801697,
          -0.01018702145665884,
          -0.014931363053619862,
          -0.004900605417788029,
          0.8415937423706055,
          0.36557552218437195,
          0.365246444940567,
          0.3699726164340973,
          0.3651896119117737,
          0.3304041624069214,
          0.3516397774219513,
          0.3461624085903168,
          0.3622508645057678,
          0.3424186706542969,
          0.3590516149997711,
          0.3690844178199768,
          0.34747007489204407,
          0.33399009704589844,
          0.35393908619880676,
          0.34866875410079956,
          0.32469263672828674,
          0.31899842619895935,
          0.33091264963150024,
          0.3382240831851959,
          0.3528774380683899,
          0.32525208592414856,
          0.33563512563705444,
          0.32216575741767883,
          0.3494800925254822,
          0.32496586441993713,
          0.3534730076789856,
          0.3588220775127411,
          0.3619580566883087,
          0.354362815618515,
          0.32574018836021423,
          0.3405570089817047,
          0.34244319796562195,
          0.3154183328151703,
          0.35504475235939026,
          0.3546306788921356,
          0.34028151631355286,
          0.3727709650993347,
          0.3657635450363159,
          0.3222476541996002,
          0.34242984652519226,
          0.3352034091949463,
          0.34375616908073425,
          0.3667592406272888,
          0.3163606822490692,
          0.3568436801433563,
          0.35737815499305725,
          0.3451191484928131,
          0.3718109130859375,
          0.3497048318386078,
          0.32854893803596497,
          0.3642813265323639,
          0.3635311722755432,
          0.3339649736881256,
          0.3603368401527405,
          0.3255499005317688,
          0.3333556652069092,
          -0.5765520930290222,
          -0.5952869653701782,
          -0.5978811979293823,
          -0.526093602180481,
          -0.5879973769187927,
          -0.5506888628005981,
          0.11704728752374649,
          0.07970862835645676,
          0.10320834070444107,
          0.12145611643791199,
          0.10412676632404327,
          0.08508553355932236,
          0.08488532900810242,
          0.1128227710723877,
          0.07427279651165009,
          0.11781984567642212,
          0.09340011328458786,
          0.1186937689781189,
          0.09870465844869614,
          0.09311651438474655,
          0.11371959745883942,
          0.09476824104785919,
          0.07618398219347,
          0.0868498831987381,
          0.10656879842281342,
          0.11418294161558151,
          0.09770023077726364,
          0.10599492490291595,
          0.11029543727636337,
          0.10648570209741592,
          0.09684523195028305,
          0.11974098533391953,
          0.10130249708890915,
          0.11104877293109894,
          0.09722865372896194,
          0.10819852352142334,
          0.10397408157587051,
          0.09937930852174759,
          0.11210062354803085,
          0.09050754457712173,
          0.08412782847881317,
          0.020856037735939026,
          0.018503304570913315,
          0.028197156265378,
          -0.007984371855854988,
          0.027630921453237534,
          0.008847122080624104,
          0.0026737572625279427,
          0.036127857863903046,
          -0.0045439377427101135,
          0.013456515036523342,
          -0.0008615342667326331,
          0.00989721529185772,
          0.011717075482010841,
          0.23435889184474945,
          0.19861258566379547,
          0.21091490983963013,
          0.22599519789218903,
          0.21820279955863953,
          0.22549296915531158,
          0.20545262098312378,
          0.2294699251651764,
          0.38109245896339417,
          0.1464187502861023,
          0.13099069893360138,
          0.123773954808712,
          0.10906951129436493,
          0.14275579154491425,
          0.127388596534729,
          0.12983036041259766,
          0.11228480935096741,
          0.11666074395179749,
          0.14631210267543793,
          0.1364000290632248,
          0.15316568315029144,
          0.13856904208660126,
          0.11944207549095154,
          0.1426456868648529,
          0.14978231489658356,
          0.12243639677762985,
          0.13889889419078827,
          0.1532929390668869,
          0.13382576406002045,
          -0.0632469654083252,
          -0.05476323887705803,
          0.7345930933952332,
          0.7064460515975952,
          0.7635036110877991,
          0.761130690574646,
          0.7573328018188477,
          0.7383095622062683,
          0.7523627877235413,
          0.7098310589790344,
          -0.8366841673851013,
          -0.8288629651069641,
          -0.8152756094932556,
          0.1667286902666092,
          0.16065309941768646,
          0.15858100354671478,
          0.1712333709001541,
          0.16687501966953278,
          0.15418967604637146,
          0.16565774381160736,
          0.23566044867038727,
          0.22623257339000702,
          0.22113248705863953,
          0.2353992760181427,
          0.20577150583267212,
          0.08434484153985977,
          0.08447523415088654,
          -0.17878752946853638,
          -0.18602308630943298,
          -0.8986609578132629,
          0.43574070930480957,
          0.4312668740749359,
          0.42381471395492554,
          0.4395792484283447,
          0.4226800203323364,
          0.380066841840744,
          0.7496991753578186,
          0.7443382143974304,
          0.7536832094192505,
          0.6710002422332764,
          0.6809734106063843,
          0.7496358752250671,
          0.6277868747711182,
          0.7052467465400696,
          0.6947304606437683,
          0.7003154754638672,
          0.6444655656814575,
          0.7082802653312683,
          0.6951931715011597,
          0.6970850229263306,
          0.6929675340652466,
          0.6845844984054565,
          0.7039272785186768,
          0.6728042364120483,
          0.7024170756340027,
          0.6559792757034302,
          0.688189685344696,
          -0.787479043006897,
          -0.8215193152427673,
          -0.7811822891235352,
          -0.1180257648229599,
          -0.12360163778066635,
          -0.11136982589960098,
          0.11732171475887299
         ],
         "y": [
          -0.6330748796463013,
          -0.7188044190406799,
          -0.7103797793388367,
          -0.7159953713417053,
          -0.7054778933525085,
          -0.7132436633110046,
          -0.7007277607917786,
          -0.7198703289031982,
          -0.8345253467559814,
          0.27625906467437744,
          0.27125266194343567,
          0.27245184779167175,
          0.27853018045425415,
          0.25436925888061523,
          0.26234301924705505,
          0.2584865093231201,
          0.26868826150894165,
          0.264107346534729,
          0.26420941948890686,
          0.26883620023727417,
          0.266773521900177,
          0.10006130486726761,
          0.27574223279953003,
          -0.5277314782142639,
          -0.5517721772193909,
          -0.5632139444351196,
          -0.5477844476699829,
          -0.5633561015129089,
          -0.542755663394928,
          -0.5383671522140503,
          -0.570784866809845,
          -0.54498291015625,
          -0.5695501565933228,
          -0.4985833168029785,
          -0.5586152672767639,
          -0.49319711327552795,
          -0.5566391348838806,
          -0.569583535194397,
          -0.5594142079353333,
          -0.5738303661346436,
          -0.5517666935920715,
          -0.563707709312439,
          0.7599172592163086,
          0.8307889103889465,
          0.8312374949455261,
          0.8371996283531189,
          0.8295779824256897,
          0.8385900855064392,
          0.20431576669216156,
          0.13944034278392792,
          0.20789828896522522,
          0.13425591588020325,
          0.21453368663787842,
          0.18662241101264954,
          0.16266389191150665,
          0.20882724225521088,
          0.1753990799188614,
          0.19529663026332855,
          0.1772494912147522,
          0.203346848487854,
          0.15149913728237152,
          0.14595749974250793,
          0.16430480778217316,
          0.150957852602005,
          0.1962146908044815,
          0.2120945155620575,
          0.21235206723213196,
          0.18999314308166504,
          0.20072880387306213,
          0.16561856865882874,
          0.008044303394854069,
          -0.001871526357717812,
          -0.01018504798412323,
          -0.07545822858810425,
          -0.08866352587938309,
          -0.08108369261026382,
          -0.07218511402606964,
          -0.08684831857681274,
          -0.07680794596672058,
          0.00831768848001957,
          0.010292049497365952,
          0.0055434308014810085,
          -0.09571683406829834,
          -0.0953461080789566,
          0.000018544771592132747,
          -0.05983791500329971,
          -0.06579971313476562,
          -0.017838425934314728,
          -0.007493274286389351,
          -0.007478019688278437,
          -0.05658850446343422,
          -0.04929348826408386,
          -0.02071801945567131,
          -0.0735618844628334,
          -0.09848426282405853,
          -0.0026522811967879534,
          -0.018508000299334526,
          -0.09564601629972458,
          -0.020718179643154144,
          -0.05600307509303093,
          -0.022634541615843773,
          -0.06578828394412994,
          -0.06588570773601532,
          -0.0962972566485405,
          -0.03590149059891701,
          -0.0877256914973259,
          -0.027824465185403824,
          -0.014081892557442188,
          -0.04762154817581177,
          -0.09316506236791611,
          -0.06196471303701401,
          -0.001850409316830337,
          -0.0612943172454834,
          -0.09479973465204239,
          -0.10182899981737137,
          0.09678009897470474,
          -0.0029700947925448418,
          -0.03698478639125824,
          0.01385970413684845,
          -0.08360808342695236,
          -0.03922661021351814,
          0.01067437045276165,
          -0.042253803461790085,
          -0.07880695164203644,
          -0.03340136632323265,
          0.012740058824419975,
          -0.0815286859869957,
          -0.05138007551431656,
          -0.0676167756319046,
          -0.052813515067100525,
          -0.0388345941901207,
          -0.031838562339544296,
          -0.039049554616212845,
          -0.09762152284383774,
          -0.06069234013557434,
          -0.04861580580472946,
          -0.09232622385025024,
          -0.04324974864721298,
          -0.04218357056379318,
          -0.012650544755160809,
          -0.02614416927099228,
          -0.008261546492576599,
          -0.006302011664956808,
          -0.004838320892304182,
          -0.024404490366578102,
          -0.10034932941198349,
          -0.06529900431632996,
          -0.05564942955970764,
          -0.0672803595662117,
          -0.008966207504272461,
          -0.0635247454047203,
          0.004738388583064079,
          -0.07145478576421738,
          -0.009213241748511791,
          -0.042822279036045074,
          -0.07804255932569504,
          -0.07407549768686295,
          -0.011024776846170425,
          -0.003579061245545745,
          -0.014557885006070137,
          -0.06612151116132736,
          -0.08054555952548981,
          -0.020293204113841057,
          0.012287606485188007,
          -0.05075255408883095,
          -0.006431685760617256,
          -0.05062562972307205,
          -0.0789942592382431,
          -0.08599912375211716,
          -0.001114819897338748,
          -0.013356980867683887,
          0.005457965657114983,
          -0.10035055130720139,
          -0.07483891397714615,
          -0.026563819497823715,
          -0.031959958374500275,
          -0.033753689378499985,
          0.0011789090931415558,
          -0.057042330503463745,
          -0.023039724677801132,
          -0.03094029612839222,
          -0.04704051837325096,
          -0.08942116051912308,
          -0.045800451189279556,
          -0.04491850733757019,
          -0.07119625061750412,
          -0.06496216356754303,
          -0.07824090868234634,
          -0.05733422189950943,
          -0.06028700992465019,
          -0.0759829431772232,
          -0.05426716431975365,
          -0.09111832082271576,
          0.006415513809770346,
          -0.03908969461917877,
          -0.0007994192419573665,
          -0.07237723469734192,
          -0.08757556229829788,
          0.006254592910408974,
          -0.011676535941660404,
          -0.1440918892621994,
          -0.09674906730651855,
          -0.038867346942424774,
          -0.024867551401257515,
          -0.0680721327662468,
          -0.05569051578640938,
          0.046686481684446335,
          -0.08261378854513168,
          -0.046242982149124146,
          -0.007326630409806967,
          -0.0892070084810257,
          -0.025038113817572594,
          -0.01581467129290104,
          -0.030241915956139565,
          -0.08604080975055695,
          -0.019141454249620438,
          -0.07408200204372406,
          -0.09328534454107285,
          0.005901046097278595,
          0.0011065047001466155,
          -0.09932471066713333,
          -0.06080674007534981,
          -0.08072056621313095,
          -0.00032913978793658316,
          -0.011552096344530582,
          -0.0161381084471941,
          -0.0821182057261467,
          -0.08280999958515167,
          -0.020757921040058136,
          -0.03644803166389465,
          -0.07089598476886749,
          -0.08621427416801453,
          -0.02846112847328186,
          -0.03331455588340759,
          -0.0832500234246254,
          0.003876894246786833,
          -0.0714799165725708,
          0.013962139375507832,
          -0.05413403362035751,
          -0.007243478205054998,
          -0.016541188582777977,
          0.04499673470854759,
          -0.03184160217642784,
          0.0025604546535760164,
          -0.051188234239816666,
          -0.1022283136844635,
          -0.09191721677780151,
          -0.022980421781539917,
          -0.06492312997579575,
          -0.0660352110862732,
          -0.09290949255228043,
          -0.04541396349668503,
          0.2928071916103363,
          0.12176867574453354,
          0.13584478199481964,
          0.14474865794181824,
          0.1432860642671585,
          -0.0103636858984828,
          0.1311604082584381,
          0.1140814945101738,
          0.14716412127017975,
          0.12363187223672867,
          0.11312952637672424,
          0.13410282135009766,
          -0.004285397473722696,
          -0.01285087876021862,
          -0.005394953303039074,
          0.003000763477757573,
          0.0074468026868999004,
          -0.015538355335593224,
          -0.274032324552536,
          -0.2580891251564026,
          -0.2668633759021759,
          -0.2731115221977234,
          -0.2775047719478607,
          -0.2620837390422821,
          -0.272657185792923,
          -0.25388747453689575,
          -0.26481401920318604,
          0.2217462956905365,
          0.09417134523391724,
          0.10676202923059464,
          0.10213929414749146,
          0.13966450095176697,
          0.03880397602915764,
          0.053335558623075485,
          0.045743927359580994,
          -0.2065621316432953,
          -0.14583934843540192,
          -0.20956429839134216,
          -0.21624627709388733,
          -0.22047299146652222,
          -0.2087537795305252,
          -0.20174120366573334,
          -0.21781285107135773,
          -0.21431247889995575,
          -0.08760048449039459,
          -0.22309932112693787,
          0.39168480038642883,
          0.4225734770298004,
          0.4280953109264374,
          0.44637030363082886,
          0.40653368830680847,
          0.4063887596130371,
          0.42057663202285767,
          0.4234541356563568,
          0.4115969240665436,
          0.4317161440849304,
          0.4368101954460144,
          0.4425753057003021,
          0.4481145143508911,
          0.4006502032279968,
          0.4361489713191986,
          0.39689064025878906,
          0.44418635964393616,
          0.4377819001674652,
          0.05208803713321686,
          0.14870129525661469,
          -0.010032701306045055,
          0.046586401760578156,
          0.06063167005777359,
          0.4806080162525177,
          0.4705235958099365,
          0.47131577134132385,
          0.4781377613544464,
          0.46980318427085876,
          0.4739588797092438,
          0.47725340723991394,
          0.4808988571166992,
          0.472342312335968,
          0.48392945528030396,
          0.4730423390865326,
          0.48322999477386475,
          0.4769679009914398,
          -0.7061954140663147,
          -0.789429247379303,
          -0.7991844415664673,
          -0.6962040066719055,
          -0.7862411737442017,
          -0.7734962701797485,
          -0.7786179780960083,
          -0.7523400783538818,
          -0.7722859382629395,
          -0.7967864274978638,
          -0.7670606970787048,
          -0.7223424315452576,
          -0.7790206074714661,
          -0.7818922400474548,
          -0.7825113534927368,
          -0.7595514059066772,
          -0.7812946438789368,
          -0.7801998257637024,
          -0.7665337324142456,
          -0.793666422367096,
          -0.7939170598983765,
          -0.788762629032135,
          -0.7060590982437134,
          -0.791814386844635,
          -0.7747474908828735,
          -0.7853868007659912,
          -0.7888583540916443,
          -0.7733413577079773,
          0.23961739242076874,
          0.18153086304664612,
          0.22768911719322205,
          0.2326587587594986,
          0.23528023064136505,
          0.23647858202457428,
          0.24069134891033173,
          0.23063677549362183,
          0.228603795170784,
          0.15883873403072357,
          -0.18916325271129608,
          -0.17229381203651428,
          -0.19390885531902313,
          -0.17563149333000183,
          -0.1697731614112854,
          -0.16243526339530945,
          -0.19955265522003174,
          -0.01989746280014515,
          -0.16355356574058533,
          -0.1382344514131546,
          -0.07243920117616653,
          -0.1916753053665161,
          -0.19876481592655182,
          -0.13590505719184875,
          -0.20178794860839844,
          -0.20246894657611847,
          -0.17732639610767365,
          -0.1829165518283844,
          -0.19031545519828796,
          -0.16455799341201782,
          -0.1852569282054901,
          -0.17116832733154297,
          -0.1902918517589569,
          -0.1695871502161026,
          -0.15558584034442902,
          -0.1495821624994278,
          -0.18401125073432922,
          -0.15368901193141937,
          -0.17796394228935242,
          -0.1761162430047989,
          -0.14442281424999237,
          -0.0714946910738945,
          -0.15705221891403198,
          -0.19424070417881012,
          -0.18358705937862396,
          -0.15038098394870758,
          -0.19351716339588165,
          -0.20124390721321106,
          -0.17969933152198792,
          -0.1850646734237671,
          -0.19625495374202728,
          -0.15869341790676117,
          -0.1676202416419983,
          -0.14429211616516113,
          0.2469480037689209,
          0.24797295033931732,
          0.24782694876194,
          0.2556127607822418,
          0.24698157608509064,
          0.2611790895462036,
          0.24220596253871918,
          0.23966476321220398,
          0.2595602869987488,
          0.2643153965473175,
          0.23834845423698425,
          0.27000588178634644,
          0.2532636225223541,
          0.2271537482738495,
          0.25628015398979187,
          0.23186427354812622,
          0.2398061901330948,
          0.258400022983551,
          0.2692708671092987,
          0.23697984218597412,
          0.253287672996521,
          0.255786269903183,
          0.26238781213760376,
          0.26677873730659485,
          0.2529085576534271,
          0.2655293345451355,
          0.24427688121795654,
          0.16826313734054565,
          0.3831680715084076,
          -0.3145415484905243,
          -0.3094194233417511,
          -0.2920759916305542,
          -0.45067256689071655,
          -0.45790359377861023,
          -0.40185633301734924,
          -0.44981759786605835,
          -0.4420335292816162,
          -0.4601093530654907,
          -0.45888960361480713,
          0.4180631637573242,
          0.4149642288684845,
          0.4114287197589874,
          0.41431552171707153,
          0.40791183710098267,
          0.41943490505218506,
          0.40970364212989807,
          0.3084874749183655,
          0.41903218626976013,
          0.43621450662612915,
          0.4273078739643097,
          0.4067450761795044,
          0.4001097083091736,
          0.4311717450618744,
          -0.11079324781894684,
          -0.11052149534225464,
          -0.8087832927703857,
          -0.7524581551551819,
          -0.8001357913017273,
          -0.7695990800857544,
          -0.807532012462616,
          0.022179346531629562,
          0.029446564614772797,
          -0.017558230087161064,
          0.003804609412327409,
          0.005864993203431368,
          0.014942578971385956,
          0.0316552072763443,
          0.012418895028531551,
          -0.026760892942547798,
          0.03980702906847,
          0.013354289345443249,
          0.024561233818531036,
          0.0017454817425459623,
          0.00424114940688014,
          0.030759694054722786,
          -0.003411480225622654,
          -0.006144192069768906,
          -0.01071301568299532,
          -0.024065181612968445,
          -0.01974789798259735,
          0.019912099465727806,
          0.05088416114449501,
          0.016405023634433746,
          -0.009171695448458195,
          -0.023217685520648956,
          0.019146239385008812,
          0.016686685383319855,
          0.024104095995426178,
          -0.010621687397360802,
          0.0531548373401165,
          -0.019770123064517975,
          0.03401009365916252,
          -0.0029292164836078882,
          0.011039203964173794,
          0.024219950661063194,
          0.03771330416202545,
          -0.004879587795585394,
          -0.013668932020664215,
          0.039663974195718765,
          0.031957466155290604,
          0.00356633891351521,
          0.03407533839344978,
          -0.037505753338336945,
          0.0403113067150116,
          -0.01983344368636608,
          -0.010985503904521465,
          0.05859740823507309,
          0.1285030096769333,
          -0.07040669023990631,
          0.06020621955394745,
          -0.22104589641094208,
          -0.1567760407924652,
          -0.22259871661663055,
          -0.2057911455631256,
          -0.18444499373435974,
          -0.19755449891090393,
          -0.18754909932613373,
          -0.21814025938510895,
          -0.2012377232313156,
          -0.24834977090358734,
          -0.17334440350532532,
          -0.210182785987854,
          -0.03215645253658295,
          -0.2071157991886139,
          -0.02791781723499298,
          -0.16909746825695038,
          -0.16996590793132782,
          -0.21030797064304352,
          -0.2032063603401184,
          -0.1968192160129547,
          -0.1873837262392044,
          -0.221948504447937,
          -0.15997470915317535,
          -0.026935342699289322,
          -0.20447330176830292,
          -0.1607905626296997,
          -0.21131810545921326,
          -0.2127383053302765,
          -0.18201027810573578,
          -0.19640201330184937,
          -0.19015057384967804,
          -0.2164582759141922,
          -0.18802565336227417,
          -0.2209346741437912,
          -0.20476034283638,
          -0.18852196633815765,
          -0.18085503578186035,
          -0.1966642141342163,
          -0.2166759967803955,
          -0.2217543125152588,
          -0.20973160862922668,
          -0.19697317481040955,
          -0.18146423995494843,
          -0.1773681342601776,
          -0.16582979261875153,
          -0.2038319706916809,
          -0.21247367560863495,
          -0.2149188071489334,
          -0.19502440094947815,
          -0.21608838438987732,
          -0.20421725511550903,
          -0.17351585626602173,
          -0.17355018854141235,
          -0.19875481724739075,
          -0.19009298086166382,
          -0.1332007795572281,
          -0.08877898752689362,
          -0.12656168639659882,
          -0.07630227506160736,
          -0.08182700723409653,
          -0.12936042249202728,
          -0.12100160121917725,
          -0.11448436975479126,
          -0.11659799516201019,
          -0.09415455907583237,
          -0.11170145869255066,
          -0.09065040946006775,
          -0.08453212678432465,
          -0.12482675164937973,
          -0.08751185983419418,
          -0.11738086491823196,
          -0.13202767074108124,
          -0.10145904123783112,
          -0.1188802421092987,
          -0.1218285784125328,
          -0.08089864253997803,
          -0.1049356460571289,
          -0.09469132125377655,
          -0.07569270581007004,
          -0.1043059229850769,
          -0.09798223525285721,
          -0.10916651040315628,
          -0.09597375988960266,
          -0.11149780452251434,
          -0.1266978532075882,
          -0.10450661927461624,
          -0.10573681443929672,
          0.27871179580688477,
          -0.13137613236904144,
          -0.17422132194042206,
          -0.18005676567554474,
          -0.15487268567085266,
          -0.17657621204853058,
          -0.1476222574710846,
          -0.18341600894927979,
          -0.16069312393665314,
          -0.1757856160402298,
          -0.1554577350616455,
          -0.165583074092865,
          -0.16931863129138947,
          -0.15556390583515167,
          -0.18446990847587585,
          -0.1464732587337494,
          -0.16505682468414307,
          -0.16788099706172943,
          -0.1805167943239212,
          -0.17706553637981415,
          -0.1866845339536667,
          -0.39756152033805847,
          -0.36646878719329834,
          -0.37479421496391296,
          0.046698227524757385,
          -0.05808621272444725,
          -0.07163823395967484,
          -0.06738993525505066,
          -0.06271617114543915,
          0.26576870679855347,
          0.2537349760532379,
          0.2602160573005676,
          0.2543797194957733,
          0.2729444205760956,
          0.2631950080394745,
          0.26624390482902527,
          0.27432724833488464,
          0.17503659427165985,
          0.27236223220825195,
          0.2713938355445862,
          0.2660422921180725,
          0.2544954717159271,
          0.25829899311065674,
          0.2477910816669464,
          0.26145491003990173,
          0.3725915849208832,
          0.38055333495140076,
          0.3770101070404053,
          0.3870813846588135,
          0.3667784035205841,
          0.3651144504547119,
          0.37951329350471497,
          0.38024434447288513,
          0.3864371180534363,
          0.3796338438987732,
          0.36298343539237976,
          0.3737529218196869,
          0.3709067106246948,
          0.38625696301460266,
          0.385276198387146,
          0.3621198832988739,
          0.3576449751853943,
          0.3555837571620941,
          0.37193748354911804,
          0.37848642468452454,
          0.3698350191116333,
          0.1452532410621643,
          0.15229059755802155,
          0.1512371003627777,
          0.1588522344827652,
          0.15734067559242249,
          0.1640760749578476,
          0.1619555950164795,
          0.27414700388908386,
          0.2790115177631378,
          0.2670277953147888,
          0.13120003044605255,
          -0.05550975352525711,
          -0.051702264696359634,
          0.14838743209838867,
          0.1589454561471939,
          0.1673201024532318,
          0.18219974637031555,
          0.17348705232143402,
          0.15189479291439056,
          0.15916161239147186,
          0.18089117109775543,
          0.16619685292243958,
          0.17440296709537506,
          0.8772467970848083,
          0.8518389463424683,
          0.8025411367416382,
          0.29428768157958984,
          0.101921446621418,
          0.118594691157341,
          0.11248084157705307,
          0.13170410692691803,
          0.14098960161209106,
          0.08739078044891357,
          0.088144950568676,
          0.13746093213558197,
          0.0843905583024025,
          0.11918541043996811,
          0.10627388209104538,
          0.14388123154640198,
          0.13280774652957916,
          0.1019001305103302,
          0.09796062111854553,
          0.14335128664970398,
          0.1043376475572586,
          0.08893273025751114,
          0.09055385738611221,
          0.10797400027513504,
          0.12477636337280273,
          0.08511204272508621,
          0.13181625306606293,
          0.130793496966362,
          0.13662303984165192,
          0.12298577278852463,
          0.12784534692764282,
          0.11223449558019638,
          0.09455233067274094,
          0.09909524023532867,
          0.14661450684070587,
          0.10296035557985306,
          0.1275503933429718,
          0.11393251270055771,
          0.14140047132968903,
          0.1340825855731964,
          0.11810329556465149,
          0.0965539738535881,
          0.1122790202498436,
          0.14069928228855133,
          0.14460721611976624,
          0.09425359964370728,
          0.1517181694507599,
          0.11678767204284668,
          0.13415314257144928,
          0.09013687819242477,
          0.12424807250499725,
          0.12523746490478516,
          0.1374051570892334,
          0.10626600682735443,
          0.1252489686012268,
          0.10711055248975754,
          0.09491792321205139,
          0.09779088944196701,
          0.09295868128538132,
          0.10105296969413757,
          0.30859097838401794,
          0.3071625232696533,
          0.316916823387146,
          0.2872850298881531,
          0.31770798563957214,
          0.31134310364723206,
          0.1392243355512619,
          0.14687682688236237,
          0.08768963068723679,
          0.1178373247385025,
          0.11003871262073517,
          0.1254788488149643,
          0.13545864820480347,
          0.11745305359363556,
          0.14357829093933105,
          0.11188060790300369,
          0.1259012520313263,
          0.1240893080830574,
          0.1303522288799286,
          0.13970746099948883,
          0.09943459182977676,
          0.09129872173070908,
          0.13312923908233643,
          0.14422354102134705,
          0.1264341026544571,
          0.12824304401874542,
          0.10348457098007202,
          0.12024030834436417,
          0.14152687788009644,
          0.14786675572395325,
          0.11661004275083542,
          0.10512209683656693,
          0.1379377394914627,
          0.10666495561599731,
          0.15116024017333984,
          0.1337594836950302,
          0.09638134390115738,
          0.14487414062023163,
          0.09301788359880447,
          0.15045885741710663,
          0.15375344455242157,
          0.15290570259094238,
          0.14442510902881622,
          0.13892757892608643,
          0.14371590316295624,
          0.14779341220855713,
          0.15593716502189636,
          0.1454102098941803,
          0.13466861844062805,
          0.13795046508312225,
          0.15151548385620117,
          0.14998021721839905,
          0.1428271234035492,
          0.1357698142528534,
          -0.811471164226532,
          -0.7276063561439514,
          -0.8158608078956604,
          -0.8207679986953735,
          -0.8149363994598389,
          -0.8106215596199036,
          -0.7709896564483643,
          -0.7987715005874634,
          0.13373634219169617,
          0.3878970742225647,
          0.4024081826210022,
          0.40109142661094666,
          0.3964143991470337,
          0.4027901291847229,
          0.40866905450820923,
          0.3880247473716736,
          0.40408140420913696,
          0.39690640568733215,
          0.37739571928977966,
          0.40644383430480957,
          0.3792748749256134,
          0.3895084857940674,
          0.40670937299728394,
          0.39653778076171875,
          0.3955520689487457,
          0.39160847663879395,
          0.3815065622329712,
          0.38734227418899536,
          0.39645490050315857,
          -0.3562701344490051,
          -0.3553835153579712,
          0.36679455637931824,
          0.3652758002281189,
          0.40140968561172485,
          0.3879479169845581,
          0.39601191878318787,
          0.39752066135406494,
          0.40491288900375366,
          0.378351092338562,
          0.31998521089553833,
          0.33364352583885193,
          0.3081965148448944,
          -0.1025451272726059,
          -0.11265059560537338,
          -0.10129418224096298,
          -0.09563885629177094,
          -0.10840227454900742,
          -0.11011969298124313,
          -0.09160042554140091,
          0.7378343939781189,
          0.750622570514679,
          0.7403678297996521,
          0.7483638525009155,
          0.6718074083328247,
          -0.016481216996908188,
          -0.025177249684929848,
          -0.11054375022649765,
          -0.11510983109474182,
          -0.08010831475257874,
          0.6809476017951965,
          0.6872337460517883,
          0.6734604239463806,
          0.6742244958877563,
          0.6860557198524475,
          0.6024553179740906,
          0.16673089563846588,
          0.18454663455486298,
          0.1734153926372528,
          0.1597425490617752,
          0.16380098462104797,
          0.179447740316391,
          -0.2916928231716156,
          -0.30993080139160156,
          -0.3328685462474823,
          -0.3196312487125397,
          -0.29991981387138367,
          -0.319086492061615,
          -0.3004182279109955,
          -0.31095948815345764,
          -0.3203781843185425,
          -0.33435457944869995,
          -0.3020254969596863,
          -0.2909259498119354,
          -0.3281996250152588,
          -0.3189087212085724,
          -0.32701918482780457,
          -0.22588780522346497,
          -0.22038044035434723,
          -0.18146878480911255,
          0.0740167498588562,
          0.06962451338768005,
          0.0769381895661354,
          -0.869908332824707
         ]
        }
       ],
       "layout": {
        "hovermode": "closest",
        "margin": {
         "b": 0,
         "l": 0,
         "r": 0,
         "t": 0
        },
        "showlegend": false,
        "template": {
         "data": {
          "bar": [
           {
            "error_x": {
             "color": "#2a3f5f"
            },
            "error_y": {
             "color": "#2a3f5f"
            },
            "marker": {
             "line": {
              "color": "#E5ECF6",
              "width": 0.5
             },
             "pattern": {
              "fillmode": "overlay",
              "size": 10,
              "solidity": 0.2
             }
            },
            "type": "bar"
           }
          ],
          "barpolar": [
           {
            "marker": {
             "line": {
              "color": "#E5ECF6",
              "width": 0.5
             },
             "pattern": {
              "fillmode": "overlay",
              "size": 10,
              "solidity": 0.2
             }
            },
            "type": "barpolar"
           }
          ],
          "carpet": [
           {
            "aaxis": {
             "endlinecolor": "#2a3f5f",
             "gridcolor": "white",
             "linecolor": "white",
             "minorgridcolor": "white",
             "startlinecolor": "#2a3f5f"
            },
            "baxis": {
             "endlinecolor": "#2a3f5f",
             "gridcolor": "white",
             "linecolor": "white",
             "minorgridcolor": "white",
             "startlinecolor": "#2a3f5f"
            },
            "type": "carpet"
           }
          ],
          "choropleth": [
           {
            "colorbar": {
             "outlinewidth": 0,
             "ticks": ""
            },
            "type": "choropleth"
           }
          ],
          "contour": [
           {
            "colorbar": {
             "outlinewidth": 0,
             "ticks": ""
            },
            "colorscale": [
             [
              0,
              "#0d0887"
             ],
             [
              0.1111111111111111,
              "#46039f"
             ],
             [
              0.2222222222222222,
              "#7201a8"
             ],
             [
              0.3333333333333333,
              "#9c179e"
             ],
             [
              0.4444444444444444,
              "#bd3786"
             ],
             [
              0.5555555555555556,
              "#d8576b"
             ],
             [
              0.6666666666666666,
              "#ed7953"
             ],
             [
              0.7777777777777778,
              "#fb9f3a"
             ],
             [
              0.8888888888888888,
              "#fdca26"
             ],
             [
              1,
              "#f0f921"
             ]
            ],
            "type": "contour"
           }
          ],
          "contourcarpet": [
           {
            "colorbar": {
             "outlinewidth": 0,
             "ticks": ""
            },
            "type": "contourcarpet"
           }
          ],
          "heatmap": [
           {
            "colorbar": {
             "outlinewidth": 0,
             "ticks": ""
            },
            "colorscale": [
             [
              0,
              "#0d0887"
             ],
             [
              0.1111111111111111,
              "#46039f"
             ],
             [
              0.2222222222222222,
              "#7201a8"
             ],
             [
              0.3333333333333333,
              "#9c179e"
             ],
             [
              0.4444444444444444,
              "#bd3786"
             ],
             [
              0.5555555555555556,
              "#d8576b"
             ],
             [
              0.6666666666666666,
              "#ed7953"
             ],
             [
              0.7777777777777778,
              "#fb9f3a"
             ],
             [
              0.8888888888888888,
              "#fdca26"
             ],
             [
              1,
              "#f0f921"
             ]
            ],
            "type": "heatmap"
           }
          ],
          "heatmapgl": [
           {
            "colorbar": {
             "outlinewidth": 0,
             "ticks": ""
            },
            "colorscale": [
             [
              0,
              "#0d0887"
             ],
             [
              0.1111111111111111,
              "#46039f"
             ],
             [
              0.2222222222222222,
              "#7201a8"
             ],
             [
              0.3333333333333333,
              "#9c179e"
             ],
             [
              0.4444444444444444,
              "#bd3786"
             ],
             [
              0.5555555555555556,
              "#d8576b"
             ],
             [
              0.6666666666666666,
              "#ed7953"
             ],
             [
              0.7777777777777778,
              "#fb9f3a"
             ],
             [
              0.8888888888888888,
              "#fdca26"
             ],
             [
              1,
              "#f0f921"
             ]
            ],
            "type": "heatmapgl"
           }
          ],
          "histogram": [
           {
            "marker": {
             "pattern": {
              "fillmode": "overlay",
              "size": 10,
              "solidity": 0.2
             }
            },
            "type": "histogram"
           }
          ],
          "histogram2d": [
           {
            "colorbar": {
             "outlinewidth": 0,
             "ticks": ""
            },
            "colorscale": [
             [
              0,
              "#0d0887"
             ],
             [
              0.1111111111111111,
              "#46039f"
             ],
             [
              0.2222222222222222,
              "#7201a8"
             ],
             [
              0.3333333333333333,
              "#9c179e"
             ],
             [
              0.4444444444444444,
              "#bd3786"
             ],
             [
              0.5555555555555556,
              "#d8576b"
             ],
             [
              0.6666666666666666,
              "#ed7953"
             ],
             [
              0.7777777777777778,
              "#fb9f3a"
             ],
             [
              0.8888888888888888,
              "#fdca26"
             ],
             [
              1,
              "#f0f921"
             ]
            ],
            "type": "histogram2d"
           }
          ],
          "histogram2dcontour": [
           {
            "colorbar": {
             "outlinewidth": 0,
             "ticks": ""
            },
            "colorscale": [
             [
              0,
              "#0d0887"
             ],
             [
              0.1111111111111111,
              "#46039f"
             ],
             [
              0.2222222222222222,
              "#7201a8"
             ],
             [
              0.3333333333333333,
              "#9c179e"
             ],
             [
              0.4444444444444444,
              "#bd3786"
             ],
             [
              0.5555555555555556,
              "#d8576b"
             ],
             [
              0.6666666666666666,
              "#ed7953"
             ],
             [
              0.7777777777777778,
              "#fb9f3a"
             ],
             [
              0.8888888888888888,
              "#fdca26"
             ],
             [
              1,
              "#f0f921"
             ]
            ],
            "type": "histogram2dcontour"
           }
          ],
          "mesh3d": [
           {
            "colorbar": {
             "outlinewidth": 0,
             "ticks": ""
            },
            "type": "mesh3d"
           }
          ],
          "parcoords": [
           {
            "line": {
             "colorbar": {
              "outlinewidth": 0,
              "ticks": ""
             }
            },
            "type": "parcoords"
           }
          ],
          "pie": [
           {
            "automargin": true,
            "type": "pie"
           }
          ],
          "scatter": [
           {
            "fillpattern": {
             "fillmode": "overlay",
             "size": 10,
             "solidity": 0.2
            },
            "type": "scatter"
           }
          ],
          "scatter3d": [
           {
            "line": {
             "colorbar": {
              "outlinewidth": 0,
              "ticks": ""
             }
            },
            "marker": {
             "colorbar": {
              "outlinewidth": 0,
              "ticks": ""
             }
            },
            "type": "scatter3d"
           }
          ],
          "scattercarpet": [
           {
            "marker": {
             "colorbar": {
              "outlinewidth": 0,
              "ticks": ""
             }
            },
            "type": "scattercarpet"
           }
          ],
          "scattergeo": [
           {
            "marker": {
             "colorbar": {
              "outlinewidth": 0,
              "ticks": ""
             }
            },
            "type": "scattergeo"
           }
          ],
          "scattergl": [
           {
            "marker": {
             "colorbar": {
              "outlinewidth": 0,
              "ticks": ""
             }
            },
            "type": "scattergl"
           }
          ],
          "scattermapbox": [
           {
            "marker": {
             "colorbar": {
              "outlinewidth": 0,
              "ticks": ""
             }
            },
            "type": "scattermapbox"
           }
          ],
          "scatterpolar": [
           {
            "marker": {
             "colorbar": {
              "outlinewidth": 0,
              "ticks": ""
             }
            },
            "type": "scatterpolar"
           }
          ],
          "scatterpolargl": [
           {
            "marker": {
             "colorbar": {
              "outlinewidth": 0,
              "ticks": ""
             }
            },
            "type": "scatterpolargl"
           }
          ],
          "scatterternary": [
           {
            "marker": {
             "colorbar": {
              "outlinewidth": 0,
              "ticks": ""
             }
            },
            "type": "scatterternary"
           }
          ],
          "surface": [
           {
            "colorbar": {
             "outlinewidth": 0,
             "ticks": ""
            },
            "colorscale": [
             [
              0,
              "#0d0887"
             ],
             [
              0.1111111111111111,
              "#46039f"
             ],
             [
              0.2222222222222222,
              "#7201a8"
             ],
             [
              0.3333333333333333,
              "#9c179e"
             ],
             [
              0.4444444444444444,
              "#bd3786"
             ],
             [
              0.5555555555555556,
              "#d8576b"
             ],
             [
              0.6666666666666666,
              "#ed7953"
             ],
             [
              0.7777777777777778,
              "#fb9f3a"
             ],
             [
              0.8888888888888888,
              "#fdca26"
             ],
             [
              1,
              "#f0f921"
             ]
            ],
            "type": "surface"
           }
          ],
          "table": [
           {
            "cells": {
             "fill": {
              "color": "#EBF0F8"
             },
             "line": {
              "color": "white"
             }
            },
            "header": {
             "fill": {
              "color": "#C8D4E3"
             },
             "line": {
              "color": "white"
             }
            },
            "type": "table"
           }
          ]
         },
         "layout": {
          "annotationdefaults": {
           "arrowcolor": "#2a3f5f",
           "arrowhead": 0,
           "arrowwidth": 1
          },
          "autotypenumbers": "strict",
          "coloraxis": {
           "colorbar": {
            "outlinewidth": 0,
            "ticks": ""
           }
          },
          "colorscale": {
           "diverging": [
            [
             0,
             "#8e0152"
            ],
            [
             0.1,
             "#c51b7d"
            ],
            [
             0.2,
             "#de77ae"
            ],
            [
             0.3,
             "#f1b6da"
            ],
            [
             0.4,
             "#fde0ef"
            ],
            [
             0.5,
             "#f7f7f7"
            ],
            [
             0.6,
             "#e6f5d0"
            ],
            [
             0.7,
             "#b8e186"
            ],
            [
             0.8,
             "#7fbc41"
            ],
            [
             0.9,
             "#4d9221"
            ],
            [
             1,
             "#276419"
            ]
           ],
           "sequential": [
            [
             0,
             "#0d0887"
            ],
            [
             0.1111111111111111,
             "#46039f"
            ],
            [
             0.2222222222222222,
             "#7201a8"
            ],
            [
             0.3333333333333333,
             "#9c179e"
            ],
            [
             0.4444444444444444,
             "#bd3786"
            ],
            [
             0.5555555555555556,
             "#d8576b"
            ],
            [
             0.6666666666666666,
             "#ed7953"
            ],
            [
             0.7777777777777778,
             "#fb9f3a"
            ],
            [
             0.8888888888888888,
             "#fdca26"
            ],
            [
             1,
             "#f0f921"
            ]
           ],
           "sequentialminus": [
            [
             0,
             "#0d0887"
            ],
            [
             0.1111111111111111,
             "#46039f"
            ],
            [
             0.2222222222222222,
             "#7201a8"
            ],
            [
             0.3333333333333333,
             "#9c179e"
            ],
            [
             0.4444444444444444,
             "#bd3786"
            ],
            [
             0.5555555555555556,
             "#d8576b"
            ],
            [
             0.6666666666666666,
             "#ed7953"
            ],
            [
             0.7777777777777778,
             "#fb9f3a"
            ],
            [
             0.8888888888888888,
             "#fdca26"
            ],
            [
             1,
             "#f0f921"
            ]
           ]
          },
          "colorway": [
           "#636efa",
           "#EF553B",
           "#00cc96",
           "#ab63fa",
           "#FFA15A",
           "#19d3f3",
           "#FF6692",
           "#B6E880",
           "#FF97FF",
           "#FECB52"
          ],
          "font": {
           "color": "#2a3f5f"
          },
          "geo": {
           "bgcolor": "white",
           "lakecolor": "white",
           "landcolor": "#E5ECF6",
           "showlakes": true,
           "showland": true,
           "subunitcolor": "white"
          },
          "hoverlabel": {
           "align": "left"
          },
          "hovermode": "closest",
          "mapbox": {
           "style": "light"
          },
          "paper_bgcolor": "white",
          "plot_bgcolor": "#E5ECF6",
          "polar": {
           "angularaxis": {
            "gridcolor": "white",
            "linecolor": "white",
            "ticks": ""
           },
           "bgcolor": "#E5ECF6",
           "radialaxis": {
            "gridcolor": "white",
            "linecolor": "white",
            "ticks": ""
           }
          },
          "scene": {
           "xaxis": {
            "backgroundcolor": "#E5ECF6",
            "gridcolor": "white",
            "gridwidth": 2,
            "linecolor": "white",
            "showbackground": true,
            "ticks": "",
            "zerolinecolor": "white"
           },
           "yaxis": {
            "backgroundcolor": "#E5ECF6",
            "gridcolor": "white",
            "gridwidth": 2,
            "linecolor": "white",
            "showbackground": true,
            "ticks": "",
            "zerolinecolor": "white"
           },
           "zaxis": {
            "backgroundcolor": "#E5ECF6",
            "gridcolor": "white",
            "gridwidth": 2,
            "linecolor": "white",
            "showbackground": true,
            "ticks": "",
            "zerolinecolor": "white"
           }
          },
          "shapedefaults": {
           "line": {
            "color": "#2a3f5f"
           }
          },
          "ternary": {
           "aaxis": {
            "gridcolor": "white",
            "linecolor": "white",
            "ticks": ""
           },
           "baxis": {
            "gridcolor": "white",
            "linecolor": "white",
            "ticks": ""
           },
           "bgcolor": "#E5ECF6",
           "caxis": {
            "gridcolor": "white",
            "linecolor": "white",
            "ticks": ""
           }
          },
          "title": {
           "x": 0.05
          },
          "xaxis": {
           "automargin": true,
           "gridcolor": "white",
           "linecolor": "white",
           "ticks": "",
           "title": {
            "standoff": 15
           },
           "zerolinecolor": "white",
           "zerolinewidth": 2
          },
          "yaxis": {
           "automargin": true,
           "gridcolor": "white",
           "linecolor": "white",
           "ticks": "",
           "title": {
            "standoff": 15
           },
           "zerolinecolor": "white",
           "zerolinewidth": 2
          }
         }
        },
        "xaxis": {
         "showgrid": false,
         "showticklabels": false,
         "zeroline": false
        },
        "yaxis": {
         "showgrid": false,
         "showticklabels": false,
         "zeroline": false
        }
       }
      }
     },
     "metadata": {},
     "output_type": "display_data"
    }
   ],
   "source": [
    "#PLOTLY NETWORK GRAPH\n",
    "\n",
    "import pandas as pd\n",
    "import numpy as np\n",
    "import networkx as nx\n",
    "import matplotlib.pyplot as plt\n",
    "import plotly.graph_objects as go\n",
    "\n",
    "\n",
    "# Read CSV file\n",
    "data = pd.read_csv(\"/Users/zfrancis/Documents/Spank Bank/programs/odsi/odsi-programs/odsi_data.csv\")\n",
    "\n",
    "# Create an empty graph\n",
    "G = nx.Graph()\n",
    "\n",
    "# Iterate through the data and add nodes and edges to the graph\n",
    "# First, create all the ODSI nodes\n",
    "for index, row in data.iterrows():\n",
    "    odsi = row[\"ODSI\"]\n",
    "    G.add_node(odsi, node_type=\"ODSI\")\n",
    "\n",
    "# Now, create the partner nodes and edges\n",
    "for index, row in data.iterrows():\n",
    "    odsi = row[\"ODSI\"]\n",
    "    has_partners = row[\"Partners\"]\n",
    "    list_of_partners = row[\"List of Partners\"]\n",
    "\n",
    "    if has_partners.lower() == \"yes\":\n",
    "        partners = list_of_partners.split(\";\")\n",
    "        for partner in partners:\n",
    "            partner = partner.strip()\n",
    "\n",
    "            # Only create a partner node if it doesn't already exist as an ODSI node\n",
    "            if partner not in G.nodes or G.nodes[partner][\"node_type\"] != \"ODSI\":\n",
    "                G.add_node(partner, node_type=\"partner\")\n",
    "\n",
    "            # Add edge between ODSI and partner\n",
    "            G.add_edge(odsi, partner)\n",
    "\n",
    "\n",
    "# Get positions of the nodes using a layout algorithm\n",
    "pos = nx.spring_layout(G)\n",
    "\n",
    "# Extract node positions (x and y coordinates) for ODSIs and partners\n",
    "odsi_x = [pos[n][0] for n, attr in G.nodes(data=True) if attr[\"node_type\"] == \"ODSI\"]\n",
    "odsi_y = [pos[n][1] for n, attr in G.nodes(data=True) if attr[\"node_type\"] == \"ODSI\"]\n",
    "partner_x = [pos[n][0] for n, attr in G.nodes(data=True) if attr[\"node_type\"] == \"partner\"]\n",
    "partner_y = [pos[n][1] for n, attr in G.nodes(data=True) if attr[\"node_type\"] == \"partner\"]\n",
    "\n",
    "# Create edge traces for the graph\n",
    "edge_traces = []\n",
    "for edge in G.edges():\n",
    "    x0, y0 = pos[edge[0]]\n",
    "    x1, y1 = pos[edge[1]]\n",
    "    edge_traces.append(go.Scatter(x=[x0, x1, None], y=[y0, y1, None], mode='lines', line=dict(color='gray', width=1)))\n",
    "\n",
    "# Create node traces for ODSIs and partners\n",
    "odsi_trace = go.Scatter(x=odsi_x, y=odsi_y, mode='markers', hovertemplate='%{text}', text=[n for n, attr in G.nodes(data=True) if attr[\"node_type\"] == \"ODSI\"], marker=dict(size=15, color='blue', line=dict(color='black', width=0.5)))\n",
    "partner_trace = go.Scatter(x=partner_x, y=partner_y, mode='markers', hovertemplate='%{text}', text=[n for n, attr in G.nodes(data=True) if attr[\"node_type\"] == \"partner\"], marker=dict(size=10, color='red', line=dict(color='black', width=0.5)))\n",
    "odsi_label_trace = go.Scatter(x=odsi_x, y=odsi_y, mode='text', text=[n for n, attr in G.nodes(data=True) if attr[\"node_type\"] == \"ODSI\"], textposition=\"bottom center\", hoverinfo='skip', showlegend=False, marker=dict(size=0, color='rgba(0,0,0,0)'), textfont=dict(size=8))\n",
    "partner_label_trace = go.Scatter(x=partner_x, y=partner_y, mode='text', text=[n for n, attr in G.nodes(data=True) if attr[\"node_type\"] == \"partner\"], textposition=\"bottom center\", hoverinfo='skip', showlegend=False, marker=dict(size=0, color='rgba(0,0,0,0)'), textfont=dict(size=8))\n",
    "\n",
    "# Create the interactive figure\n",
    "fig = go.Figure(edge_traces + [odsi_trace, partner_trace, odsi_label_trace, partner_label_trace])\n",
    "\n",
    "\n",
    "# Set the axis properties and layout\n",
    "fig.update_xaxes(showticklabels=False, showgrid=False, zeroline=False)\n",
    "fig.update_yaxes(showticklabels=False, showgrid=False, zeroline=False)\n",
    "fig.update_layout(showlegend=False, hovermode='closest', margin=dict(l=0, r=0, b=0, t=0))\n",
    "\n",
    "\n",
    "\n",
    "# Show the interactive network graph\n",
    "fig.show()\n"
   ]
  },
  {
   "cell_type": "code",
   "execution_count": null,
   "id": "5aaf4680",
   "metadata": {},
   "outputs": [],
   "source": [
    "# NUMERICAL ANALYSIS PROGRAMS\n",
    "\n",
    "# List of ODSIs\n",
    "odsi_list = []\n",
    "for node, attr in G.nodes(data=True):\n",
    "    if attr[\"node_type\"] == 'ODSI':\n",
    "        odsi_list.append(node)\n",
    "\n",
    "df=pd.DataFrame(odsi_list,columns=['ODSI'])\n",
    "df.to_csv(\"/Users/zfrancis/Documents/Spank Bank/programs/odsi/odsi-programs/odsi_nodes.csv\")\n",
    "\n",
    "\n",
    "\n",
    "#Partners with multiple ODSIs \n",
    "partner_edge_count = []\n",
    "\n",
    "for node, attr in G.nodes(data=True):\n",
    "    if attr[\"node_type\"] == \"partner\":\n",
    "        num_edges = len(list(G.edges(node)))\n",
    "        if num_edges > 1:\n",
    "            partner_edge_count.append((node, num_edges))\n",
    "\n",
    "df=pd.DataFrame(partner_edge_count, columns=[\"Partner\",\"Number of Edges\"])\n",
    "df = df.sort_values(by=\"Number of Edges\", ascending=False)\n",
    "\n",
    "df.to_csv(\"/Users/zfrancis/Documents/Spank Bank/programs/odsi/odsi-programs/odsi_partner_nodes.csv\")\n",
    "\n",
    "\n",
    "\n",
    "# Summary statistics for number of partners\n",
    "odsi_edge_count = []\n",
    "for node, attr in G.nodes(data=True):\n",
    "    if attr[\"node_type\"] == \"ODSI\":\n",
    "        num_edges = len(list(G.edges(node)))\n",
    "        odsi_edge_count.append((node, num_edges))\n",
    "\n",
    "df = pd.DataFrame(odsi_edge_count, columns=[\"ODSI\", \"Partner Count\"])\n",
    "\n",
    "# Calculate mean, median, and standard deviation of number of partners for each ODSI\n",
    "mean_partner_count = np.mean(df[\"Partner Count\"])\n",
    "median_partner_count = np.median(df[\"Partner Count\"])\n",
    "std_partner_count = np.std(df[\"Partner Count\"])\n",
    "\n",
    "print(f\"Mean partner count: {mean_partner_count}\")\n",
    "print(f\"Median partner count: {median_partner_count}\")\n",
    "print(f\"Standard deviation of partner count: {std_partner_count}\")\n",
    "\n",
    "# Plot a histogram of partner counts for ODSIs using matplotlib\n",
    "plt.hist(df[\"Partner Count\"], bins=range(0, df[\"Partner Count\"].max()+2, 1), align=\"left\", rwidth=0.8)\n",
    "plt.xlabel(\"Number of partners\")\n",
    "plt.ylabel(\"Frequency\")\n",
    "plt.title(\"Histogram of partner counts for ODSIs\")\n",
    "plt.show()\n",
    "\n",
    "df.to_csv(\"/Users/zfrancis/Documents/Spank Bank/programs/odsi/odsi-programs/odsi_partner_counts.csv\")"
   ]
  },
  {
   "cell_type": "code",
   "execution_count": 2,
   "id": "e0c8f805",
   "metadata": {},
   "outputs": [
    {
     "name": "stdout",
     "output_type": "stream",
     "text": [
      "Dash is running on http://0.0.0.0:1005/\n",
      "\n",
      " * Serving Flask app '__main__'\n",
      " * Debug mode: off\n"
     ]
    },
    {
     "name": "stderr",
     "output_type": "stream",
     "text": [
      "\u001b[31m\u001b[1mWARNING: This is a development server. Do not use it in a production deployment. Use a production WSGI server instead.\u001b[0m\n",
      " * Running on all addresses (0.0.0.0)\n",
      " * Running on http://127.0.0.1:1005\n",
      " * Running on http://192.168.1.80:1005\n",
      "\u001b[33mPress CTRL+C to quit\u001b[0m\n",
      "127.0.0.1 - - [16/Apr/2023 14:49:49] \"GET / HTTP/1.1\" 200 -\n",
      "127.0.0.1 - - [16/Apr/2023 14:49:49] \"GET /_dash-component-suites/dash/deps/polyfill@7.v2_9_3m1681497251.12.1.min.js HTTP/1.1\" 200 -\n",
      "127.0.0.1 - - [16/Apr/2023 14:49:49] \"GET /_dash-component-suites/dash/deps/react-dom@16.v2_9_3m1681497251.14.0.min.js HTTP/1.1\" 200 -\n",
      "127.0.0.1 - - [16/Apr/2023 14:49:49] \"GET /_dash-component-suites/dash/deps/react@16.v2_9_3m1681497251.14.0.min.js HTTP/1.1\" 200 -\n",
      "127.0.0.1 - - [16/Apr/2023 14:49:49] \"GET /_dash-component-suites/dash/dash-renderer/build/dash_renderer.v2_9_3m1681497251.min.js HTTP/1.1\" 200 -\n",
      "127.0.0.1 - - [16/Apr/2023 14:49:49] \"GET /_dash-component-suites/dash/dcc/dash_core_components.v2_9_2m1681497251.js HTTP/1.1\" 200 -\n",
      "127.0.0.1 - - [16/Apr/2023 14:49:49] \"GET /_dash-component-suites/dash/deps/prop-types@15.v2_9_3m1681497251.8.1.min.js HTTP/1.1\" 200 -\n",
      "127.0.0.1 - - [16/Apr/2023 14:49:49] \"GET /_dash-component-suites/dash/dcc/dash_core_components-shared.v2_9_2m1681497251.js HTTP/1.1\" 200 -\n",
      "127.0.0.1 - - [16/Apr/2023 14:49:49] \"GET /_dash-component-suites/dash/html/dash_html_components.v2_0_11m1681497251.min.js HTTP/1.1\" 200 -\n",
      "127.0.0.1 - - [16/Apr/2023 14:49:49] \"GET /_dash-component-suites/dash/dash_table/bundle.v5_2_4m1681497251.js HTTP/1.1\" 200 -\n",
      "127.0.0.1 - - [16/Apr/2023 14:49:49] \"GET /_dash-layout HTTP/1.1\" 200 -\n",
      "127.0.0.1 - - [16/Apr/2023 14:49:49] \"GET /_dash-dependencies HTTP/1.1\" 200 -\n",
      "127.0.0.1 - - [16/Apr/2023 14:49:49] \"GET /_favicon.ico?v=2.9.3 HTTP/1.1\" 200 -\n",
      "127.0.0.1 - - [16/Apr/2023 14:49:49] \"GET /_dash-component-suites/dash/dcc/async-graph.js HTTP/1.1\" 200 -\n",
      "127.0.0.1 - - [16/Apr/2023 14:49:49] \"GET /_dash-component-suites/dash/dcc/async-plotlyjs.js HTTP/1.1\" 200 -\n",
      "127.0.0.1 - - [16/Apr/2023 14:49:49] \"POST /_dash-update-component HTTP/1.1\" 200 -\n",
      "127.0.0.1 - - [16/Apr/2023 14:49:58] \"POST /_dash-update-component HTTP/1.1\" 200 -\n",
      "127.0.0.1 - - [16/Apr/2023 14:50:00] \"POST /_dash-update-component HTTP/1.1\" 200 -\n",
      "127.0.0.1 - - [16/Apr/2023 14:50:03] \"POST /_dash-update-component HTTP/1.1\" 200 -\n",
      "127.0.0.1 - - [16/Apr/2023 14:50:11] \"POST /_dash-update-component HTTP/1.1\" 200 -\n",
      "127.0.0.1 - - [16/Apr/2023 14:50:20] \"POST /_dash-update-component HTTP/1.1\" 200 -\n"
     ]
    }
   ],
   "source": [
    "#DASH NETWORK GRAPH\n",
    "import pandas as pd\n",
    "import networkx as nx\n",
    "import plotly.graph_objects as go\n",
    "import dash\n",
    "from dash import dcc\n",
    "from dash import html\n",
    "from dash.dependencies import Input, Output\n",
    "\n",
    "# Read CSV file\n",
    "data = pd.read_csv(\"/Users/zfrancis/Documents/Spank Bank/programs/odsi/odsi-programs/odsi_data.csv\")\n",
    "\n",
    "# Create an empty graph\n",
    "G = nx.Graph()\n",
    "\n",
    "# Iterate through the data and add nodes and edges to the graph\n",
    "for index, row in data.iterrows():\n",
    "    odsi = row[\"ODSI\"]\n",
    "    has_partners = row[\"Partners\"]\n",
    "    list_of_partners = row[\"List of Partners\"]\n",
    "\n",
    "    # Add ODSI node to the graph\n",
    "    G.add_node(odsi, node_type=\"ODSI\", highlight=False)\n",
    "\n",
    "    if has_partners.lower() == \"yes\":\n",
    "        partners = list_of_partners.split(\";\")\n",
    "        for partner in partners:\n",
    "            partner = partner.strip()\n",
    "            # Add partner node to the graph\n",
    "            G.add_node(partner, node_type=\"partner\", highlight=False)\n",
    "\n",
    "            # Add edge between ODSI and partner\n",
    "            G.add_edge(odsi, partner, highlight=False)\n",
    "\n",
    "# Get positions of the nodes using a layout algorithm\n",
    "pos = nx.spring_layout(G)\n",
    "\n",
    "# Extract node positions (x and y coordinates) for ODSIs and partners\n",
    "odsi_x = [pos[n][0] for n, attr in G.nodes(data=True) if attr[\"node_type\"] == \"ODSI\"]\n",
    "odsi_y = [pos[n][1] for n, attr in G.nodes(data=True) if attr[\"node_type\"] == \"ODSI\"]\n",
    "partner_x = [pos[n][0] for n, attr in G.nodes(data=True) if attr[\"node_type\"] == \"partner\"]\n",
    "partner_y = [pos[n][1] for n, attr in G.nodes(data=True) if attr[\"node_type\"] == \"partner\"]\n",
    "\n",
    "# Create edge traces for the graph\n",
    "edge_traces = []\n",
    "for edge in G.edges():\n",
    "    x0, y0 = pos[edge[0]]\n",
    "    x1, y1 = pos[edge[1]]\n",
    "    edge_traces.append(go.Scatter(x=[x0, x1, None], y=[y0, y1, None], mode='lines', line=dict(color='gray', width=1)))\n",
    "\n",
    "# Create node traces for ODSIs and partners\n",
    "odsi_trace = go.Scatter(x=odsi_x, y=odsi_y, mode='markers', hovertemplate='%{text}', text=[n for n, attr in G.nodes(data=True) if attr[\"node_type\"] == \"ODSI\"], marker=dict(size=15, color='blue', line=dict(color='black', width=0.5)))\n",
    "partner_trace = go.Scatter(x=partner_x, y=partner_y, mode='markers', hovertemplate='%{text}', text=[n for n, attr in G.nodes(data=True) if attr[\"node_type\"] == \"partner\"], marker=dict(size=10, color='red', line=dict(color='black', width=0.5)))\n",
    "odsi_label_trace = go.Scatter(x=odsi_x, y=odsi_y, mode='text', text=[n for n, attr in G.nodes(data=True) if attr[\"node_type\"] == \"ODSI\"], textposition=\"bottom center\", hoverinfo='skip', showlegend=False, marker=dict(size=0, color='rgba(0,0,0,0)'), textfont=dict(size=8))\n",
    "partner_label_trace = go.Scatter(x=partner_x, y=partner_y, mode='text', text=[n for n, attr in G.nodes(data=True) if attr[\"node_type\"] == \"partner\"], textposition=\"bottom center\", hoverinfo='skip', showlegend=False, marker=dict(size=0, color='rgba(0,0,0,0)'), textfont=dict(size=8))\n",
    "\n",
    "# Create the interactive figure\n",
    "fig = go.Figure(edge_traces + [odsi_trace, partner_trace, odsi_label_trace, partner_label_trace])\n",
    "\n",
    "\n",
    "# Set the axis properties and layout\n",
    "fig.update_xaxes(showticklabels=False, showgrid=False, zeroline=False)\n",
    "fig.update_yaxes(showticklabels=False, showgrid=False, zeroline=False)\n",
    "fig.update_layout(showlegend=False, hovermode='closest', margin=dict(l=0, r=0, b=0, t=0))\n",
    "\n",
    "# Create the Dash app\n",
    "app = dash.Dash(__name__)\n",
    "\n",
    "def create_network_figure(G):\n",
    "    # Extract node positions (x and y coordinates) for ODSIs and partners\n",
    "    odsi_x = [pos[n][0] for n, attr in G.nodes(data=True) if attr[\"node_type\"] == \"ODSI\"]\n",
    "    odsi_y = [pos[n][1] for n, attr in G.nodes(data=True) if attr[\"node_type\"] == \"ODSI\"]\n",
    "    partner_x = [pos[n][0] for n, attr in G.nodes(data=True) if attr[\"node_type\"] == \"partner\"]\n",
    "    partner_y = [pos[n][1] for n, attr in G.nodes(data=True) if attr[\"node_type\"] == \"partner\"]\n",
    "\n",
    "    # Create edge traces for the graph\n",
    "    edge_traces = []\n",
    "    for edge in G.edges(data=True):\n",
    "        x0, y0 = pos[edge[0]]\n",
    "        x1, y1 = pos[edge[1]]\n",
    "        edge_color = 'gold' if edge[2]['highlight'] else 'gray'\n",
    "        edge_traces.append(go.Scatter(x=[x0, x1, None], y=[y0, y1, None], mode='lines', line=dict(color=edge_color, width=1)))\n",
    "\n",
    "    # Create node traces for ODSIs and partners\n",
    "    odsi_colors = ['gold' if attr['highlight'] else 'blue' for n, attr in G.nodes(data=True) if attr[\"node_type\"] == \"ODSI\"]\n",
    "    partner_colors = ['gold' if attr['highlight'] else 'red' for n, attr in G.nodes(data=True) if attr[\"node_type\"] == \"partner\"]\n",
    "\n",
    "    odsi_trace = go.Scatter(x=odsi_x, y=odsi_y, mode='markers', hovertemplate='%{text}', text=[n for n, attr in G.nodes(data=True) if attr[\"node_type\"] == \"ODSI\"], marker=dict(size=15, color=odsi_colors, line=dict(color='black', width=0.5)))\n",
    "    partner_trace = go.Scatter(x=partner_x, y=partner_y, mode='markers', hovertemplate='%{text}', text=[n for n, attr in G.nodes(data=True) if attr[\"node_type\"] == \"partner\"], marker=dict(size=10, color=partner_colors, line=dict(color='black', width=0.5)))\n",
    "    odsi_label_trace = go.Scatter(x=odsi_x, y=odsi_y, mode='text', text=[n for n, attr in G.nodes(data=True) if attr[\"node_type\"] == \"ODSI\"], textposition=\"bottom center\", hoverinfo='skip', showlegend=False, marker=dict(size=0, color='rgba(0,0,0,0)'), textfont=dict(size=8))\n",
    "    partner_label_trace = go.Scatter(x=partner_x, y=partner_y, mode='text', text=[n for n, attr in G.nodes(data=True) if attr[\"node_type\"] == \"partner\"], textposition=\"bottom center\", hoverinfo='skip', showlegend=False, marker=dict(size=0, color='rgba(0,0,0,0)'), textfont=dict(size=8))\n",
    "\n",
    "    # Create the updated interactive figure\n",
    "    updated_fig = go.Figure(edge_traces + [odsi_trace, partner_trace, odsi_label_trace, partner_label_trace])\n",
    "\n",
    "    # Set the axis properties and layout\n",
    "    updated_fig.update_xaxes(showticklabels=False, showgrid=False, zeroline=False)\n",
    "    updated_fig.update_yaxes(showticklabels=False, showgrid=False, zeroline=False)\n",
    "    updated_fig.update_layout(showlegend=False, hovermode='closest', margin=dict(l=0, r=0, b=0, t=0))\n",
    "\n",
    "    return updated_fig\n",
    "\n",
    "fig = create_network_figure(G)\n",
    "\n",
    "app.layout = html.Div([\n",
    "    dcc.Graph(id='network-graph', figure=fig),\n",
    "    html.Div(id='click-output')\n",
    "])\n",
    "\n",
    "@app.callback(\n",
    "    Output('network-graph', 'figure'),\n",
    "    [Input('network-graph', 'clickData')])\n",
    "def update_graph_on_click(clickData):\n",
    "    if clickData:\n",
    "        clicked_node = clickData['points'][0]['text']\n",
    "        \n",
    "        # Highlight the clicked node\n",
    "        for node, attr in G.nodes(data=True):\n",
    "            if node == clicked_node:\n",
    "                attr['highlight'] = True\n",
    "            else:\n",
    "                attr['highlight'] = False\n",
    "        \n",
    "        # Highlight connected edges and nodes\n",
    "        for u, v, attr in G.edges(data=True):\n",
    "            if u == clicked_node or v == clicked_node:\n",
    "                attr['highlight'] = True\n",
    "            else:\n",
    "                attr['highlight'] = False\n",
    "        \n",
    "        # Update the figure\n",
    "        updated_fig = create_network_figure(G)\n",
    "        return updated_fig\n",
    "    else:\n",
    "        return fig\n",
    "\n",
    "\n",
    "\n",
    "if __name__ == '__main__':\n",
    "    app.run_server(host=\"0.0.0.0\",port=1005)\n",
    "\n"
   ]
  }
 ],
 "metadata": {
  "kernelspec": {
   "display_name": "Python 3 (ipykernel)",
   "language": "python",
   "name": "python3"
  },
  "language_info": {
   "codemirror_mode": {
    "name": "ipython",
    "version": 3
   },
   "file_extension": ".py",
   "mimetype": "text/x-python",
   "name": "python",
   "nbconvert_exporter": "python",
   "pygments_lexer": "ipython3",
   "version": "3.9.16"
  }
 },
 "nbformat": 4,
 "nbformat_minor": 5
}
